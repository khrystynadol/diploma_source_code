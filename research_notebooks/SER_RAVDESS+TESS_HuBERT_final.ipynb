{
  "nbformat": 4,
  "nbformat_minor": 0,
  "metadata": {
    "colab": {
      "provenance": [],
      "gpuType": "T4"
    },
    "kernelspec": {
      "name": "python3",
      "display_name": "Python 3"
    },
    "language_info": {
      "name": "python"
    },
    "widgets": {
      "application/vnd.jupyter.widget-state+json": {
        "546d96c0bffe4f56b4725753f5bcb113": {
          "model_module": "@jupyter-widgets/controls",
          "model_name": "HBoxModel",
          "model_module_version": "1.5.0",
          "state": {
            "_dom_classes": [],
            "_model_module": "@jupyter-widgets/controls",
            "_model_module_version": "1.5.0",
            "_model_name": "HBoxModel",
            "_view_count": null,
            "_view_module": "@jupyter-widgets/controls",
            "_view_module_version": "1.5.0",
            "_view_name": "HBoxView",
            "box_style": "",
            "children": [
              "IPY_MODEL_5912cd2acc4142c5b2a1d0b683bcbedc",
              "IPY_MODEL_250341a197574a7c83baf22cbbe92857",
              "IPY_MODEL_54aadf3389d84e4aa3d80e3191a8baae"
            ],
            "layout": "IPY_MODEL_dc259f6a00aa4956a2fdc2e59a4681a1"
          }
        },
        "5912cd2acc4142c5b2a1d0b683bcbedc": {
          "model_module": "@jupyter-widgets/controls",
          "model_name": "HTMLModel",
          "model_module_version": "1.5.0",
          "state": {
            "_dom_classes": [],
            "_model_module": "@jupyter-widgets/controls",
            "_model_module_version": "1.5.0",
            "_model_name": "HTMLModel",
            "_view_count": null,
            "_view_module": "@jupyter-widgets/controls",
            "_view_module_version": "1.5.0",
            "_view_name": "HTMLView",
            "description": "",
            "description_tooltip": null,
            "layout": "IPY_MODEL_04433058e80c4779888cdc18b5a629d6",
            "placeholder": "​",
            "style": "IPY_MODEL_295598dcd82d4b22b4d159213d7cc308",
            "value": "Map: 100%"
          }
        },
        "250341a197574a7c83baf22cbbe92857": {
          "model_module": "@jupyter-widgets/controls",
          "model_name": "FloatProgressModel",
          "model_module_version": "1.5.0",
          "state": {
            "_dom_classes": [],
            "_model_module": "@jupyter-widgets/controls",
            "_model_module_version": "1.5.0",
            "_model_name": "FloatProgressModel",
            "_view_count": null,
            "_view_module": "@jupyter-widgets/controls",
            "_view_module_version": "1.5.0",
            "_view_name": "ProgressView",
            "bar_style": "success",
            "description": "",
            "description_tooltip": null,
            "layout": "IPY_MODEL_62ea56b981c240b89defc944eba49690",
            "max": 3944,
            "min": 0,
            "orientation": "horizontal",
            "style": "IPY_MODEL_3232d4a86ab84b66a0c695e4e9b1f554",
            "value": 3944
          }
        },
        "54aadf3389d84e4aa3d80e3191a8baae": {
          "model_module": "@jupyter-widgets/controls",
          "model_name": "HTMLModel",
          "model_module_version": "1.5.0",
          "state": {
            "_dom_classes": [],
            "_model_module": "@jupyter-widgets/controls",
            "_model_module_version": "1.5.0",
            "_model_name": "HTMLModel",
            "_view_count": null,
            "_view_module": "@jupyter-widgets/controls",
            "_view_module_version": "1.5.0",
            "_view_name": "HTMLView",
            "description": "",
            "description_tooltip": null,
            "layout": "IPY_MODEL_f93971add9fd4679b27c0c2c4d0b4fab",
            "placeholder": "​",
            "style": "IPY_MODEL_b28e391a281044649575419637e22941",
            "value": " 3944/3944 [00:19&lt;00:00, 132.92 examples/s]"
          }
        },
        "dc259f6a00aa4956a2fdc2e59a4681a1": {
          "model_module": "@jupyter-widgets/base",
          "model_name": "LayoutModel",
          "model_module_version": "1.2.0",
          "state": {
            "_model_module": "@jupyter-widgets/base",
            "_model_module_version": "1.2.0",
            "_model_name": "LayoutModel",
            "_view_count": null,
            "_view_module": "@jupyter-widgets/base",
            "_view_module_version": "1.2.0",
            "_view_name": "LayoutView",
            "align_content": null,
            "align_items": null,
            "align_self": null,
            "border": null,
            "bottom": null,
            "display": null,
            "flex": null,
            "flex_flow": null,
            "grid_area": null,
            "grid_auto_columns": null,
            "grid_auto_flow": null,
            "grid_auto_rows": null,
            "grid_column": null,
            "grid_gap": null,
            "grid_row": null,
            "grid_template_areas": null,
            "grid_template_columns": null,
            "grid_template_rows": null,
            "height": null,
            "justify_content": null,
            "justify_items": null,
            "left": null,
            "margin": null,
            "max_height": null,
            "max_width": null,
            "min_height": null,
            "min_width": null,
            "object_fit": null,
            "object_position": null,
            "order": null,
            "overflow": null,
            "overflow_x": null,
            "overflow_y": null,
            "padding": null,
            "right": null,
            "top": null,
            "visibility": null,
            "width": null
          }
        },
        "04433058e80c4779888cdc18b5a629d6": {
          "model_module": "@jupyter-widgets/base",
          "model_name": "LayoutModel",
          "model_module_version": "1.2.0",
          "state": {
            "_model_module": "@jupyter-widgets/base",
            "_model_module_version": "1.2.0",
            "_model_name": "LayoutModel",
            "_view_count": null,
            "_view_module": "@jupyter-widgets/base",
            "_view_module_version": "1.2.0",
            "_view_name": "LayoutView",
            "align_content": null,
            "align_items": null,
            "align_self": null,
            "border": null,
            "bottom": null,
            "display": null,
            "flex": null,
            "flex_flow": null,
            "grid_area": null,
            "grid_auto_columns": null,
            "grid_auto_flow": null,
            "grid_auto_rows": null,
            "grid_column": null,
            "grid_gap": null,
            "grid_row": null,
            "grid_template_areas": null,
            "grid_template_columns": null,
            "grid_template_rows": null,
            "height": null,
            "justify_content": null,
            "justify_items": null,
            "left": null,
            "margin": null,
            "max_height": null,
            "max_width": null,
            "min_height": null,
            "min_width": null,
            "object_fit": null,
            "object_position": null,
            "order": null,
            "overflow": null,
            "overflow_x": null,
            "overflow_y": null,
            "padding": null,
            "right": null,
            "top": null,
            "visibility": null,
            "width": null
          }
        },
        "295598dcd82d4b22b4d159213d7cc308": {
          "model_module": "@jupyter-widgets/controls",
          "model_name": "DescriptionStyleModel",
          "model_module_version": "1.5.0",
          "state": {
            "_model_module": "@jupyter-widgets/controls",
            "_model_module_version": "1.5.0",
            "_model_name": "DescriptionStyleModel",
            "_view_count": null,
            "_view_module": "@jupyter-widgets/base",
            "_view_module_version": "1.2.0",
            "_view_name": "StyleView",
            "description_width": ""
          }
        },
        "62ea56b981c240b89defc944eba49690": {
          "model_module": "@jupyter-widgets/base",
          "model_name": "LayoutModel",
          "model_module_version": "1.2.0",
          "state": {
            "_model_module": "@jupyter-widgets/base",
            "_model_module_version": "1.2.0",
            "_model_name": "LayoutModel",
            "_view_count": null,
            "_view_module": "@jupyter-widgets/base",
            "_view_module_version": "1.2.0",
            "_view_name": "LayoutView",
            "align_content": null,
            "align_items": null,
            "align_self": null,
            "border": null,
            "bottom": null,
            "display": null,
            "flex": null,
            "flex_flow": null,
            "grid_area": null,
            "grid_auto_columns": null,
            "grid_auto_flow": null,
            "grid_auto_rows": null,
            "grid_column": null,
            "grid_gap": null,
            "grid_row": null,
            "grid_template_areas": null,
            "grid_template_columns": null,
            "grid_template_rows": null,
            "height": null,
            "justify_content": null,
            "justify_items": null,
            "left": null,
            "margin": null,
            "max_height": null,
            "max_width": null,
            "min_height": null,
            "min_width": null,
            "object_fit": null,
            "object_position": null,
            "order": null,
            "overflow": null,
            "overflow_x": null,
            "overflow_y": null,
            "padding": null,
            "right": null,
            "top": null,
            "visibility": null,
            "width": null
          }
        },
        "3232d4a86ab84b66a0c695e4e9b1f554": {
          "model_module": "@jupyter-widgets/controls",
          "model_name": "ProgressStyleModel",
          "model_module_version": "1.5.0",
          "state": {
            "_model_module": "@jupyter-widgets/controls",
            "_model_module_version": "1.5.0",
            "_model_name": "ProgressStyleModel",
            "_view_count": null,
            "_view_module": "@jupyter-widgets/base",
            "_view_module_version": "1.2.0",
            "_view_name": "StyleView",
            "bar_color": null,
            "description_width": ""
          }
        },
        "f93971add9fd4679b27c0c2c4d0b4fab": {
          "model_module": "@jupyter-widgets/base",
          "model_name": "LayoutModel",
          "model_module_version": "1.2.0",
          "state": {
            "_model_module": "@jupyter-widgets/base",
            "_model_module_version": "1.2.0",
            "_model_name": "LayoutModel",
            "_view_count": null,
            "_view_module": "@jupyter-widgets/base",
            "_view_module_version": "1.2.0",
            "_view_name": "LayoutView",
            "align_content": null,
            "align_items": null,
            "align_self": null,
            "border": null,
            "bottom": null,
            "display": null,
            "flex": null,
            "flex_flow": null,
            "grid_area": null,
            "grid_auto_columns": null,
            "grid_auto_flow": null,
            "grid_auto_rows": null,
            "grid_column": null,
            "grid_gap": null,
            "grid_row": null,
            "grid_template_areas": null,
            "grid_template_columns": null,
            "grid_template_rows": null,
            "height": null,
            "justify_content": null,
            "justify_items": null,
            "left": null,
            "margin": null,
            "max_height": null,
            "max_width": null,
            "min_height": null,
            "min_width": null,
            "object_fit": null,
            "object_position": null,
            "order": null,
            "overflow": null,
            "overflow_x": null,
            "overflow_y": null,
            "padding": null,
            "right": null,
            "top": null,
            "visibility": null,
            "width": null
          }
        },
        "b28e391a281044649575419637e22941": {
          "model_module": "@jupyter-widgets/controls",
          "model_name": "DescriptionStyleModel",
          "model_module_version": "1.5.0",
          "state": {
            "_model_module": "@jupyter-widgets/controls",
            "_model_module_version": "1.5.0",
            "_model_name": "DescriptionStyleModel",
            "_view_count": null,
            "_view_module": "@jupyter-widgets/base",
            "_view_module_version": "1.2.0",
            "_view_name": "StyleView",
            "description_width": ""
          }
        },
        "e7fc9c2cd11c4dafa61a5382ad01eb4d": {
          "model_module": "@jupyter-widgets/controls",
          "model_name": "HBoxModel",
          "model_module_version": "1.5.0",
          "state": {
            "_dom_classes": [],
            "_model_module": "@jupyter-widgets/controls",
            "_model_module_version": "1.5.0",
            "_model_name": "HBoxModel",
            "_view_count": null,
            "_view_module": "@jupyter-widgets/controls",
            "_view_module_version": "1.5.0",
            "_view_name": "HBoxView",
            "box_style": "",
            "children": [
              "IPY_MODEL_24e4d232c7ea425489dea1622a44dfdf",
              "IPY_MODEL_51dc4a34d8e742b1b3f9c6bc0d8ea350",
              "IPY_MODEL_181c5bfd76704dc9b3fca0a3afb7e3a8"
            ],
            "layout": "IPY_MODEL_2df7dafd8f02416bb91f45c42dc3cb72"
          }
        },
        "24e4d232c7ea425489dea1622a44dfdf": {
          "model_module": "@jupyter-widgets/controls",
          "model_name": "HTMLModel",
          "model_module_version": "1.5.0",
          "state": {
            "_dom_classes": [],
            "_model_module": "@jupyter-widgets/controls",
            "_model_module_version": "1.5.0",
            "_model_name": "HTMLModel",
            "_view_count": null,
            "_view_module": "@jupyter-widgets/controls",
            "_view_module_version": "1.5.0",
            "_view_name": "HTMLView",
            "description": "",
            "description_tooltip": null,
            "layout": "IPY_MODEL_4afac51c15604070afa1ac2cdc76650c",
            "placeholder": "​",
            "style": "IPY_MODEL_64eab408c63c4acd8d04da31bf55f9ff",
            "value": "Map: 100%"
          }
        },
        "51dc4a34d8e742b1b3f9c6bc0d8ea350": {
          "model_module": "@jupyter-widgets/controls",
          "model_name": "FloatProgressModel",
          "model_module_version": "1.5.0",
          "state": {
            "_dom_classes": [],
            "_model_module": "@jupyter-widgets/controls",
            "_model_module_version": "1.5.0",
            "_model_name": "FloatProgressModel",
            "_view_count": null,
            "_view_module": "@jupyter-widgets/controls",
            "_view_module_version": "1.5.0",
            "_view_name": "ProgressView",
            "bar_style": "success",
            "description": "",
            "description_tooltip": null,
            "layout": "IPY_MODEL_4cf647645a434a56844c42d56c5d205d",
            "max": 148,
            "min": 0,
            "orientation": "horizontal",
            "style": "IPY_MODEL_139d9bd640c347ac9464a3c01016c85b",
            "value": 148
          }
        },
        "181c5bfd76704dc9b3fca0a3afb7e3a8": {
          "model_module": "@jupyter-widgets/controls",
          "model_name": "HTMLModel",
          "model_module_version": "1.5.0",
          "state": {
            "_dom_classes": [],
            "_model_module": "@jupyter-widgets/controls",
            "_model_module_version": "1.5.0",
            "_model_name": "HTMLModel",
            "_view_count": null,
            "_view_module": "@jupyter-widgets/controls",
            "_view_module_version": "1.5.0",
            "_view_name": "HTMLView",
            "description": "",
            "description_tooltip": null,
            "layout": "IPY_MODEL_247f788d972442ae96421d67beebce13",
            "placeholder": "​",
            "style": "IPY_MODEL_9b9dffc863344916951c73cc5acfe01a",
            "value": " 148/148 [00:01&lt;00:00, 172.50 examples/s]"
          }
        },
        "2df7dafd8f02416bb91f45c42dc3cb72": {
          "model_module": "@jupyter-widgets/base",
          "model_name": "LayoutModel",
          "model_module_version": "1.2.0",
          "state": {
            "_model_module": "@jupyter-widgets/base",
            "_model_module_version": "1.2.0",
            "_model_name": "LayoutModel",
            "_view_count": null,
            "_view_module": "@jupyter-widgets/base",
            "_view_module_version": "1.2.0",
            "_view_name": "LayoutView",
            "align_content": null,
            "align_items": null,
            "align_self": null,
            "border": null,
            "bottom": null,
            "display": null,
            "flex": null,
            "flex_flow": null,
            "grid_area": null,
            "grid_auto_columns": null,
            "grid_auto_flow": null,
            "grid_auto_rows": null,
            "grid_column": null,
            "grid_gap": null,
            "grid_row": null,
            "grid_template_areas": null,
            "grid_template_columns": null,
            "grid_template_rows": null,
            "height": null,
            "justify_content": null,
            "justify_items": null,
            "left": null,
            "margin": null,
            "max_height": null,
            "max_width": null,
            "min_height": null,
            "min_width": null,
            "object_fit": null,
            "object_position": null,
            "order": null,
            "overflow": null,
            "overflow_x": null,
            "overflow_y": null,
            "padding": null,
            "right": null,
            "top": null,
            "visibility": null,
            "width": null
          }
        },
        "4afac51c15604070afa1ac2cdc76650c": {
          "model_module": "@jupyter-widgets/base",
          "model_name": "LayoutModel",
          "model_module_version": "1.2.0",
          "state": {
            "_model_module": "@jupyter-widgets/base",
            "_model_module_version": "1.2.0",
            "_model_name": "LayoutModel",
            "_view_count": null,
            "_view_module": "@jupyter-widgets/base",
            "_view_module_version": "1.2.0",
            "_view_name": "LayoutView",
            "align_content": null,
            "align_items": null,
            "align_self": null,
            "border": null,
            "bottom": null,
            "display": null,
            "flex": null,
            "flex_flow": null,
            "grid_area": null,
            "grid_auto_columns": null,
            "grid_auto_flow": null,
            "grid_auto_rows": null,
            "grid_column": null,
            "grid_gap": null,
            "grid_row": null,
            "grid_template_areas": null,
            "grid_template_columns": null,
            "grid_template_rows": null,
            "height": null,
            "justify_content": null,
            "justify_items": null,
            "left": null,
            "margin": null,
            "max_height": null,
            "max_width": null,
            "min_height": null,
            "min_width": null,
            "object_fit": null,
            "object_position": null,
            "order": null,
            "overflow": null,
            "overflow_x": null,
            "overflow_y": null,
            "padding": null,
            "right": null,
            "top": null,
            "visibility": null,
            "width": null
          }
        },
        "64eab408c63c4acd8d04da31bf55f9ff": {
          "model_module": "@jupyter-widgets/controls",
          "model_name": "DescriptionStyleModel",
          "model_module_version": "1.5.0",
          "state": {
            "_model_module": "@jupyter-widgets/controls",
            "_model_module_version": "1.5.0",
            "_model_name": "DescriptionStyleModel",
            "_view_count": null,
            "_view_module": "@jupyter-widgets/base",
            "_view_module_version": "1.2.0",
            "_view_name": "StyleView",
            "description_width": ""
          }
        },
        "4cf647645a434a56844c42d56c5d205d": {
          "model_module": "@jupyter-widgets/base",
          "model_name": "LayoutModel",
          "model_module_version": "1.2.0",
          "state": {
            "_model_module": "@jupyter-widgets/base",
            "_model_module_version": "1.2.0",
            "_model_name": "LayoutModel",
            "_view_count": null,
            "_view_module": "@jupyter-widgets/base",
            "_view_module_version": "1.2.0",
            "_view_name": "LayoutView",
            "align_content": null,
            "align_items": null,
            "align_self": null,
            "border": null,
            "bottom": null,
            "display": null,
            "flex": null,
            "flex_flow": null,
            "grid_area": null,
            "grid_auto_columns": null,
            "grid_auto_flow": null,
            "grid_auto_rows": null,
            "grid_column": null,
            "grid_gap": null,
            "grid_row": null,
            "grid_template_areas": null,
            "grid_template_columns": null,
            "grid_template_rows": null,
            "height": null,
            "justify_content": null,
            "justify_items": null,
            "left": null,
            "margin": null,
            "max_height": null,
            "max_width": null,
            "min_height": null,
            "min_width": null,
            "object_fit": null,
            "object_position": null,
            "order": null,
            "overflow": null,
            "overflow_x": null,
            "overflow_y": null,
            "padding": null,
            "right": null,
            "top": null,
            "visibility": null,
            "width": null
          }
        },
        "139d9bd640c347ac9464a3c01016c85b": {
          "model_module": "@jupyter-widgets/controls",
          "model_name": "ProgressStyleModel",
          "model_module_version": "1.5.0",
          "state": {
            "_model_module": "@jupyter-widgets/controls",
            "_model_module_version": "1.5.0",
            "_model_name": "ProgressStyleModel",
            "_view_count": null,
            "_view_module": "@jupyter-widgets/base",
            "_view_module_version": "1.2.0",
            "_view_name": "StyleView",
            "bar_color": null,
            "description_width": ""
          }
        },
        "247f788d972442ae96421d67beebce13": {
          "model_module": "@jupyter-widgets/base",
          "model_name": "LayoutModel",
          "model_module_version": "1.2.0",
          "state": {
            "_model_module": "@jupyter-widgets/base",
            "_model_module_version": "1.2.0",
            "_model_name": "LayoutModel",
            "_view_count": null,
            "_view_module": "@jupyter-widgets/base",
            "_view_module_version": "1.2.0",
            "_view_name": "LayoutView",
            "align_content": null,
            "align_items": null,
            "align_self": null,
            "border": null,
            "bottom": null,
            "display": null,
            "flex": null,
            "flex_flow": null,
            "grid_area": null,
            "grid_auto_columns": null,
            "grid_auto_flow": null,
            "grid_auto_rows": null,
            "grid_column": null,
            "grid_gap": null,
            "grid_row": null,
            "grid_template_areas": null,
            "grid_template_columns": null,
            "grid_template_rows": null,
            "height": null,
            "justify_content": null,
            "justify_items": null,
            "left": null,
            "margin": null,
            "max_height": null,
            "max_width": null,
            "min_height": null,
            "min_width": null,
            "object_fit": null,
            "object_position": null,
            "order": null,
            "overflow": null,
            "overflow_x": null,
            "overflow_y": null,
            "padding": null,
            "right": null,
            "top": null,
            "visibility": null,
            "width": null
          }
        },
        "9b9dffc863344916951c73cc5acfe01a": {
          "model_module": "@jupyter-widgets/controls",
          "model_name": "DescriptionStyleModel",
          "model_module_version": "1.5.0",
          "state": {
            "_model_module": "@jupyter-widgets/controls",
            "_model_module_version": "1.5.0",
            "_model_name": "DescriptionStyleModel",
            "_view_count": null,
            "_view_module": "@jupyter-widgets/base",
            "_view_module_version": "1.2.0",
            "_view_name": "StyleView",
            "description_width": ""
          }
        },
        "20dea2196c3a448da6530d5261a082c4": {
          "model_module": "@jupyter-widgets/controls",
          "model_name": "HBoxModel",
          "model_module_version": "1.5.0",
          "state": {
            "_dom_classes": [],
            "_model_module": "@jupyter-widgets/controls",
            "_model_module_version": "1.5.0",
            "_model_name": "HBoxModel",
            "_view_count": null,
            "_view_module": "@jupyter-widgets/controls",
            "_view_module_version": "1.5.0",
            "_view_name": "HBoxView",
            "box_style": "",
            "children": [
              "IPY_MODEL_7195a36c86dd4f70850f408c8869752c",
              "IPY_MODEL_b50a8e19cc8041d18777c8d04e3aaa56",
              "IPY_MODEL_24aee76de5e64c9890d4dc707dc2fbf2"
            ],
            "layout": "IPY_MODEL_ebfdd292901c405d9a44bf43d84f2809"
          }
        },
        "7195a36c86dd4f70850f408c8869752c": {
          "model_module": "@jupyter-widgets/controls",
          "model_name": "HTMLModel",
          "model_module_version": "1.5.0",
          "state": {
            "_dom_classes": [],
            "_model_module": "@jupyter-widgets/controls",
            "_model_module_version": "1.5.0",
            "_model_name": "HTMLModel",
            "_view_count": null,
            "_view_module": "@jupyter-widgets/controls",
            "_view_module_version": "1.5.0",
            "_view_name": "HTMLView",
            "description": "",
            "description_tooltip": null,
            "layout": "IPY_MODEL_e501819eb3c44cba8a9e4f89f9fb495a",
            "placeholder": "​",
            "style": "IPY_MODEL_77c8af63cc8c4441949ce136cfd60776",
            "value": "Map: 100%"
          }
        },
        "b50a8e19cc8041d18777c8d04e3aaa56": {
          "model_module": "@jupyter-widgets/controls",
          "model_name": "FloatProgressModel",
          "model_module_version": "1.5.0",
          "state": {
            "_dom_classes": [],
            "_model_module": "@jupyter-widgets/controls",
            "_model_module_version": "1.5.0",
            "_model_name": "FloatProgressModel",
            "_view_count": null,
            "_view_module": "@jupyter-widgets/controls",
            "_view_module_version": "1.5.0",
            "_view_name": "ProgressView",
            "bar_style": "success",
            "description": "",
            "description_tooltip": null,
            "layout": "IPY_MODEL_26188e2957254dcb8ffceaa840db1e1e",
            "max": 148,
            "min": 0,
            "orientation": "horizontal",
            "style": "IPY_MODEL_315842cd34b34bb880f5ee2223472d0d",
            "value": 148
          }
        },
        "24aee76de5e64c9890d4dc707dc2fbf2": {
          "model_module": "@jupyter-widgets/controls",
          "model_name": "HTMLModel",
          "model_module_version": "1.5.0",
          "state": {
            "_dom_classes": [],
            "_model_module": "@jupyter-widgets/controls",
            "_model_module_version": "1.5.0",
            "_model_name": "HTMLModel",
            "_view_count": null,
            "_view_module": "@jupyter-widgets/controls",
            "_view_module_version": "1.5.0",
            "_view_name": "HTMLView",
            "description": "",
            "description_tooltip": null,
            "layout": "IPY_MODEL_060a53e71a3f421dbce04cf65b93ad4e",
            "placeholder": "​",
            "style": "IPY_MODEL_2d2b5dcbf002469a92d9506b45fbe775",
            "value": " 148/148 [00:00&lt;00:00, 221.19 examples/s]"
          }
        },
        "ebfdd292901c405d9a44bf43d84f2809": {
          "model_module": "@jupyter-widgets/base",
          "model_name": "LayoutModel",
          "model_module_version": "1.2.0",
          "state": {
            "_model_module": "@jupyter-widgets/base",
            "_model_module_version": "1.2.0",
            "_model_name": "LayoutModel",
            "_view_count": null,
            "_view_module": "@jupyter-widgets/base",
            "_view_module_version": "1.2.0",
            "_view_name": "LayoutView",
            "align_content": null,
            "align_items": null,
            "align_self": null,
            "border": null,
            "bottom": null,
            "display": null,
            "flex": null,
            "flex_flow": null,
            "grid_area": null,
            "grid_auto_columns": null,
            "grid_auto_flow": null,
            "grid_auto_rows": null,
            "grid_column": null,
            "grid_gap": null,
            "grid_row": null,
            "grid_template_areas": null,
            "grid_template_columns": null,
            "grid_template_rows": null,
            "height": null,
            "justify_content": null,
            "justify_items": null,
            "left": null,
            "margin": null,
            "max_height": null,
            "max_width": null,
            "min_height": null,
            "min_width": null,
            "object_fit": null,
            "object_position": null,
            "order": null,
            "overflow": null,
            "overflow_x": null,
            "overflow_y": null,
            "padding": null,
            "right": null,
            "top": null,
            "visibility": null,
            "width": null
          }
        },
        "e501819eb3c44cba8a9e4f89f9fb495a": {
          "model_module": "@jupyter-widgets/base",
          "model_name": "LayoutModel",
          "model_module_version": "1.2.0",
          "state": {
            "_model_module": "@jupyter-widgets/base",
            "_model_module_version": "1.2.0",
            "_model_name": "LayoutModel",
            "_view_count": null,
            "_view_module": "@jupyter-widgets/base",
            "_view_module_version": "1.2.0",
            "_view_name": "LayoutView",
            "align_content": null,
            "align_items": null,
            "align_self": null,
            "border": null,
            "bottom": null,
            "display": null,
            "flex": null,
            "flex_flow": null,
            "grid_area": null,
            "grid_auto_columns": null,
            "grid_auto_flow": null,
            "grid_auto_rows": null,
            "grid_column": null,
            "grid_gap": null,
            "grid_row": null,
            "grid_template_areas": null,
            "grid_template_columns": null,
            "grid_template_rows": null,
            "height": null,
            "justify_content": null,
            "justify_items": null,
            "left": null,
            "margin": null,
            "max_height": null,
            "max_width": null,
            "min_height": null,
            "min_width": null,
            "object_fit": null,
            "object_position": null,
            "order": null,
            "overflow": null,
            "overflow_x": null,
            "overflow_y": null,
            "padding": null,
            "right": null,
            "top": null,
            "visibility": null,
            "width": null
          }
        },
        "77c8af63cc8c4441949ce136cfd60776": {
          "model_module": "@jupyter-widgets/controls",
          "model_name": "DescriptionStyleModel",
          "model_module_version": "1.5.0",
          "state": {
            "_model_module": "@jupyter-widgets/controls",
            "_model_module_version": "1.5.0",
            "_model_name": "DescriptionStyleModel",
            "_view_count": null,
            "_view_module": "@jupyter-widgets/base",
            "_view_module_version": "1.2.0",
            "_view_name": "StyleView",
            "description_width": ""
          }
        },
        "26188e2957254dcb8ffceaa840db1e1e": {
          "model_module": "@jupyter-widgets/base",
          "model_name": "LayoutModel",
          "model_module_version": "1.2.0",
          "state": {
            "_model_module": "@jupyter-widgets/base",
            "_model_module_version": "1.2.0",
            "_model_name": "LayoutModel",
            "_view_count": null,
            "_view_module": "@jupyter-widgets/base",
            "_view_module_version": "1.2.0",
            "_view_name": "LayoutView",
            "align_content": null,
            "align_items": null,
            "align_self": null,
            "border": null,
            "bottom": null,
            "display": null,
            "flex": null,
            "flex_flow": null,
            "grid_area": null,
            "grid_auto_columns": null,
            "grid_auto_flow": null,
            "grid_auto_rows": null,
            "grid_column": null,
            "grid_gap": null,
            "grid_row": null,
            "grid_template_areas": null,
            "grid_template_columns": null,
            "grid_template_rows": null,
            "height": null,
            "justify_content": null,
            "justify_items": null,
            "left": null,
            "margin": null,
            "max_height": null,
            "max_width": null,
            "min_height": null,
            "min_width": null,
            "object_fit": null,
            "object_position": null,
            "order": null,
            "overflow": null,
            "overflow_x": null,
            "overflow_y": null,
            "padding": null,
            "right": null,
            "top": null,
            "visibility": null,
            "width": null
          }
        },
        "315842cd34b34bb880f5ee2223472d0d": {
          "model_module": "@jupyter-widgets/controls",
          "model_name": "ProgressStyleModel",
          "model_module_version": "1.5.0",
          "state": {
            "_model_module": "@jupyter-widgets/controls",
            "_model_module_version": "1.5.0",
            "_model_name": "ProgressStyleModel",
            "_view_count": null,
            "_view_module": "@jupyter-widgets/base",
            "_view_module_version": "1.2.0",
            "_view_name": "StyleView",
            "bar_color": null,
            "description_width": ""
          }
        },
        "060a53e71a3f421dbce04cf65b93ad4e": {
          "model_module": "@jupyter-widgets/base",
          "model_name": "LayoutModel",
          "model_module_version": "1.2.0",
          "state": {
            "_model_module": "@jupyter-widgets/base",
            "_model_module_version": "1.2.0",
            "_model_name": "LayoutModel",
            "_view_count": null,
            "_view_module": "@jupyter-widgets/base",
            "_view_module_version": "1.2.0",
            "_view_name": "LayoutView",
            "align_content": null,
            "align_items": null,
            "align_self": null,
            "border": null,
            "bottom": null,
            "display": null,
            "flex": null,
            "flex_flow": null,
            "grid_area": null,
            "grid_auto_columns": null,
            "grid_auto_flow": null,
            "grid_auto_rows": null,
            "grid_column": null,
            "grid_gap": null,
            "grid_row": null,
            "grid_template_areas": null,
            "grid_template_columns": null,
            "grid_template_rows": null,
            "height": null,
            "justify_content": null,
            "justify_items": null,
            "left": null,
            "margin": null,
            "max_height": null,
            "max_width": null,
            "min_height": null,
            "min_width": null,
            "object_fit": null,
            "object_position": null,
            "order": null,
            "overflow": null,
            "overflow_x": null,
            "overflow_y": null,
            "padding": null,
            "right": null,
            "top": null,
            "visibility": null,
            "width": null
          }
        },
        "2d2b5dcbf002469a92d9506b45fbe775": {
          "model_module": "@jupyter-widgets/controls",
          "model_name": "DescriptionStyleModel",
          "model_module_version": "1.5.0",
          "state": {
            "_model_module": "@jupyter-widgets/controls",
            "_model_module_version": "1.5.0",
            "_model_name": "DescriptionStyleModel",
            "_view_count": null,
            "_view_module": "@jupyter-widgets/base",
            "_view_module_version": "1.2.0",
            "_view_name": "StyleView",
            "description_width": ""
          }
        },
        "0e52b95ca9284d6e8a1b3b7cef4e2af6": {
          "model_module": "@jupyter-widgets/controls",
          "model_name": "HBoxModel",
          "model_module_version": "1.5.0",
          "state": {
            "_dom_classes": [],
            "_model_module": "@jupyter-widgets/controls",
            "_model_module_version": "1.5.0",
            "_model_name": "HBoxModel",
            "_view_count": null,
            "_view_module": "@jupyter-widgets/controls",
            "_view_module_version": "1.5.0",
            "_view_name": "HBoxView",
            "box_style": "",
            "children": [
              "IPY_MODEL_3f167d14b3b644dd9b8bcf1c5cb07d9a",
              "IPY_MODEL_fe392212c3a4413c82a0b6b73781c7ad",
              "IPY_MODEL_2f5f9fc294be4e03b7512f1efd04daf8"
            ],
            "layout": "IPY_MODEL_94bddcdafcd14211898cf6760a11ec94"
          }
        },
        "3f167d14b3b644dd9b8bcf1c5cb07d9a": {
          "model_module": "@jupyter-widgets/controls",
          "model_name": "HTMLModel",
          "model_module_version": "1.5.0",
          "state": {
            "_dom_classes": [],
            "_model_module": "@jupyter-widgets/controls",
            "_model_module_version": "1.5.0",
            "_model_name": "HTMLModel",
            "_view_count": null,
            "_view_module": "@jupyter-widgets/controls",
            "_view_module_version": "1.5.0",
            "_view_name": "HTMLView",
            "description": "",
            "description_tooltip": null,
            "layout": "IPY_MODEL_f3ca606ff43444deac90c641174658dc",
            "placeholder": "​",
            "style": "IPY_MODEL_64d89806c88d4fe2b37dcf1163f77f7c",
            "value": "Map: 100%"
          }
        },
        "fe392212c3a4413c82a0b6b73781c7ad": {
          "model_module": "@jupyter-widgets/controls",
          "model_name": "FloatProgressModel",
          "model_module_version": "1.5.0",
          "state": {
            "_dom_classes": [],
            "_model_module": "@jupyter-widgets/controls",
            "_model_module_version": "1.5.0",
            "_model_name": "FloatProgressModel",
            "_view_count": null,
            "_view_module": "@jupyter-widgets/controls",
            "_view_module_version": "1.5.0",
            "_view_name": "ProgressView",
            "bar_style": "success",
            "description": "",
            "description_tooltip": null,
            "layout": "IPY_MODEL_d15c04c6c38c4015b3a017904cfae55f",
            "max": 3280,
            "min": 0,
            "orientation": "horizontal",
            "style": "IPY_MODEL_6da0b107d8934e50854f7ecdc7949eda",
            "value": 3280
          }
        },
        "2f5f9fc294be4e03b7512f1efd04daf8": {
          "model_module": "@jupyter-widgets/controls",
          "model_name": "HTMLModel",
          "model_module_version": "1.5.0",
          "state": {
            "_dom_classes": [],
            "_model_module": "@jupyter-widgets/controls",
            "_model_module_version": "1.5.0",
            "_model_name": "HTMLModel",
            "_view_count": null,
            "_view_module": "@jupyter-widgets/controls",
            "_view_module_version": "1.5.0",
            "_view_name": "HTMLView",
            "description": "",
            "description_tooltip": null,
            "layout": "IPY_MODEL_683c49acc51d40f9b10e7ad805c672e6",
            "placeholder": "​",
            "style": "IPY_MODEL_79f4bd2e7aee4231b9f4fd09afaf620e",
            "value": " 3280/3280 [00:25&lt;00:00, 385.99 examples/s]"
          }
        },
        "94bddcdafcd14211898cf6760a11ec94": {
          "model_module": "@jupyter-widgets/base",
          "model_name": "LayoutModel",
          "model_module_version": "1.2.0",
          "state": {
            "_model_module": "@jupyter-widgets/base",
            "_model_module_version": "1.2.0",
            "_model_name": "LayoutModel",
            "_view_count": null,
            "_view_module": "@jupyter-widgets/base",
            "_view_module_version": "1.2.0",
            "_view_name": "LayoutView",
            "align_content": null,
            "align_items": null,
            "align_self": null,
            "border": null,
            "bottom": null,
            "display": null,
            "flex": null,
            "flex_flow": null,
            "grid_area": null,
            "grid_auto_columns": null,
            "grid_auto_flow": null,
            "grid_auto_rows": null,
            "grid_column": null,
            "grid_gap": null,
            "grid_row": null,
            "grid_template_areas": null,
            "grid_template_columns": null,
            "grid_template_rows": null,
            "height": null,
            "justify_content": null,
            "justify_items": null,
            "left": null,
            "margin": null,
            "max_height": null,
            "max_width": null,
            "min_height": null,
            "min_width": null,
            "object_fit": null,
            "object_position": null,
            "order": null,
            "overflow": null,
            "overflow_x": null,
            "overflow_y": null,
            "padding": null,
            "right": null,
            "top": null,
            "visibility": null,
            "width": null
          }
        },
        "f3ca606ff43444deac90c641174658dc": {
          "model_module": "@jupyter-widgets/base",
          "model_name": "LayoutModel",
          "model_module_version": "1.2.0",
          "state": {
            "_model_module": "@jupyter-widgets/base",
            "_model_module_version": "1.2.0",
            "_model_name": "LayoutModel",
            "_view_count": null,
            "_view_module": "@jupyter-widgets/base",
            "_view_module_version": "1.2.0",
            "_view_name": "LayoutView",
            "align_content": null,
            "align_items": null,
            "align_self": null,
            "border": null,
            "bottom": null,
            "display": null,
            "flex": null,
            "flex_flow": null,
            "grid_area": null,
            "grid_auto_columns": null,
            "grid_auto_flow": null,
            "grid_auto_rows": null,
            "grid_column": null,
            "grid_gap": null,
            "grid_row": null,
            "grid_template_areas": null,
            "grid_template_columns": null,
            "grid_template_rows": null,
            "height": null,
            "justify_content": null,
            "justify_items": null,
            "left": null,
            "margin": null,
            "max_height": null,
            "max_width": null,
            "min_height": null,
            "min_width": null,
            "object_fit": null,
            "object_position": null,
            "order": null,
            "overflow": null,
            "overflow_x": null,
            "overflow_y": null,
            "padding": null,
            "right": null,
            "top": null,
            "visibility": null,
            "width": null
          }
        },
        "64d89806c88d4fe2b37dcf1163f77f7c": {
          "model_module": "@jupyter-widgets/controls",
          "model_name": "DescriptionStyleModel",
          "model_module_version": "1.5.0",
          "state": {
            "_model_module": "@jupyter-widgets/controls",
            "_model_module_version": "1.5.0",
            "_model_name": "DescriptionStyleModel",
            "_view_count": null,
            "_view_module": "@jupyter-widgets/base",
            "_view_module_version": "1.2.0",
            "_view_name": "StyleView",
            "description_width": ""
          }
        },
        "d15c04c6c38c4015b3a017904cfae55f": {
          "model_module": "@jupyter-widgets/base",
          "model_name": "LayoutModel",
          "model_module_version": "1.2.0",
          "state": {
            "_model_module": "@jupyter-widgets/base",
            "_model_module_version": "1.2.0",
            "_model_name": "LayoutModel",
            "_view_count": null,
            "_view_module": "@jupyter-widgets/base",
            "_view_module_version": "1.2.0",
            "_view_name": "LayoutView",
            "align_content": null,
            "align_items": null,
            "align_self": null,
            "border": null,
            "bottom": null,
            "display": null,
            "flex": null,
            "flex_flow": null,
            "grid_area": null,
            "grid_auto_columns": null,
            "grid_auto_flow": null,
            "grid_auto_rows": null,
            "grid_column": null,
            "grid_gap": null,
            "grid_row": null,
            "grid_template_areas": null,
            "grid_template_columns": null,
            "grid_template_rows": null,
            "height": null,
            "justify_content": null,
            "justify_items": null,
            "left": null,
            "margin": null,
            "max_height": null,
            "max_width": null,
            "min_height": null,
            "min_width": null,
            "object_fit": null,
            "object_position": null,
            "order": null,
            "overflow": null,
            "overflow_x": null,
            "overflow_y": null,
            "padding": null,
            "right": null,
            "top": null,
            "visibility": null,
            "width": null
          }
        },
        "6da0b107d8934e50854f7ecdc7949eda": {
          "model_module": "@jupyter-widgets/controls",
          "model_name": "ProgressStyleModel",
          "model_module_version": "1.5.0",
          "state": {
            "_model_module": "@jupyter-widgets/controls",
            "_model_module_version": "1.5.0",
            "_model_name": "ProgressStyleModel",
            "_view_count": null,
            "_view_module": "@jupyter-widgets/base",
            "_view_module_version": "1.2.0",
            "_view_name": "StyleView",
            "bar_color": null,
            "description_width": ""
          }
        },
        "683c49acc51d40f9b10e7ad805c672e6": {
          "model_module": "@jupyter-widgets/base",
          "model_name": "LayoutModel",
          "model_module_version": "1.2.0",
          "state": {
            "_model_module": "@jupyter-widgets/base",
            "_model_module_version": "1.2.0",
            "_model_name": "LayoutModel",
            "_view_count": null,
            "_view_module": "@jupyter-widgets/base",
            "_view_module_version": "1.2.0",
            "_view_name": "LayoutView",
            "align_content": null,
            "align_items": null,
            "align_self": null,
            "border": null,
            "bottom": null,
            "display": null,
            "flex": null,
            "flex_flow": null,
            "grid_area": null,
            "grid_auto_columns": null,
            "grid_auto_flow": null,
            "grid_auto_rows": null,
            "grid_column": null,
            "grid_gap": null,
            "grid_row": null,
            "grid_template_areas": null,
            "grid_template_columns": null,
            "grid_template_rows": null,
            "height": null,
            "justify_content": null,
            "justify_items": null,
            "left": null,
            "margin": null,
            "max_height": null,
            "max_width": null,
            "min_height": null,
            "min_width": null,
            "object_fit": null,
            "object_position": null,
            "order": null,
            "overflow": null,
            "overflow_x": null,
            "overflow_y": null,
            "padding": null,
            "right": null,
            "top": null,
            "visibility": null,
            "width": null
          }
        },
        "79f4bd2e7aee4231b9f4fd09afaf620e": {
          "model_module": "@jupyter-widgets/controls",
          "model_name": "DescriptionStyleModel",
          "model_module_version": "1.5.0",
          "state": {
            "_model_module": "@jupyter-widgets/controls",
            "_model_module_version": "1.5.0",
            "_model_name": "DescriptionStyleModel",
            "_view_count": null,
            "_view_module": "@jupyter-widgets/base",
            "_view_module_version": "1.2.0",
            "_view_name": "StyleView",
            "description_width": ""
          }
        },
        "f37ce857b8254a11b4dd5947d3231187": {
          "model_module": "@jupyter-widgets/controls",
          "model_name": "HBoxModel",
          "model_module_version": "1.5.0",
          "state": {
            "_dom_classes": [],
            "_model_module": "@jupyter-widgets/controls",
            "_model_module_version": "1.5.0",
            "_model_name": "HBoxModel",
            "_view_count": null,
            "_view_module": "@jupyter-widgets/controls",
            "_view_module_version": "1.5.0",
            "_view_name": "HBoxView",
            "box_style": "",
            "children": [
              "IPY_MODEL_d1c85ca4a1de40e8996d1b0cc510052f",
              "IPY_MODEL_d41b8b08dbe34f43b144b233d0a8686b",
              "IPY_MODEL_c3ac7aa3974348c79ba60336c4c9d689"
            ],
            "layout": "IPY_MODEL_411237dfadf8462e81db5ee9908ff548"
          }
        },
        "d1c85ca4a1de40e8996d1b0cc510052f": {
          "model_module": "@jupyter-widgets/controls",
          "model_name": "HTMLModel",
          "model_module_version": "1.5.0",
          "state": {
            "_dom_classes": [],
            "_model_module": "@jupyter-widgets/controls",
            "_model_module_version": "1.5.0",
            "_model_name": "HTMLModel",
            "_view_count": null,
            "_view_module": "@jupyter-widgets/controls",
            "_view_module_version": "1.5.0",
            "_view_name": "HTMLView",
            "description": "",
            "description_tooltip": null,
            "layout": "IPY_MODEL_d5c02aca0cfb49f7aee063b064f5064b",
            "placeholder": "​",
            "style": "IPY_MODEL_2bccc76d1c5743d5acf3f87cdb5bc2c9",
            "value": "Map: 100%"
          }
        },
        "d41b8b08dbe34f43b144b233d0a8686b": {
          "model_module": "@jupyter-widgets/controls",
          "model_name": "FloatProgressModel",
          "model_module_version": "1.5.0",
          "state": {
            "_dom_classes": [],
            "_model_module": "@jupyter-widgets/controls",
            "_model_module_version": "1.5.0",
            "_model_name": "FloatProgressModel",
            "_view_count": null,
            "_view_module": "@jupyter-widgets/controls",
            "_view_module_version": "1.5.0",
            "_view_name": "ProgressView",
            "bar_style": "success",
            "description": "",
            "description_tooltip": null,
            "layout": "IPY_MODEL_d63cb29d0d3545bab73589146feeacdc",
            "max": 384,
            "min": 0,
            "orientation": "horizontal",
            "style": "IPY_MODEL_fda1397efe5e4120bb21dbbc18a25659",
            "value": 384
          }
        },
        "c3ac7aa3974348c79ba60336c4c9d689": {
          "model_module": "@jupyter-widgets/controls",
          "model_name": "HTMLModel",
          "model_module_version": "1.5.0",
          "state": {
            "_dom_classes": [],
            "_model_module": "@jupyter-widgets/controls",
            "_model_module_version": "1.5.0",
            "_model_name": "HTMLModel",
            "_view_count": null,
            "_view_module": "@jupyter-widgets/controls",
            "_view_module_version": "1.5.0",
            "_view_name": "HTMLView",
            "description": "",
            "description_tooltip": null,
            "layout": "IPY_MODEL_4938bfcf319240929bf9297ca139340a",
            "placeholder": "​",
            "style": "IPY_MODEL_17c1b3e97e054f3bab918c13699ed516",
            "value": " 384/384 [00:01&lt;00:00, 427.90 examples/s]"
          }
        },
        "411237dfadf8462e81db5ee9908ff548": {
          "model_module": "@jupyter-widgets/base",
          "model_name": "LayoutModel",
          "model_module_version": "1.2.0",
          "state": {
            "_model_module": "@jupyter-widgets/base",
            "_model_module_version": "1.2.0",
            "_model_name": "LayoutModel",
            "_view_count": null,
            "_view_module": "@jupyter-widgets/base",
            "_view_module_version": "1.2.0",
            "_view_name": "LayoutView",
            "align_content": null,
            "align_items": null,
            "align_self": null,
            "border": null,
            "bottom": null,
            "display": null,
            "flex": null,
            "flex_flow": null,
            "grid_area": null,
            "grid_auto_columns": null,
            "grid_auto_flow": null,
            "grid_auto_rows": null,
            "grid_column": null,
            "grid_gap": null,
            "grid_row": null,
            "grid_template_areas": null,
            "grid_template_columns": null,
            "grid_template_rows": null,
            "height": null,
            "justify_content": null,
            "justify_items": null,
            "left": null,
            "margin": null,
            "max_height": null,
            "max_width": null,
            "min_height": null,
            "min_width": null,
            "object_fit": null,
            "object_position": null,
            "order": null,
            "overflow": null,
            "overflow_x": null,
            "overflow_y": null,
            "padding": null,
            "right": null,
            "top": null,
            "visibility": null,
            "width": null
          }
        },
        "d5c02aca0cfb49f7aee063b064f5064b": {
          "model_module": "@jupyter-widgets/base",
          "model_name": "LayoutModel",
          "model_module_version": "1.2.0",
          "state": {
            "_model_module": "@jupyter-widgets/base",
            "_model_module_version": "1.2.0",
            "_model_name": "LayoutModel",
            "_view_count": null,
            "_view_module": "@jupyter-widgets/base",
            "_view_module_version": "1.2.0",
            "_view_name": "LayoutView",
            "align_content": null,
            "align_items": null,
            "align_self": null,
            "border": null,
            "bottom": null,
            "display": null,
            "flex": null,
            "flex_flow": null,
            "grid_area": null,
            "grid_auto_columns": null,
            "grid_auto_flow": null,
            "grid_auto_rows": null,
            "grid_column": null,
            "grid_gap": null,
            "grid_row": null,
            "grid_template_areas": null,
            "grid_template_columns": null,
            "grid_template_rows": null,
            "height": null,
            "justify_content": null,
            "justify_items": null,
            "left": null,
            "margin": null,
            "max_height": null,
            "max_width": null,
            "min_height": null,
            "min_width": null,
            "object_fit": null,
            "object_position": null,
            "order": null,
            "overflow": null,
            "overflow_x": null,
            "overflow_y": null,
            "padding": null,
            "right": null,
            "top": null,
            "visibility": null,
            "width": null
          }
        },
        "2bccc76d1c5743d5acf3f87cdb5bc2c9": {
          "model_module": "@jupyter-widgets/controls",
          "model_name": "DescriptionStyleModel",
          "model_module_version": "1.5.0",
          "state": {
            "_model_module": "@jupyter-widgets/controls",
            "_model_module_version": "1.5.0",
            "_model_name": "DescriptionStyleModel",
            "_view_count": null,
            "_view_module": "@jupyter-widgets/base",
            "_view_module_version": "1.2.0",
            "_view_name": "StyleView",
            "description_width": ""
          }
        },
        "d63cb29d0d3545bab73589146feeacdc": {
          "model_module": "@jupyter-widgets/base",
          "model_name": "LayoutModel",
          "model_module_version": "1.2.0",
          "state": {
            "_model_module": "@jupyter-widgets/base",
            "_model_module_version": "1.2.0",
            "_model_name": "LayoutModel",
            "_view_count": null,
            "_view_module": "@jupyter-widgets/base",
            "_view_module_version": "1.2.0",
            "_view_name": "LayoutView",
            "align_content": null,
            "align_items": null,
            "align_self": null,
            "border": null,
            "bottom": null,
            "display": null,
            "flex": null,
            "flex_flow": null,
            "grid_area": null,
            "grid_auto_columns": null,
            "grid_auto_flow": null,
            "grid_auto_rows": null,
            "grid_column": null,
            "grid_gap": null,
            "grid_row": null,
            "grid_template_areas": null,
            "grid_template_columns": null,
            "grid_template_rows": null,
            "height": null,
            "justify_content": null,
            "justify_items": null,
            "left": null,
            "margin": null,
            "max_height": null,
            "max_width": null,
            "min_height": null,
            "min_width": null,
            "object_fit": null,
            "object_position": null,
            "order": null,
            "overflow": null,
            "overflow_x": null,
            "overflow_y": null,
            "padding": null,
            "right": null,
            "top": null,
            "visibility": null,
            "width": null
          }
        },
        "fda1397efe5e4120bb21dbbc18a25659": {
          "model_module": "@jupyter-widgets/controls",
          "model_name": "ProgressStyleModel",
          "model_module_version": "1.5.0",
          "state": {
            "_model_module": "@jupyter-widgets/controls",
            "_model_module_version": "1.5.0",
            "_model_name": "ProgressStyleModel",
            "_view_count": null,
            "_view_module": "@jupyter-widgets/base",
            "_view_module_version": "1.2.0",
            "_view_name": "StyleView",
            "bar_color": null,
            "description_width": ""
          }
        },
        "4938bfcf319240929bf9297ca139340a": {
          "model_module": "@jupyter-widgets/base",
          "model_name": "LayoutModel",
          "model_module_version": "1.2.0",
          "state": {
            "_model_module": "@jupyter-widgets/base",
            "_model_module_version": "1.2.0",
            "_model_name": "LayoutModel",
            "_view_count": null,
            "_view_module": "@jupyter-widgets/base",
            "_view_module_version": "1.2.0",
            "_view_name": "LayoutView",
            "align_content": null,
            "align_items": null,
            "align_self": null,
            "border": null,
            "bottom": null,
            "display": null,
            "flex": null,
            "flex_flow": null,
            "grid_area": null,
            "grid_auto_columns": null,
            "grid_auto_flow": null,
            "grid_auto_rows": null,
            "grid_column": null,
            "grid_gap": null,
            "grid_row": null,
            "grid_template_areas": null,
            "grid_template_columns": null,
            "grid_template_rows": null,
            "height": null,
            "justify_content": null,
            "justify_items": null,
            "left": null,
            "margin": null,
            "max_height": null,
            "max_width": null,
            "min_height": null,
            "min_width": null,
            "object_fit": null,
            "object_position": null,
            "order": null,
            "overflow": null,
            "overflow_x": null,
            "overflow_y": null,
            "padding": null,
            "right": null,
            "top": null,
            "visibility": null,
            "width": null
          }
        },
        "17c1b3e97e054f3bab918c13699ed516": {
          "model_module": "@jupyter-widgets/controls",
          "model_name": "DescriptionStyleModel",
          "model_module_version": "1.5.0",
          "state": {
            "_model_module": "@jupyter-widgets/controls",
            "_model_module_version": "1.5.0",
            "_model_name": "DescriptionStyleModel",
            "_view_count": null,
            "_view_module": "@jupyter-widgets/base",
            "_view_module_version": "1.2.0",
            "_view_name": "StyleView",
            "description_width": ""
          }
        },
        "56edf6bc160548329a715acd2a8cbd88": {
          "model_module": "@jupyter-widgets/controls",
          "model_name": "HBoxModel",
          "model_module_version": "1.5.0",
          "state": {
            "_dom_classes": [],
            "_model_module": "@jupyter-widgets/controls",
            "_model_module_version": "1.5.0",
            "_model_name": "HBoxModel",
            "_view_count": null,
            "_view_module": "@jupyter-widgets/controls",
            "_view_module_version": "1.5.0",
            "_view_name": "HBoxView",
            "box_style": "",
            "children": [
              "IPY_MODEL_cd691335915648f6a4bcb13f5d894200",
              "IPY_MODEL_899a605c10f64d78b185533678be4738",
              "IPY_MODEL_dc6544f85cfd4860a9bd0350d7d99a28"
            ],
            "layout": "IPY_MODEL_be613fd7dc1c4d7dbbac9953f1222da1"
          }
        },
        "cd691335915648f6a4bcb13f5d894200": {
          "model_module": "@jupyter-widgets/controls",
          "model_name": "HTMLModel",
          "model_module_version": "1.5.0",
          "state": {
            "_dom_classes": [],
            "_model_module": "@jupyter-widgets/controls",
            "_model_module_version": "1.5.0",
            "_model_name": "HTMLModel",
            "_view_count": null,
            "_view_module": "@jupyter-widgets/controls",
            "_view_module_version": "1.5.0",
            "_view_name": "HTMLView",
            "description": "",
            "description_tooltip": null,
            "layout": "IPY_MODEL_047a8bc660bb47b5975b8e2294cc2dc9",
            "placeholder": "​",
            "style": "IPY_MODEL_3e03b7f27b62401299daff9058fb1cf7",
            "value": "Map: 100%"
          }
        },
        "899a605c10f64d78b185533678be4738": {
          "model_module": "@jupyter-widgets/controls",
          "model_name": "FloatProgressModel",
          "model_module_version": "1.5.0",
          "state": {
            "_dom_classes": [],
            "_model_module": "@jupyter-widgets/controls",
            "_model_module_version": "1.5.0",
            "_model_name": "FloatProgressModel",
            "_view_count": null,
            "_view_module": "@jupyter-widgets/controls",
            "_view_module_version": "1.5.0",
            "_view_name": "ProgressView",
            "bar_style": "success",
            "description": "",
            "description_tooltip": null,
            "layout": "IPY_MODEL_be7b0068730a408eb256fbc4e82d4615",
            "max": 384,
            "min": 0,
            "orientation": "horizontal",
            "style": "IPY_MODEL_19ca7cfb69354e11af4462b48dc1cc4d",
            "value": 384
          }
        },
        "dc6544f85cfd4860a9bd0350d7d99a28": {
          "model_module": "@jupyter-widgets/controls",
          "model_name": "HTMLModel",
          "model_module_version": "1.5.0",
          "state": {
            "_dom_classes": [],
            "_model_module": "@jupyter-widgets/controls",
            "_model_module_version": "1.5.0",
            "_model_name": "HTMLModel",
            "_view_count": null,
            "_view_module": "@jupyter-widgets/controls",
            "_view_module_version": "1.5.0",
            "_view_name": "HTMLView",
            "description": "",
            "description_tooltip": null,
            "layout": "IPY_MODEL_f0210f41cc1d4211893c2e0386398a06",
            "placeholder": "​",
            "style": "IPY_MODEL_eb6d06de8cc64867aa4d3b4da1e75317",
            "value": " 384/384 [00:01&lt;00:00, 451.56 examples/s]"
          }
        },
        "be613fd7dc1c4d7dbbac9953f1222da1": {
          "model_module": "@jupyter-widgets/base",
          "model_name": "LayoutModel",
          "model_module_version": "1.2.0",
          "state": {
            "_model_module": "@jupyter-widgets/base",
            "_model_module_version": "1.2.0",
            "_model_name": "LayoutModel",
            "_view_count": null,
            "_view_module": "@jupyter-widgets/base",
            "_view_module_version": "1.2.0",
            "_view_name": "LayoutView",
            "align_content": null,
            "align_items": null,
            "align_self": null,
            "border": null,
            "bottom": null,
            "display": null,
            "flex": null,
            "flex_flow": null,
            "grid_area": null,
            "grid_auto_columns": null,
            "grid_auto_flow": null,
            "grid_auto_rows": null,
            "grid_column": null,
            "grid_gap": null,
            "grid_row": null,
            "grid_template_areas": null,
            "grid_template_columns": null,
            "grid_template_rows": null,
            "height": null,
            "justify_content": null,
            "justify_items": null,
            "left": null,
            "margin": null,
            "max_height": null,
            "max_width": null,
            "min_height": null,
            "min_width": null,
            "object_fit": null,
            "object_position": null,
            "order": null,
            "overflow": null,
            "overflow_x": null,
            "overflow_y": null,
            "padding": null,
            "right": null,
            "top": null,
            "visibility": null,
            "width": null
          }
        },
        "047a8bc660bb47b5975b8e2294cc2dc9": {
          "model_module": "@jupyter-widgets/base",
          "model_name": "LayoutModel",
          "model_module_version": "1.2.0",
          "state": {
            "_model_module": "@jupyter-widgets/base",
            "_model_module_version": "1.2.0",
            "_model_name": "LayoutModel",
            "_view_count": null,
            "_view_module": "@jupyter-widgets/base",
            "_view_module_version": "1.2.0",
            "_view_name": "LayoutView",
            "align_content": null,
            "align_items": null,
            "align_self": null,
            "border": null,
            "bottom": null,
            "display": null,
            "flex": null,
            "flex_flow": null,
            "grid_area": null,
            "grid_auto_columns": null,
            "grid_auto_flow": null,
            "grid_auto_rows": null,
            "grid_column": null,
            "grid_gap": null,
            "grid_row": null,
            "grid_template_areas": null,
            "grid_template_columns": null,
            "grid_template_rows": null,
            "height": null,
            "justify_content": null,
            "justify_items": null,
            "left": null,
            "margin": null,
            "max_height": null,
            "max_width": null,
            "min_height": null,
            "min_width": null,
            "object_fit": null,
            "object_position": null,
            "order": null,
            "overflow": null,
            "overflow_x": null,
            "overflow_y": null,
            "padding": null,
            "right": null,
            "top": null,
            "visibility": null,
            "width": null
          }
        },
        "3e03b7f27b62401299daff9058fb1cf7": {
          "model_module": "@jupyter-widgets/controls",
          "model_name": "DescriptionStyleModel",
          "model_module_version": "1.5.0",
          "state": {
            "_model_module": "@jupyter-widgets/controls",
            "_model_module_version": "1.5.0",
            "_model_name": "DescriptionStyleModel",
            "_view_count": null,
            "_view_module": "@jupyter-widgets/base",
            "_view_module_version": "1.2.0",
            "_view_name": "StyleView",
            "description_width": ""
          }
        },
        "be7b0068730a408eb256fbc4e82d4615": {
          "model_module": "@jupyter-widgets/base",
          "model_name": "LayoutModel",
          "model_module_version": "1.2.0",
          "state": {
            "_model_module": "@jupyter-widgets/base",
            "_model_module_version": "1.2.0",
            "_model_name": "LayoutModel",
            "_view_count": null,
            "_view_module": "@jupyter-widgets/base",
            "_view_module_version": "1.2.0",
            "_view_name": "LayoutView",
            "align_content": null,
            "align_items": null,
            "align_self": null,
            "border": null,
            "bottom": null,
            "display": null,
            "flex": null,
            "flex_flow": null,
            "grid_area": null,
            "grid_auto_columns": null,
            "grid_auto_flow": null,
            "grid_auto_rows": null,
            "grid_column": null,
            "grid_gap": null,
            "grid_row": null,
            "grid_template_areas": null,
            "grid_template_columns": null,
            "grid_template_rows": null,
            "height": null,
            "justify_content": null,
            "justify_items": null,
            "left": null,
            "margin": null,
            "max_height": null,
            "max_width": null,
            "min_height": null,
            "min_width": null,
            "object_fit": null,
            "object_position": null,
            "order": null,
            "overflow": null,
            "overflow_x": null,
            "overflow_y": null,
            "padding": null,
            "right": null,
            "top": null,
            "visibility": null,
            "width": null
          }
        },
        "19ca7cfb69354e11af4462b48dc1cc4d": {
          "model_module": "@jupyter-widgets/controls",
          "model_name": "ProgressStyleModel",
          "model_module_version": "1.5.0",
          "state": {
            "_model_module": "@jupyter-widgets/controls",
            "_model_module_version": "1.5.0",
            "_model_name": "ProgressStyleModel",
            "_view_count": null,
            "_view_module": "@jupyter-widgets/base",
            "_view_module_version": "1.2.0",
            "_view_name": "StyleView",
            "bar_color": null,
            "description_width": ""
          }
        },
        "f0210f41cc1d4211893c2e0386398a06": {
          "model_module": "@jupyter-widgets/base",
          "model_name": "LayoutModel",
          "model_module_version": "1.2.0",
          "state": {
            "_model_module": "@jupyter-widgets/base",
            "_model_module_version": "1.2.0",
            "_model_name": "LayoutModel",
            "_view_count": null,
            "_view_module": "@jupyter-widgets/base",
            "_view_module_version": "1.2.0",
            "_view_name": "LayoutView",
            "align_content": null,
            "align_items": null,
            "align_self": null,
            "border": null,
            "bottom": null,
            "display": null,
            "flex": null,
            "flex_flow": null,
            "grid_area": null,
            "grid_auto_columns": null,
            "grid_auto_flow": null,
            "grid_auto_rows": null,
            "grid_column": null,
            "grid_gap": null,
            "grid_row": null,
            "grid_template_areas": null,
            "grid_template_columns": null,
            "grid_template_rows": null,
            "height": null,
            "justify_content": null,
            "justify_items": null,
            "left": null,
            "margin": null,
            "max_height": null,
            "max_width": null,
            "min_height": null,
            "min_width": null,
            "object_fit": null,
            "object_position": null,
            "order": null,
            "overflow": null,
            "overflow_x": null,
            "overflow_y": null,
            "padding": null,
            "right": null,
            "top": null,
            "visibility": null,
            "width": null
          }
        },
        "eb6d06de8cc64867aa4d3b4da1e75317": {
          "model_module": "@jupyter-widgets/controls",
          "model_name": "DescriptionStyleModel",
          "model_module_version": "1.5.0",
          "state": {
            "_model_module": "@jupyter-widgets/controls",
            "_model_module_version": "1.5.0",
            "_model_name": "DescriptionStyleModel",
            "_view_count": null,
            "_view_module": "@jupyter-widgets/base",
            "_view_module_version": "1.2.0",
            "_view_name": "StyleView",
            "description_width": ""
          }
        },
        "4f105c31e6e145fb810fb9a6302c99f3": {
          "model_module": "@jupyter-widgets/controls",
          "model_name": "HBoxModel",
          "model_module_version": "1.5.0",
          "state": {
            "_dom_classes": [],
            "_model_module": "@jupyter-widgets/controls",
            "_model_module_version": "1.5.0",
            "_model_name": "HBoxModel",
            "_view_count": null,
            "_view_module": "@jupyter-widgets/controls",
            "_view_module_version": "1.5.0",
            "_view_name": "HBoxView",
            "box_style": "",
            "children": [
              "IPY_MODEL_15eb976ee7e6490c8bafa0dbfecaa951",
              "IPY_MODEL_b2c7b1f08d8b4dd19d8a0898dc58f18d",
              "IPY_MODEL_69b178ca8a9347b7b085783228b15c78"
            ],
            "layout": "IPY_MODEL_c9c8a1061aae40c6875fc3e9baf36335"
          }
        },
        "15eb976ee7e6490c8bafa0dbfecaa951": {
          "model_module": "@jupyter-widgets/controls",
          "model_name": "HTMLModel",
          "model_module_version": "1.5.0",
          "state": {
            "_dom_classes": [],
            "_model_module": "@jupyter-widgets/controls",
            "_model_module_version": "1.5.0",
            "_model_name": "HTMLModel",
            "_view_count": null,
            "_view_module": "@jupyter-widgets/controls",
            "_view_module_version": "1.5.0",
            "_view_name": "HTMLView",
            "description": "",
            "description_tooltip": null,
            "layout": "IPY_MODEL_391fbe02f2ad4c439f5339300e9ad6ed",
            "placeholder": "​",
            "style": "IPY_MODEL_27b5d8a34bf74c539d679e216df4fbe0",
            "value": "preprocessor_config.json: 100%"
          }
        },
        "b2c7b1f08d8b4dd19d8a0898dc58f18d": {
          "model_module": "@jupyter-widgets/controls",
          "model_name": "FloatProgressModel",
          "model_module_version": "1.5.0",
          "state": {
            "_dom_classes": [],
            "_model_module": "@jupyter-widgets/controls",
            "_model_module_version": "1.5.0",
            "_model_name": "FloatProgressModel",
            "_view_count": null,
            "_view_module": "@jupyter-widgets/controls",
            "_view_module_version": "1.5.0",
            "_view_name": "ProgressView",
            "bar_style": "success",
            "description": "",
            "description_tooltip": null,
            "layout": "IPY_MODEL_7bb9ae36833141cd8a51a85992874bc3",
            "max": 212,
            "min": 0,
            "orientation": "horizontal",
            "style": "IPY_MODEL_5d966fe86da04dbdba5d66509dbb4c26",
            "value": 212
          }
        },
        "69b178ca8a9347b7b085783228b15c78": {
          "model_module": "@jupyter-widgets/controls",
          "model_name": "HTMLModel",
          "model_module_version": "1.5.0",
          "state": {
            "_dom_classes": [],
            "_model_module": "@jupyter-widgets/controls",
            "_model_module_version": "1.5.0",
            "_model_name": "HTMLModel",
            "_view_count": null,
            "_view_module": "@jupyter-widgets/controls",
            "_view_module_version": "1.5.0",
            "_view_name": "HTMLView",
            "description": "",
            "description_tooltip": null,
            "layout": "IPY_MODEL_521cd38264a34747a617fde386f0c699",
            "placeholder": "​",
            "style": "IPY_MODEL_ec2120fc584b4430899144ee75fa866f",
            "value": " 212/212 [00:00&lt;00:00, 14.1kB/s]"
          }
        },
        "c9c8a1061aae40c6875fc3e9baf36335": {
          "model_module": "@jupyter-widgets/base",
          "model_name": "LayoutModel",
          "model_module_version": "1.2.0",
          "state": {
            "_model_module": "@jupyter-widgets/base",
            "_model_module_version": "1.2.0",
            "_model_name": "LayoutModel",
            "_view_count": null,
            "_view_module": "@jupyter-widgets/base",
            "_view_module_version": "1.2.0",
            "_view_name": "LayoutView",
            "align_content": null,
            "align_items": null,
            "align_self": null,
            "border": null,
            "bottom": null,
            "display": null,
            "flex": null,
            "flex_flow": null,
            "grid_area": null,
            "grid_auto_columns": null,
            "grid_auto_flow": null,
            "grid_auto_rows": null,
            "grid_column": null,
            "grid_gap": null,
            "grid_row": null,
            "grid_template_areas": null,
            "grid_template_columns": null,
            "grid_template_rows": null,
            "height": null,
            "justify_content": null,
            "justify_items": null,
            "left": null,
            "margin": null,
            "max_height": null,
            "max_width": null,
            "min_height": null,
            "min_width": null,
            "object_fit": null,
            "object_position": null,
            "order": null,
            "overflow": null,
            "overflow_x": null,
            "overflow_y": null,
            "padding": null,
            "right": null,
            "top": null,
            "visibility": null,
            "width": null
          }
        },
        "391fbe02f2ad4c439f5339300e9ad6ed": {
          "model_module": "@jupyter-widgets/base",
          "model_name": "LayoutModel",
          "model_module_version": "1.2.0",
          "state": {
            "_model_module": "@jupyter-widgets/base",
            "_model_module_version": "1.2.0",
            "_model_name": "LayoutModel",
            "_view_count": null,
            "_view_module": "@jupyter-widgets/base",
            "_view_module_version": "1.2.0",
            "_view_name": "LayoutView",
            "align_content": null,
            "align_items": null,
            "align_self": null,
            "border": null,
            "bottom": null,
            "display": null,
            "flex": null,
            "flex_flow": null,
            "grid_area": null,
            "grid_auto_columns": null,
            "grid_auto_flow": null,
            "grid_auto_rows": null,
            "grid_column": null,
            "grid_gap": null,
            "grid_row": null,
            "grid_template_areas": null,
            "grid_template_columns": null,
            "grid_template_rows": null,
            "height": null,
            "justify_content": null,
            "justify_items": null,
            "left": null,
            "margin": null,
            "max_height": null,
            "max_width": null,
            "min_height": null,
            "min_width": null,
            "object_fit": null,
            "object_position": null,
            "order": null,
            "overflow": null,
            "overflow_x": null,
            "overflow_y": null,
            "padding": null,
            "right": null,
            "top": null,
            "visibility": null,
            "width": null
          }
        },
        "27b5d8a34bf74c539d679e216df4fbe0": {
          "model_module": "@jupyter-widgets/controls",
          "model_name": "DescriptionStyleModel",
          "model_module_version": "1.5.0",
          "state": {
            "_model_module": "@jupyter-widgets/controls",
            "_model_module_version": "1.5.0",
            "_model_name": "DescriptionStyleModel",
            "_view_count": null,
            "_view_module": "@jupyter-widgets/base",
            "_view_module_version": "1.2.0",
            "_view_name": "StyleView",
            "description_width": ""
          }
        },
        "7bb9ae36833141cd8a51a85992874bc3": {
          "model_module": "@jupyter-widgets/base",
          "model_name": "LayoutModel",
          "model_module_version": "1.2.0",
          "state": {
            "_model_module": "@jupyter-widgets/base",
            "_model_module_version": "1.2.0",
            "_model_name": "LayoutModel",
            "_view_count": null,
            "_view_module": "@jupyter-widgets/base",
            "_view_module_version": "1.2.0",
            "_view_name": "LayoutView",
            "align_content": null,
            "align_items": null,
            "align_self": null,
            "border": null,
            "bottom": null,
            "display": null,
            "flex": null,
            "flex_flow": null,
            "grid_area": null,
            "grid_auto_columns": null,
            "grid_auto_flow": null,
            "grid_auto_rows": null,
            "grid_column": null,
            "grid_gap": null,
            "grid_row": null,
            "grid_template_areas": null,
            "grid_template_columns": null,
            "grid_template_rows": null,
            "height": null,
            "justify_content": null,
            "justify_items": null,
            "left": null,
            "margin": null,
            "max_height": null,
            "max_width": null,
            "min_height": null,
            "min_width": null,
            "object_fit": null,
            "object_position": null,
            "order": null,
            "overflow": null,
            "overflow_x": null,
            "overflow_y": null,
            "padding": null,
            "right": null,
            "top": null,
            "visibility": null,
            "width": null
          }
        },
        "5d966fe86da04dbdba5d66509dbb4c26": {
          "model_module": "@jupyter-widgets/controls",
          "model_name": "ProgressStyleModel",
          "model_module_version": "1.5.0",
          "state": {
            "_model_module": "@jupyter-widgets/controls",
            "_model_module_version": "1.5.0",
            "_model_name": "ProgressStyleModel",
            "_view_count": null,
            "_view_module": "@jupyter-widgets/base",
            "_view_module_version": "1.2.0",
            "_view_name": "StyleView",
            "bar_color": null,
            "description_width": ""
          }
        },
        "521cd38264a34747a617fde386f0c699": {
          "model_module": "@jupyter-widgets/base",
          "model_name": "LayoutModel",
          "model_module_version": "1.2.0",
          "state": {
            "_model_module": "@jupyter-widgets/base",
            "_model_module_version": "1.2.0",
            "_model_name": "LayoutModel",
            "_view_count": null,
            "_view_module": "@jupyter-widgets/base",
            "_view_module_version": "1.2.0",
            "_view_name": "LayoutView",
            "align_content": null,
            "align_items": null,
            "align_self": null,
            "border": null,
            "bottom": null,
            "display": null,
            "flex": null,
            "flex_flow": null,
            "grid_area": null,
            "grid_auto_columns": null,
            "grid_auto_flow": null,
            "grid_auto_rows": null,
            "grid_column": null,
            "grid_gap": null,
            "grid_row": null,
            "grid_template_areas": null,
            "grid_template_columns": null,
            "grid_template_rows": null,
            "height": null,
            "justify_content": null,
            "justify_items": null,
            "left": null,
            "margin": null,
            "max_height": null,
            "max_width": null,
            "min_height": null,
            "min_width": null,
            "object_fit": null,
            "object_position": null,
            "order": null,
            "overflow": null,
            "overflow_x": null,
            "overflow_y": null,
            "padding": null,
            "right": null,
            "top": null,
            "visibility": null,
            "width": null
          }
        },
        "ec2120fc584b4430899144ee75fa866f": {
          "model_module": "@jupyter-widgets/controls",
          "model_name": "DescriptionStyleModel",
          "model_module_version": "1.5.0",
          "state": {
            "_model_module": "@jupyter-widgets/controls",
            "_model_module_version": "1.5.0",
            "_model_name": "DescriptionStyleModel",
            "_view_count": null,
            "_view_module": "@jupyter-widgets/base",
            "_view_module_version": "1.2.0",
            "_view_name": "StyleView",
            "description_width": ""
          }
        }
      }
    },
    "accelerator": "GPU"
  },
  "cells": [
    {
      "cell_type": "markdown",
      "source": [
        "## RAVDESS + TESS model training:"
      ],
      "metadata": {
        "id": "j003KKU_ATaA"
      }
    },
    {
      "cell_type": "markdown",
      "source": [
        "#### General setup:"
      ],
      "metadata": {
        "id": "u7RNpW2DxLCU"
      }
    },
    {
      "cell_type": "code",
      "source": [
        "import os\n",
        "os.environ[\"CUDA_LAUNCH_BLOCKING\"] = \"1\""
      ],
      "metadata": {
        "id": "4XNxYuQvYhNy"
      },
      "execution_count": 1,
      "outputs": []
    },
    {
      "cell_type": "code",
      "source": [
        "!pip install opendatasets --upgrade --quiet"
      ],
      "metadata": {
        "id": "X3qChIlHCG0A"
      },
      "execution_count": 2,
      "outputs": []
    },
    {
      "cell_type": "code",
      "source": [
        "!pip install datasets --quiet"
      ],
      "metadata": {
        "collapsed": true,
        "id": "Q-47rW7CPmP4"
      },
      "execution_count": 3,
      "outputs": []
    },
    {
      "cell_type": "code",
      "execution_count": 4,
      "metadata": {
        "id": "uvCrd9BTA2k1"
      },
      "outputs": [],
      "source": [
        "# Base Libraries\n",
        "import os\n",
        "import gc\n",
        "import time\n",
        "import shutil\n",
        "import random\n",
        "# import librosa\n",
        "\n",
        "import torch\n",
        "import numpy as np\n",
        "import pandas as pd\n",
        "import seaborn as sns\n",
        "# import tensorflow as tf\n",
        "import opendatasets as od\n",
        "import matplotlib.pyplot as plt\n",
        "from collections import defaultdict\n",
        "\n",
        "# Preprocessing and Image\n",
        "# import cv2\n",
        "import librosa.display\n",
        "\n",
        "from tqdm import tqdm\n",
        "# from sklearn.model_selection import train_test_split\n",
        "# from keras.utils import image_dataset_from_directory\n",
        "# from tensorflow.keras.models import load_model\n",
        "# from tensorflow.keras.preprocessing import image\n",
        "\n",
        "import warnings\n",
        "warnings.filterwarnings(\"ignore\")"
      ]
    },
    {
      "cell_type": "code",
      "source": [
        "def plot_emotion_distribution(train_df, val_df, test_df):\n",
        "  datasets = [train_df, test_df, val_df]\n",
        "  dataset_names = ['Train', 'Test', 'Validation']\n",
        "  emotion_counts = []\n",
        "\n",
        "  for dataset in datasets:\n",
        "    emotion_percent = dataset['emotion'].value_counts(normalize=True) * 100\n",
        "    emotion_counts.append(emotion_percent.sort_index())\n",
        "\n",
        "  fig, axes = plt.subplots(1, 3, figsize=(18, 6), sharey=True)\n",
        "  for i, (counts, name) in enumerate(zip(emotion_counts, dataset_names)):\n",
        "    sns.barplot(x=counts.index, y=counts.values, palette=\"viridis\", ax=axes[i])\n",
        "    axes[i].set_title(f'{name} Dataset')\n",
        "    axes[i].set_xlabel('Emotion')\n",
        "    axes[i].set_ylabel('Percentage' if i == 0 else '')\n",
        "    axes[i].tick_params(axis='x', rotation=45)\n",
        "\n",
        "  plt.suptitle('Percentage of Emotions in Train, Test, and Validation Datasets')\n",
        "  plt.tight_layout(rect=[0, 0, 1, 0.95])\n",
        "  plt.show()"
      ],
      "metadata": {
        "id": "PPw_1gm1MBmm"
      },
      "execution_count": 5,
      "outputs": []
    },
    {
      "cell_type": "code",
      "source": [
        "label_to_emotion = {\n",
        "  0: \"neutral\",\n",
        "  1: \"happy\",\n",
        "  2: \"sad\",\n",
        "  3: \"angry\",\n",
        "  4: \"fearful\",\n",
        "  5: \"disgust\",\n",
        "  6: \"surprised\"\n",
        "}"
      ],
      "metadata": {
        "id": "qZdq7GamR4T1"
      },
      "execution_count": 48,
      "outputs": []
    },
    {
      "cell_type": "code",
      "source": [
        "def plot_emotion_label_distribution(train_df, val_df, test_df):\n",
        "  datasets = [train_df, test_df, val_df]\n",
        "  dataset_names = ['Train', 'Test', 'Validation']\n",
        "  emotion_counts = []\n",
        "\n",
        "  for dataset in datasets:\n",
        "      emotion_percent = dataset['emotion_label'].value_counts(normalize=True) * 100\n",
        "      emotion_percent = emotion_percent.sort_index()\n",
        "      emotion_percent.index = emotion_percent.index.map(label_to_emotion)\n",
        "      emotion_counts.append(emotion_percent)\n",
        "\n",
        "  fig, axes = plt.subplots(1, 3, figsize=(18, 6), sharey=True)\n",
        "  for i, (counts, name) in enumerate(zip(emotion_counts, dataset_names)):\n",
        "      sns.barplot(x=counts.index, y=counts.values, palette=\"viridis\", ax=axes[i])\n",
        "      axes[i].set_title(f'{name} Dataset')\n",
        "      axes[i].set_xlabel('Emotion')\n",
        "      axes[i].set_ylabel('Percentage' if i == 0 else '')\n",
        "      axes[i].tick_params(axis='x', rotation=45)\n",
        "\n",
        "  plt.suptitle('Percentage of Emotions in Train, Test, and Validation Datasets')\n",
        "  plt.tight_layout(rect=[0, 0, 1, 0.95])\n",
        "  plt.show()"
      ],
      "metadata": {
        "id": "_oJj1875Rh56"
      },
      "execution_count": 49,
      "outputs": []
    },
    {
      "cell_type": "markdown",
      "source": [
        "#### Data loading and preprocessing:"
      ],
      "metadata": {
        "id": "gUa5nz6kyR1m"
      }
    },
    {
      "cell_type": "markdown",
      "source": [
        "##### RAVDESS data loading:"
      ],
      "metadata": {
        "id": "9rFkBNxfxQyD"
      }
    },
    {
      "cell_type": "code",
      "source": [
        "# Assign the Kaggle data set URL into variable\n",
        "ravdess_dataset = 'https://www.kaggle.com/datasets/uwrfkaggler/ravdess-emotional-speech-audio/data'\n",
        "# Using opendatasets let's download the data sets\n",
        "od.download(ravdess_dataset, force=True)"
      ],
      "metadata": {
        "colab": {
          "base_uri": "https://localhost:8080/"
        },
        "id": "_vZYA9_IBqGa",
        "outputId": "2d2d12b8-4a05-454a-b134-88c484b9ccd7"
      },
      "execution_count": 8,
      "outputs": [
        {
          "output_type": "stream",
          "name": "stdout",
          "text": [
            "Please provide your Kaggle credentials to download this dataset. Learn more: http://bit.ly/kaggle-creds\n",
            "Your Kaggle username: khrystynadolynska\n",
            "Your Kaggle Key: ··········\n",
            "Dataset URL: https://www.kaggle.com/datasets/uwrfkaggler/ravdess-emotional-speech-audio\n",
            "Downloading ravdess-emotional-speech-audio.zip to ./ravdess-emotional-speech-audio\n"
          ]
        },
        {
          "output_type": "stream",
          "name": "stderr",
          "text": [
            "100%|██████████| 429M/429M [00:00<00:00, 523MB/s]\n"
          ]
        },
        {
          "output_type": "stream",
          "name": "stdout",
          "text": [
            "\n"
          ]
        }
      ]
    },
    {
      "cell_type": "code",
      "source": [
        "ravdess_data_dir = './ravdess-emotional-speech-audio'\n",
        "ravdess_content_list = os.listdir(ravdess_data_dir)\n",
        "ravdess_content_list"
      ],
      "metadata": {
        "colab": {
          "base_uri": "https://localhost:8080/"
        },
        "collapsed": true,
        "id": "Y040iGnCCLYb",
        "outputId": "d5cb920e-7cce-4642-efa4-f83faa24621d"
      },
      "execution_count": 9,
      "outputs": [
        {
          "output_type": "execute_result",
          "data": {
            "text/plain": [
              "['Actor_10',\n",
              " 'Actor_19',\n",
              " 'Actor_08',\n",
              " 'Actor_17',\n",
              " 'Actor_22',\n",
              " 'Actor_11',\n",
              " 'Actor_15',\n",
              " 'Actor_07',\n",
              " 'Actor_04',\n",
              " 'Actor_12',\n",
              " 'Actor_03',\n",
              " 'Actor_21',\n",
              " 'Actor_06',\n",
              " 'Actor_16',\n",
              " 'Actor_01',\n",
              " 'Actor_02',\n",
              " 'Actor_23',\n",
              " 'Actor_24',\n",
              " 'Actor_18',\n",
              " 'Actor_20',\n",
              " 'Actor_13',\n",
              " 'Actor_14',\n",
              " 'Actor_09',\n",
              " 'audio_speech_actors_01-24',\n",
              " 'Actor_05']"
            ]
          },
          "metadata": {},
          "execution_count": 9
        }
      ]
    },
    {
      "cell_type": "code",
      "source": [
        "ravdess_content_list.remove('audio_speech_actors_01-24')\n",
        "# content_list"
      ],
      "metadata": {
        "id": "y3tpNksCCXgl"
      },
      "execution_count": 10,
      "outputs": []
    },
    {
      "cell_type": "code",
      "source": [
        "ravdess_label_to_char = {\n",
        "    'modality': {\n",
        "        1: \"full-AV\",\n",
        "        2: \"video-only\",\n",
        "        3: \"audio-only\"\n",
        "    },\n",
        "    'vocal_channel': {\n",
        "        1: \"speech\",\n",
        "        2: \"song\"\n",
        "    },\n",
        "    'emotion': {\n",
        "        1: \"neutral\",\n",
        "        2: \"calm\",\n",
        "        3: \"happy\",\n",
        "        4: \"sad\",\n",
        "        5: \"angry\",\n",
        "        6: \"fearful\",\n",
        "        7: \"disgust\",\n",
        "        8: \"surprised\"\n",
        "    },\n",
        "    'emotional_intensity': {\n",
        "        1: \"normal\",\n",
        "        2: \"strong\"\n",
        "    },\n",
        "    'statement': {\n",
        "        1: \"Kids are talking by the door\",\n",
        "        2: \"Dogs are sitting by the door\"\n",
        "    },\n",
        "    'repetition': {\n",
        "        1: \"1st repetition\",\n",
        "        2: \"2nd repetition\"\n",
        "    },\n",
        "    # 'Actor': parts[6],\n",
        "    'gender': {\n",
        "        1: \"Male\",\n",
        "        2: \"Female\"\n",
        "    }\n",
        "}\n",
        "\n",
        "ravdess_char_to_label = {\n",
        "    'modality': {\n",
        "        \"full-AV\": 1,\n",
        "        \"video-only\": 2,\n",
        "        \"audio-only\": 3\n",
        "    },\n",
        "    'vocal_channel': {\n",
        "        \"speech\": 1,\n",
        "        \"song\": 2\n",
        "    },\n",
        "    'emotion': {\n",
        "        \"neutral\": 1,\n",
        "        \"calm\": 2,\n",
        "        \"happy\": 3,\n",
        "        \"sad\": 4,\n",
        "        \"angry\": 5,\n",
        "        \"fearful\": 6,\n",
        "        \"disgust\": 7,\n",
        "        \"surprised\": 8\n",
        "    },\n",
        "    'emotional_intensity': {\n",
        "        \"normal\": 1,\n",
        "        \"strong\": 2\n",
        "    },\n",
        "    'statement': {\n",
        "        \"Kids are talking by the door\": 1,\n",
        "        \"Dogs are sitting by the door\": 2\n",
        "    },\n",
        "    'repetition': {\n",
        "        \"1st repetition\": 1,\n",
        "        \"2nd repetition\": 2\n",
        "    },\n",
        "    # 'Actor': parts[6],\n",
        "    'gender': {\n",
        "        \"Male\": 1,\n",
        "        \"Female\": 2\n",
        "    }\n",
        "}\n",
        "\n",
        "ravdess_label_convert = {\n",
        "    'LABEL_0': \"neutral\",\n",
        "    'LABEL_1': \"calm\",\n",
        "    'LABEL_2': \"happy\",\n",
        "    'LABEL_3': \"sad\",\n",
        "    'LABEL_4': \"angry\",\n",
        "    'LABEL_5': \"fearful\",\n",
        "    'LABEL_6': \"disgust\",\n",
        "    'LABEL_7': \"surprised\"\n",
        "}"
      ],
      "metadata": {
        "id": "ZCXaxRPUCaMl"
      },
      "execution_count": 11,
      "outputs": []
    },
    {
      "cell_type": "code",
      "source": [
        "# !rm -r ./ravdess_train_dataset\n",
        "# !rm -r ./ravdess_val_dataset\n",
        "# !rm -r ./ravdess_test_dataset"
      ],
      "metadata": {
        "id": "AhpBrfpNSGAg"
      },
      "execution_count": 12,
      "outputs": []
    },
    {
      "cell_type": "markdown",
      "source": [
        "##### RAVDESS data preprocessing:"
      ],
      "metadata": {
        "id": "wTAzvXlkJL3u"
      }
    },
    {
      "cell_type": "code",
      "source": [
        "ravdess_data_dir = './ravdess-emotional-speech-audio'\n",
        "ravdess_train_dir = './ravdess_train_dataset'\n",
        "ravdess_val_dir = './ravdess_val_dataset'\n",
        "ravdess_test_dir = './ravdess_test_dataset'\n",
        "\n",
        "os.makedirs(ravdess_train_dir, exist_ok=True)\n",
        "os.makedirs(ravdess_val_dir, exist_ok=True)\n",
        "os.makedirs(ravdess_test_dir, exist_ok=True)"
      ],
      "metadata": {
        "id": "m3Z1c38PJL33"
      },
      "execution_count": 13,
      "outputs": []
    },
    {
      "cell_type": "code",
      "source": [
        "ravdess_content_list = [folder for folder in os.listdir(ravdess_data_dir) if os.path.isdir(os.path.join(ravdess_data_dir, folder))]\n",
        "ravdess_content_list.remove('audio_speech_actors_01-24')\n",
        "ravdess_content_list"
      ],
      "metadata": {
        "collapsed": true,
        "id": "i4iVef4nJL33",
        "colab": {
          "base_uri": "https://localhost:8080/"
        },
        "outputId": "f891d6ca-dfdf-4515-ee22-35c31bb3ae87"
      },
      "execution_count": 14,
      "outputs": [
        {
          "output_type": "execute_result",
          "data": {
            "text/plain": [
              "['Actor_10',\n",
              " 'Actor_19',\n",
              " 'Actor_08',\n",
              " 'Actor_17',\n",
              " 'Actor_22',\n",
              " 'Actor_11',\n",
              " 'Actor_15',\n",
              " 'Actor_07',\n",
              " 'Actor_04',\n",
              " 'Actor_12',\n",
              " 'Actor_03',\n",
              " 'Actor_21',\n",
              " 'Actor_06',\n",
              " 'Actor_16',\n",
              " 'Actor_01',\n",
              " 'Actor_02',\n",
              " 'Actor_23',\n",
              " 'Actor_24',\n",
              " 'Actor_18',\n",
              " 'Actor_20',\n",
              " 'Actor_13',\n",
              " 'Actor_14',\n",
              " 'Actor_09',\n",
              " 'Actor_05']"
            ]
          },
          "metadata": {},
          "execution_count": 14
        }
      ]
    },
    {
      "cell_type": "code",
      "source": [
        "test_samples = 1\n",
        "val_samples = 1\n",
        "train_samples = 11\n",
        "\n",
        "train_male = train_female = 0\n",
        "val_male = val_female = 0\n",
        "test_male = test_female = 0\n",
        "\n",
        "train_actors, val_actors, test_actors = [], [], []\n",
        "random.shuffle(ravdess_content_list)\n",
        "\n",
        "for item in ravdess_content_list:\n",
        "  name_items = item.split('_')\n",
        "  actor_id = int(name_items[1])\n",
        "\n",
        "  if actor_id % 2 == 0:  # female\n",
        "    if test_female < test_samples:\n",
        "      test_actors.append(item)\n",
        "      test_female += 1\n",
        "    elif val_female < val_samples:\n",
        "      val_actors.append(item)\n",
        "      val_female += 1\n",
        "    elif train_female < train_samples:\n",
        "      train_actors.append(item)\n",
        "      train_female += 1\n",
        "  else:  # male\n",
        "    if test_male < test_samples:\n",
        "      test_actors.append(item)\n",
        "      test_male += 1\n",
        "    elif val_male < val_samples:\n",
        "      val_actors.append(item)\n",
        "      val_male += 1\n",
        "    elif train_male < train_samples:\n",
        "      train_actors.append(item)\n",
        "      train_male += 1\n",
        "\n",
        "print(f\"Train actors ({len(train_actors)}): {train_actors}\")\n",
        "print(f\"Validation actors ({len(val_actors)}): {val_actors}\")\n",
        "print(f\"Test actors ({len(test_actors)}): {test_actors}\")"
      ],
      "metadata": {
        "colab": {
          "base_uri": "https://localhost:8080/"
        },
        "outputId": "6b3b0b87-f75e-4a1b-938c-307c62b57c7b",
        "collapsed": true,
        "id": "d_Ikp4vHJL33"
      },
      "execution_count": 15,
      "outputs": [
        {
          "output_type": "stream",
          "name": "stdout",
          "text": [
            "Train actors (20): ['Actor_08', 'Actor_05', 'Actor_22', 'Actor_06', 'Actor_09', 'Actor_18', 'Actor_12', 'Actor_21', 'Actor_14', 'Actor_01', 'Actor_20', 'Actor_24', 'Actor_13', 'Actor_02', 'Actor_03', 'Actor_04', 'Actor_23', 'Actor_07', 'Actor_15', 'Actor_19']\n",
            "Validation actors (2): ['Actor_10', 'Actor_17']\n",
            "Test actors (2): ['Actor_11', 'Actor_16']\n"
          ]
        }
      ]
    },
    {
      "cell_type": "code",
      "source": [
        "def copy_directory(src, dst):\n",
        "  if os.path.exists(dst):\n",
        "    shutil.rmtree(dst)\n",
        "  shutil.copytree(src, dst)\n",
        "\n",
        "for actor_folder in ravdess_content_list:\n",
        "  source_path = os.path.join(ravdess_data_dir, actor_folder)\n",
        "  if actor_folder in test_actors:\n",
        "    destination_path = os.path.join(ravdess_test_dir, actor_folder)\n",
        "  elif actor_folder in val_actors:\n",
        "    destination_path = os.path.join(ravdess_val_dir, actor_folder)\n",
        "  elif actor_folder in train_actors:\n",
        "    destination_path = os.path.join(ravdess_train_dir, actor_folder)\n",
        "  else:\n",
        "    continue\n",
        "  copy_directory(source_path, destination_path)"
      ],
      "metadata": {
        "id": "rx1Dwejn1PMH"
      },
      "execution_count": 16,
      "outputs": []
    },
    {
      "cell_type": "code",
      "source": [
        "def extract_labels(filename):\n",
        "  parts = os.path.splitext(filename)[0].split('-')\n",
        "  return {\n",
        "    'modality': ravdess_char_to_label['modality'][parts[0]],\n",
        "    'vocal_channel': ravdess_char_to_label['vocal_channel'][parts[1]],\n",
        "    'emotion': ravdess_char_to_label['emotion'][parts[2]],\n",
        "    'emotional_intensity': ravdess_char_to_label['emotional_intensity'][parts[3]],\n",
        "    'statement': ravdess_char_to_label['statement'][parts[4]],\n",
        "    'repetition': ravdess_char_to_label['repetition'][parts[5]],\n",
        "    'actor': int(parts[6]),\n",
        "    'gender': ravdess_char_to_label['gender'][2] if int(parts[6]) % 2 == 0 else ravdess_char_to_label['gender'][1]\n",
        "  }\n",
        "\n",
        "def extract_chars(filename):\n",
        "  parts = os.path.splitext(filename)[0].split('-')\n",
        "  int_parts = [int(part) for part in parts]\n",
        "  return {\n",
        "    'modality': ravdess_label_to_char['modality'][int_parts[0]],\n",
        "    'vocal_channel': ravdess_label_to_char['vocal_channel'][int_parts[1]],\n",
        "    'emotion': ravdess_label_to_char['emotion'][int_parts[2]],\n",
        "    'emotional_intensity': ravdess_label_to_char['emotional_intensity'][int_parts[3]],\n",
        "    'statement': ravdess_label_to_char['statement'][int_parts[4]],\n",
        "    'repetition': ravdess_label_to_char['repetition'][int_parts[5]],\n",
        "    'actor': int_parts[6],\n",
        "    'gender': ravdess_label_to_char['gender'][2] if int_parts[6] % 2 == 0 else ravdess_label_to_char['gender'][1]\n",
        "  }\n",
        "\n",
        "def create_ravdess_df(data_dir):\n",
        "  audio_files = []\n",
        "  metadata = []\n",
        "\n",
        "  for root, _, files in os.walk(data_dir):\n",
        "    for file in files:\n",
        "      if file.endswith(\".wav\"):\n",
        "        audio_files.append(os.path.join(root, file))\n",
        "        metadata.append(extract_chars(file))\n",
        "\n",
        "  df = pd.DataFrame(metadata)\n",
        "  df.columns = df.columns.map(str).str.lower()\n",
        "\n",
        "  for col in ['modality', 'vocal_channel', 'emotion',\n",
        "              'emotional_intensity', 'statement', 'repetition', 'gender']:\n",
        "    df[col] = df[col].astype(str)\n",
        "\n",
        "  df['actor'] = df['actor'].astype(int)\n",
        "  # df['emotion_label'] = df['emotion'].map(ravdess_char_to_label['emotion'])\n",
        "  df['emotion_label'] = df['emotion'].map(ravdess_char_to_label['emotion'])\n",
        "  df.insert(0, 'file_path', audio_files)\n",
        "  return df"
      ],
      "metadata": {
        "id": "mrP7B_1h1ZTf"
      },
      "execution_count": 17,
      "outputs": []
    },
    {
      "cell_type": "code",
      "source": [
        "ravdess_train_df = create_ravdess_df(ravdess_train_dir)\n",
        "ravdess_val_df = create_ravdess_df(ravdess_val_dir)\n",
        "ravdess_test_df = create_ravdess_df(ravdess_test_dir)"
      ],
      "metadata": {
        "id": "dyCY0i0m1Z7T"
      },
      "execution_count": 18,
      "outputs": []
    },
    {
      "cell_type": "code",
      "source": [
        "print(\"Train dataset:\")\n",
        "ravdess_train_df.head()"
      ],
      "metadata": {
        "colab": {
          "base_uri": "https://localhost:8080/",
          "height": 224
        },
        "outputId": "43180662-04e3-4fcf-ffd8-25fa75e72b39",
        "id": "vxOw8yGPJL34",
        "collapsed": true
      },
      "execution_count": 19,
      "outputs": [
        {
          "output_type": "stream",
          "name": "stdout",
          "text": [
            "Train dataset:\n"
          ]
        },
        {
          "output_type": "execute_result",
          "data": {
            "text/plain": [
              "                                           file_path    modality  \\\n",
              "0  ./ravdess_train_dataset/Actor_19/03-01-04-02-0...  audio-only   \n",
              "1  ./ravdess_train_dataset/Actor_19/03-01-01-01-0...  audio-only   \n",
              "2  ./ravdess_train_dataset/Actor_19/03-01-04-02-0...  audio-only   \n",
              "3  ./ravdess_train_dataset/Actor_19/03-01-05-01-0...  audio-only   \n",
              "4  ./ravdess_train_dataset/Actor_19/03-01-02-01-0...  audio-only   \n",
              "\n",
              "  vocal_channel  emotion emotional_intensity                     statement  \\\n",
              "0        speech      sad              strong  Kids are talking by the door   \n",
              "1        speech  neutral              normal  Kids are talking by the door   \n",
              "2        speech      sad              strong  Kids are talking by the door   \n",
              "3        speech    angry              normal  Kids are talking by the door   \n",
              "4        speech     calm              normal  Dogs are sitting by the door   \n",
              "\n",
              "       repetition  actor gender  emotion_label  \n",
              "0  2nd repetition     19   Male              4  \n",
              "1  2nd repetition     19   Male              1  \n",
              "2  1st repetition     19   Male              4  \n",
              "3  1st repetition     19   Male              5  \n",
              "4  1st repetition     19   Male              2  "
            ],
            "text/html": [
              "\n",
              "  <div id=\"df-3ff93cd9-8ed3-4e33-8424-a1374c8574fb\" class=\"colab-df-container\">\n",
              "    <div>\n",
              "<style scoped>\n",
              "    .dataframe tbody tr th:only-of-type {\n",
              "        vertical-align: middle;\n",
              "    }\n",
              "\n",
              "    .dataframe tbody tr th {\n",
              "        vertical-align: top;\n",
              "    }\n",
              "\n",
              "    .dataframe thead th {\n",
              "        text-align: right;\n",
              "    }\n",
              "</style>\n",
              "<table border=\"1\" class=\"dataframe\">\n",
              "  <thead>\n",
              "    <tr style=\"text-align: right;\">\n",
              "      <th></th>\n",
              "      <th>file_path</th>\n",
              "      <th>modality</th>\n",
              "      <th>vocal_channel</th>\n",
              "      <th>emotion</th>\n",
              "      <th>emotional_intensity</th>\n",
              "      <th>statement</th>\n",
              "      <th>repetition</th>\n",
              "      <th>actor</th>\n",
              "      <th>gender</th>\n",
              "      <th>emotion_label</th>\n",
              "    </tr>\n",
              "  </thead>\n",
              "  <tbody>\n",
              "    <tr>\n",
              "      <th>0</th>\n",
              "      <td>./ravdess_train_dataset/Actor_19/03-01-04-02-0...</td>\n",
              "      <td>audio-only</td>\n",
              "      <td>speech</td>\n",
              "      <td>sad</td>\n",
              "      <td>strong</td>\n",
              "      <td>Kids are talking by the door</td>\n",
              "      <td>2nd repetition</td>\n",
              "      <td>19</td>\n",
              "      <td>Male</td>\n",
              "      <td>4</td>\n",
              "    </tr>\n",
              "    <tr>\n",
              "      <th>1</th>\n",
              "      <td>./ravdess_train_dataset/Actor_19/03-01-01-01-0...</td>\n",
              "      <td>audio-only</td>\n",
              "      <td>speech</td>\n",
              "      <td>neutral</td>\n",
              "      <td>normal</td>\n",
              "      <td>Kids are talking by the door</td>\n",
              "      <td>2nd repetition</td>\n",
              "      <td>19</td>\n",
              "      <td>Male</td>\n",
              "      <td>1</td>\n",
              "    </tr>\n",
              "    <tr>\n",
              "      <th>2</th>\n",
              "      <td>./ravdess_train_dataset/Actor_19/03-01-04-02-0...</td>\n",
              "      <td>audio-only</td>\n",
              "      <td>speech</td>\n",
              "      <td>sad</td>\n",
              "      <td>strong</td>\n",
              "      <td>Kids are talking by the door</td>\n",
              "      <td>1st repetition</td>\n",
              "      <td>19</td>\n",
              "      <td>Male</td>\n",
              "      <td>4</td>\n",
              "    </tr>\n",
              "    <tr>\n",
              "      <th>3</th>\n",
              "      <td>./ravdess_train_dataset/Actor_19/03-01-05-01-0...</td>\n",
              "      <td>audio-only</td>\n",
              "      <td>speech</td>\n",
              "      <td>angry</td>\n",
              "      <td>normal</td>\n",
              "      <td>Kids are talking by the door</td>\n",
              "      <td>1st repetition</td>\n",
              "      <td>19</td>\n",
              "      <td>Male</td>\n",
              "      <td>5</td>\n",
              "    </tr>\n",
              "    <tr>\n",
              "      <th>4</th>\n",
              "      <td>./ravdess_train_dataset/Actor_19/03-01-02-01-0...</td>\n",
              "      <td>audio-only</td>\n",
              "      <td>speech</td>\n",
              "      <td>calm</td>\n",
              "      <td>normal</td>\n",
              "      <td>Dogs are sitting by the door</td>\n",
              "      <td>1st repetition</td>\n",
              "      <td>19</td>\n",
              "      <td>Male</td>\n",
              "      <td>2</td>\n",
              "    </tr>\n",
              "  </tbody>\n",
              "</table>\n",
              "</div>\n",
              "    <div class=\"colab-df-buttons\">\n",
              "\n",
              "  <div class=\"colab-df-container\">\n",
              "    <button class=\"colab-df-convert\" onclick=\"convertToInteractive('df-3ff93cd9-8ed3-4e33-8424-a1374c8574fb')\"\n",
              "            title=\"Convert this dataframe to an interactive table.\"\n",
              "            style=\"display:none;\">\n",
              "\n",
              "  <svg xmlns=\"http://www.w3.org/2000/svg\" height=\"24px\" viewBox=\"0 -960 960 960\">\n",
              "    <path d=\"M120-120v-720h720v720H120Zm60-500h600v-160H180v160Zm220 220h160v-160H400v160Zm0 220h160v-160H400v160ZM180-400h160v-160H180v160Zm440 0h160v-160H620v160ZM180-180h160v-160H180v160Zm440 0h160v-160H620v160Z\"/>\n",
              "  </svg>\n",
              "    </button>\n",
              "\n",
              "  <style>\n",
              "    .colab-df-container {\n",
              "      display:flex;\n",
              "      gap: 12px;\n",
              "    }\n",
              "\n",
              "    .colab-df-convert {\n",
              "      background-color: #E8F0FE;\n",
              "      border: none;\n",
              "      border-radius: 50%;\n",
              "      cursor: pointer;\n",
              "      display: none;\n",
              "      fill: #1967D2;\n",
              "      height: 32px;\n",
              "      padding: 0 0 0 0;\n",
              "      width: 32px;\n",
              "    }\n",
              "\n",
              "    .colab-df-convert:hover {\n",
              "      background-color: #E2EBFA;\n",
              "      box-shadow: 0px 1px 2px rgba(60, 64, 67, 0.3), 0px 1px 3px 1px rgba(60, 64, 67, 0.15);\n",
              "      fill: #174EA6;\n",
              "    }\n",
              "\n",
              "    .colab-df-buttons div {\n",
              "      margin-bottom: 4px;\n",
              "    }\n",
              "\n",
              "    [theme=dark] .colab-df-convert {\n",
              "      background-color: #3B4455;\n",
              "      fill: #D2E3FC;\n",
              "    }\n",
              "\n",
              "    [theme=dark] .colab-df-convert:hover {\n",
              "      background-color: #434B5C;\n",
              "      box-shadow: 0px 1px 3px 1px rgba(0, 0, 0, 0.15);\n",
              "      filter: drop-shadow(0px 1px 2px rgba(0, 0, 0, 0.3));\n",
              "      fill: #FFFFFF;\n",
              "    }\n",
              "  </style>\n",
              "\n",
              "    <script>\n",
              "      const buttonEl =\n",
              "        document.querySelector('#df-3ff93cd9-8ed3-4e33-8424-a1374c8574fb button.colab-df-convert');\n",
              "      buttonEl.style.display =\n",
              "        google.colab.kernel.accessAllowed ? 'block' : 'none';\n",
              "\n",
              "      async function convertToInteractive(key) {\n",
              "        const element = document.querySelector('#df-3ff93cd9-8ed3-4e33-8424-a1374c8574fb');\n",
              "        const dataTable =\n",
              "          await google.colab.kernel.invokeFunction('convertToInteractive',\n",
              "                                                    [key], {});\n",
              "        if (!dataTable) return;\n",
              "\n",
              "        const docLinkHtml = 'Like what you see? Visit the ' +\n",
              "          '<a target=\"_blank\" href=https://colab.research.google.com/notebooks/data_table.ipynb>data table notebook</a>'\n",
              "          + ' to learn more about interactive tables.';\n",
              "        element.innerHTML = '';\n",
              "        dataTable['output_type'] = 'display_data';\n",
              "        await google.colab.output.renderOutput(dataTable, element);\n",
              "        const docLink = document.createElement('div');\n",
              "        docLink.innerHTML = docLinkHtml;\n",
              "        element.appendChild(docLink);\n",
              "      }\n",
              "    </script>\n",
              "  </div>\n",
              "\n",
              "\n",
              "    <div id=\"df-63282028-9c3f-4d50-b4ec-1061711ab951\">\n",
              "      <button class=\"colab-df-quickchart\" onclick=\"quickchart('df-63282028-9c3f-4d50-b4ec-1061711ab951')\"\n",
              "                title=\"Suggest charts\"\n",
              "                style=\"display:none;\">\n",
              "\n",
              "<svg xmlns=\"http://www.w3.org/2000/svg\" height=\"24px\"viewBox=\"0 0 24 24\"\n",
              "     width=\"24px\">\n",
              "    <g>\n",
              "        <path d=\"M19 3H5c-1.1 0-2 .9-2 2v14c0 1.1.9 2 2 2h14c1.1 0 2-.9 2-2V5c0-1.1-.9-2-2-2zM9 17H7v-7h2v7zm4 0h-2V7h2v10zm4 0h-2v-4h2v4z\"/>\n",
              "    </g>\n",
              "</svg>\n",
              "      </button>\n",
              "\n",
              "<style>\n",
              "  .colab-df-quickchart {\n",
              "      --bg-color: #E8F0FE;\n",
              "      --fill-color: #1967D2;\n",
              "      --hover-bg-color: #E2EBFA;\n",
              "      --hover-fill-color: #174EA6;\n",
              "      --disabled-fill-color: #AAA;\n",
              "      --disabled-bg-color: #DDD;\n",
              "  }\n",
              "\n",
              "  [theme=dark] .colab-df-quickchart {\n",
              "      --bg-color: #3B4455;\n",
              "      --fill-color: #D2E3FC;\n",
              "      --hover-bg-color: #434B5C;\n",
              "      --hover-fill-color: #FFFFFF;\n",
              "      --disabled-bg-color: #3B4455;\n",
              "      --disabled-fill-color: #666;\n",
              "  }\n",
              "\n",
              "  .colab-df-quickchart {\n",
              "    background-color: var(--bg-color);\n",
              "    border: none;\n",
              "    border-radius: 50%;\n",
              "    cursor: pointer;\n",
              "    display: none;\n",
              "    fill: var(--fill-color);\n",
              "    height: 32px;\n",
              "    padding: 0;\n",
              "    width: 32px;\n",
              "  }\n",
              "\n",
              "  .colab-df-quickchart:hover {\n",
              "    background-color: var(--hover-bg-color);\n",
              "    box-shadow: 0 1px 2px rgba(60, 64, 67, 0.3), 0 1px 3px 1px rgba(60, 64, 67, 0.15);\n",
              "    fill: var(--button-hover-fill-color);\n",
              "  }\n",
              "\n",
              "  .colab-df-quickchart-complete:disabled,\n",
              "  .colab-df-quickchart-complete:disabled:hover {\n",
              "    background-color: var(--disabled-bg-color);\n",
              "    fill: var(--disabled-fill-color);\n",
              "    box-shadow: none;\n",
              "  }\n",
              "\n",
              "  .colab-df-spinner {\n",
              "    border: 2px solid var(--fill-color);\n",
              "    border-color: transparent;\n",
              "    border-bottom-color: var(--fill-color);\n",
              "    animation:\n",
              "      spin 1s steps(1) infinite;\n",
              "  }\n",
              "\n",
              "  @keyframes spin {\n",
              "    0% {\n",
              "      border-color: transparent;\n",
              "      border-bottom-color: var(--fill-color);\n",
              "      border-left-color: var(--fill-color);\n",
              "    }\n",
              "    20% {\n",
              "      border-color: transparent;\n",
              "      border-left-color: var(--fill-color);\n",
              "      border-top-color: var(--fill-color);\n",
              "    }\n",
              "    30% {\n",
              "      border-color: transparent;\n",
              "      border-left-color: var(--fill-color);\n",
              "      border-top-color: var(--fill-color);\n",
              "      border-right-color: var(--fill-color);\n",
              "    }\n",
              "    40% {\n",
              "      border-color: transparent;\n",
              "      border-right-color: var(--fill-color);\n",
              "      border-top-color: var(--fill-color);\n",
              "    }\n",
              "    60% {\n",
              "      border-color: transparent;\n",
              "      border-right-color: var(--fill-color);\n",
              "    }\n",
              "    80% {\n",
              "      border-color: transparent;\n",
              "      border-right-color: var(--fill-color);\n",
              "      border-bottom-color: var(--fill-color);\n",
              "    }\n",
              "    90% {\n",
              "      border-color: transparent;\n",
              "      border-bottom-color: var(--fill-color);\n",
              "    }\n",
              "  }\n",
              "</style>\n",
              "\n",
              "      <script>\n",
              "        async function quickchart(key) {\n",
              "          const quickchartButtonEl =\n",
              "            document.querySelector('#' + key + ' button');\n",
              "          quickchartButtonEl.disabled = true;  // To prevent multiple clicks.\n",
              "          quickchartButtonEl.classList.add('colab-df-spinner');\n",
              "          try {\n",
              "            const charts = await google.colab.kernel.invokeFunction(\n",
              "                'suggestCharts', [key], {});\n",
              "          } catch (error) {\n",
              "            console.error('Error during call to suggestCharts:', error);\n",
              "          }\n",
              "          quickchartButtonEl.classList.remove('colab-df-spinner');\n",
              "          quickchartButtonEl.classList.add('colab-df-quickchart-complete');\n",
              "        }\n",
              "        (() => {\n",
              "          let quickchartButtonEl =\n",
              "            document.querySelector('#df-63282028-9c3f-4d50-b4ec-1061711ab951 button');\n",
              "          quickchartButtonEl.style.display =\n",
              "            google.colab.kernel.accessAllowed ? 'block' : 'none';\n",
              "        })();\n",
              "      </script>\n",
              "    </div>\n",
              "    </div>\n",
              "  </div>\n"
            ],
            "application/vnd.google.colaboratory.intrinsic+json": {
              "type": "dataframe",
              "variable_name": "ravdess_train_df",
              "summary": "{\n  \"name\": \"ravdess_train_df\",\n  \"rows\": 1200,\n  \"fields\": [\n    {\n      \"column\": \"file_path\",\n      \"properties\": {\n        \"dtype\": \"string\",\n        \"num_unique_values\": 1200,\n        \"samples\": [\n          \"./ravdess_train_dataset/Actor_05/03-01-03-01-01-02-05.wav\",\n          \"./ravdess_train_dataset/Actor_18/03-01-02-02-01-02-18.wav\",\n          \"./ravdess_train_dataset/Actor_08/03-01-03-02-01-01-08.wav\"\n        ],\n        \"semantic_type\": \"\",\n        \"description\": \"\"\n      }\n    },\n    {\n      \"column\": \"modality\",\n      \"properties\": {\n        \"dtype\": \"category\",\n        \"num_unique_values\": 1,\n        \"samples\": [\n          \"audio-only\"\n        ],\n        \"semantic_type\": \"\",\n        \"description\": \"\"\n      }\n    },\n    {\n      \"column\": \"vocal_channel\",\n      \"properties\": {\n        \"dtype\": \"category\",\n        \"num_unique_values\": 1,\n        \"samples\": [\n          \"speech\"\n        ],\n        \"semantic_type\": \"\",\n        \"description\": \"\"\n      }\n    },\n    {\n      \"column\": \"emotion\",\n      \"properties\": {\n        \"dtype\": \"category\",\n        \"num_unique_values\": 8,\n        \"samples\": [\n          \"neutral\"\n        ],\n        \"semantic_type\": \"\",\n        \"description\": \"\"\n      }\n    },\n    {\n      \"column\": \"emotional_intensity\",\n      \"properties\": {\n        \"dtype\": \"category\",\n        \"num_unique_values\": 2,\n        \"samples\": [\n          \"normal\"\n        ],\n        \"semantic_type\": \"\",\n        \"description\": \"\"\n      }\n    },\n    {\n      \"column\": \"statement\",\n      \"properties\": {\n        \"dtype\": \"category\",\n        \"num_unique_values\": 2,\n        \"samples\": [\n          \"Dogs are sitting by the door\"\n        ],\n        \"semantic_type\": \"\",\n        \"description\": \"\"\n      }\n    },\n    {\n      \"column\": \"repetition\",\n      \"properties\": {\n        \"dtype\": \"category\",\n        \"num_unique_values\": 2,\n        \"samples\": [\n          \"1st repetition\"\n        ],\n        \"semantic_type\": \"\",\n        \"description\": \"\"\n      }\n    },\n    {\n      \"column\": \"actor\",\n      \"properties\": {\n        \"dtype\": \"number\",\n        \"std\": 7,\n        \"min\": 1,\n        \"max\": 24,\n        \"num_unique_values\": 20,\n        \"samples\": [\n          19\n        ],\n        \"semantic_type\": \"\",\n        \"description\": \"\"\n      }\n    },\n    {\n      \"column\": \"gender\",\n      \"properties\": {\n        \"dtype\": \"category\",\n        \"num_unique_values\": 2,\n        \"samples\": [\n          \"Female\"\n        ],\n        \"semantic_type\": \"\",\n        \"description\": \"\"\n      }\n    },\n    {\n      \"column\": \"emotion_label\",\n      \"properties\": {\n        \"dtype\": \"number\",\n        \"std\": 2,\n        \"min\": 1,\n        \"max\": 8,\n        \"num_unique_values\": 8,\n        \"samples\": [\n          1\n        ],\n        \"semantic_type\": \"\",\n        \"description\": \"\"\n      }\n    }\n  ]\n}"
            }
          },
          "metadata": {},
          "execution_count": 19
        }
      ]
    },
    {
      "cell_type": "code",
      "source": [
        "def remove_calm_and_remap(df):\n",
        "  df = df[df['emotion'] != 'calm'].copy()\n",
        "\n",
        "  old_labels = sorted(df['emotion_label'].unique())\n",
        "  new_label_map = {old: new for new, old in enumerate(old_labels)}\n",
        "\n",
        "  df['emotion_label'] = df['emotion_label'].map(new_label_map)\n",
        "\n",
        "  return df"
      ],
      "metadata": {
        "id": "Fk6zrPwenUHL"
      },
      "execution_count": 22,
      "outputs": []
    },
    {
      "cell_type": "code",
      "source": [
        "ravdess_train_df = remove_calm_and_remap(ravdess_train_df)\n",
        "ravdess_val_df = remove_calm_and_remap(ravdess_val_df)\n",
        "ravdess_test_df = remove_calm_and_remap(ravdess_test_df)"
      ],
      "metadata": {
        "id": "0b-YUuVdnYLg"
      },
      "execution_count": 23,
      "outputs": []
    },
    {
      "cell_type": "code",
      "source": [
        "print(\"Train dataset:\")\n",
        "ravdess_train_df.head()"
      ],
      "metadata": {
        "colab": {
          "base_uri": "https://localhost:8080/",
          "height": 224
        },
        "id": "wAU7WwPVncRN",
        "outputId": "b10a4f78-7dc3-4f82-be48-f351974a9824"
      },
      "execution_count": 24,
      "outputs": [
        {
          "output_type": "stream",
          "name": "stdout",
          "text": [
            "Train dataset:\n"
          ]
        },
        {
          "output_type": "execute_result",
          "data": {
            "text/plain": [
              "                                           file_path    modality  \\\n",
              "0  ./ravdess_train_dataset/Actor_19/03-01-04-02-0...  audio-only   \n",
              "1  ./ravdess_train_dataset/Actor_19/03-01-01-01-0...  audio-only   \n",
              "2  ./ravdess_train_dataset/Actor_19/03-01-04-02-0...  audio-only   \n",
              "3  ./ravdess_train_dataset/Actor_19/03-01-05-01-0...  audio-only   \n",
              "5  ./ravdess_train_dataset/Actor_19/03-01-05-01-0...  audio-only   \n",
              "\n",
              "  vocal_channel  emotion emotional_intensity                     statement  \\\n",
              "0        speech      sad              strong  Kids are talking by the door   \n",
              "1        speech  neutral              normal  Kids are talking by the door   \n",
              "2        speech      sad              strong  Kids are talking by the door   \n",
              "3        speech    angry              normal  Kids are talking by the door   \n",
              "5        speech    angry              normal  Dogs are sitting by the door   \n",
              "\n",
              "       repetition  actor gender  emotion_label  \n",
              "0  2nd repetition     19   Male              2  \n",
              "1  2nd repetition     19   Male              0  \n",
              "2  1st repetition     19   Male              2  \n",
              "3  1st repetition     19   Male              3  \n",
              "5  1st repetition     19   Male              3  "
            ],
            "text/html": [
              "\n",
              "  <div id=\"df-223db6b2-5a33-432d-951a-23e5cb350e02\" class=\"colab-df-container\">\n",
              "    <div>\n",
              "<style scoped>\n",
              "    .dataframe tbody tr th:only-of-type {\n",
              "        vertical-align: middle;\n",
              "    }\n",
              "\n",
              "    .dataframe tbody tr th {\n",
              "        vertical-align: top;\n",
              "    }\n",
              "\n",
              "    .dataframe thead th {\n",
              "        text-align: right;\n",
              "    }\n",
              "</style>\n",
              "<table border=\"1\" class=\"dataframe\">\n",
              "  <thead>\n",
              "    <tr style=\"text-align: right;\">\n",
              "      <th></th>\n",
              "      <th>file_path</th>\n",
              "      <th>modality</th>\n",
              "      <th>vocal_channel</th>\n",
              "      <th>emotion</th>\n",
              "      <th>emotional_intensity</th>\n",
              "      <th>statement</th>\n",
              "      <th>repetition</th>\n",
              "      <th>actor</th>\n",
              "      <th>gender</th>\n",
              "      <th>emotion_label</th>\n",
              "    </tr>\n",
              "  </thead>\n",
              "  <tbody>\n",
              "    <tr>\n",
              "      <th>0</th>\n",
              "      <td>./ravdess_train_dataset/Actor_19/03-01-04-02-0...</td>\n",
              "      <td>audio-only</td>\n",
              "      <td>speech</td>\n",
              "      <td>sad</td>\n",
              "      <td>strong</td>\n",
              "      <td>Kids are talking by the door</td>\n",
              "      <td>2nd repetition</td>\n",
              "      <td>19</td>\n",
              "      <td>Male</td>\n",
              "      <td>2</td>\n",
              "    </tr>\n",
              "    <tr>\n",
              "      <th>1</th>\n",
              "      <td>./ravdess_train_dataset/Actor_19/03-01-01-01-0...</td>\n",
              "      <td>audio-only</td>\n",
              "      <td>speech</td>\n",
              "      <td>neutral</td>\n",
              "      <td>normal</td>\n",
              "      <td>Kids are talking by the door</td>\n",
              "      <td>2nd repetition</td>\n",
              "      <td>19</td>\n",
              "      <td>Male</td>\n",
              "      <td>0</td>\n",
              "    </tr>\n",
              "    <tr>\n",
              "      <th>2</th>\n",
              "      <td>./ravdess_train_dataset/Actor_19/03-01-04-02-0...</td>\n",
              "      <td>audio-only</td>\n",
              "      <td>speech</td>\n",
              "      <td>sad</td>\n",
              "      <td>strong</td>\n",
              "      <td>Kids are talking by the door</td>\n",
              "      <td>1st repetition</td>\n",
              "      <td>19</td>\n",
              "      <td>Male</td>\n",
              "      <td>2</td>\n",
              "    </tr>\n",
              "    <tr>\n",
              "      <th>3</th>\n",
              "      <td>./ravdess_train_dataset/Actor_19/03-01-05-01-0...</td>\n",
              "      <td>audio-only</td>\n",
              "      <td>speech</td>\n",
              "      <td>angry</td>\n",
              "      <td>normal</td>\n",
              "      <td>Kids are talking by the door</td>\n",
              "      <td>1st repetition</td>\n",
              "      <td>19</td>\n",
              "      <td>Male</td>\n",
              "      <td>3</td>\n",
              "    </tr>\n",
              "    <tr>\n",
              "      <th>5</th>\n",
              "      <td>./ravdess_train_dataset/Actor_19/03-01-05-01-0...</td>\n",
              "      <td>audio-only</td>\n",
              "      <td>speech</td>\n",
              "      <td>angry</td>\n",
              "      <td>normal</td>\n",
              "      <td>Dogs are sitting by the door</td>\n",
              "      <td>1st repetition</td>\n",
              "      <td>19</td>\n",
              "      <td>Male</td>\n",
              "      <td>3</td>\n",
              "    </tr>\n",
              "  </tbody>\n",
              "</table>\n",
              "</div>\n",
              "    <div class=\"colab-df-buttons\">\n",
              "\n",
              "  <div class=\"colab-df-container\">\n",
              "    <button class=\"colab-df-convert\" onclick=\"convertToInteractive('df-223db6b2-5a33-432d-951a-23e5cb350e02')\"\n",
              "            title=\"Convert this dataframe to an interactive table.\"\n",
              "            style=\"display:none;\">\n",
              "\n",
              "  <svg xmlns=\"http://www.w3.org/2000/svg\" height=\"24px\" viewBox=\"0 -960 960 960\">\n",
              "    <path d=\"M120-120v-720h720v720H120Zm60-500h600v-160H180v160Zm220 220h160v-160H400v160Zm0 220h160v-160H400v160ZM180-400h160v-160H180v160Zm440 0h160v-160H620v160ZM180-180h160v-160H180v160Zm440 0h160v-160H620v160Z\"/>\n",
              "  </svg>\n",
              "    </button>\n",
              "\n",
              "  <style>\n",
              "    .colab-df-container {\n",
              "      display:flex;\n",
              "      gap: 12px;\n",
              "    }\n",
              "\n",
              "    .colab-df-convert {\n",
              "      background-color: #E8F0FE;\n",
              "      border: none;\n",
              "      border-radius: 50%;\n",
              "      cursor: pointer;\n",
              "      display: none;\n",
              "      fill: #1967D2;\n",
              "      height: 32px;\n",
              "      padding: 0 0 0 0;\n",
              "      width: 32px;\n",
              "    }\n",
              "\n",
              "    .colab-df-convert:hover {\n",
              "      background-color: #E2EBFA;\n",
              "      box-shadow: 0px 1px 2px rgba(60, 64, 67, 0.3), 0px 1px 3px 1px rgba(60, 64, 67, 0.15);\n",
              "      fill: #174EA6;\n",
              "    }\n",
              "\n",
              "    .colab-df-buttons div {\n",
              "      margin-bottom: 4px;\n",
              "    }\n",
              "\n",
              "    [theme=dark] .colab-df-convert {\n",
              "      background-color: #3B4455;\n",
              "      fill: #D2E3FC;\n",
              "    }\n",
              "\n",
              "    [theme=dark] .colab-df-convert:hover {\n",
              "      background-color: #434B5C;\n",
              "      box-shadow: 0px 1px 3px 1px rgba(0, 0, 0, 0.15);\n",
              "      filter: drop-shadow(0px 1px 2px rgba(0, 0, 0, 0.3));\n",
              "      fill: #FFFFFF;\n",
              "    }\n",
              "  </style>\n",
              "\n",
              "    <script>\n",
              "      const buttonEl =\n",
              "        document.querySelector('#df-223db6b2-5a33-432d-951a-23e5cb350e02 button.colab-df-convert');\n",
              "      buttonEl.style.display =\n",
              "        google.colab.kernel.accessAllowed ? 'block' : 'none';\n",
              "\n",
              "      async function convertToInteractive(key) {\n",
              "        const element = document.querySelector('#df-223db6b2-5a33-432d-951a-23e5cb350e02');\n",
              "        const dataTable =\n",
              "          await google.colab.kernel.invokeFunction('convertToInteractive',\n",
              "                                                    [key], {});\n",
              "        if (!dataTable) return;\n",
              "\n",
              "        const docLinkHtml = 'Like what you see? Visit the ' +\n",
              "          '<a target=\"_blank\" href=https://colab.research.google.com/notebooks/data_table.ipynb>data table notebook</a>'\n",
              "          + ' to learn more about interactive tables.';\n",
              "        element.innerHTML = '';\n",
              "        dataTable['output_type'] = 'display_data';\n",
              "        await google.colab.output.renderOutput(dataTable, element);\n",
              "        const docLink = document.createElement('div');\n",
              "        docLink.innerHTML = docLinkHtml;\n",
              "        element.appendChild(docLink);\n",
              "      }\n",
              "    </script>\n",
              "  </div>\n",
              "\n",
              "\n",
              "    <div id=\"df-9a62c276-1fcc-4c46-8945-3912f37093c3\">\n",
              "      <button class=\"colab-df-quickchart\" onclick=\"quickchart('df-9a62c276-1fcc-4c46-8945-3912f37093c3')\"\n",
              "                title=\"Suggest charts\"\n",
              "                style=\"display:none;\">\n",
              "\n",
              "<svg xmlns=\"http://www.w3.org/2000/svg\" height=\"24px\"viewBox=\"0 0 24 24\"\n",
              "     width=\"24px\">\n",
              "    <g>\n",
              "        <path d=\"M19 3H5c-1.1 0-2 .9-2 2v14c0 1.1.9 2 2 2h14c1.1 0 2-.9 2-2V5c0-1.1-.9-2-2-2zM9 17H7v-7h2v7zm4 0h-2V7h2v10zm4 0h-2v-4h2v4z\"/>\n",
              "    </g>\n",
              "</svg>\n",
              "      </button>\n",
              "\n",
              "<style>\n",
              "  .colab-df-quickchart {\n",
              "      --bg-color: #E8F0FE;\n",
              "      --fill-color: #1967D2;\n",
              "      --hover-bg-color: #E2EBFA;\n",
              "      --hover-fill-color: #174EA6;\n",
              "      --disabled-fill-color: #AAA;\n",
              "      --disabled-bg-color: #DDD;\n",
              "  }\n",
              "\n",
              "  [theme=dark] .colab-df-quickchart {\n",
              "      --bg-color: #3B4455;\n",
              "      --fill-color: #D2E3FC;\n",
              "      --hover-bg-color: #434B5C;\n",
              "      --hover-fill-color: #FFFFFF;\n",
              "      --disabled-bg-color: #3B4455;\n",
              "      --disabled-fill-color: #666;\n",
              "  }\n",
              "\n",
              "  .colab-df-quickchart {\n",
              "    background-color: var(--bg-color);\n",
              "    border: none;\n",
              "    border-radius: 50%;\n",
              "    cursor: pointer;\n",
              "    display: none;\n",
              "    fill: var(--fill-color);\n",
              "    height: 32px;\n",
              "    padding: 0;\n",
              "    width: 32px;\n",
              "  }\n",
              "\n",
              "  .colab-df-quickchart:hover {\n",
              "    background-color: var(--hover-bg-color);\n",
              "    box-shadow: 0 1px 2px rgba(60, 64, 67, 0.3), 0 1px 3px 1px rgba(60, 64, 67, 0.15);\n",
              "    fill: var(--button-hover-fill-color);\n",
              "  }\n",
              "\n",
              "  .colab-df-quickchart-complete:disabled,\n",
              "  .colab-df-quickchart-complete:disabled:hover {\n",
              "    background-color: var(--disabled-bg-color);\n",
              "    fill: var(--disabled-fill-color);\n",
              "    box-shadow: none;\n",
              "  }\n",
              "\n",
              "  .colab-df-spinner {\n",
              "    border: 2px solid var(--fill-color);\n",
              "    border-color: transparent;\n",
              "    border-bottom-color: var(--fill-color);\n",
              "    animation:\n",
              "      spin 1s steps(1) infinite;\n",
              "  }\n",
              "\n",
              "  @keyframes spin {\n",
              "    0% {\n",
              "      border-color: transparent;\n",
              "      border-bottom-color: var(--fill-color);\n",
              "      border-left-color: var(--fill-color);\n",
              "    }\n",
              "    20% {\n",
              "      border-color: transparent;\n",
              "      border-left-color: var(--fill-color);\n",
              "      border-top-color: var(--fill-color);\n",
              "    }\n",
              "    30% {\n",
              "      border-color: transparent;\n",
              "      border-left-color: var(--fill-color);\n",
              "      border-top-color: var(--fill-color);\n",
              "      border-right-color: var(--fill-color);\n",
              "    }\n",
              "    40% {\n",
              "      border-color: transparent;\n",
              "      border-right-color: var(--fill-color);\n",
              "      border-top-color: var(--fill-color);\n",
              "    }\n",
              "    60% {\n",
              "      border-color: transparent;\n",
              "      border-right-color: var(--fill-color);\n",
              "    }\n",
              "    80% {\n",
              "      border-color: transparent;\n",
              "      border-right-color: var(--fill-color);\n",
              "      border-bottom-color: var(--fill-color);\n",
              "    }\n",
              "    90% {\n",
              "      border-color: transparent;\n",
              "      border-bottom-color: var(--fill-color);\n",
              "    }\n",
              "  }\n",
              "</style>\n",
              "\n",
              "      <script>\n",
              "        async function quickchart(key) {\n",
              "          const quickchartButtonEl =\n",
              "            document.querySelector('#' + key + ' button');\n",
              "          quickchartButtonEl.disabled = true;  // To prevent multiple clicks.\n",
              "          quickchartButtonEl.classList.add('colab-df-spinner');\n",
              "          try {\n",
              "            const charts = await google.colab.kernel.invokeFunction(\n",
              "                'suggestCharts', [key], {});\n",
              "          } catch (error) {\n",
              "            console.error('Error during call to suggestCharts:', error);\n",
              "          }\n",
              "          quickchartButtonEl.classList.remove('colab-df-spinner');\n",
              "          quickchartButtonEl.classList.add('colab-df-quickchart-complete');\n",
              "        }\n",
              "        (() => {\n",
              "          let quickchartButtonEl =\n",
              "            document.querySelector('#df-9a62c276-1fcc-4c46-8945-3912f37093c3 button');\n",
              "          quickchartButtonEl.style.display =\n",
              "            google.colab.kernel.accessAllowed ? 'block' : 'none';\n",
              "        })();\n",
              "      </script>\n",
              "    </div>\n",
              "    </div>\n",
              "  </div>\n"
            ],
            "application/vnd.google.colaboratory.intrinsic+json": {
              "type": "dataframe",
              "variable_name": "ravdess_train_df",
              "summary": "{\n  \"name\": \"ravdess_train_df\",\n  \"rows\": 1040,\n  \"fields\": [\n    {\n      \"column\": \"file_path\",\n      \"properties\": {\n        \"dtype\": \"string\",\n        \"num_unique_values\": 1040,\n        \"samples\": [\n          \"./ravdess_train_dataset/Actor_22/03-01-01-01-01-01-22.wav\",\n          \"./ravdess_train_dataset/Actor_23/03-01-06-01-01-02-23.wav\",\n          \"./ravdess_train_dataset/Actor_15/03-01-05-01-02-02-15.wav\"\n        ],\n        \"semantic_type\": \"\",\n        \"description\": \"\"\n      }\n    },\n    {\n      \"column\": \"modality\",\n      \"properties\": {\n        \"dtype\": \"category\",\n        \"num_unique_values\": 1,\n        \"samples\": [\n          \"audio-only\"\n        ],\n        \"semantic_type\": \"\",\n        \"description\": \"\"\n      }\n    },\n    {\n      \"column\": \"vocal_channel\",\n      \"properties\": {\n        \"dtype\": \"category\",\n        \"num_unique_values\": 1,\n        \"samples\": [\n          \"speech\"\n        ],\n        \"semantic_type\": \"\",\n        \"description\": \"\"\n      }\n    },\n    {\n      \"column\": \"emotion\",\n      \"properties\": {\n        \"dtype\": \"category\",\n        \"num_unique_values\": 7,\n        \"samples\": [\n          \"sad\"\n        ],\n        \"semantic_type\": \"\",\n        \"description\": \"\"\n      }\n    },\n    {\n      \"column\": \"emotional_intensity\",\n      \"properties\": {\n        \"dtype\": \"category\",\n        \"num_unique_values\": 2,\n        \"samples\": [\n          \"normal\"\n        ],\n        \"semantic_type\": \"\",\n        \"description\": \"\"\n      }\n    },\n    {\n      \"column\": \"statement\",\n      \"properties\": {\n        \"dtype\": \"category\",\n        \"num_unique_values\": 2,\n        \"samples\": [\n          \"Dogs are sitting by the door\"\n        ],\n        \"semantic_type\": \"\",\n        \"description\": \"\"\n      }\n    },\n    {\n      \"column\": \"repetition\",\n      \"properties\": {\n        \"dtype\": \"category\",\n        \"num_unique_values\": 2,\n        \"samples\": [\n          \"1st repetition\"\n        ],\n        \"semantic_type\": \"\",\n        \"description\": \"\"\n      }\n    },\n    {\n      \"column\": \"actor\",\n      \"properties\": {\n        \"dtype\": \"number\",\n        \"std\": 7,\n        \"min\": 1,\n        \"max\": 24,\n        \"num_unique_values\": 20,\n        \"samples\": [\n          19\n        ],\n        \"semantic_type\": \"\",\n        \"description\": \"\"\n      }\n    },\n    {\n      \"column\": \"gender\",\n      \"properties\": {\n        \"dtype\": \"category\",\n        \"num_unique_values\": 2,\n        \"samples\": [\n          \"Female\"\n        ],\n        \"semantic_type\": \"\",\n        \"description\": \"\"\n      }\n    },\n    {\n      \"column\": \"emotion_label\",\n      \"properties\": {\n        \"dtype\": \"number\",\n        \"std\": 1,\n        \"min\": 0,\n        \"max\": 6,\n        \"num_unique_values\": 7,\n        \"samples\": [\n          2\n        ],\n        \"semantic_type\": \"\",\n        \"description\": \"\"\n      }\n    }\n  ]\n}"
            }
          },
          "metadata": {},
          "execution_count": 24
        }
      ]
    },
    {
      "cell_type": "code",
      "source": [
        "ravdess_train_df[\"emotion\"].value_counts()"
      ],
      "metadata": {
        "colab": {
          "base_uri": "https://localhost:8080/",
          "height": 335
        },
        "collapsed": true,
        "outputId": "9e9444ea-1308-4696-c1c4-94dbabf15a5c",
        "id": "xRHAMNEMJL34"
      },
      "execution_count": 25,
      "outputs": [
        {
          "output_type": "execute_result",
          "data": {
            "text/plain": [
              "emotion\n",
              "sad          160\n",
              "angry        160\n",
              "fearful      160\n",
              "disgust      160\n",
              "surprised    160\n",
              "happy        160\n",
              "neutral       80\n",
              "Name: count, dtype: int64"
            ],
            "text/html": [
              "<div>\n",
              "<style scoped>\n",
              "    .dataframe tbody tr th:only-of-type {\n",
              "        vertical-align: middle;\n",
              "    }\n",
              "\n",
              "    .dataframe tbody tr th {\n",
              "        vertical-align: top;\n",
              "    }\n",
              "\n",
              "    .dataframe thead th {\n",
              "        text-align: right;\n",
              "    }\n",
              "</style>\n",
              "<table border=\"1\" class=\"dataframe\">\n",
              "  <thead>\n",
              "    <tr style=\"text-align: right;\">\n",
              "      <th></th>\n",
              "      <th>count</th>\n",
              "    </tr>\n",
              "    <tr>\n",
              "      <th>emotion</th>\n",
              "      <th></th>\n",
              "    </tr>\n",
              "  </thead>\n",
              "  <tbody>\n",
              "    <tr>\n",
              "      <th>sad</th>\n",
              "      <td>160</td>\n",
              "    </tr>\n",
              "    <tr>\n",
              "      <th>angry</th>\n",
              "      <td>160</td>\n",
              "    </tr>\n",
              "    <tr>\n",
              "      <th>fearful</th>\n",
              "      <td>160</td>\n",
              "    </tr>\n",
              "    <tr>\n",
              "      <th>disgust</th>\n",
              "      <td>160</td>\n",
              "    </tr>\n",
              "    <tr>\n",
              "      <th>surprised</th>\n",
              "      <td>160</td>\n",
              "    </tr>\n",
              "    <tr>\n",
              "      <th>happy</th>\n",
              "      <td>160</td>\n",
              "    </tr>\n",
              "    <tr>\n",
              "      <th>neutral</th>\n",
              "      <td>80</td>\n",
              "    </tr>\n",
              "  </tbody>\n",
              "</table>\n",
              "</div><br><label><b>dtype:</b> int64</label>"
            ]
          },
          "metadata": {},
          "execution_count": 25
        }
      ]
    },
    {
      "cell_type": "code",
      "source": [
        "ravdess_train_df[\"emotion_label\"].value_counts()"
      ],
      "metadata": {
        "colab": {
          "base_uri": "https://localhost:8080/",
          "height": 335
        },
        "id": "EExoEwhuQqps",
        "outputId": "6cfb9eff-520b-488a-b4c4-3a28dec960ec"
      },
      "execution_count": 26,
      "outputs": [
        {
          "output_type": "execute_result",
          "data": {
            "text/plain": [
              "emotion_label\n",
              "2    160\n",
              "3    160\n",
              "4    160\n",
              "5    160\n",
              "6    160\n",
              "1    160\n",
              "0     80\n",
              "Name: count, dtype: int64"
            ],
            "text/html": [
              "<div>\n",
              "<style scoped>\n",
              "    .dataframe tbody tr th:only-of-type {\n",
              "        vertical-align: middle;\n",
              "    }\n",
              "\n",
              "    .dataframe tbody tr th {\n",
              "        vertical-align: top;\n",
              "    }\n",
              "\n",
              "    .dataframe thead th {\n",
              "        text-align: right;\n",
              "    }\n",
              "</style>\n",
              "<table border=\"1\" class=\"dataframe\">\n",
              "  <thead>\n",
              "    <tr style=\"text-align: right;\">\n",
              "      <th></th>\n",
              "      <th>count</th>\n",
              "    </tr>\n",
              "    <tr>\n",
              "      <th>emotion_label</th>\n",
              "      <th></th>\n",
              "    </tr>\n",
              "  </thead>\n",
              "  <tbody>\n",
              "    <tr>\n",
              "      <th>2</th>\n",
              "      <td>160</td>\n",
              "    </tr>\n",
              "    <tr>\n",
              "      <th>3</th>\n",
              "      <td>160</td>\n",
              "    </tr>\n",
              "    <tr>\n",
              "      <th>4</th>\n",
              "      <td>160</td>\n",
              "    </tr>\n",
              "    <tr>\n",
              "      <th>5</th>\n",
              "      <td>160</td>\n",
              "    </tr>\n",
              "    <tr>\n",
              "      <th>6</th>\n",
              "      <td>160</td>\n",
              "    </tr>\n",
              "    <tr>\n",
              "      <th>1</th>\n",
              "      <td>160</td>\n",
              "    </tr>\n",
              "    <tr>\n",
              "      <th>0</th>\n",
              "      <td>80</td>\n",
              "    </tr>\n",
              "  </tbody>\n",
              "</table>\n",
              "</div><br><label><b>dtype:</b> int64</label>"
            ]
          },
          "metadata": {},
          "execution_count": 26
        }
      ]
    },
    {
      "cell_type": "markdown",
      "source": [
        "##### RAVDESS dataset analysis:"
      ],
      "metadata": {
        "id": "V-NgMXcmLqnk"
      }
    },
    {
      "cell_type": "code",
      "source": [
        "# datasets = [ravdess_train_df, ravdess_test_df, ravdess_val_df]\n",
        "# dataset_names = ['Train', 'Test', 'Validation']\n",
        "# emotion_counts = []\n",
        "# for dataset in datasets:\n",
        "#   emotion_counts_i = dataset['emotion'].value_counts(normalize=True) * 100\n",
        "#   emotion_counts.append(emotion_counts_i.sort_index())\n",
        "\n",
        "# fig, axes = plt.subplots(1, 3, figsize=(18, 6), sharey=True)\n",
        "# for i, (counts, name) in enumerate(zip(emotion_counts, dataset_names)):\n",
        "#     sns.barplot(x=counts.index, y=counts.values, palette=\"viridis\", ax=axes[i])\n",
        "#     axes[i].set_title(f'{name} Dataset')\n",
        "#     axes[i].set_xlabel('Emotion')\n",
        "#     axes[i].set_ylabel('Percentage' if i == 0 else '')\n",
        "#     axes[i].tick_params(axis='x', rotation=45)\n",
        "\n",
        "# plt.suptitle('Percentage of Emotions in Train, Test, and Validation Datasets')\n",
        "# plt.tight_layout(rect=[0, 0, 1, 0.95])\n",
        "# plt.show()"
      ],
      "metadata": {
        "id": "BKeDgh2ELud9"
      },
      "execution_count": null,
      "outputs": []
    },
    {
      "cell_type": "code",
      "source": [
        "plot_emotion_distribution(ravdess_train_df, ravdess_val_df, ravdess_test_df)"
      ],
      "metadata": {
        "colab": {
          "base_uri": "https://localhost:8080/",
          "height": 313
        },
        "id": "ZKR04gdNMAed",
        "outputId": "e6b6d76d-d9ad-4bf4-cf5d-2237b24ca766",
        "collapsed": true
      },
      "execution_count": null,
      "outputs": [
        {
          "output_type": "display_data",
          "data": {
            "text/plain": [
              "<Figure size 1800x600 with 3 Axes>"
            ],
            "image/png": "[encoded data removed]"
          },
          "metadata": {}
        }
      ]
    },
    {
      "cell_type": "code",
      "source": [
        "plot_emotion_distribution(ravdess_train_df, ravdess_val_df, ravdess_test_df)"
      ],
      "metadata": {
        "colab": {
          "base_uri": "https://localhost:8080/",
          "height": 0
        },
        "id": "ynTbjRjwnnHQ",
        "outputId": "74a67d4f-5785-4d09-ccc4-eb327a8784f9"
      },
      "execution_count": 27,
      "outputs": [
        {
          "output_type": "display_data",
          "data": {
            "text/plain": [
              "<Figure size 1800x600 with 3 Axes>"
            ],
            "image/png": "[encoded data removed]"
          },
          "metadata": {}
        }
      ]
    },
    {
      "cell_type": "markdown",
      "source": [
        "##### TESS data loading:"
      ],
      "metadata": {
        "id": "ni-Wky5rxxY3"
      }
    },
    {
      "cell_type": "code",
      "source": [
        "# Assign the Kaggle data set URL into variable\n",
        "tess_dataset = 'https://www.kaggle.com/datasets/ejlok1/toronto-emotional-speech-set-tess/data'\n",
        "# Using opendatasets let's download the data sets\n",
        "od.download(tess_dataset, force=True)"
      ],
      "metadata": {
        "colab": {
          "base_uri": "https://localhost:8080/"
        },
        "outputId": "27b11c19-e63d-48c9-8517-f57b29121775",
        "id": "0CrA--lvzqUU"
      },
      "execution_count": 28,
      "outputs": [
        {
          "output_type": "stream",
          "name": "stdout",
          "text": [
            "Please provide your Kaggle credentials to download this dataset. Learn more: http://bit.ly/kaggle-creds\n",
            "Your Kaggle username: khrystynadolynska\n",
            "Your Kaggle Key: ··········\n",
            "Dataset URL: https://www.kaggle.com/datasets/ejlok1/toronto-emotional-speech-set-tess\n",
            "Downloading toronto-emotional-speech-set-tess.zip to ./toronto-emotional-speech-set-tess\n"
          ]
        },
        {
          "output_type": "stream",
          "name": "stderr",
          "text": [
            "100%|██████████| 428M/428M [00:00<00:00, 456MB/s]\n"
          ]
        },
        {
          "output_type": "stream",
          "name": "stdout",
          "text": [
            "\n"
          ]
        }
      ]
    },
    {
      "cell_type": "code",
      "source": [
        "dir1 = \"/content/toronto-emotional-speech-set-tess/tess toronto emotional speech set data\"\n",
        "dir2 = \"/content/toronto-emotional-speech-set-tess/TESS Toronto emotional speech set data\"\n",
        "\n",
        "def count_wav_files(directory):\n",
        "  count = 0\n",
        "  for root, _, files in os.walk(directory):\n",
        "    count += len([file for file in files if file.endswith(\".wav\")])\n",
        "  return count\n",
        "\n",
        "count_dir1 = count_wav_files(dir1)\n",
        "count_dir2 = count_wav_files(dir2)\n",
        "\n",
        "print(f\".wav files in dir1: {count_dir1}\")\n",
        "print(f\".wav files in dir2: {count_dir2}\")"
      ],
      "metadata": {
        "colab": {
          "base_uri": "https://localhost:8080/"
        },
        "id": "51kLb2ad5ROK",
        "outputId": "eed7954a-61bc-4188-b229-29f6c1237989"
      },
      "execution_count": 29,
      "outputs": [
        {
          "output_type": "stream",
          "name": "stdout",
          "text": [
            ".wav files in dir1: 2800\n",
            ".wav files in dir2: 2800\n"
          ]
        }
      ]
    },
    {
      "cell_type": "code",
      "source": [
        "tess_data_dir = './toronto-emotional-speech-set-tess'\n",
        "tess_content_list = os.listdir(tess_data_dir)\n",
        "tess_content_list"
      ],
      "metadata": {
        "colab": {
          "base_uri": "https://localhost:8080/"
        },
        "collapsed": true,
        "outputId": "760539e0-f8e5-43b1-bc03-070b3a93d5ef",
        "id": "7fuhtCf-zqUV"
      },
      "execution_count": 30,
      "outputs": [
        {
          "output_type": "execute_result",
          "data": {
            "text/plain": [
              "['TESS Toronto emotional speech set data',\n",
              " 'tess toronto emotional speech set data']"
            ]
          },
          "metadata": {},
          "execution_count": 30
        }
      ]
    },
    {
      "cell_type": "code",
      "source": [
        "tess_emotion_map = {\n",
        "  \"neutral\": 0,\n",
        "  \"happy\": 1,\n",
        "  \"sad\": 2,\n",
        "  \"angry\": 3,\n",
        "  \"fear\": 4,\n",
        "  \"fearful\": 4,\n",
        "  \"disgust\": 5,\n",
        "  \"pleasant_surprise\": 6,\n",
        "  \"pleasant_surprised\": 6,\n",
        "  \"surprised\": 6\n",
        "}"
      ],
      "metadata": {
        "id": "3Cv3jvN8zqUV"
      },
      "execution_count": 31,
      "outputs": []
    },
    {
      "cell_type": "code",
      "source": [
        "# !rm -r ./tess_train_dataset\n",
        "# !rm -r ./tess_val_dataset\n",
        "# !rm -r ./tess_test_dataset"
      ],
      "metadata": {
        "id": "dMwOA3j1zqUV"
      },
      "execution_count": 32,
      "outputs": []
    },
    {
      "cell_type": "markdown",
      "source": [
        "##### TESS data preprocessing:"
      ],
      "metadata": {
        "id": "v4vyhlsU2pHN"
      }
    },
    {
      "cell_type": "code",
      "source": [
        "base_dir = \"/content/toronto-emotional-speech-set-tess\"\n",
        "dup_dir = os.path.join(base_dir, \"tess toronto emotional speech set data\")\n",
        "main_dir = os.path.join(base_dir, \"TESS Toronto emotional speech set data\")\n",
        "\n",
        "if os.path.exists(dup_dir):\n",
        "  shutil.rmtree(dup_dir)\n",
        "  print(\"Duplicate directory removed.\")"
      ],
      "metadata": {
        "id": "FYP7Ry24FDF0",
        "colab": {
          "base_uri": "https://localhost:8080/"
        },
        "outputId": "f96361ab-e920-4c15-809f-09f4facd8884"
      },
      "execution_count": 33,
      "outputs": [
        {
          "output_type": "stream",
          "name": "stdout",
          "text": [
            "Duplicate directory removed.\n"
          ]
        }
      ]
    },
    {
      "cell_type": "code",
      "source": [
        "os.listdir(tess_data_dir)"
      ],
      "metadata": {
        "colab": {
          "base_uri": "https://localhost:8080/"
        },
        "id": "Z9QcGyOxJhrk",
        "outputId": "ef14b8d3-0329-40f0-b83b-b339d39d3937"
      },
      "execution_count": 34,
      "outputs": [
        {
          "output_type": "execute_result",
          "data": {
            "text/plain": [
              "['TESS Toronto emotional speech set data']"
            ]
          },
          "metadata": {},
          "execution_count": 34
        }
      ]
    },
    {
      "cell_type": "code",
      "source": [
        "tess_train_dir = './tess_train_dataset'\n",
        "tess_val_dir = './tess_val_dataset'\n",
        "tess_test_dir = './tess_test_dataset'\n",
        "\n",
        "os.makedirs(tess_train_dir, exist_ok=True)\n",
        "os.makedirs(tess_val_dir, exist_ok=True)\n",
        "os.makedirs(tess_test_dir, exist_ok=True)"
      ],
      "metadata": {
        "id": "pOvSLWYBFH62"
      },
      "execution_count": 35,
      "outputs": []
    },
    {
      "cell_type": "code",
      "source": [
        "word_to_files = defaultdict(list)\n",
        "for root, _, files in os.walk(main_dir):\n",
        "  for file in files:\n",
        "    if file.endswith(\".wav\"):\n",
        "      parts = file.split('_')\n",
        "      if len(parts) != 3:\n",
        "        print(f\"File name: {parts}\")\n",
        "        continue\n",
        "      word = parts[1]\n",
        "      word_to_files[word].append(os.path.join(root, file))"
      ],
      "metadata": {
        "id": "29CuhahmFH_N"
      },
      "execution_count": 36,
      "outputs": []
    },
    {
      "cell_type": "code",
      "source": [
        "all_words = list(word_to_files.keys())\n",
        "random.shuffle(all_words)\n",
        "\n",
        "val_words = all_words[:20]\n",
        "test_words = all_words[20:40]\n",
        "train_words = all_words[40:]\n",
        "\n",
        "print(\"Validation words:\", val_words)\n",
        "print(\"Test words:\", test_words)\n",
        "print(f\"Train words (5 out of {len(train_words)}): {train_words[:5]}\")"
      ],
      "metadata": {
        "id": "Mr3gaiyhFgW4",
        "colab": {
          "base_uri": "https://localhost:8080/"
        },
        "outputId": "2dd4bd86-32dd-46e5-85f3-fe0b99791bd6"
      },
      "execution_count": 37,
      "outputs": [
        {
          "output_type": "stream",
          "name": "stdout",
          "text": [
            "Validation words: ['time', 'nice', 'bean', 'rose', 'rag', 'youth', 'shall', 'lot', 'size', 'peg', 'ripe', 'sure', 'lore', 'soup', 'have', 'hit', 'came', 'join', 'talk', 'sub']\n",
            "Test words: ['near', 'hash', 'void', 'gun', 'mob', 'dip', 'love', 'shirt', 'king', 'south', 'choice', 'witch', 'death', 'mess', 'fit', 'raise', 'calm', 'tool', 'chat', 'wash']\n",
            "Train words (5 out of 160): ['jail', 'tell', 'rough', 'met', 'lease']\n"
          ]
        }
      ]
    },
    {
      "cell_type": "code",
      "source": [
        "train_set = set(train_words)\n",
        "val_set = set(val_words)\n",
        "test_set = set(test_words)\n",
        "\n",
        "val_in_train = val_set & train_set\n",
        "test_in_train = test_set & train_set\n",
        "\n",
        "if val_in_train:\n",
        "  print(f\"Validation words in train: {val_in_train}\")\n",
        "else:\n",
        "  print(\"No validation words in training set.\")\n",
        "\n",
        "if test_in_train:\n",
        "  print(f\"Test words in train: {test_in_train}\")\n",
        "else:\n",
        "  print(\"No test words in training set.\")"
      ],
      "metadata": {
        "colab": {
          "base_uri": "https://localhost:8080/"
        },
        "id": "xpCKmOWzlqlf",
        "outputId": "7c11e83b-d9c0-4502-fcf8-2dfb5a9180b8"
      },
      "execution_count": 38,
      "outputs": [
        {
          "output_type": "stream",
          "name": "stdout",
          "text": [
            "No validation words in training set.\n",
            "No test words in training set.\n"
          ]
        }
      ]
    },
    {
      "cell_type": "code",
      "source": [
        "def copy_files(word_list, dst_dir):\n",
        "  for word in word_list:\n",
        "    for file_path in word_to_files[word]:\n",
        "      label = file_path.split('/')[-2]\n",
        "      dst_label_dir = os.path.join(dst_dir, label)\n",
        "      os.makedirs(dst_label_dir, exist_ok=True)\n",
        "      shutil.copy(file_path, os.path.join(dst_label_dir, os.path.basename(file_path)))\n",
        "\n",
        "copy_files(train_words, tess_train_dir)\n",
        "copy_files(val_words, tess_val_dir)\n",
        "copy_files(test_words, tess_test_dir)"
      ],
      "metadata": {
        "id": "1HgzurdmFgZ8"
      },
      "execution_count": 39,
      "outputs": []
    },
    {
      "cell_type": "code",
      "source": [
        "def count_wavs(dir_path):\n",
        "  return sum(len([f for f in files if f.endswith(\".wav\")]) for _, _, files in os.walk(dir_path))\n",
        "\n",
        "print(\"Train .wav files:\", count_wavs(tess_train_dir))\n",
        "print(\"Val .wav files:\", count_wavs(tess_val_dir))\n",
        "print(\"Test .wav files:\", count_wavs(tess_test_dir))"
      ],
      "metadata": {
        "id": "HhCiBTKx2n5T",
        "colab": {
          "base_uri": "https://localhost:8080/"
        },
        "outputId": "293d451e-16a8-4c4b-f952-608193d493d8"
      },
      "execution_count": 40,
      "outputs": [
        {
          "output_type": "stream",
          "name": "stdout",
          "text": [
            "Train .wav files: 2240\n",
            "Val .wav files: 280\n",
            "Test .wav files: 280\n"
          ]
        }
      ]
    },
    {
      "cell_type": "code",
      "source": [
        "def create_tess_df(data_dir):\n",
        "  records = []\n",
        "  for root, _, files in os.walk(data_dir):\n",
        "    for f in files:\n",
        "      if f.endswith(\".wav\"):\n",
        "        path = os.path.join(root, f)\n",
        "        parts = f.split('_')\n",
        "        if len(parts) != 3:\n",
        "          continue\n",
        "        word = parts[1]\n",
        "        raw_emotion = parts[2].replace(\".wav\", \"\").lower()\n",
        "        emotion = raw_emotion.replace(\"fearful\", \"fear\")\n",
        "        emotion = raw_emotion.replace(\"ps\", \"surprised\")\n",
        "        label = tess_emotion_map.get(emotion)\n",
        "        if label is not None:\n",
        "          records.append({\n",
        "            \"file_path\": path,\n",
        "            \"word\": word,\n",
        "            \"emotion\": emotion,\n",
        "            \"emotion_label\": label\n",
        "          })\n",
        "  return pd.DataFrame(records)"
      ],
      "metadata": {
        "id": "C8HwmrymGP6t"
      },
      "execution_count": 41,
      "outputs": []
    },
    {
      "cell_type": "code",
      "source": [
        "tess_train_df = create_tess_df(tess_train_dir)\n",
        "tess_val_df = create_tess_df(tess_val_dir)\n",
        "tess_test_df = create_tess_df(tess_test_dir)\n",
        "\n",
        "print(\"Train samples:\", len(tess_train_df))\n",
        "print(\"Validation samples:\", len(tess_val_df))\n",
        "print(\"Test samples:\", len(tess_test_df))"
      ],
      "metadata": {
        "id": "r1sMzYhSGocy",
        "colab": {
          "base_uri": "https://localhost:8080/"
        },
        "outputId": "0536ea7a-e751-46dd-d86c-4c29c9c037d2"
      },
      "execution_count": 42,
      "outputs": [
        {
          "output_type": "stream",
          "name": "stdout",
          "text": [
            "Train samples: 2240\n",
            "Validation samples: 280\n",
            "Test samples: 280\n"
          ]
        }
      ]
    },
    {
      "cell_type": "code",
      "source": [
        "tess_train_df.head()"
      ],
      "metadata": {
        "colab": {
          "base_uri": "https://localhost:8080/",
          "height": 206
        },
        "collapsed": true,
        "id": "381uI_-RJ53f",
        "outputId": "71b404c6-3df4-46c0-9e43-34b4c2669d12"
      },
      "execution_count": 43,
      "outputs": [
        {
          "output_type": "execute_result",
          "data": {
            "text/plain": [
              "                                           file_path   word emotion  \\\n",
              "0  ./tess_train_dataset/OAF_angry/OAF_chalk_angry...  chalk   angry   \n",
              "1  ./tess_train_dataset/OAF_angry/OAF_hush_angry.wav   hush   angry   \n",
              "2  ./tess_train_dataset/OAF_angry/OAF_germ_angry.wav   germ   angry   \n",
              "3  ./tess_train_dataset/OAF_angry/OAF_ditch_angry...  ditch   angry   \n",
              "4  ./tess_train_dataset/OAF_angry/OAF_rush_angry.wav   rush   angry   \n",
              "\n",
              "   emotion_label  \n",
              "0              3  \n",
              "1              3  \n",
              "2              3  \n",
              "3              3  \n",
              "4              3  "
            ],
            "text/html": [
              "\n",
              "  <div id=\"df-2dd0e001-5ea9-4c1e-bad8-92b163ed98f5\" class=\"colab-df-container\">\n",
              "    <div>\n",
              "<style scoped>\n",
              "    .dataframe tbody tr th:only-of-type {\n",
              "        vertical-align: middle;\n",
              "    }\n",
              "\n",
              "    .dataframe tbody tr th {\n",
              "        vertical-align: top;\n",
              "    }\n",
              "\n",
              "    .dataframe thead th {\n",
              "        text-align: right;\n",
              "    }\n",
              "</style>\n",
              "<table border=\"1\" class=\"dataframe\">\n",
              "  <thead>\n",
              "    <tr style=\"text-align: right;\">\n",
              "      <th></th>\n",
              "      <th>file_path</th>\n",
              "      <th>word</th>\n",
              "      <th>emotion</th>\n",
              "      <th>emotion_label</th>\n",
              "    </tr>\n",
              "  </thead>\n",
              "  <tbody>\n",
              "    <tr>\n",
              "      <th>0</th>\n",
              "      <td>./tess_train_dataset/OAF_angry/OAF_chalk_angry...</td>\n",
              "      <td>chalk</td>\n",
              "      <td>angry</td>\n",
              "      <td>3</td>\n",
              "    </tr>\n",
              "    <tr>\n",
              "      <th>1</th>\n",
              "      <td>./tess_train_dataset/OAF_angry/OAF_hush_angry.wav</td>\n",
              "      <td>hush</td>\n",
              "      <td>angry</td>\n",
              "      <td>3</td>\n",
              "    </tr>\n",
              "    <tr>\n",
              "      <th>2</th>\n",
              "      <td>./tess_train_dataset/OAF_angry/OAF_germ_angry.wav</td>\n",
              "      <td>germ</td>\n",
              "      <td>angry</td>\n",
              "      <td>3</td>\n",
              "    </tr>\n",
              "    <tr>\n",
              "      <th>3</th>\n",
              "      <td>./tess_train_dataset/OAF_angry/OAF_ditch_angry...</td>\n",
              "      <td>ditch</td>\n",
              "      <td>angry</td>\n",
              "      <td>3</td>\n",
              "    </tr>\n",
              "    <tr>\n",
              "      <th>4</th>\n",
              "      <td>./tess_train_dataset/OAF_angry/OAF_rush_angry.wav</td>\n",
              "      <td>rush</td>\n",
              "      <td>angry</td>\n",
              "      <td>3</td>\n",
              "    </tr>\n",
              "  </tbody>\n",
              "</table>\n",
              "</div>\n",
              "    <div class=\"colab-df-buttons\">\n",
              "\n",
              "  <div class=\"colab-df-container\">\n",
              "    <button class=\"colab-df-convert\" onclick=\"convertToInteractive('df-2dd0e001-5ea9-4c1e-bad8-92b163ed98f5')\"\n",
              "            title=\"Convert this dataframe to an interactive table.\"\n",
              "            style=\"display:none;\">\n",
              "\n",
              "  <svg xmlns=\"http://www.w3.org/2000/svg\" height=\"24px\" viewBox=\"0 -960 960 960\">\n",
              "    <path d=\"M120-120v-720h720v720H120Zm60-500h600v-160H180v160Zm220 220h160v-160H400v160Zm0 220h160v-160H400v160ZM180-400h160v-160H180v160Zm440 0h160v-160H620v160ZM180-180h160v-160H180v160Zm440 0h160v-160H620v160Z\"/>\n",
              "  </svg>\n",
              "    </button>\n",
              "\n",
              "  <style>\n",
              "    .colab-df-container {\n",
              "      display:flex;\n",
              "      gap: 12px;\n",
              "    }\n",
              "\n",
              "    .colab-df-convert {\n",
              "      background-color: #E8F0FE;\n",
              "      border: none;\n",
              "      border-radius: 50%;\n",
              "      cursor: pointer;\n",
              "      display: none;\n",
              "      fill: #1967D2;\n",
              "      height: 32px;\n",
              "      padding: 0 0 0 0;\n",
              "      width: 32px;\n",
              "    }\n",
              "\n",
              "    .colab-df-convert:hover {\n",
              "      background-color: #E2EBFA;\n",
              "      box-shadow: 0px 1px 2px rgba(60, 64, 67, 0.3), 0px 1px 3px 1px rgba(60, 64, 67, 0.15);\n",
              "      fill: #174EA6;\n",
              "    }\n",
              "\n",
              "    .colab-df-buttons div {\n",
              "      margin-bottom: 4px;\n",
              "    }\n",
              "\n",
              "    [theme=dark] .colab-df-convert {\n",
              "      background-color: #3B4455;\n",
              "      fill: #D2E3FC;\n",
              "    }\n",
              "\n",
              "    [theme=dark] .colab-df-convert:hover {\n",
              "      background-color: #434B5C;\n",
              "      box-shadow: 0px 1px 3px 1px rgba(0, 0, 0, 0.15);\n",
              "      filter: drop-shadow(0px 1px 2px rgba(0, 0, 0, 0.3));\n",
              "      fill: #FFFFFF;\n",
              "    }\n",
              "  </style>\n",
              "\n",
              "    <script>\n",
              "      const buttonEl =\n",
              "        document.querySelector('#df-2dd0e001-5ea9-4c1e-bad8-92b163ed98f5 button.colab-df-convert');\n",
              "      buttonEl.style.display =\n",
              "        google.colab.kernel.accessAllowed ? 'block' : 'none';\n",
              "\n",
              "      async function convertToInteractive(key) {\n",
              "        const element = document.querySelector('#df-2dd0e001-5ea9-4c1e-bad8-92b163ed98f5');\n",
              "        const dataTable =\n",
              "          await google.colab.kernel.invokeFunction('convertToInteractive',\n",
              "                                                    [key], {});\n",
              "        if (!dataTable) return;\n",
              "\n",
              "        const docLinkHtml = 'Like what you see? Visit the ' +\n",
              "          '<a target=\"_blank\" href=https://colab.research.google.com/notebooks/data_table.ipynb>data table notebook</a>'\n",
              "          + ' to learn more about interactive tables.';\n",
              "        element.innerHTML = '';\n",
              "        dataTable['output_type'] = 'display_data';\n",
              "        await google.colab.output.renderOutput(dataTable, element);\n",
              "        const docLink = document.createElement('div');\n",
              "        docLink.innerHTML = docLinkHtml;\n",
              "        element.appendChild(docLink);\n",
              "      }\n",
              "    </script>\n",
              "  </div>\n",
              "\n",
              "\n",
              "    <div id=\"df-79c04b24-1ff0-4156-9cab-6d3ab93377cc\">\n",
              "      <button class=\"colab-df-quickchart\" onclick=\"quickchart('df-79c04b24-1ff0-4156-9cab-6d3ab93377cc')\"\n",
              "                title=\"Suggest charts\"\n",
              "                style=\"display:none;\">\n",
              "\n",
              "<svg xmlns=\"http://www.w3.org/2000/svg\" height=\"24px\"viewBox=\"0 0 24 24\"\n",
              "     width=\"24px\">\n",
              "    <g>\n",
              "        <path d=\"M19 3H5c-1.1 0-2 .9-2 2v14c0 1.1.9 2 2 2h14c1.1 0 2-.9 2-2V5c0-1.1-.9-2-2-2zM9 17H7v-7h2v7zm4 0h-2V7h2v10zm4 0h-2v-4h2v4z\"/>\n",
              "    </g>\n",
              "</svg>\n",
              "      </button>\n",
              "\n",
              "<style>\n",
              "  .colab-df-quickchart {\n",
              "      --bg-color: #E8F0FE;\n",
              "      --fill-color: #1967D2;\n",
              "      --hover-bg-color: #E2EBFA;\n",
              "      --hover-fill-color: #174EA6;\n",
              "      --disabled-fill-color: #AAA;\n",
              "      --disabled-bg-color: #DDD;\n",
              "  }\n",
              "\n",
              "  [theme=dark] .colab-df-quickchart {\n",
              "      --bg-color: #3B4455;\n",
              "      --fill-color: #D2E3FC;\n",
              "      --hover-bg-color: #434B5C;\n",
              "      --hover-fill-color: #FFFFFF;\n",
              "      --disabled-bg-color: #3B4455;\n",
              "      --disabled-fill-color: #666;\n",
              "  }\n",
              "\n",
              "  .colab-df-quickchart {\n",
              "    background-color: var(--bg-color);\n",
              "    border: none;\n",
              "    border-radius: 50%;\n",
              "    cursor: pointer;\n",
              "    display: none;\n",
              "    fill: var(--fill-color);\n",
              "    height: 32px;\n",
              "    padding: 0;\n",
              "    width: 32px;\n",
              "  }\n",
              "\n",
              "  .colab-df-quickchart:hover {\n",
              "    background-color: var(--hover-bg-color);\n",
              "    box-shadow: 0 1px 2px rgba(60, 64, 67, 0.3), 0 1px 3px 1px rgba(60, 64, 67, 0.15);\n",
              "    fill: var(--button-hover-fill-color);\n",
              "  }\n",
              "\n",
              "  .colab-df-quickchart-complete:disabled,\n",
              "  .colab-df-quickchart-complete:disabled:hover {\n",
              "    background-color: var(--disabled-bg-color);\n",
              "    fill: var(--disabled-fill-color);\n",
              "    box-shadow: none;\n",
              "  }\n",
              "\n",
              "  .colab-df-spinner {\n",
              "    border: 2px solid var(--fill-color);\n",
              "    border-color: transparent;\n",
              "    border-bottom-color: var(--fill-color);\n",
              "    animation:\n",
              "      spin 1s steps(1) infinite;\n",
              "  }\n",
              "\n",
              "  @keyframes spin {\n",
              "    0% {\n",
              "      border-color: transparent;\n",
              "      border-bottom-color: var(--fill-color);\n",
              "      border-left-color: var(--fill-color);\n",
              "    }\n",
              "    20% {\n",
              "      border-color: transparent;\n",
              "      border-left-color: var(--fill-color);\n",
              "      border-top-color: var(--fill-color);\n",
              "    }\n",
              "    30% {\n",
              "      border-color: transparent;\n",
              "      border-left-color: var(--fill-color);\n",
              "      border-top-color: var(--fill-color);\n",
              "      border-right-color: var(--fill-color);\n",
              "    }\n",
              "    40% {\n",
              "      border-color: transparent;\n",
              "      border-right-color: var(--fill-color);\n",
              "      border-top-color: var(--fill-color);\n",
              "    }\n",
              "    60% {\n",
              "      border-color: transparent;\n",
              "      border-right-color: var(--fill-color);\n",
              "    }\n",
              "    80% {\n",
              "      border-color: transparent;\n",
              "      border-right-color: var(--fill-color);\n",
              "      border-bottom-color: var(--fill-color);\n",
              "    }\n",
              "    90% {\n",
              "      border-color: transparent;\n",
              "      border-bottom-color: var(--fill-color);\n",
              "    }\n",
              "  }\n",
              "</style>\n",
              "\n",
              "      <script>\n",
              "        async function quickchart(key) {\n",
              "          const quickchartButtonEl =\n",
              "            document.querySelector('#' + key + ' button');\n",
              "          quickchartButtonEl.disabled = true;  // To prevent multiple clicks.\n",
              "          quickchartButtonEl.classList.add('colab-df-spinner');\n",
              "          try {\n",
              "            const charts = await google.colab.kernel.invokeFunction(\n",
              "                'suggestCharts', [key], {});\n",
              "          } catch (error) {\n",
              "            console.error('Error during call to suggestCharts:', error);\n",
              "          }\n",
              "          quickchartButtonEl.classList.remove('colab-df-spinner');\n",
              "          quickchartButtonEl.classList.add('colab-df-quickchart-complete');\n",
              "        }\n",
              "        (() => {\n",
              "          let quickchartButtonEl =\n",
              "            document.querySelector('#df-79c04b24-1ff0-4156-9cab-6d3ab93377cc button');\n",
              "          quickchartButtonEl.style.display =\n",
              "            google.colab.kernel.accessAllowed ? 'block' : 'none';\n",
              "        })();\n",
              "      </script>\n",
              "    </div>\n",
              "    </div>\n",
              "  </div>\n"
            ],
            "application/vnd.google.colaboratory.intrinsic+json": {
              "type": "dataframe",
              "variable_name": "tess_train_df",
              "summary": "{\n  \"name\": \"tess_train_df\",\n  \"rows\": 2240,\n  \"fields\": [\n    {\n      \"column\": \"file_path\",\n      \"properties\": {\n        \"dtype\": \"string\",\n        \"num_unique_values\": 2240,\n        \"samples\": [\n          \"./tess_train_dataset/OAF_Sad/OAF_cause_sad.wav\",\n          \"./tess_train_dataset/OAF_angry/OAF_mode_angry.wav\",\n          \"./tess_train_dataset/YAF_sad/YAF_bar_sad.wav\"\n        ],\n        \"semantic_type\": \"\",\n        \"description\": \"\"\n      }\n    },\n    {\n      \"column\": \"word\",\n      \"properties\": {\n        \"dtype\": \"category\",\n        \"num_unique_values\": 160,\n        \"samples\": [\n          \"sail\",\n          \"rain\",\n          \"page\"\n        ],\n        \"semantic_type\": \"\",\n        \"description\": \"\"\n      }\n    },\n    {\n      \"column\": \"emotion\",\n      \"properties\": {\n        \"dtype\": \"category\",\n        \"num_unique_values\": 7,\n        \"samples\": [\n          \"angry\",\n          \"disgust\",\n          \"surprised\"\n        ],\n        \"semantic_type\": \"\",\n        \"description\": \"\"\n      }\n    },\n    {\n      \"column\": \"emotion_label\",\n      \"properties\": {\n        \"dtype\": \"number\",\n        \"std\": 2,\n        \"min\": 0,\n        \"max\": 6,\n        \"num_unique_values\": 7,\n        \"samples\": [\n          3,\n          5,\n          6\n        ],\n        \"semantic_type\": \"\",\n        \"description\": \"\"\n      }\n    }\n  ]\n}"
            }
          },
          "metadata": {},
          "execution_count": 43
        }
      ]
    },
    {
      "cell_type": "markdown",
      "source": [
        "##### TESS dataset analysis:"
      ],
      "metadata": {
        "id": "A88wXfbVKCsa"
      }
    },
    {
      "cell_type": "code",
      "source": [
        "def print_counts(df, name):\n",
        "  print(f\"--- {name} Dataset ---\")\n",
        "  print(\"Emotion counts:\")\n",
        "  print(df['emotion'].value_counts())\n",
        "  print(\"\\nWord counts:\")\n",
        "  print(df['word'].value_counts())\n",
        "  print()\n",
        "\n",
        "print_counts(tess_train_df, \"Train\")\n",
        "print_counts(tess_val_df, \"Validation\")\n",
        "print_counts(tess_test_df, \"Test\")"
      ],
      "metadata": {
        "colab": {
          "base_uri": "https://localhost:8080/"
        },
        "collapsed": true,
        "id": "gAeleG3WMVu0",
        "outputId": "e3079b1e-a068-46df-8df7-c2e6111b2240"
      },
      "execution_count": 44,
      "outputs": [
        {
          "output_type": "stream",
          "name": "stdout",
          "text": [
            "--- Train Dataset ---\n",
            "Emotion counts:\n",
            "emotion\n",
            "angry        320\n",
            "disgust      320\n",
            "sad          320\n",
            "neutral      320\n",
            "fear         320\n",
            "surprised    320\n",
            "happy        320\n",
            "Name: count, dtype: int64\n",
            "\n",
            "Word counts:\n",
            "word\n",
            "chalk    14\n",
            "hush     14\n",
            "germ     14\n",
            "ditch    14\n",
            "rush     14\n",
            "         ..\n",
            "juice    14\n",
            "moon     14\n",
            "hire     14\n",
            "nag      14\n",
            "pearl    14\n",
            "Name: count, Length: 160, dtype: int64\n",
            "\n",
            "--- Validation Dataset ---\n",
            "Emotion counts:\n",
            "emotion\n",
            "angry        40\n",
            "disgust      40\n",
            "sad          40\n",
            "neutral      40\n",
            "fear         40\n",
            "surprised    40\n",
            "happy        40\n",
            "Name: count, dtype: int64\n",
            "\n",
            "Word counts:\n",
            "word\n",
            "lore     14\n",
            "rose     14\n",
            "youth    14\n",
            "sub      14\n",
            "join     14\n",
            "shall    14\n",
            "soup     14\n",
            "peg      14\n",
            "talk     14\n",
            "bean     14\n",
            "hit      14\n",
            "lot      14\n",
            "time     14\n",
            "came     14\n",
            "rag      14\n",
            "sure     14\n",
            "size     14\n",
            "ripe     14\n",
            "nice     14\n",
            "have     14\n",
            "Name: count, dtype: int64\n",
            "\n",
            "--- Test Dataset ---\n",
            "Emotion counts:\n",
            "emotion\n",
            "angry        40\n",
            "disgust      40\n",
            "sad          40\n",
            "neutral      40\n",
            "fear         40\n",
            "surprised    40\n",
            "happy        40\n",
            "Name: count, dtype: int64\n",
            "\n",
            "Word counts:\n",
            "word\n",
            "near      14\n",
            "king      14\n",
            "mob       14\n",
            "love      14\n",
            "fit       14\n",
            "gun       14\n",
            "shirt     14\n",
            "death     14\n",
            "hash      14\n",
            "mess      14\n",
            "witch     14\n",
            "void      14\n",
            "tool      14\n",
            "south     14\n",
            "wash      14\n",
            "dip       14\n",
            "raise     14\n",
            "chat      14\n",
            "choice    14\n",
            "calm      14\n",
            "Name: count, dtype: int64\n",
            "\n"
          ]
        }
      ]
    },
    {
      "cell_type": "code",
      "source": [
        "plot_emotion_distribution(tess_train_df, tess_val_df, tess_test_df)"
      ],
      "metadata": {
        "colab": {
          "base_uri": "https://localhost:8080/",
          "height": 313
        },
        "id": "p_MzLy7UKALc",
        "outputId": "4f404843-2295-4a50-f3a9-ebcea39802f5",
        "collapsed": true
      },
      "execution_count": null,
      "outputs": [
        {
          "output_type": "display_data",
          "data": {
            "text/plain": [
              "<Figure size 1800x600 with 3 Axes>"
            ],
            "image/png": "[encoded data removed]"
          },
          "metadata": {}
        }
      ]
    },
    {
      "cell_type": "code",
      "source": [
        "plot_emotion_distribution(tess_train_df, tess_val_df, tess_test_df)"
      ],
      "metadata": {
        "colab": {
          "base_uri": "https://localhost:8080/",
          "height": 584
        },
        "id": "B5A2mfzuojSD",
        "outputId": "abf0de85-71a9-46c2-83f7-6f500b69a7cd"
      },
      "execution_count": 45,
      "outputs": [
        {
          "output_type": "display_data",
          "data": {
            "text/plain": [
              "<Figure size 1800x600 with 3 Axes>"
            ],
            "image/png": "[encoded data removed]"
          },
          "metadata": {}
        }
      ]
    },
    {
      "cell_type": "markdown",
      "source": [
        "#### Data aggregation:"
      ],
      "metadata": {
        "id": "2PvwTyASx0qa"
      }
    },
    {
      "cell_type": "code",
      "source": [
        "ravdess_train_df = ravdess_train_df[['file_path', 'emotion_label']]\n",
        "ravdess_val_df = ravdess_val_df[['file_path', 'emotion_label']]\n",
        "ravdess_test_df = ravdess_test_df[['file_path', 'emotion_label']]\n",
        "\n",
        "tess_train_df = tess_train_df[['file_path', 'emotion_label']]\n",
        "tess_val_df = tess_val_df[['file_path', 'emotion_label']]\n",
        "tess_test_df = tess_test_df[['file_path', 'emotion_label']]\n",
        "\n",
        "train_df = pd.concat([ravdess_train_df, tess_train_df], ignore_index=True)\n",
        "val_df = pd.concat([ravdess_val_df, tess_val_df], ignore_index=True)\n",
        "test_df = pd.concat([ravdess_test_df, tess_test_df], ignore_index=True)\n",
        "\n",
        "print(\"Train dataset size:\", train_df.shape)\n",
        "print(\"Validation dataset size:\", val_df.shape)\n",
        "print(\"Test dataset size:\", test_df.shape)"
      ],
      "metadata": {
        "id": "MCiVBFi0x-i9",
        "colab": {
          "base_uri": "https://localhost:8080/"
        },
        "outputId": "4a402201-aba9-48f1-e7a8-df6eb0877525"
      },
      "execution_count": 46,
      "outputs": [
        {
          "output_type": "stream",
          "name": "stdout",
          "text": [
            "Train dataset size: (3280, 2)\n",
            "Validation dataset size: (384, 2)\n",
            "Test dataset size: (384, 2)\n"
          ]
        }
      ]
    },
    {
      "cell_type": "code",
      "source": [
        "plot_emotion_label_distribution(train_df, val_df, test_df)"
      ],
      "metadata": {
        "colab": {
          "base_uri": "https://localhost:8080/",
          "height": 584
        },
        "id": "nBzyrqjPRClS",
        "outputId": "59c040ce-7f3d-4a07-93c0-108a5fc4973d"
      },
      "execution_count": 50,
      "outputs": [
        {
          "output_type": "display_data",
          "data": {
            "text/plain": [
              "<Figure size 1800x600 with 3 Axes>"
            ],
            "image/png": "[encoded data removed]"
          },
          "metadata": {}
        }
      ]
    },
    {
      "cell_type": "code",
      "source": [
        "train_df[\"emotion_label\"] = train_df[\"emotion_label\"] - 1\n",
        "val_df[\"emotion_label\"] = val_df[\"emotion_label\"] - 1\n",
        "test_df[\"emotion_label\"] = test_df[\"emotion_label\"] - 1"
      ],
      "metadata": {
        "id": "m1MSqziXYw7k"
      },
      "execution_count": null,
      "outputs": []
    },
    {
      "cell_type": "code",
      "source": [
        "train_df.head()"
      ],
      "metadata": {
        "colab": {
          "base_uri": "https://localhost:8080/",
          "height": 206
        },
        "id": "K50fnXsZQ_z3",
        "outputId": "43489dd1-325b-407c-a4f4-eb567ccb3115"
      },
      "execution_count": 51,
      "outputs": [
        {
          "output_type": "execute_result",
          "data": {
            "text/plain": [
              "                                           file_path  emotion_label\n",
              "0  ./ravdess_train_dataset/Actor_19/03-01-04-02-0...              2\n",
              "1  ./ravdess_train_dataset/Actor_19/03-01-01-01-0...              0\n",
              "2  ./ravdess_train_dataset/Actor_19/03-01-04-02-0...              2\n",
              "3  ./ravdess_train_dataset/Actor_19/03-01-05-01-0...              3\n",
              "4  ./ravdess_train_dataset/Actor_19/03-01-05-01-0...              3"
            ],
            "text/html": [
              "\n",
              "  <div id=\"df-31f658c0-9efb-4761-bc73-dc7c5ad792cc\" class=\"colab-df-container\">\n",
              "    <div>\n",
              "<style scoped>\n",
              "    .dataframe tbody tr th:only-of-type {\n",
              "        vertical-align: middle;\n",
              "    }\n",
              "\n",
              "    .dataframe tbody tr th {\n",
              "        vertical-align: top;\n",
              "    }\n",
              "\n",
              "    .dataframe thead th {\n",
              "        text-align: right;\n",
              "    }\n",
              "</style>\n",
              "<table border=\"1\" class=\"dataframe\">\n",
              "  <thead>\n",
              "    <tr style=\"text-align: right;\">\n",
              "      <th></th>\n",
              "      <th>file_path</th>\n",
              "      <th>emotion_label</th>\n",
              "    </tr>\n",
              "  </thead>\n",
              "  <tbody>\n",
              "    <tr>\n",
              "      <th>0</th>\n",
              "      <td>./ravdess_train_dataset/Actor_19/03-01-04-02-0...</td>\n",
              "      <td>2</td>\n",
              "    </tr>\n",
              "    <tr>\n",
              "      <th>1</th>\n",
              "      <td>./ravdess_train_dataset/Actor_19/03-01-01-01-0...</td>\n",
              "      <td>0</td>\n",
              "    </tr>\n",
              "    <tr>\n",
              "      <th>2</th>\n",
              "      <td>./ravdess_train_dataset/Actor_19/03-01-04-02-0...</td>\n",
              "      <td>2</td>\n",
              "    </tr>\n",
              "    <tr>\n",
              "      <th>3</th>\n",
              "      <td>./ravdess_train_dataset/Actor_19/03-01-05-01-0...</td>\n",
              "      <td>3</td>\n",
              "    </tr>\n",
              "    <tr>\n",
              "      <th>4</th>\n",
              "      <td>./ravdess_train_dataset/Actor_19/03-01-05-01-0...</td>\n",
              "      <td>3</td>\n",
              "    </tr>\n",
              "  </tbody>\n",
              "</table>\n",
              "</div>\n",
              "    <div class=\"colab-df-buttons\">\n",
              "\n",
              "  <div class=\"colab-df-container\">\n",
              "    <button class=\"colab-df-convert\" onclick=\"convertToInteractive('df-31f658c0-9efb-4761-bc73-dc7c5ad792cc')\"\n",
              "            title=\"Convert this dataframe to an interactive table.\"\n",
              "            style=\"display:none;\">\n",
              "\n",
              "  <svg xmlns=\"http://www.w3.org/2000/svg\" height=\"24px\" viewBox=\"0 -960 960 960\">\n",
              "    <path d=\"M120-120v-720h720v720H120Zm60-500h600v-160H180v160Zm220 220h160v-160H400v160Zm0 220h160v-160H400v160ZM180-400h160v-160H180v160Zm440 0h160v-160H620v160ZM180-180h160v-160H180v160Zm440 0h160v-160H620v160Z\"/>\n",
              "  </svg>\n",
              "    </button>\n",
              "\n",
              "  <style>\n",
              "    .colab-df-container {\n",
              "      display:flex;\n",
              "      gap: 12px;\n",
              "    }\n",
              "\n",
              "    .colab-df-convert {\n",
              "      background-color: #E8F0FE;\n",
              "      border: none;\n",
              "      border-radius: 50%;\n",
              "      cursor: pointer;\n",
              "      display: none;\n",
              "      fill: #1967D2;\n",
              "      height: 32px;\n",
              "      padding: 0 0 0 0;\n",
              "      width: 32px;\n",
              "    }\n",
              "\n",
              "    .colab-df-convert:hover {\n",
              "      background-color: #E2EBFA;\n",
              "      box-shadow: 0px 1px 2px rgba(60, 64, 67, 0.3), 0px 1px 3px 1px rgba(60, 64, 67, 0.15);\n",
              "      fill: #174EA6;\n",
              "    }\n",
              "\n",
              "    .colab-df-buttons div {\n",
              "      margin-bottom: 4px;\n",
              "    }\n",
              "\n",
              "    [theme=dark] .colab-df-convert {\n",
              "      background-color: #3B4455;\n",
              "      fill: #D2E3FC;\n",
              "    }\n",
              "\n",
              "    [theme=dark] .colab-df-convert:hover {\n",
              "      background-color: #434B5C;\n",
              "      box-shadow: 0px 1px 3px 1px rgba(0, 0, 0, 0.15);\n",
              "      filter: drop-shadow(0px 1px 2px rgba(0, 0, 0, 0.3));\n",
              "      fill: #FFFFFF;\n",
              "    }\n",
              "  </style>\n",
              "\n",
              "    <script>\n",
              "      const buttonEl =\n",
              "        document.querySelector('#df-31f658c0-9efb-4761-bc73-dc7c5ad792cc button.colab-df-convert');\n",
              "      buttonEl.style.display =\n",
              "        google.colab.kernel.accessAllowed ? 'block' : 'none';\n",
              "\n",
              "      async function convertToInteractive(key) {\n",
              "        const element = document.querySelector('#df-31f658c0-9efb-4761-bc73-dc7c5ad792cc');\n",
              "        const dataTable =\n",
              "          await google.colab.kernel.invokeFunction('convertToInteractive',\n",
              "                                                    [key], {});\n",
              "        if (!dataTable) return;\n",
              "\n",
              "        const docLinkHtml = 'Like what you see? Visit the ' +\n",
              "          '<a target=\"_blank\" href=https://colab.research.google.com/notebooks/data_table.ipynb>data table notebook</a>'\n",
              "          + ' to learn more about interactive tables.';\n",
              "        element.innerHTML = '';\n",
              "        dataTable['output_type'] = 'display_data';\n",
              "        await google.colab.output.renderOutput(dataTable, element);\n",
              "        const docLink = document.createElement('div');\n",
              "        docLink.innerHTML = docLinkHtml;\n",
              "        element.appendChild(docLink);\n",
              "      }\n",
              "    </script>\n",
              "  </div>\n",
              "\n",
              "\n",
              "    <div id=\"df-73347eb5-b742-4f62-ba32-bd658d7878f8\">\n",
              "      <button class=\"colab-df-quickchart\" onclick=\"quickchart('df-73347eb5-b742-4f62-ba32-bd658d7878f8')\"\n",
              "                title=\"Suggest charts\"\n",
              "                style=\"display:none;\">\n",
              "\n",
              "<svg xmlns=\"http://www.w3.org/2000/svg\" height=\"24px\"viewBox=\"0 0 24 24\"\n",
              "     width=\"24px\">\n",
              "    <g>\n",
              "        <path d=\"M19 3H5c-1.1 0-2 .9-2 2v14c0 1.1.9 2 2 2h14c1.1 0 2-.9 2-2V5c0-1.1-.9-2-2-2zM9 17H7v-7h2v7zm4 0h-2V7h2v10zm4 0h-2v-4h2v4z\"/>\n",
              "    </g>\n",
              "</svg>\n",
              "      </button>\n",
              "\n",
              "<style>\n",
              "  .colab-df-quickchart {\n",
              "      --bg-color: #E8F0FE;\n",
              "      --fill-color: #1967D2;\n",
              "      --hover-bg-color: #E2EBFA;\n",
              "      --hover-fill-color: #174EA6;\n",
              "      --disabled-fill-color: #AAA;\n",
              "      --disabled-bg-color: #DDD;\n",
              "  }\n",
              "\n",
              "  [theme=dark] .colab-df-quickchart {\n",
              "      --bg-color: #3B4455;\n",
              "      --fill-color: #D2E3FC;\n",
              "      --hover-bg-color: #434B5C;\n",
              "      --hover-fill-color: #FFFFFF;\n",
              "      --disabled-bg-color: #3B4455;\n",
              "      --disabled-fill-color: #666;\n",
              "  }\n",
              "\n",
              "  .colab-df-quickchart {\n",
              "    background-color: var(--bg-color);\n",
              "    border: none;\n",
              "    border-radius: 50%;\n",
              "    cursor: pointer;\n",
              "    display: none;\n",
              "    fill: var(--fill-color);\n",
              "    height: 32px;\n",
              "    padding: 0;\n",
              "    width: 32px;\n",
              "  }\n",
              "\n",
              "  .colab-df-quickchart:hover {\n",
              "    background-color: var(--hover-bg-color);\n",
              "    box-shadow: 0 1px 2px rgba(60, 64, 67, 0.3), 0 1px 3px 1px rgba(60, 64, 67, 0.15);\n",
              "    fill: var(--button-hover-fill-color);\n",
              "  }\n",
              "\n",
              "  .colab-df-quickchart-complete:disabled,\n",
              "  .colab-df-quickchart-complete:disabled:hover {\n",
              "    background-color: var(--disabled-bg-color);\n",
              "    fill: var(--disabled-fill-color);\n",
              "    box-shadow: none;\n",
              "  }\n",
              "\n",
              "  .colab-df-spinner {\n",
              "    border: 2px solid var(--fill-color);\n",
              "    border-color: transparent;\n",
              "    border-bottom-color: var(--fill-color);\n",
              "    animation:\n",
              "      spin 1s steps(1) infinite;\n",
              "  }\n",
              "\n",
              "  @keyframes spin {\n",
              "    0% {\n",
              "      border-color: transparent;\n",
              "      border-bottom-color: var(--fill-color);\n",
              "      border-left-color: var(--fill-color);\n",
              "    }\n",
              "    20% {\n",
              "      border-color: transparent;\n",
              "      border-left-color: var(--fill-color);\n",
              "      border-top-color: var(--fill-color);\n",
              "    }\n",
              "    30% {\n",
              "      border-color: transparent;\n",
              "      border-left-color: var(--fill-color);\n",
              "      border-top-color: var(--fill-color);\n",
              "      border-right-color: var(--fill-color);\n",
              "    }\n",
              "    40% {\n",
              "      border-color: transparent;\n",
              "      border-right-color: var(--fill-color);\n",
              "      border-top-color: var(--fill-color);\n",
              "    }\n",
              "    60% {\n",
              "      border-color: transparent;\n",
              "      border-right-color: var(--fill-color);\n",
              "    }\n",
              "    80% {\n",
              "      border-color: transparent;\n",
              "      border-right-color: var(--fill-color);\n",
              "      border-bottom-color: var(--fill-color);\n",
              "    }\n",
              "    90% {\n",
              "      border-color: transparent;\n",
              "      border-bottom-color: var(--fill-color);\n",
              "    }\n",
              "  }\n",
              "</style>\n",
              "\n",
              "      <script>\n",
              "        async function quickchart(key) {\n",
              "          const quickchartButtonEl =\n",
              "            document.querySelector('#' + key + ' button');\n",
              "          quickchartButtonEl.disabled = true;  // To prevent multiple clicks.\n",
              "          quickchartButtonEl.classList.add('colab-df-spinner');\n",
              "          try {\n",
              "            const charts = await google.colab.kernel.invokeFunction(\n",
              "                'suggestCharts', [key], {});\n",
              "          } catch (error) {\n",
              "            console.error('Error during call to suggestCharts:', error);\n",
              "          }\n",
              "          quickchartButtonEl.classList.remove('colab-df-spinner');\n",
              "          quickchartButtonEl.classList.add('colab-df-quickchart-complete');\n",
              "        }\n",
              "        (() => {\n",
              "          let quickchartButtonEl =\n",
              "            document.querySelector('#df-73347eb5-b742-4f62-ba32-bd658d7878f8 button');\n",
              "          quickchartButtonEl.style.display =\n",
              "            google.colab.kernel.accessAllowed ? 'block' : 'none';\n",
              "        })();\n",
              "      </script>\n",
              "    </div>\n",
              "    </div>\n",
              "  </div>\n"
            ],
            "application/vnd.google.colaboratory.intrinsic+json": {
              "type": "dataframe",
              "variable_name": "train_df",
              "summary": "{\n  \"name\": \"train_df\",\n  \"rows\": 3280,\n  \"fields\": [\n    {\n      \"column\": \"file_path\",\n      \"properties\": {\n        \"dtype\": \"string\",\n        \"num_unique_values\": 3280,\n        \"samples\": [\n          \"./tess_train_dataset/OAF_Pleasant_surprise/OAF_pick_ps.wav\",\n          \"./tess_train_dataset/YAF_pleasant_surprised/YAF_learn_ps.wav\",\n          \"./tess_train_dataset/OAF_neutral/OAF_when_neutral.wav\"\n        ],\n        \"semantic_type\": \"\",\n        \"description\": \"\"\n      }\n    },\n    {\n      \"column\": \"emotion_label\",\n      \"properties\": {\n        \"dtype\": \"number\",\n        \"std\": 1,\n        \"min\": 0,\n        \"max\": 6,\n        \"num_unique_values\": 7,\n        \"samples\": [\n          2,\n          0,\n          5\n        ],\n        \"semantic_type\": \"\",\n        \"description\": \"\"\n      }\n    }\n  ]\n}"
            }
          },
          "metadata": {},
          "execution_count": 51
        }
      ]
    },
    {
      "cell_type": "code",
      "source": [
        "train_df[\"emotion_label\"].value_counts()"
      ],
      "metadata": {
        "colab": {
          "base_uri": "https://localhost:8080/",
          "height": 335
        },
        "id": "f9Sg8K9Ho77B",
        "outputId": "1c61d752-a98a-46e5-ceab-9614b48cd3ea"
      },
      "execution_count": 52,
      "outputs": [
        {
          "output_type": "execute_result",
          "data": {
            "text/plain": [
              "emotion_label\n",
              "2    480\n",
              "3    480\n",
              "4    480\n",
              "5    480\n",
              "6    480\n",
              "1    480\n",
              "0    400\n",
              "Name: count, dtype: int64"
            ],
            "text/html": [
              "<div>\n",
              "<style scoped>\n",
              "    .dataframe tbody tr th:only-of-type {\n",
              "        vertical-align: middle;\n",
              "    }\n",
              "\n",
              "    .dataframe tbody tr th {\n",
              "        vertical-align: top;\n",
              "    }\n",
              "\n",
              "    .dataframe thead th {\n",
              "        text-align: right;\n",
              "    }\n",
              "</style>\n",
              "<table border=\"1\" class=\"dataframe\">\n",
              "  <thead>\n",
              "    <tr style=\"text-align: right;\">\n",
              "      <th></th>\n",
              "      <th>count</th>\n",
              "    </tr>\n",
              "    <tr>\n",
              "      <th>emotion_label</th>\n",
              "      <th></th>\n",
              "    </tr>\n",
              "  </thead>\n",
              "  <tbody>\n",
              "    <tr>\n",
              "      <th>2</th>\n",
              "      <td>480</td>\n",
              "    </tr>\n",
              "    <tr>\n",
              "      <th>3</th>\n",
              "      <td>480</td>\n",
              "    </tr>\n",
              "    <tr>\n",
              "      <th>4</th>\n",
              "      <td>480</td>\n",
              "    </tr>\n",
              "    <tr>\n",
              "      <th>5</th>\n",
              "      <td>480</td>\n",
              "    </tr>\n",
              "    <tr>\n",
              "      <th>6</th>\n",
              "      <td>480</td>\n",
              "    </tr>\n",
              "    <tr>\n",
              "      <th>1</th>\n",
              "      <td>480</td>\n",
              "    </tr>\n",
              "    <tr>\n",
              "      <th>0</th>\n",
              "      <td>400</td>\n",
              "    </tr>\n",
              "  </tbody>\n",
              "</table>\n",
              "</div><br><label><b>dtype:</b> int64</label>"
            ]
          },
          "metadata": {},
          "execution_count": 52
        }
      ]
    },
    {
      "cell_type": "markdown",
      "source": [
        "### Model training:"
      ],
      "metadata": {
        "id": "sQ7EGVrOypBv"
      }
    },
    {
      "cell_type": "markdown",
      "source": [
        "#### All emotions training:"
      ],
      "metadata": {
        "id": "0Qbto4KmUs8d"
      }
    },
    {
      "cell_type": "markdown",
      "source": [
        "##### Model setup & training:"
      ],
      "metadata": {
        "id": "oGG59QwrIVaQ"
      }
    },
    {
      "cell_type": "code",
      "source": [
        "import librosa\n",
        "from datasets import Dataset\n",
        "from torch.utils.data import DataLoader\n",
        "from transformers import Wav2Vec2FeatureExtractor"
      ],
      "metadata": {
        "id": "ZDPtFO3bIVaR"
      },
      "execution_count": 53,
      "outputs": []
    },
    {
      "cell_type": "code",
      "source": [
        "def map_to_array(example):\n",
        "  speech, _ = librosa.load(example[\"file_path\"], sr=16000, mono=True)\n",
        "  example[\"speech\"] = speech\n",
        "  return example"
      ],
      "metadata": {
        "id": "pfJEal5zIVaR"
      },
      "execution_count": 54,
      "outputs": []
    },
    {
      "cell_type": "code",
      "source": [
        "train_data = Dataset.from_pandas(train_df).map(map_to_array)\n",
        "val_data = Dataset.from_pandas(val_df).map(map_to_array)\n",
        "test_data = Dataset.from_pandas(test_df).map(map_to_array)"
      ],
      "metadata": {
        "colab": {
          "base_uri": "https://localhost:8080/",
          "height": 113,
          "referenced_widgets": [
            "0e52b95ca9284d6e8a1b3b7cef4e2af6",
            "3f167d14b3b644dd9b8bcf1c5cb07d9a",
            "fe392212c3a4413c82a0b6b73781c7ad",
            "2f5f9fc294be4e03b7512f1efd04daf8",
            "94bddcdafcd14211898cf6760a11ec94",
            "f3ca606ff43444deac90c641174658dc",
            "64d89806c88d4fe2b37dcf1163f77f7c",
            "d15c04c6c38c4015b3a017904cfae55f",
            "6da0b107d8934e50854f7ecdc7949eda",
            "683c49acc51d40f9b10e7ad805c672e6",
            "79f4bd2e7aee4231b9f4fd09afaf620e",
            "f37ce857b8254a11b4dd5947d3231187",
            "d1c85ca4a1de40e8996d1b0cc510052f",
            "d41b8b08dbe34f43b144b233d0a8686b",
            "c3ac7aa3974348c79ba60336c4c9d689",
            "411237dfadf8462e81db5ee9908ff548",
            "d5c02aca0cfb49f7aee063b064f5064b",
            "2bccc76d1c5743d5acf3f87cdb5bc2c9",
            "d63cb29d0d3545bab73589146feeacdc",
            "fda1397efe5e4120bb21dbbc18a25659",
            "4938bfcf319240929bf9297ca139340a",
            "17c1b3e97e054f3bab918c13699ed516",
            "56edf6bc160548329a715acd2a8cbd88",
            "cd691335915648f6a4bcb13f5d894200",
            "899a605c10f64d78b185533678be4738",
            "dc6544f85cfd4860a9bd0350d7d99a28",
            "be613fd7dc1c4d7dbbac9953f1222da1",
            "047a8bc660bb47b5975b8e2294cc2dc9",
            "3e03b7f27b62401299daff9058fb1cf7",
            "be7b0068730a408eb256fbc4e82d4615",
            "19ca7cfb69354e11af4462b48dc1cc4d",
            "f0210f41cc1d4211893c2e0386398a06",
            "eb6d06de8cc64867aa4d3b4da1e75317"
          ]
        },
        "id": "9OsA3I6eVgwT",
        "outputId": "76aa7fce-092b-44d2-ef9d-0bccce113028"
      },
      "execution_count": 55,
      "outputs": [
        {
          "output_type": "display_data",
          "data": {
            "text/plain": [
              "Map:   0%|          | 0/3280 [00:00<?, ? examples/s]"
            ],
            "application/vnd.jupyter.widget-view+json": {
              "version_major": 2,
              "version_minor": 0,
              "model_id": "0e52b95ca9284d6e8a1b3b7cef4e2af6"
            }
          },
          "metadata": {}
        },
        {
          "output_type": "display_data",
          "data": {
            "text/plain": [
              "Map:   0%|          | 0/384 [00:00<?, ? examples/s]"
            ],
            "application/vnd.jupyter.widget-view+json": {
              "version_major": 2,
              "version_minor": 0,
              "model_id": "f37ce857b8254a11b4dd5947d3231187"
            }
          },
          "metadata": {}
        },
        {
          "output_type": "display_data",
          "data": {
            "text/plain": [
              "Map:   0%|          | 0/384 [00:00<?, ? examples/s]"
            ],
            "application/vnd.jupyter.widget-view+json": {
              "version_major": 2,
              "version_minor": 0,
              "model_id": "56edf6bc160548329a715acd2a8cbd88"
            }
          },
          "metadata": {}
        }
      ]
    },
    {
      "cell_type": "code",
      "source": [
        "del train_df, test_df, val_df\n",
        "gc.collect()"
      ],
      "metadata": {
        "colab": {
          "base_uri": "https://localhost:8080/"
        },
        "id": "7q_5mC6mgmsC",
        "outputId": "e4dfdf84-f927-4dd9-dbec-111024122375"
      },
      "execution_count": 56,
      "outputs": [
        {
          "output_type": "execute_result",
          "data": {
            "text/plain": [
              "43"
            ]
          },
          "metadata": {},
          "execution_count": 56
        }
      ]
    },
    {
      "cell_type": "code",
      "source": [
        "feature_extractor = Wav2Vec2FeatureExtractor.from_pretrained(\"superb/hubert-large-superb-er\", num_labels=7)  #, ignore_mismatched_sizes=True)  # , num_labels=num_labels)"
      ],
      "metadata": {
        "collapsed": true,
        "id": "Mu-EMKlMIVaR",
        "colab": {
          "base_uri": "https://localhost:8080/",
          "height": 49,
          "referenced_widgets": [
            "4f105c31e6e145fb810fb9a6302c99f3",
            "15eb976ee7e6490c8bafa0dbfecaa951",
            "b2c7b1f08d8b4dd19d8a0898dc58f18d",
            "69b178ca8a9347b7b085783228b15c78",
            "c9c8a1061aae40c6875fc3e9baf36335",
            "391fbe02f2ad4c439f5339300e9ad6ed",
            "27b5d8a34bf74c539d679e216df4fbe0",
            "7bb9ae36833141cd8a51a85992874bc3",
            "5d966fe86da04dbdba5d66509dbb4c26",
            "521cd38264a34747a617fde386f0c699",
            "ec2120fc584b4430899144ee75fa866f"
          ]
        },
        "outputId": "6333e1da-ea17-4a6a-bb39-afe55a6caa84"
      },
      "execution_count": 57,
      "outputs": [
        {
          "output_type": "display_data",
          "data": {
            "text/plain": [
              "preprocessor_config.json:   0%|          | 0.00/212 [00:00<?, ?B/s]"
            ],
            "application/vnd.jupyter.widget-view+json": {
              "version_major": 2,
              "version_minor": 0,
              "model_id": "4f105c31e6e145fb810fb9a6302c99f3"
            }
          },
          "metadata": {}
        }
      ]
    },
    {
      "cell_type": "code",
      "source": [
        "print(\"Clearing GPU cache...\")\n",
        "torch.cuda.empty_cache()"
      ],
      "metadata": {
        "colab": {
          "base_uri": "https://localhost:8080/"
        },
        "outputId": "11145a6f-5368-4f04-df93-b20a01d50361",
        "id": "xtxakBNyIVaR"
      },
      "execution_count": 58,
      "outputs": [
        {
          "output_type": "stream",
          "name": "stdout",
          "text": [
            "Clearing GPU cache...\n"
          ]
        }
      ]
    },
    {
      "cell_type": "code",
      "source": [
        "os.makedirs(\"./batches\", exist_ok=True)"
      ],
      "metadata": {
        "id": "5MkUIrcuMoj7"
      },
      "execution_count": 59,
      "outputs": []
    },
    {
      "cell_type": "code",
      "source": [
        "def save_batched_encodings(data, labels, feature_extractor, batch_size, prefix, output_dir):\n",
        "  os.makedirs(output_dir, exist_ok=True)\n",
        "  total = len(data)\n",
        "\n",
        "  for i in tqdm(range(0, total, batch_size), desc=f\"Encoding {prefix}\"):\n",
        "    batch_data = data[i:i+batch_size]\n",
        "    batch_labels = labels[i:i+batch_size]\n",
        "    encodings = feature_extractor(batch_data, sampling_rate=16000, padding=True, return_tensors=\"pt\")\n",
        "    torch.save((encodings, batch_labels), os.path.join(output_dir, f\"{prefix}_batch_{i//batch_size}.pt\"))\n",
        "\n",
        "    del encodings, batch_data, batch_labels\n",
        "    gc.collect()"
      ],
      "metadata": {
        "id": "4aOKuq0dIkcR"
      },
      "execution_count": 60,
      "outputs": []
    },
    {
      "cell_type": "code",
      "source": [
        "save_batched_encodings(list(train_data[\"speech\"]), list(train_data[\"emotion_label\"]), feature_extractor, batch_size=256, prefix=\"train\", output_dir=\"./batches\")\n",
        "save_batched_encodings(list(val_data[\"speech\"]), list(val_data[\"emotion_label\"]), feature_extractor, batch_size=256, prefix=\"val\", output_dir=\"./batches\")\n",
        "save_batched_encodings(list(test_data[\"speech\"]), list(test_data[\"emotion_label\"]), feature_extractor, batch_size=256, prefix=\"test\", output_dir=\"./batches\")"
      ],
      "metadata": {
        "colab": {
          "base_uri": "https://localhost:8080/"
        },
        "id": "0HV0qArHI0_-",
        "outputId": "94c059de-8c54-4e77-91e6-7c06b4e00e7b"
      },
      "execution_count": 61,
      "outputs": [
        {
          "output_type": "stream",
          "name": "stderr",
          "text": [
            "Encoding train: 100%|██████████| 13/13 [00:48<00:00,  3.71s/it]\n",
            "Encoding val: 100%|██████████| 2/2 [00:02<00:00,  1.13s/it]\n",
            "Encoding test: 100%|██████████| 2/2 [00:02<00:00,  1.41s/it]\n"
          ]
        }
      ]
    },
    {
      "cell_type": "code",
      "source": [
        "import torch\n",
        "from torch.utils.data import Dataset\n",
        "\n",
        "class BatchedDataset(Dataset):\n",
        "  def __init__(self, batch_files):\n",
        "    self.batch_files = batch_files\n",
        "    self.samples = []\n",
        "\n",
        "    for batch_idx, file in enumerate(batch_files):\n",
        "      encodings, labels = torch.load(file, weights_only=False)\n",
        "      n = len(labels)\n",
        "      self.samples.extend([(batch_idx, i) for i in range(n)])\n",
        "\n",
        "  def __len__(self):\n",
        "    return len(self.samples)\n",
        "\n",
        "  def __getitem__(self, idx):\n",
        "    batch_idx, sample_idx = self.samples[idx]\n",
        "    batch_file = self.batch_files[batch_idx]\n",
        "\n",
        "    # Load full batch — must disable weights_only\n",
        "    encodings, labels = torch.load(batch_file, weights_only=False)\n",
        "\n",
        "    item = {key: val[sample_idx] for key, val in encodings.items()}\n",
        "    item[\"emotion_label\"] = torch.tensor(labels[sample_idx])\n",
        "    return item"
      ],
      "metadata": {
        "id": "1IwsL2MSI3yh"
      },
      "execution_count": 62,
      "outputs": []
    },
    {
      "cell_type": "code",
      "source": [
        "from glob import glob\n",
        "\n",
        "train_files = sorted(glob(\"./batches/train_batch_*.pt\"))\n",
        "val_files = sorted(glob(\"./batches/val_batch_*.pt\"))\n",
        "test_files = sorted(glob(\"./batches/test_batch_*.pt\"))\n",
        "\n",
        "train_dataset = BatchedDataset(train_files)\n",
        "val_dataset = BatchedDataset(val_files)\n",
        "test_dataset = BatchedDataset(test_files)"
      ],
      "metadata": {
        "id": "5g95LZyBJAix"
      },
      "execution_count": 63,
      "outputs": []
    },
    {
      "cell_type": "code",
      "source": [
        "from torch.nn.utils.rnn import pad_sequence\n",
        "\n",
        "def collate_fn(batch):\n",
        "    input_values = [item[\"input_values\"] for item in batch]\n",
        "    attention_mask = [item[\"attention_mask\"] for item in batch]\n",
        "    labels = torch.tensor([item[\"emotion_label\"] for item in batch])\n",
        "\n",
        "    input_values_padded = pad_sequence(input_values, batch_first=True)\n",
        "    attention_mask_padded = pad_sequence(attention_mask, batch_first=True)\n",
        "\n",
        "    return {\n",
        "        \"input_values\": input_values_padded,\n",
        "        \"attention_mask\": attention_mask_padded,\n",
        "        \"emotion_label\": labels\n",
        "    }"
      ],
      "metadata": {
        "id": "hSuyLThQlMwX"
      },
      "execution_count": 64,
      "outputs": []
    },
    {
      "cell_type": "code",
      "source": [
        "# train_loader = DataLoader(train_dataset, batch_size=4, shuffle=True, num_workers=2)\n",
        "# val_loader = DataLoader(val_dataset, batch_size=4, shuffle=False, num_workers=2)\n",
        "# test_loader = DataLoader(test_dataset, batch_size=4, shuffle=False, num_workers=2)\n",
        "\n",
        "train_loader = DataLoader(train_dataset, batch_size=4, shuffle=True, num_workers=2, collate_fn=collate_fn)\n",
        "val_loader = DataLoader(val_dataset, batch_size=4, shuffle=False, num_workers=2, collate_fn=collate_fn)\n",
        "test_loader = DataLoader(test_dataset, batch_size=4, shuffle=False, num_workers=2, collate_fn=collate_fn)"
      ],
      "metadata": {
        "id": "re_17NodIVaS"
      },
      "execution_count": 67,
      "outputs": []
    },
    {
      "cell_type": "code",
      "source": [
        "# del train_loader, test_loader, val_loader\n",
        "# gc.collect()"
      ],
      "metadata": {
        "id": "QobKDgesqtst"
      },
      "execution_count": 69,
      "outputs": []
    },
    {
      "cell_type": "code",
      "source": [
        "num_labels=7\n",
        "device = torch.device(\"cuda:0\" if torch.cuda.is_available() else \"cpu\")"
      ],
      "metadata": {
        "id": "zma-HiqAqn8K"
      },
      "execution_count": 68,
      "outputs": []
    },
    {
      "cell_type": "code",
      "source": [
        "from torch.nn import CrossEntropyLoss\n",
        "\n",
        "from collections import Counter\n",
        "import numpy as np\n",
        "\n",
        "emotion_counts = Counter(train_data[\"emotion_label\"])\n",
        "total = sum(emotion_counts.values())\n",
        "class_weights = [total / emotion_counts[i] for i in range(num_labels)]\n",
        "weights_tensor = torch.tensor(class_weights).to(device)\n",
        "\n",
        "loss_fn = CrossEntropyLoss(weight=weights_tensor)"
      ],
      "metadata": {
        "id": "MqVtl2GNqKyU"
      },
      "execution_count": 106,
      "outputs": []
    },
    {
      "cell_type": "code",
      "source": [
        "from torch.optim import AdamW\n",
        "from transformers import HubertForSequenceClassification"
      ],
      "metadata": {
        "id": "WckmXNFYe3Lt"
      },
      "execution_count": 107,
      "outputs": []
    },
    {
      "cell_type": "code",
      "source": [
        "# model = HubertForSequenceClassification.from_pretrained(\"superb/hubert-large-superb-er\")\n",
        "model = HubertForSequenceClassification.from_pretrained(\"superb/hubert-large-superb-er\", num_labels=num_labels, ignore_mismatched_sizes=True)\n",
        "\n",
        "model.gradient_checkpointing_enable()\n",
        "model.to(device)\n",
        "\n",
        "optim = AdamW(model.parameters(), lr=1e-5)"
      ],
      "metadata": {
        "id": "DW_RH3E8IVaT",
        "colab": {
          "base_uri": "https://localhost:8080/"
        },
        "outputId": "d5e88d19-ea31-4b86-eaf8-699b8a26375b"
      },
      "execution_count": 108,
      "outputs": [
        {
          "output_type": "stream",
          "name": "stderr",
          "text": [
            "Some weights of HubertForSequenceClassification were not initialized from the model checkpoint at superb/hubert-large-superb-er and are newly initialized because the shapes did not match:\n",
            "- classifier.weight: found shape torch.Size([4, 256]) in the checkpoint and torch.Size([7, 256]) in the model instantiated\n",
            "- classifier.bias: found shape torch.Size([4]) in the checkpoint and torch.Size([7]) in the model instantiated\n",
            "You should probably TRAIN this model on a down-stream task to be able to use it for predictions and inference.\n"
          ]
        }
      ]
    },
    {
      "cell_type": "code",
      "source": [
        "print(\"Clearing GPU cache...\")\n",
        "torch.cuda.empty_cache()"
      ],
      "metadata": {
        "colab": {
          "base_uri": "https://localhost:8080/"
        },
        "outputId": "3c8c74b0-ef05-4e02-ac08-9d7aef9fc065",
        "id": "mvtJJVVWj4nj"
      },
      "execution_count": 109,
      "outputs": [
        {
          "output_type": "stream",
          "name": "stdout",
          "text": [
            "Clearing GPU cache...\n"
          ]
        }
      ]
    },
    {
      "cell_type": "code",
      "source": [
        "def predict(outputs):\n",
        "  probabilities = torch.softmax(outputs, dim=1)\n",
        "  predictions = torch.argmax(probabilities, dim=1)\n",
        "  return predictions"
      ],
      "metadata": {
        "id": "VSU0i4eaIVaT"
      },
      "execution_count": 110,
      "outputs": []
    },
    {
      "cell_type": "code",
      "source": [
        "def evaluate(model, val_loader):\n",
        "  model.eval()\n",
        "  correct = 0\n",
        "  count = 0\n",
        "  val_loss = 0.0\n",
        "  with torch.no_grad():\n",
        "    for batch in val_loader:\n",
        "      input_ids = batch[\"input_values\"].to(device)\n",
        "      attention_mask = batch[\"attention_mask\"].to(device)\n",
        "      labels = batch[\"emotion_label\"].to(device)\n",
        "\n",
        "      logits = model(input_ids, attention_mask=attention_mask).logits\n",
        "      loss = loss_fn(logits, labels)\n",
        "      val_loss += loss.item()\n",
        "\n",
        "      predictions = predict(logits)\n",
        "      correct += predictions.eq(labels).sum().item()\n",
        "      count += len(labels)\n",
        "\n",
        "  val_accuracy = correct / count\n",
        "  val_loss = val_loss / len(val_loader)\n",
        "\n",
        "  return val_loss, val_accuracy"
      ],
      "metadata": {
        "id": "X--ges26IVaT"
      },
      "execution_count": 111,
      "outputs": []
    },
    {
      "cell_type": "code",
      "source": [
        "len(train_dataset)"
      ],
      "metadata": {
        "colab": {
          "base_uri": "https://localhost:8080/"
        },
        "outputId": "c50423a0-6dff-4bea-d0ac-60bbe0512998",
        "id": "jxSDRd1XIVaT"
      },
      "execution_count": 112,
      "outputs": [
        {
          "output_type": "execute_result",
          "data": {
            "text/plain": [
              "3280"
            ]
          },
          "metadata": {},
          "execution_count": 112
        }
      ]
    },
    {
      "cell_type": "code",
      "source": [
        "print(\"Clearing GPU cache...\")\n",
        "torch.cuda.empty_cache()"
      ],
      "metadata": {
        "colab": {
          "base_uri": "https://localhost:8080/"
        },
        "outputId": "7a8a9dd2-87aa-421e-b188-d9d613c9d87f",
        "collapsed": true,
        "id": "l7IwgQkTIVaT"
      },
      "execution_count": 113,
      "outputs": [
        {
          "output_type": "stream",
          "name": "stdout",
          "text": [
            "Clearing GPU cache...\n"
          ]
        }
      ]
    },
    {
      "cell_type": "code",
      "source": [
        "print(set(train_data[\"emotion_label\"]))"
      ],
      "metadata": {
        "colab": {
          "base_uri": "https://localhost:8080/"
        },
        "outputId": "9b0f4ea1-ef85-4fe0-9c50-b12d96acc3be",
        "id": "pdIeLw7tIVaT"
      },
      "execution_count": 114,
      "outputs": [
        {
          "output_type": "stream",
          "name": "stdout",
          "text": [
            "{0, 1, 2, 3, 4, 5, 6}\n"
          ]
        }
      ]
    },
    {
      "cell_type": "code",
      "source": [
        "import torch\n",
        "import time\n",
        "from tqdm import tqdm\n",
        "from google.colab import files\n",
        "\n",
        "epochs = 8\n",
        "train_loss, train_accuracies = [], []\n",
        "val_losses, val_accuracies = [], []\n",
        "\n",
        "model.train()\n",
        "\n",
        "best_val_acc = 0.0\n",
        "for epoch_i in range(epochs):\n",
        "    print(f'\\nEpoch {epoch_i + 1}/{epochs}')\n",
        "    time.sleep(0.3)\n",
        "\n",
        "    total_correct = 0\n",
        "    total_samples = 0\n",
        "    epoch_losses = []\n",
        "\n",
        "    model.train()\n",
        "    pbar = tqdm(train_loader, desc=\"Training\")\n",
        "\n",
        "    for batch in pbar:\n",
        "        optim.zero_grad()\n",
        "\n",
        "        input_ids = batch[\"input_values\"].to(device)\n",
        "        attention_mask = batch[\"attention_mask\"].to(device)\n",
        "        labels = batch[\"emotion_label\"].to(device)\n",
        "\n",
        "        # print(\"Labels:\", labels)\n",
        "        # print(\"Labels dtype:\", labels.dtype)\n",
        "        # print(\"Labels min/max:\", labels.min().item(), labels.max().item())\n",
        "\n",
        "        logits = model(input_ids, attention_mask=attention_mask).logits\n",
        "        loss = loss_fn(logits, labels)\n",
        "        loss.backward()\n",
        "        optim.step()\n",
        "\n",
        "        # Accuracy\n",
        "        predictions = predict(logits)\n",
        "        correct = predictions.eq(labels).sum().item()\n",
        "        total_correct += correct\n",
        "        total_samples += len(labels)\n",
        "        accuracy = total_correct / total_samples\n",
        "\n",
        "        epoch_losses.append(loss.item())\n",
        "\n",
        "        pbar.set_postfix({\n",
        "            \"Loss\": f\"{loss.item():.4f}\",\n",
        "            \"Accuracy\": f\"{accuracy:.4f}\"\n",
        "        })\n",
        "\n",
        "    # Save model\n",
        "    if epoch_i == 1:\n",
        "      model_path = f\"ravdess-tess-hubert-model-{epoch_i}.pth\"\n",
        "      torch.save(model.state_dict(), model_path)\n",
        "      # files.download(model_path)\n",
        "\n",
        "    train_loss.extend(epoch_losses)\n",
        "    train_accuracies.append(accuracy)\n",
        "\n",
        "    # Validation\n",
        "    val_loss, val_accuracy = evaluate(model, val_loader)\n",
        "    val_losses.append(val_loss)\n",
        "    val_accuracies.append(val_accuracy)\n",
        "    if val_accuracy > best_val_acc:\n",
        "      model_path = f\"ravdess-tess-hubert-model-best.pth\"\n",
        "      torch.save(model.state_dict(), model_path)\n",
        "      best_val_acc = val_accuracy\n",
        "\n",
        "    print(f\"Validation Loss: {val_loss:.4f}, Accuracy: {val_accuracy:.4f}\")"
      ],
      "metadata": {
        "colab": {
          "base_uri": "https://localhost:8080/"
        },
        "id": "uoaEm7CGkaHI",
        "outputId": "beb8c911-daea-4a8e-be88-2e9fdad45a23"
      },
      "execution_count": 115,
      "outputs": [
        {
          "output_type": "stream",
          "name": "stdout",
          "text": [
            "\n",
            "Epoch 1/8\n"
          ]
        },
        {
          "output_type": "stream",
          "name": "stderr",
          "text": [
            "Training: 100%|██████████| 820/820 [15:02<00:00,  1.10s/it, Loss=0.5767, Accuracy=0.5750]\n"
          ]
        },
        {
          "output_type": "stream",
          "name": "stdout",
          "text": [
            "Validation Loss: 0.5383, Accuracy: 0.8281\n",
            "\n",
            "Epoch 2/8\n"
          ]
        },
        {
          "output_type": "stream",
          "name": "stderr",
          "text": [
            "Training: 100%|██████████| 820/820 [14:59<00:00,  1.10s/it, Loss=0.5770, Accuracy=0.8591]\n"
          ]
        },
        {
          "output_type": "stream",
          "name": "stdout",
          "text": [
            "Validation Loss: 0.2829, Accuracy: 0.8958\n",
            "\n",
            "Epoch 3/8\n"
          ]
        },
        {
          "output_type": "stream",
          "name": "stderr",
          "text": [
            "Training: 100%|██████████| 820/820 [15:05<00:00,  1.10s/it, Loss=0.0854, Accuracy=0.9104]\n"
          ]
        },
        {
          "output_type": "stream",
          "name": "stdout",
          "text": [
            "Validation Loss: 0.2608, Accuracy: 0.9010\n",
            "\n",
            "Epoch 4/8\n"
          ]
        },
        {
          "output_type": "stream",
          "name": "stderr",
          "text": [
            "Training: 100%|██████████| 820/820 [15:02<00:00,  1.10s/it, Loss=0.0068, Accuracy=0.9323]\n"
          ]
        },
        {
          "output_type": "stream",
          "name": "stdout",
          "text": [
            "Validation Loss: 0.2413, Accuracy: 0.9245\n",
            "\n",
            "Epoch 5/8\n"
          ]
        },
        {
          "output_type": "stream",
          "name": "stderr",
          "text": [
            "Training: 100%|██████████| 820/820 [14:55<00:00,  1.09s/it, Loss=0.0587, Accuracy=0.9491]\n"
          ]
        },
        {
          "output_type": "stream",
          "name": "stdout",
          "text": [
            "Validation Loss: 0.2169, Accuracy: 0.9245\n",
            "\n",
            "Epoch 6/8\n"
          ]
        },
        {
          "output_type": "stream",
          "name": "stderr",
          "text": [
            "Training: 100%|██████████| 820/820 [15:00<00:00,  1.10s/it, Loss=0.0020, Accuracy=0.9582]\n"
          ]
        },
        {
          "output_type": "stream",
          "name": "stdout",
          "text": [
            "Validation Loss: 0.2572, Accuracy: 0.9219\n",
            "\n",
            "Epoch 7/8\n"
          ]
        },
        {
          "output_type": "stream",
          "name": "stderr",
          "text": [
            "Training: 100%|██████████| 820/820 [14:53<00:00,  1.09s/it, Loss=0.0299, Accuracy=0.9610]\n"
          ]
        },
        {
          "output_type": "stream",
          "name": "stdout",
          "text": [
            "Validation Loss: 0.2418, Accuracy: 0.9167\n",
            "\n",
            "Epoch 8/8\n"
          ]
        },
        {
          "output_type": "stream",
          "name": "stderr",
          "text": [
            "Training: 100%|██████████| 820/820 [15:07<00:00,  1.11s/it, Loss=0.4315, Accuracy=0.9671]\n"
          ]
        },
        {
          "output_type": "stream",
          "name": "stdout",
          "text": [
            "Validation Loss: 0.2533, Accuracy: 0.9427\n"
          ]
        }
      ]
    },
    {
      "cell_type": "code",
      "source": [
        "files.download(model_path)"
      ],
      "metadata": {
        "colab": {
          "base_uri": "https://localhost:8080/",
          "height": 34
        },
        "id": "ZLAUxt0w_VAE",
        "outputId": "09398be6-ef0d-4544-c7b3-4e51b7584689"
      },
      "execution_count": 122,
      "outputs": [
        {
          "output_type": "display_data",
          "data": {
            "text/plain": [
              "<IPython.core.display.Javascript object>"
            ],
            "application/javascript": [
              "\n",
              "    async function download(id, filename, size) {\n",
              "      if (!google.colab.kernel.accessAllowed) {\n",
              "        return;\n",
              "      }\n",
              "      const div = document.createElement('div');\n",
              "      const label = document.createElement('label');\n",
              "      label.textContent = `Downloading \"${filename}\": `;\n",
              "      div.appendChild(label);\n",
              "      const progress = document.createElement('progress');\n",
              "      progress.max = size;\n",
              "      div.appendChild(progress);\n",
              "      document.body.appendChild(div);\n",
              "\n",
              "      const buffers = [];\n",
              "      let downloaded = 0;\n",
              "\n",
              "      const channel = await google.colab.kernel.comms.open(id);\n",
              "      // Send a message to notify the kernel that we're ready.\n",
              "      channel.send({})\n",
              "\n",
              "      for await (const message of channel.messages) {\n",
              "        // Send a message to notify the kernel that we're ready.\n",
              "        channel.send({})\n",
              "        if (message.buffers) {\n",
              "          for (const buffer of message.buffers) {\n",
              "            buffers.push(buffer);\n",
              "            downloaded += buffer.byteLength;\n",
              "            progress.value = downloaded;\n",
              "          }\n",
              "        }\n",
              "      }\n",
              "      const blob = new Blob(buffers, {type: 'application/binary'});\n",
              "      const a = document.createElement('a');\n",
              "      a.href = window.URL.createObjectURL(blob);\n",
              "      a.download = filename;\n",
              "      div.appendChild(a);\n",
              "      a.click();\n",
              "      div.remove();\n",
              "    }\n",
              "  "
            ]
          },
          "metadata": {}
        },
        {
          "output_type": "display_data",
          "data": {
            "text/plain": [
              "<IPython.core.display.Javascript object>"
            ],
            "application/javascript": [
              "download(\"download_38810a97-eb90-483d-be6a-2dd86f701458\", \"ravdess-tess-hubert-model-best.pth\", 1262993685)"
            ]
          },
          "metadata": {}
        }
      ]
    },
    {
      "cell_type": "code",
      "source": [
        "model_path = f\"ravdess-tess-hubert-model-final.pth\"\n",
        "torch.save(model.state_dict(), model_path)\n",
        "files.download(model_path)"
      ],
      "metadata": {
        "colab": {
          "base_uri": "https://localhost:8080/",
          "height": 17
        },
        "id": "IrKqAaMWClOL",
        "outputId": "ff9db47f-8faf-4da3-b9ae-f962edbd7c15"
      },
      "execution_count": null,
      "outputs": [
        {
          "output_type": "display_data",
          "data": {
            "text/plain": [
              "<IPython.core.display.Javascript object>"
            ],
            "application/javascript": [
              "\n",
              "    async function download(id, filename, size) {\n",
              "      if (!google.colab.kernel.accessAllowed) {\n",
              "        return;\n",
              "      }\n",
              "      const div = document.createElement('div');\n",
              "      const label = document.createElement('label');\n",
              "      label.textContent = `Downloading \"${filename}\": `;\n",
              "      div.appendChild(label);\n",
              "      const progress = document.createElement('progress');\n",
              "      progress.max = size;\n",
              "      div.appendChild(progress);\n",
              "      document.body.appendChild(div);\n",
              "\n",
              "      const buffers = [];\n",
              "      let downloaded = 0;\n",
              "\n",
              "      const channel = await google.colab.kernel.comms.open(id);\n",
              "      // Send a message to notify the kernel that we're ready.\n",
              "      channel.send({})\n",
              "\n",
              "      for await (const message of channel.messages) {\n",
              "        // Send a message to notify the kernel that we're ready.\n",
              "        channel.send({})\n",
              "        if (message.buffers) {\n",
              "          for (const buffer of message.buffers) {\n",
              "            buffers.push(buffer);\n",
              "            downloaded += buffer.byteLength;\n",
              "            progress.value = downloaded;\n",
              "          }\n",
              "        }\n",
              "      }\n",
              "      const blob = new Blob(buffers, {type: 'application/binary'});\n",
              "      const a = document.createElement('a');\n",
              "      a.href = window.URL.createObjectURL(blob);\n",
              "      a.download = filename;\n",
              "      div.appendChild(a);\n",
              "      a.click();\n",
              "      div.remove();\n",
              "    }\n",
              "  "
            ]
          },
          "metadata": {}
        },
        {
          "output_type": "display_data",
          "data": {
            "text/plain": [
              "<IPython.core.display.Javascript object>"
            ],
            "application/javascript": [
              "download(\"download_390b1058-2b37-46f8-9ec5-70820af559a4\", \"ravdess-tess-hubert-model-7.pth\", 1262993416)"
            ]
          },
          "metadata": {}
        }
      ]
    },
    {
      "cell_type": "markdown",
      "source": [
        "##### Results analysis 4:"
      ],
      "metadata": {
        "id": "co1cVIpeIVaU"
      }
    },
    {
      "cell_type": "code",
      "source": [
        "import seaborn as sns\n",
        "from sklearn.metrics import confusion_matrix, classification_report"
      ],
      "metadata": {
        "id": "4UyD-58Fe8fA"
      },
      "execution_count": 85,
      "outputs": []
    },
    {
      "cell_type": "code",
      "source": [
        "model.load_state_dict(torch.load(\"ravdess-tess-hubert-model-4.pth\"))\n",
        "model.eval()\n",
        "test_correct = 0\n",
        "test_count = 0\n",
        "\n",
        "all_labels = []\n",
        "all_predictions = []\n",
        "\n",
        "with torch.no_grad():\n",
        "  for batch in test_loader:\n",
        "    input_ids = batch[\"input_values\"].to(device)\n",
        "    attention_mask = batch[\"attention_mask\"].to(device)\n",
        "    labels = batch[\"emotion_label\"].to(device)\n",
        "\n",
        "    logits = model(input_ids, attention_mask=attention_mask).logits\n",
        "    # loss = loss_fn(logits, labels)\n",
        "    predictions = predict(logits)\n",
        "\n",
        "    test_correct += predictions.eq(labels).sum().item()\n",
        "    test_count += len(labels)\n",
        "\n",
        "    # Store for later metrics\n",
        "    all_labels.extend(labels.cpu().numpy())\n",
        "    all_predictions.extend(predictions.cpu().numpy())\n",
        "\n",
        "test_accuracy = test_correct / test_count\n",
        "print(f\"Test Accuracy: {test_accuracy:.3f}\")"
      ],
      "metadata": {
        "colab": {
          "base_uri": "https://localhost:8080/"
        },
        "outputId": "5ae8e7ba-3e13-4f0c-a078-813e685e5c80",
        "id": "4zgLQVu4IVaU"
      },
      "execution_count": 88,
      "outputs": [
        {
          "output_type": "stream",
          "name": "stdout",
          "text": [
            "Test Accuracy: 0.943\n"
          ]
        }
      ]
    },
    {
      "cell_type": "code",
      "source": [
        "# Plot Iteration vs Training Loss\n",
        "plt.figure(figsize=(8, 5))\n",
        "plt.plot(train_loss, label=\"Training Loss\")\n",
        "plt.xlabel(\"Iteration\")\n",
        "plt.ylabel(\"Loss\")\n",
        "plt.title(\"Iteration vs Training Loss\")\n",
        "plt.legend()\n",
        "plt.grid()\n",
        "plt.show()\n",
        "\n",
        "# Plot Epoch vs Training Accuracy\n",
        "acc_X_1 = np.arange(len(train_accuracies)) + 1\n",
        "plt.figure(figsize=(8, 5))\n",
        "plt.plot(acc_X_1, train_accuracies, label=\"Training Accuracy\")\n",
        "plt.plot(acc_X_1, val_accuracies, label=\"Validation Accuracy\", linestyle=\"--\")\n",
        "plt.xticks(acc_X_1)\n",
        "plt.xlabel(\"Epoch\")\n",
        "plt.ylabel(\"Accuracy\")\n",
        "plt.title(\"Epoch vs Accuracy\")\n",
        "plt.legend()\n",
        "plt.grid()\n",
        "plt.show()\n",
        "\n",
        "# Plot Epoch vs Validation Loss\n",
        "plt.figure(figsize=(8, 5))\n",
        "plt.plot(np.arange(len(val_losses)) + 1, val_losses, label=\"Validation Loss\", color=\"red\")\n",
        "plt.xlabel(\"Epoch\")\n",
        "plt.ylabel(\"Loss\")\n",
        "plt.title(\"Epoch vs Validation Loss\")\n",
        "plt.legend()\n",
        "plt.grid()\n",
        "plt.show()"
      ],
      "metadata": {
        "colab": {
          "base_uri": "https://localhost:8080/",
          "height": 1000
        },
        "outputId": "7ee85e49-1ba5-4d07-b48e-280e185e958c",
        "collapsed": true,
        "id": "NM0yFmItIVaU"
      },
      "execution_count": 89,
      "outputs": [
        {
          "output_type": "display_data",
          "data": {
            "text/plain": [
              "<Figure size 800x500 with 1 Axes>"
            ],
            "image/png": "[encoded data removed]"
          },
          "metadata": {}
        },
        {
          "output_type": "display_data",
          "data": {
            "text/plain": [
              "<Figure size 800x500 with 1 Axes>"
            ],
            "image/png": "[encoded data removed]"
          },
          "metadata": {}
        },
        {
          "output_type": "display_data",
          "data": {
            "text/plain": [
              "<Figure size 800x500 with 1 Axes>"
            ],
            "image/png": "[encoded data removed]"
          },
          "metadata": {}
        }
      ]
    },
    {
      "cell_type": "code",
      "source": [
        "# Compute confusion matrix\n",
        "cm = confusion_matrix(all_labels, all_predictions)\n",
        "labels_names = [\"neutral\", \"happy\", \"sad\", \"angry\", \"fear\", \"disgust\", \"surprised\"]\n",
        "\n",
        "plt.figure(figsize=(6, 6))\n",
        "sns.heatmap(cm, annot=True, fmt=\"d\", cmap=\"Blues\", xticklabels=labels_names, yticklabels=labels_names)\n",
        "plt.xlabel(\"Predicted\")\n",
        "plt.ylabel(\"True\")\n",
        "plt.title(f\"Confusion Matrix (Test Accuracy: {test_accuracy*100:.2f}%)\")\n",
        "plt.show()\n",
        "\n",
        "# Compute Precision, Recall, F1-Score\n",
        "print(\"\\nClassification Report:\\n\")\n",
        "print(classification_report(all_labels, all_predictions, target_names=labels_names))"
      ],
      "metadata": {
        "colab": {
          "base_uri": "https://localhost:8080/",
          "height": 910
        },
        "outputId": "5519ae82-f854-4094-bf0d-98f4c151d492",
        "id": "kKkjPM7MIVaU"
      },
      "execution_count": 90,
      "outputs": [
        {
          "output_type": "display_data",
          "data": {
            "text/plain": [
              "<Figure size 600x600 with 2 Axes>"
            ],
            "image/png": "[encoded data removed]"
          },
          "metadata": {}
        },
        {
          "output_type": "stream",
          "name": "stdout",
          "text": [
            "\n",
            "Classification Report:\n",
            "\n",
            "              precision    recall  f1-score   support\n",
            "\n",
            "     neutral       0.89      1.00      0.94        48\n",
            "       happy       0.95      0.75      0.84        56\n",
            "         sad       0.98      0.93      0.95        56\n",
            "       angry       0.84      1.00      0.91        56\n",
            "        fear       0.97      1.00      0.98        56\n",
            "     disgust       1.00      0.96      0.98        56\n",
            "   surprised       1.00      0.96      0.98        56\n",
            "\n",
            "    accuracy                           0.94       384\n",
            "   macro avg       0.95      0.94      0.94       384\n",
            "weighted avg       0.95      0.94      0.94       384\n",
            "\n"
          ]
        }
      ]
    },
    {
      "cell_type": "code",
      "source": [
        "# Create a pandas DataFrame for analysis\n",
        "df_results = pd.DataFrame({\n",
        "    \"Real\": all_labels,\n",
        "    \"Predicted\": all_predictions\n",
        "})\n",
        "\n",
        "# Example if you need to map class numbers to names:\n",
        "# label_map = {0: \"Happy\", 1: \"Sad\"}\n",
        "# df_results[\"Real\"] = df_results[\"Real\"].map(label_map)\n",
        "# df_results[\"Predicted\"] = df_results[\"Predicted\"].map(label_map)\n",
        "\n",
        "df_results.head()"
      ],
      "metadata": {
        "colab": {
          "base_uri": "https://localhost:8080/",
          "height": 206
        },
        "outputId": "44afb97f-09dc-46c1-8777-a0f2798d58cf",
        "id": "IX9NBPFZIVaU"
      },
      "execution_count": null,
      "outputs": [
        {
          "output_type": "execute_result",
          "data": {
            "text/plain": [
              "   Real  Predicted\n",
              "0     4          4\n",
              "1     7          7\n",
              "2     5          5\n",
              "3     3          3\n",
              "4     2          2"
            ],
            "text/html": [
              "\n",
              "  <div id=\"df-2ba9945c-3e61-4534-83ec-546501c9aaf5\" class=\"colab-df-container\">\n",
              "    <div>\n",
              "<style scoped>\n",
              "    .dataframe tbody tr th:only-of-type {\n",
              "        vertical-align: middle;\n",
              "    }\n",
              "\n",
              "    .dataframe tbody tr th {\n",
              "        vertical-align: top;\n",
              "    }\n",
              "\n",
              "    .dataframe thead th {\n",
              "        text-align: right;\n",
              "    }\n",
              "</style>\n",
              "<table border=\"1\" class=\"dataframe\">\n",
              "  <thead>\n",
              "    <tr style=\"text-align: right;\">\n",
              "      <th></th>\n",
              "      <th>Real</th>\n",
              "      <th>Predicted</th>\n",
              "    </tr>\n",
              "  </thead>\n",
              "  <tbody>\n",
              "    <tr>\n",
              "      <th>0</th>\n",
              "      <td>4</td>\n",
              "      <td>4</td>\n",
              "    </tr>\n",
              "    <tr>\n",
              "      <th>1</th>\n",
              "      <td>7</td>\n",
              "      <td>7</td>\n",
              "    </tr>\n",
              "    <tr>\n",
              "      <th>2</th>\n",
              "      <td>5</td>\n",
              "      <td>5</td>\n",
              "    </tr>\n",
              "    <tr>\n",
              "      <th>3</th>\n",
              "      <td>3</td>\n",
              "      <td>3</td>\n",
              "    </tr>\n",
              "    <tr>\n",
              "      <th>4</th>\n",
              "      <td>2</td>\n",
              "      <td>2</td>\n",
              "    </tr>\n",
              "  </tbody>\n",
              "</table>\n",
              "</div>\n",
              "    <div class=\"colab-df-buttons\">\n",
              "\n",
              "  <div class=\"colab-df-container\">\n",
              "    <button class=\"colab-df-convert\" onclick=\"convertToInteractive('df-2ba9945c-3e61-4534-83ec-546501c9aaf5')\"\n",
              "            title=\"Convert this dataframe to an interactive table.\"\n",
              "            style=\"display:none;\">\n",
              "\n",
              "  <svg xmlns=\"http://www.w3.org/2000/svg\" height=\"24px\" viewBox=\"0 -960 960 960\">\n",
              "    <path d=\"M120-120v-720h720v720H120Zm60-500h600v-160H180v160Zm220 220h160v-160H400v160Zm0 220h160v-160H400v160ZM180-400h160v-160H180v160Zm440 0h160v-160H620v160ZM180-180h160v-160H180v160Zm440 0h160v-160H620v160Z\"/>\n",
              "  </svg>\n",
              "    </button>\n",
              "\n",
              "  <style>\n",
              "    .colab-df-container {\n",
              "      display:flex;\n",
              "      gap: 12px;\n",
              "    }\n",
              "\n",
              "    .colab-df-convert {\n",
              "      background-color: #E8F0FE;\n",
              "      border: none;\n",
              "      border-radius: 50%;\n",
              "      cursor: pointer;\n",
              "      display: none;\n",
              "      fill: #1967D2;\n",
              "      height: 32px;\n",
              "      padding: 0 0 0 0;\n",
              "      width: 32px;\n",
              "    }\n",
              "\n",
              "    .colab-df-convert:hover {\n",
              "      background-color: #E2EBFA;\n",
              "      box-shadow: 0px 1px 2px rgba(60, 64, 67, 0.3), 0px 1px 3px 1px rgba(60, 64, 67, 0.15);\n",
              "      fill: #174EA6;\n",
              "    }\n",
              "\n",
              "    .colab-df-buttons div {\n",
              "      margin-bottom: 4px;\n",
              "    }\n",
              "\n",
              "    [theme=dark] .colab-df-convert {\n",
              "      background-color: #3B4455;\n",
              "      fill: #D2E3FC;\n",
              "    }\n",
              "\n",
              "    [theme=dark] .colab-df-convert:hover {\n",
              "      background-color: #434B5C;\n",
              "      box-shadow: 0px 1px 3px 1px rgba(0, 0, 0, 0.15);\n",
              "      filter: drop-shadow(0px 1px 2px rgba(0, 0, 0, 0.3));\n",
              "      fill: #FFFFFF;\n",
              "    }\n",
              "  </style>\n",
              "\n",
              "    <script>\n",
              "      const buttonEl =\n",
              "        document.querySelector('#df-2ba9945c-3e61-4534-83ec-546501c9aaf5 button.colab-df-convert');\n",
              "      buttonEl.style.display =\n",
              "        google.colab.kernel.accessAllowed ? 'block' : 'none';\n",
              "\n",
              "      async function convertToInteractive(key) {\n",
              "        const element = document.querySelector('#df-2ba9945c-3e61-4534-83ec-546501c9aaf5');\n",
              "        const dataTable =\n",
              "          await google.colab.kernel.invokeFunction('convertToInteractive',\n",
              "                                                    [key], {});\n",
              "        if (!dataTable) return;\n",
              "\n",
              "        const docLinkHtml = 'Like what you see? Visit the ' +\n",
              "          '<a target=\"_blank\" href=https://colab.research.google.com/notebooks/data_table.ipynb>data table notebook</a>'\n",
              "          + ' to learn more about interactive tables.';\n",
              "        element.innerHTML = '';\n",
              "        dataTable['output_type'] = 'display_data';\n",
              "        await google.colab.output.renderOutput(dataTable, element);\n",
              "        const docLink = document.createElement('div');\n",
              "        docLink.innerHTML = docLinkHtml;\n",
              "        element.appendChild(docLink);\n",
              "      }\n",
              "    </script>\n",
              "  </div>\n",
              "\n",
              "\n",
              "    <div id=\"df-7c555ee3-51f7-41e0-9757-4e4830d68c61\">\n",
              "      <button class=\"colab-df-quickchart\" onclick=\"quickchart('df-7c555ee3-51f7-41e0-9757-4e4830d68c61')\"\n",
              "                title=\"Suggest charts\"\n",
              "                style=\"display:none;\">\n",
              "\n",
              "<svg xmlns=\"http://www.w3.org/2000/svg\" height=\"24px\"viewBox=\"0 0 24 24\"\n",
              "     width=\"24px\">\n",
              "    <g>\n",
              "        <path d=\"M19 3H5c-1.1 0-2 .9-2 2v14c0 1.1.9 2 2 2h14c1.1 0 2-.9 2-2V5c0-1.1-.9-2-2-2zM9 17H7v-7h2v7zm4 0h-2V7h2v10zm4 0h-2v-4h2v4z\"/>\n",
              "    </g>\n",
              "</svg>\n",
              "      </button>\n",
              "\n",
              "<style>\n",
              "  .colab-df-quickchart {\n",
              "      --bg-color: #E8F0FE;\n",
              "      --fill-color: #1967D2;\n",
              "      --hover-bg-color: #E2EBFA;\n",
              "      --hover-fill-color: #174EA6;\n",
              "      --disabled-fill-color: #AAA;\n",
              "      --disabled-bg-color: #DDD;\n",
              "  }\n",
              "\n",
              "  [theme=dark] .colab-df-quickchart {\n",
              "      --bg-color: #3B4455;\n",
              "      --fill-color: #D2E3FC;\n",
              "      --hover-bg-color: #434B5C;\n",
              "      --hover-fill-color: #FFFFFF;\n",
              "      --disabled-bg-color: #3B4455;\n",
              "      --disabled-fill-color: #666;\n",
              "  }\n",
              "\n",
              "  .colab-df-quickchart {\n",
              "    background-color: var(--bg-color);\n",
              "    border: none;\n",
              "    border-radius: 50%;\n",
              "    cursor: pointer;\n",
              "    display: none;\n",
              "    fill: var(--fill-color);\n",
              "    height: 32px;\n",
              "    padding: 0;\n",
              "    width: 32px;\n",
              "  }\n",
              "\n",
              "  .colab-df-quickchart:hover {\n",
              "    background-color: var(--hover-bg-color);\n",
              "    box-shadow: 0 1px 2px rgba(60, 64, 67, 0.3), 0 1px 3px 1px rgba(60, 64, 67, 0.15);\n",
              "    fill: var(--button-hover-fill-color);\n",
              "  }\n",
              "\n",
              "  .colab-df-quickchart-complete:disabled,\n",
              "  .colab-df-quickchart-complete:disabled:hover {\n",
              "    background-color: var(--disabled-bg-color);\n",
              "    fill: var(--disabled-fill-color);\n",
              "    box-shadow: none;\n",
              "  }\n",
              "\n",
              "  .colab-df-spinner {\n",
              "    border: 2px solid var(--fill-color);\n",
              "    border-color: transparent;\n",
              "    border-bottom-color: var(--fill-color);\n",
              "    animation:\n",
              "      spin 1s steps(1) infinite;\n",
              "  }\n",
              "\n",
              "  @keyframes spin {\n",
              "    0% {\n",
              "      border-color: transparent;\n",
              "      border-bottom-color: var(--fill-color);\n",
              "      border-left-color: var(--fill-color);\n",
              "    }\n",
              "    20% {\n",
              "      border-color: transparent;\n",
              "      border-left-color: var(--fill-color);\n",
              "      border-top-color: var(--fill-color);\n",
              "    }\n",
              "    30% {\n",
              "      border-color: transparent;\n",
              "      border-left-color: var(--fill-color);\n",
              "      border-top-color: var(--fill-color);\n",
              "      border-right-color: var(--fill-color);\n",
              "    }\n",
              "    40% {\n",
              "      border-color: transparent;\n",
              "      border-right-color: var(--fill-color);\n",
              "      border-top-color: var(--fill-color);\n",
              "    }\n",
              "    60% {\n",
              "      border-color: transparent;\n",
              "      border-right-color: var(--fill-color);\n",
              "    }\n",
              "    80% {\n",
              "      border-color: transparent;\n",
              "      border-right-color: var(--fill-color);\n",
              "      border-bottom-color: var(--fill-color);\n",
              "    }\n",
              "    90% {\n",
              "      border-color: transparent;\n",
              "      border-bottom-color: var(--fill-color);\n",
              "    }\n",
              "  }\n",
              "</style>\n",
              "\n",
              "      <script>\n",
              "        async function quickchart(key) {\n",
              "          const quickchartButtonEl =\n",
              "            document.querySelector('#' + key + ' button');\n",
              "          quickchartButtonEl.disabled = true;  // To prevent multiple clicks.\n",
              "          quickchartButtonEl.classList.add('colab-df-spinner');\n",
              "          try {\n",
              "            const charts = await google.colab.kernel.invokeFunction(\n",
              "                'suggestCharts', [key], {});\n",
              "          } catch (error) {\n",
              "            console.error('Error during call to suggestCharts:', error);\n",
              "          }\n",
              "          quickchartButtonEl.classList.remove('colab-df-spinner');\n",
              "          quickchartButtonEl.classList.add('colab-df-quickchart-complete');\n",
              "        }\n",
              "        (() => {\n",
              "          let quickchartButtonEl =\n",
              "            document.querySelector('#df-7c555ee3-51f7-41e0-9757-4e4830d68c61 button');\n",
              "          quickchartButtonEl.style.display =\n",
              "            google.colab.kernel.accessAllowed ? 'block' : 'none';\n",
              "        })();\n",
              "      </script>\n",
              "    </div>\n",
              "    </div>\n",
              "  </div>\n"
            ],
            "application/vnd.google.colaboratory.intrinsic+json": {
              "type": "dataframe",
              "variable_name": "df_results",
              "summary": "{\n  \"name\": \"df_results\",\n  \"rows\": 148,\n  \"fields\": [\n    {\n      \"column\": \"Real\",\n      \"properties\": {\n        \"dtype\": \"number\",\n        \"std\": 2,\n        \"min\": 0,\n        \"max\": 7,\n        \"num_unique_values\": 8,\n        \"samples\": [\n          7,\n          6,\n          4\n        ],\n        \"semantic_type\": \"\",\n        \"description\": \"\"\n      }\n    },\n    {\n      \"column\": \"Predicted\",\n      \"properties\": {\n        \"dtype\": \"number\",\n        \"std\": 2,\n        \"min\": 0,\n        \"max\": 7,\n        \"num_unique_values\": 8,\n        \"samples\": [\n          7,\n          6,\n          4\n        ],\n        \"semantic_type\": \"\",\n        \"description\": \"\"\n      }\n    }\n  ]\n}"
            }
          },
          "metadata": {},
          "execution_count": 66
        }
      ]
    },
    {
      "cell_type": "markdown",
      "source": [
        "##### Results analysis final:"
      ],
      "metadata": {
        "id": "lOZdxxi48dsz"
      }
    },
    {
      "cell_type": "code",
      "source": [
        "import seaborn as sns\n",
        "from sklearn.metrics import confusion_matrix, classification_report"
      ],
      "metadata": {
        "id": "8OArnKIR8ds0"
      },
      "execution_count": 116,
      "outputs": []
    },
    {
      "cell_type": "code",
      "source": [
        "model.load_state_dict(torch.load(\"ravdess-tess-hubert-model-best.pth\"))\n",
        "model.eval()\n",
        "test_correct = 0\n",
        "test_count = 0\n",
        "\n",
        "all_labels = []\n",
        "all_predictions = []\n",
        "\n",
        "with torch.no_grad():\n",
        "  for batch in test_loader:\n",
        "    input_ids = batch[\"input_values\"].to(device)\n",
        "    attention_mask = batch[\"attention_mask\"].to(device)\n",
        "    labels = batch[\"emotion_label\"].to(device)\n",
        "\n",
        "    logits = model(input_ids, attention_mask=attention_mask).logits\n",
        "    predictions = predict(logits)\n",
        "\n",
        "    test_correct += predictions.eq(labels).sum().item()\n",
        "    test_count += len(labels)\n",
        "\n",
        "    # Store for later metrics\n",
        "    all_labels.extend(labels.cpu().numpy())\n",
        "    all_predictions.extend(predictions.cpu().numpy())\n",
        "\n",
        "test_accuracy = test_correct / test_count\n",
        "print(f\"Test Accuracy: {test_accuracy:.3f}\")"
      ],
      "metadata": {
        "colab": {
          "base_uri": "https://localhost:8080/"
        },
        "outputId": "5eaf113e-e520-4f7e-f8bd-0d0ffe98de29",
        "id": "6cG-X7Le8ds0"
      },
      "execution_count": 118,
      "outputs": [
        {
          "output_type": "stream",
          "name": "stdout",
          "text": [
            "Test Accuracy: 0.964\n"
          ]
        }
      ]
    },
    {
      "cell_type": "code",
      "source": [
        "# Plot Iteration vs Training Loss\n",
        "plt.figure(figsize=(8, 5))\n",
        "plt.plot(train_loss, label=\"Training Loss\")\n",
        "plt.xlabel(\"Iteration\")\n",
        "plt.ylabel(\"Loss\")\n",
        "plt.title(\"Iteration vs Training Loss\")\n",
        "plt.legend()\n",
        "plt.grid()\n",
        "plt.show()\n",
        "\n",
        "# Plot Epoch vs Training Accuracy\n",
        "acc_X_1 = np.arange(len(train_accuracies)) + 1\n",
        "plt.figure(figsize=(8, 5))\n",
        "plt.plot(acc_X_1, train_accuracies, label=\"Training Accuracy\")\n",
        "plt.plot(acc_X_1, val_accuracies, label=\"Validation Accuracy\", linestyle=\"--\")\n",
        "plt.xticks(acc_X_1)\n",
        "plt.xlabel(\"Epoch\")\n",
        "plt.ylabel(\"Accuracy\")\n",
        "plt.title(\"Epoch vs Accuracy\")\n",
        "plt.legend()\n",
        "plt.grid()\n",
        "plt.show()\n",
        "\n",
        "# Plot Epoch vs Validation Loss\n",
        "plt.figure(figsize=(8, 5))\n",
        "plt.plot(np.arange(len(val_losses)) + 1, val_losses, label=\"Validation Loss\", color=\"red\")\n",
        "plt.xlabel(\"Epoch\")\n",
        "plt.ylabel(\"Loss\")\n",
        "plt.title(\"Epoch vs Validation Loss\")\n",
        "plt.legend()\n",
        "plt.grid()\n",
        "plt.show()"
      ],
      "metadata": {
        "colab": {
          "base_uri": "https://localhost:8080/",
          "height": 1000
        },
        "outputId": "ad5b2930-32f3-41b6-c23e-509c12c607f4",
        "collapsed": true,
        "id": "WI_VreDN8ds0"
      },
      "execution_count": 119,
      "outputs": [
        {
          "output_type": "display_data",
          "data": {
            "text/plain": [
              "<Figure size 800x500 with 1 Axes>"
            ],
            "image/png": "[encoded data removed]"
          },
          "metadata": {}
        },
        {
          "output_type": "display_data",
          "data": {
            "text/plain": [
              "<Figure size 800x500 with 1 Axes>"
            ],
            "image/png": "[encoded data removed]"
          },
          "metadata": {}
        },
        {
          "output_type": "display_data",
          "data": {
            "text/plain": [
              "<Figure size 800x500 with 1 Axes>"
            ],
            "image/png": "[encoded data removed]"
          },
          "metadata": {}
        }
      ]
    },
    {
      "cell_type": "code",
      "source": [
        "# Compute confusion matrix\n",
        "cm = confusion_matrix(all_labels, all_predictions)\n",
        "labels_names = [\"neutral\", \"happy\", \"sad\", \"angry\", \"fear\", \"disgust\", \"surprised\"]\n",
        "\n",
        "plt.figure(figsize=(6, 6))\n",
        "sns.heatmap(cm, annot=True, fmt=\"d\", cmap=\"Blues\", xticklabels=labels_names, yticklabels=labels_names)\n",
        "plt.xlabel(\"Predicted\")\n",
        "plt.ylabel(\"True\")\n",
        "plt.title(f\"Confusion Matrix (Test Accuracy: {test_accuracy*100:.2f}%)\")\n",
        "plt.show()\n",
        "\n",
        "# Compute Precision, Recall, F1-Score\n",
        "print(\"\\nClassification Report:\\n\")\n",
        "print(classification_report(all_labels, all_predictions, target_names=labels_names))"
      ],
      "metadata": {
        "colab": {
          "base_uri": "https://localhost:8080/",
          "height": 910
        },
        "outputId": "088f016e-c3ba-4eb2-d552-be96e68bea25",
        "id": "fhafEQ9O8ds0"
      },
      "execution_count": 120,
      "outputs": [
        {
          "output_type": "display_data",
          "data": {
            "text/plain": [
              "<Figure size 600x600 with 2 Axes>"
            ],
            "image/png": "[encoded data removed]"
          },
          "metadata": {}
        },
        {
          "output_type": "stream",
          "name": "stdout",
          "text": [
            "\n",
            "Classification Report:\n",
            "\n",
            "              precision    recall  f1-score   support\n",
            "\n",
            "     neutral       0.89      1.00      0.94        48\n",
            "       happy       0.96      0.88      0.92        56\n",
            "         sad       1.00      0.91      0.95        56\n",
            "       angry       0.93      1.00      0.97        56\n",
            "        fear       0.97      1.00      0.98        56\n",
            "     disgust       1.00      0.98      0.99        56\n",
            "   surprised       1.00      0.98      0.99        56\n",
            "\n",
            "    accuracy                           0.96       384\n",
            "   macro avg       0.96      0.96      0.96       384\n",
            "weighted avg       0.97      0.96      0.96       384\n",
            "\n"
          ]
        }
      ]
    },
    {
      "cell_type": "code",
      "source": [
        "# Create a pandas DataFrame for analysis\n",
        "df_results = pd.DataFrame({\n",
        "    \"Real\": all_labels,\n",
        "    \"Predicted\": all_predictions\n",
        "})\n",
        "\n",
        "# Example if you need to map class numbers to names:\n",
        "# label_map = {0: \"Happy\", 1: \"Sad\"}\n",
        "# df_results[\"Real\"] = df_results[\"Real\"].map(label_map)\n",
        "# df_results[\"Predicted\"] = df_results[\"Predicted\"].map(label_map)\n",
        "\n",
        "df_results.head()"
      ],
      "metadata": {
        "colab": {
          "base_uri": "https://localhost:8080/",
          "height": 206
        },
        "outputId": "394edb3b-d316-465c-b422-d850d7669771",
        "id": "1FFPClTw8ds0"
      },
      "execution_count": 121,
      "outputs": [
        {
          "output_type": "execute_result",
          "data": {
            "text/plain": [
              "   Real  Predicted\n",
              "0     6          6\n",
              "1     5          5\n",
              "2     0          0\n",
              "3     4          4\n",
              "4     3          3"
            ],
            "text/html": [
              "\n",
              "  <div id=\"df-672072d3-1b4e-4ea0-99d4-cb80c75f4975\" class=\"colab-df-container\">\n",
              "    <div>\n",
              "<style scoped>\n",
              "    .dataframe tbody tr th:only-of-type {\n",
              "        vertical-align: middle;\n",
              "    }\n",
              "\n",
              "    .dataframe tbody tr th {\n",
              "        vertical-align: top;\n",
              "    }\n",
              "\n",
              "    .dataframe thead th {\n",
              "        text-align: right;\n",
              "    }\n",
              "</style>\n",
              "<table border=\"1\" class=\"dataframe\">\n",
              "  <thead>\n",
              "    <tr style=\"text-align: right;\">\n",
              "      <th></th>\n",
              "      <th>Real</th>\n",
              "      <th>Predicted</th>\n",
              "    </tr>\n",
              "  </thead>\n",
              "  <tbody>\n",
              "    <tr>\n",
              "      <th>0</th>\n",
              "      <td>6</td>\n",
              "      <td>6</td>\n",
              "    </tr>\n",
              "    <tr>\n",
              "      <th>1</th>\n",
              "      <td>5</td>\n",
              "      <td>5</td>\n",
              "    </tr>\n",
              "    <tr>\n",
              "      <th>2</th>\n",
              "      <td>0</td>\n",
              "      <td>0</td>\n",
              "    </tr>\n",
              "    <tr>\n",
              "      <th>3</th>\n",
              "      <td>4</td>\n",
              "      <td>4</td>\n",
              "    </tr>\n",
              "    <tr>\n",
              "      <th>4</th>\n",
              "      <td>3</td>\n",
              "      <td>3</td>\n",
              "    </tr>\n",
              "  </tbody>\n",
              "</table>\n",
              "</div>\n",
              "    <div class=\"colab-df-buttons\">\n",
              "\n",
              "  <div class=\"colab-df-container\">\n",
              "    <button class=\"colab-df-convert\" onclick=\"convertToInteractive('df-672072d3-1b4e-4ea0-99d4-cb80c75f4975')\"\n",
              "            title=\"Convert this dataframe to an interactive table.\"\n",
              "            style=\"display:none;\">\n",
              "\n",
              "  <svg xmlns=\"http://www.w3.org/2000/svg\" height=\"24px\" viewBox=\"0 -960 960 960\">\n",
              "    <path d=\"M120-120v-720h720v720H120Zm60-500h600v-160H180v160Zm220 220h160v-160H400v160Zm0 220h160v-160H400v160ZM180-400h160v-160H180v160Zm440 0h160v-160H620v160ZM180-180h160v-160H180v160Zm440 0h160v-160H620v160Z\"/>\n",
              "  </svg>\n",
              "    </button>\n",
              "\n",
              "  <style>\n",
              "    .colab-df-container {\n",
              "      display:flex;\n",
              "      gap: 12px;\n",
              "    }\n",
              "\n",
              "    .colab-df-convert {\n",
              "      background-color: #E8F0FE;\n",
              "      border: none;\n",
              "      border-radius: 50%;\n",
              "      cursor: pointer;\n",
              "      display: none;\n",
              "      fill: #1967D2;\n",
              "      height: 32px;\n",
              "      padding: 0 0 0 0;\n",
              "      width: 32px;\n",
              "    }\n",
              "\n",
              "    .colab-df-convert:hover {\n",
              "      background-color: #E2EBFA;\n",
              "      box-shadow: 0px 1px 2px rgba(60, 64, 67, 0.3), 0px 1px 3px 1px rgba(60, 64, 67, 0.15);\n",
              "      fill: #174EA6;\n",
              "    }\n",
              "\n",
              "    .colab-df-buttons div {\n",
              "      margin-bottom: 4px;\n",
              "    }\n",
              "\n",
              "    [theme=dark] .colab-df-convert {\n",
              "      background-color: #3B4455;\n",
              "      fill: #D2E3FC;\n",
              "    }\n",
              "\n",
              "    [theme=dark] .colab-df-convert:hover {\n",
              "      background-color: #434B5C;\n",
              "      box-shadow: 0px 1px 3px 1px rgba(0, 0, 0, 0.15);\n",
              "      filter: drop-shadow(0px 1px 2px rgba(0, 0, 0, 0.3));\n",
              "      fill: #FFFFFF;\n",
              "    }\n",
              "  </style>\n",
              "\n",
              "    <script>\n",
              "      const buttonEl =\n",
              "        document.querySelector('#df-672072d3-1b4e-4ea0-99d4-cb80c75f4975 button.colab-df-convert');\n",
              "      buttonEl.style.display =\n",
              "        google.colab.kernel.accessAllowed ? 'block' : 'none';\n",
              "\n",
              "      async function convertToInteractive(key) {\n",
              "        const element = document.querySelector('#df-672072d3-1b4e-4ea0-99d4-cb80c75f4975');\n",
              "        const dataTable =\n",
              "          await google.colab.kernel.invokeFunction('convertToInteractive',\n",
              "                                                    [key], {});\n",
              "        if (!dataTable) return;\n",
              "\n",
              "        const docLinkHtml = 'Like what you see? Visit the ' +\n",
              "          '<a target=\"_blank\" href=https://colab.research.google.com/notebooks/data_table.ipynb>data table notebook</a>'\n",
              "          + ' to learn more about interactive tables.';\n",
              "        element.innerHTML = '';\n",
              "        dataTable['output_type'] = 'display_data';\n",
              "        await google.colab.output.renderOutput(dataTable, element);\n",
              "        const docLink = document.createElement('div');\n",
              "        docLink.innerHTML = docLinkHtml;\n",
              "        element.appendChild(docLink);\n",
              "      }\n",
              "    </script>\n",
              "  </div>\n",
              "\n",
              "\n",
              "    <div id=\"df-e42425e8-c828-4eb8-b3ef-67465db69f27\">\n",
              "      <button class=\"colab-df-quickchart\" onclick=\"quickchart('df-e42425e8-c828-4eb8-b3ef-67465db69f27')\"\n",
              "                title=\"Suggest charts\"\n",
              "                style=\"display:none;\">\n",
              "\n",
              "<svg xmlns=\"http://www.w3.org/2000/svg\" height=\"24px\"viewBox=\"0 0 24 24\"\n",
              "     width=\"24px\">\n",
              "    <g>\n",
              "        <path d=\"M19 3H5c-1.1 0-2 .9-2 2v14c0 1.1.9 2 2 2h14c1.1 0 2-.9 2-2V5c0-1.1-.9-2-2-2zM9 17H7v-7h2v7zm4 0h-2V7h2v10zm4 0h-2v-4h2v4z\"/>\n",
              "    </g>\n",
              "</svg>\n",
              "      </button>\n",
              "\n",
              "<style>\n",
              "  .colab-df-quickchart {\n",
              "      --bg-color: #E8F0FE;\n",
              "      --fill-color: #1967D2;\n",
              "      --hover-bg-color: #E2EBFA;\n",
              "      --hover-fill-color: #174EA6;\n",
              "      --disabled-fill-color: #AAA;\n",
              "      --disabled-bg-color: #DDD;\n",
              "  }\n",
              "\n",
              "  [theme=dark] .colab-df-quickchart {\n",
              "      --bg-color: #3B4455;\n",
              "      --fill-color: #D2E3FC;\n",
              "      --hover-bg-color: #434B5C;\n",
              "      --hover-fill-color: #FFFFFF;\n",
              "      --disabled-bg-color: #3B4455;\n",
              "      --disabled-fill-color: #666;\n",
              "  }\n",
              "\n",
              "  .colab-df-quickchart {\n",
              "    background-color: var(--bg-color);\n",
              "    border: none;\n",
              "    border-radius: 50%;\n",
              "    cursor: pointer;\n",
              "    display: none;\n",
              "    fill: var(--fill-color);\n",
              "    height: 32px;\n",
              "    padding: 0;\n",
              "    width: 32px;\n",
              "  }\n",
              "\n",
              "  .colab-df-quickchart:hover {\n",
              "    background-color: var(--hover-bg-color);\n",
              "    box-shadow: 0 1px 2px rgba(60, 64, 67, 0.3), 0 1px 3px 1px rgba(60, 64, 67, 0.15);\n",
              "    fill: var(--button-hover-fill-color);\n",
              "  }\n",
              "\n",
              "  .colab-df-quickchart-complete:disabled,\n",
              "  .colab-df-quickchart-complete:disabled:hover {\n",
              "    background-color: var(--disabled-bg-color);\n",
              "    fill: var(--disabled-fill-color);\n",
              "    box-shadow: none;\n",
              "  }\n",
              "\n",
              "  .colab-df-spinner {\n",
              "    border: 2px solid var(--fill-color);\n",
              "    border-color: transparent;\n",
              "    border-bottom-color: var(--fill-color);\n",
              "    animation:\n",
              "      spin 1s steps(1) infinite;\n",
              "  }\n",
              "\n",
              "  @keyframes spin {\n",
              "    0% {\n",
              "      border-color: transparent;\n",
              "      border-bottom-color: var(--fill-color);\n",
              "      border-left-color: var(--fill-color);\n",
              "    }\n",
              "    20% {\n",
              "      border-color: transparent;\n",
              "      border-left-color: var(--fill-color);\n",
              "      border-top-color: var(--fill-color);\n",
              "    }\n",
              "    30% {\n",
              "      border-color: transparent;\n",
              "      border-left-color: var(--fill-color);\n",
              "      border-top-color: var(--fill-color);\n",
              "      border-right-color: var(--fill-color);\n",
              "    }\n",
              "    40% {\n",
              "      border-color: transparent;\n",
              "      border-right-color: var(--fill-color);\n",
              "      border-top-color: var(--fill-color);\n",
              "    }\n",
              "    60% {\n",
              "      border-color: transparent;\n",
              "      border-right-color: var(--fill-color);\n",
              "    }\n",
              "    80% {\n",
              "      border-color: transparent;\n",
              "      border-right-color: var(--fill-color);\n",
              "      border-bottom-color: var(--fill-color);\n",
              "    }\n",
              "    90% {\n",
              "      border-color: transparent;\n",
              "      border-bottom-color: var(--fill-color);\n",
              "    }\n",
              "  }\n",
              "</style>\n",
              "\n",
              "      <script>\n",
              "        async function quickchart(key) {\n",
              "          const quickchartButtonEl =\n",
              "            document.querySelector('#' + key + ' button');\n",
              "          quickchartButtonEl.disabled = true;  // To prevent multiple clicks.\n",
              "          quickchartButtonEl.classList.add('colab-df-spinner');\n",
              "          try {\n",
              "            const charts = await google.colab.kernel.invokeFunction(\n",
              "                'suggestCharts', [key], {});\n",
              "          } catch (error) {\n",
              "            console.error('Error during call to suggestCharts:', error);\n",
              "          }\n",
              "          quickchartButtonEl.classList.remove('colab-df-spinner');\n",
              "          quickchartButtonEl.classList.add('colab-df-quickchart-complete');\n",
              "        }\n",
              "        (() => {\n",
              "          let quickchartButtonEl =\n",
              "            document.querySelector('#df-e42425e8-c828-4eb8-b3ef-67465db69f27 button');\n",
              "          quickchartButtonEl.style.display =\n",
              "            google.colab.kernel.accessAllowed ? 'block' : 'none';\n",
              "        })();\n",
              "      </script>\n",
              "    </div>\n",
              "    </div>\n",
              "  </div>\n"
            ],
            "application/vnd.google.colaboratory.intrinsic+json": {
              "type": "dataframe",
              "variable_name": "df_results",
              "summary": "{\n  \"name\": \"df_results\",\n  \"rows\": 384,\n  \"fields\": [\n    {\n      \"column\": \"Real\",\n      \"properties\": {\n        \"dtype\": \"number\",\n        \"std\": 1,\n        \"min\": 0,\n        \"max\": 6,\n        \"num_unique_values\": 7,\n        \"samples\": [\n          6,\n          5,\n          1\n        ],\n        \"semantic_type\": \"\",\n        \"description\": \"\"\n      }\n    },\n    {\n      \"column\": \"Predicted\",\n      \"properties\": {\n        \"dtype\": \"number\",\n        \"std\": 1,\n        \"min\": 0,\n        \"max\": 6,\n        \"num_unique_values\": 7,\n        \"samples\": [\n          6,\n          5,\n          1\n        ],\n        \"semantic_type\": \"\",\n        \"description\": \"\"\n      }\n    }\n  ]\n}"
            }
          },
          "metadata": {},
          "execution_count": 121
        }
      ]
    },
    {
      "cell_type": "markdown",
      "source": [
        "#### Calm + neutral emotions training:"
      ],
      "metadata": {
        "id": "xIGS_MNcCTxN"
      }
    },
    {
      "cell_type": "code",
      "source": [
        "# Combine calm (1) into neutral (0)\n",
        "train_df['emotion_label'] = train_df['emotion_label'].replace(1, 0)\n",
        "val_df['emotion_label'] = val_df['emotion_label'].replace(1, 0)\n",
        "test_df['emotion_label'] = test_df['emotion_label'].replace(1, 0)\n",
        "\n",
        "train_df['emotion_label'] = train_df['emotion_label'].apply(lambda x: x if x == 0 else x - 1)\n",
        "val_df['emotion_label'] = val_df['emotion_label'].apply(lambda x: x if x == 0 else x - 1)\n",
        "test_df['emotion_label'] = test_df['emotion_label'].apply(lambda x: x if x == 0 else x - 1)\n",
        "\n",
        "print(\"Train label counts:\\n\", train_df['emotion_label'].value_counts().sort_index())\n",
        "print(\"Validation label counts:\\n\", val_df['emotion_label'].value_counts().sort_index())\n",
        "print(\"Test label counts:\\n\", test_df['emotion_label'].value_counts().sort_index())"
      ],
      "metadata": {
        "colab": {
          "base_uri": "https://localhost:8080/"
        },
        "collapsed": true,
        "id": "ewl8k296CvCZ",
        "outputId": "29c755d6-ccf7-4ac1-b2ba-098bc0875858"
      },
      "execution_count": null,
      "outputs": [
        {
          "output_type": "stream",
          "name": "stdout",
          "text": [
            "Train label counts:\n",
            " emotion_label\n",
            "0    632\n",
            "1    552\n",
            "2    552\n",
            "3    552\n",
            "4    552\n",
            "5    552\n",
            "6    552\n",
            "Name: count, dtype: int64\n",
            "Validation label counts:\n",
            " emotion_label\n",
            "0    28\n",
            "1    20\n",
            "2    20\n",
            "3    20\n",
            "4    20\n",
            "5    20\n",
            "6    20\n",
            "Name: count, dtype: int64\n",
            "Test label counts:\n",
            " emotion_label\n",
            "0    28\n",
            "1    20\n",
            "2    20\n",
            "3    20\n",
            "4    20\n",
            "5    20\n",
            "6    20\n",
            "Name: count, dtype: int64\n"
          ]
        }
      ]
    },
    {
      "cell_type": "markdown",
      "source": [
        "##### Model setup & training:"
      ],
      "metadata": {
        "id": "XlXYS-yNCcbY"
      }
    },
    {
      "cell_type": "code",
      "source": [
        "import librosa\n",
        "from datasets import Dataset\n",
        "from torch.utils.data import DataLoader\n",
        "from transformers import Wav2Vec2FeatureExtractor"
      ],
      "metadata": {
        "id": "WIWtHGm2CcbZ"
      },
      "execution_count": null,
      "outputs": []
    },
    {
      "cell_type": "code",
      "source": [
        "def map_to_array(example):\n",
        "  speech, _ = librosa.load(example[\"file_path\"], sr=16000, mono=True)\n",
        "  example[\"speech\"] = speech\n",
        "  return example"
      ],
      "metadata": {
        "id": "MFlDw_G-CcbZ"
      },
      "execution_count": null,
      "outputs": []
    },
    {
      "cell_type": "code",
      "source": [
        "train_data = Dataset.from_pandas(train_df).map(map_to_array)\n",
        "val_data = Dataset.from_pandas(val_df).map(map_to_array)\n",
        "test_data = Dataset.from_pandas(test_df).map(map_to_array)"
      ],
      "metadata": {
        "colab": {
          "base_uri": "https://localhost:8080/",
          "height": 113,
          "referenced_widgets": [
            "546d96c0bffe4f56b4725753f5bcb113",
            "5912cd2acc4142c5b2a1d0b683bcbedc",
            "250341a197574a7c83baf22cbbe92857",
            "54aadf3389d84e4aa3d80e3191a8baae",
            "dc259f6a00aa4956a2fdc2e59a4681a1",
            "04433058e80c4779888cdc18b5a629d6",
            "295598dcd82d4b22b4d159213d7cc308",
            "62ea56b981c240b89defc944eba49690",
            "3232d4a86ab84b66a0c695e4e9b1f554",
            "f93971add9fd4679b27c0c2c4d0b4fab",
            "b28e391a281044649575419637e22941",
            "e7fc9c2cd11c4dafa61a5382ad01eb4d",
            "24e4d232c7ea425489dea1622a44dfdf",
            "51dc4a34d8e742b1b3f9c6bc0d8ea350",
            "181c5bfd76704dc9b3fca0a3afb7e3a8",
            "2df7dafd8f02416bb91f45c42dc3cb72",
            "4afac51c15604070afa1ac2cdc76650c",
            "64eab408c63c4acd8d04da31bf55f9ff",
            "4cf647645a434a56844c42d56c5d205d",
            "139d9bd640c347ac9464a3c01016c85b",
            "247f788d972442ae96421d67beebce13",
            "9b9dffc863344916951c73cc5acfe01a",
            "20dea2196c3a448da6530d5261a082c4",
            "7195a36c86dd4f70850f408c8869752c",
            "b50a8e19cc8041d18777c8d04e3aaa56",
            "24aee76de5e64c9890d4dc707dc2fbf2",
            "ebfdd292901c405d9a44bf43d84f2809",
            "e501819eb3c44cba8a9e4f89f9fb495a",
            "77c8af63cc8c4441949ce136cfd60776",
            "26188e2957254dcb8ffceaa840db1e1e",
            "315842cd34b34bb880f5ee2223472d0d",
            "060a53e71a3f421dbce04cf65b93ad4e",
            "2d2b5dcbf002469a92d9506b45fbe775"
          ]
        },
        "outputId": "2f317902-7cb3-4d48-a2f9-214b87a9543a",
        "id": "OoonSG3FCcbZ"
      },
      "execution_count": null,
      "outputs": [
        {
          "output_type": "display_data",
          "data": {
            "text/plain": [
              "Map:   0%|          | 0/3944 [00:00<?, ? examples/s]"
            ],
            "application/vnd.jupyter.widget-view+json": {
              "version_major": 2,
              "version_minor": 0,
              "model_id": "546d96c0bffe4f56b4725753f5bcb113"
            }
          },
          "metadata": {}
        },
        {
          "output_type": "display_data",
          "data": {
            "text/plain": [
              "Map:   0%|          | 0/148 [00:00<?, ? examples/s]"
            ],
            "application/vnd.jupyter.widget-view+json": {
              "version_major": 2,
              "version_minor": 0,
              "model_id": "e7fc9c2cd11c4dafa61a5382ad01eb4d"
            }
          },
          "metadata": {}
        },
        {
          "output_type": "display_data",
          "data": {
            "text/plain": [
              "Map:   0%|          | 0/148 [00:00<?, ? examples/s]"
            ],
            "application/vnd.jupyter.widget-view+json": {
              "version_major": 2,
              "version_minor": 0,
              "model_id": "20dea2196c3a448da6530d5261a082c4"
            }
          },
          "metadata": {}
        }
      ]
    },
    {
      "cell_type": "code",
      "source": [
        "del train_df, test_df, val_df\n",
        "gc.collect()"
      ],
      "metadata": {
        "colab": {
          "base_uri": "https://localhost:8080/"
        },
        "outputId": "07243b57-ce7c-4dfa-92dd-3797e96b00a9",
        "id": "dpn-0IC6Ccba"
      },
      "execution_count": null,
      "outputs": [
        {
          "output_type": "execute_result",
          "data": {
            "text/plain": [
              "16374"
            ]
          },
          "metadata": {},
          "execution_count": 79
        }
      ]
    },
    {
      "cell_type": "code",
      "source": [
        "feature_extractor = Wav2Vec2FeatureExtractor.from_pretrained(\"superb/hubert-large-superb-er\")  # , num_labels=num_labels)"
      ],
      "metadata": {
        "collapsed": true,
        "id": "EFWZ80jwCcba"
      },
      "execution_count": null,
      "outputs": []
    },
    {
      "cell_type": "code",
      "source": [
        "print(\"Clearing GPU cache...\")\n",
        "torch.cuda.empty_cache()"
      ],
      "metadata": {
        "colab": {
          "base_uri": "https://localhost:8080/"
        },
        "outputId": "be346557-a456-4ced-be18-47f4e99ceafb",
        "id": "mxREeMq9Ccba"
      },
      "execution_count": null,
      "outputs": [
        {
          "output_type": "stream",
          "name": "stdout",
          "text": [
            "Clearing GPU cache...\n"
          ]
        }
      ]
    },
    {
      "cell_type": "code",
      "source": [
        "os.makedirs(\"./batches_1\", exist_ok=True)"
      ],
      "metadata": {
        "id": "Zt1jMeacCcba"
      },
      "execution_count": null,
      "outputs": []
    },
    {
      "cell_type": "code",
      "source": [
        "def save_batched_encodings(data, labels, feature_extractor, batch_size, prefix, output_dir):\n",
        "  os.makedirs(output_dir, exist_ok=True)\n",
        "  total = len(data)\n",
        "\n",
        "  for i in tqdm(range(0, total, batch_size), desc=f\"Encoding {prefix}\"):\n",
        "    batch_data = data[i:i+batch_size]\n",
        "    batch_labels = labels[i:i+batch_size]\n",
        "    encodings = feature_extractor(batch_data, sampling_rate=16000, padding=True, return_tensors=\"pt\")\n",
        "    torch.save((encodings, batch_labels), os.path.join(output_dir, f\"{prefix}_batch_{i//batch_size}.pt\"))\n",
        "\n",
        "    del encodings, batch_data, batch_labels\n",
        "    gc.collect()"
      ],
      "metadata": {
        "id": "b1Rb6rp6Ccba"
      },
      "execution_count": null,
      "outputs": []
    },
    {
      "cell_type": "code",
      "source": [
        "save_batched_encodings(list(train_data[\"speech\"]), list(train_data[\"emotion_label\"]), feature_extractor, batch_size=256, prefix=\"train\", output_dir=\"./batches_1\")\n",
        "save_batched_encodings(list(val_data[\"speech\"]), list(val_data[\"emotion_label\"]), feature_extractor, batch_size=256, prefix=\"val\", output_dir=\"./batches_1\")\n",
        "save_batched_encodings(list(test_data[\"speech\"]), list(test_data[\"emotion_label\"]), feature_extractor, batch_size=256, prefix=\"test\", output_dir=\"./batches_1\")"
      ],
      "metadata": {
        "colab": {
          "base_uri": "https://localhost:8080/"
        },
        "outputId": "47e8fa86-93fd-4673-fc6b-59377d6321ed",
        "id": "W1RnLJFaCcbb"
      },
      "execution_count": null,
      "outputs": [
        {
          "output_type": "stream",
          "name": "stderr",
          "text": [
            "Encoding train: 100%|██████████| 16/16 [00:57<00:00,  3.60s/it]\n",
            "Encoding val: 100%|██████████| 1/1 [00:01<00:00,  1.07s/it]\n",
            "Encoding test: 100%|██████████| 1/1 [00:01<00:00,  1.15s/it]\n"
          ]
        }
      ]
    },
    {
      "cell_type": "code",
      "source": [
        "import torch\n",
        "from torch.utils.data import Dataset\n",
        "\n",
        "class BatchedDataset(Dataset):\n",
        "  def __init__(self, batch_files):\n",
        "    self.batch_files = batch_files\n",
        "    self.samples = []\n",
        "\n",
        "    for batch_idx, file in enumerate(batch_files):\n",
        "      encodings, labels = torch.load(file, weights_only=False)\n",
        "      n = len(labels)\n",
        "      self.samples.extend([(batch_idx, i) for i in range(n)])\n",
        "\n",
        "  def __len__(self):\n",
        "    return len(self.samples)\n",
        "\n",
        "  def __getitem__(self, idx):\n",
        "    batch_idx, sample_idx = self.samples[idx]\n",
        "    batch_file = self.batch_files[batch_idx]\n",
        "\n",
        "    # Load full batch — must disable weights_only\n",
        "    encodings, labels = torch.load(batch_file, weights_only=False)\n",
        "\n",
        "    item = {key: val[sample_idx] for key, val in encodings.items()}\n",
        "    item[\"emotion_label\"] = torch.tensor(labels[sample_idx])\n",
        "    return item"
      ],
      "metadata": {
        "id": "BIVMuLUYCcbb"
      },
      "execution_count": null,
      "outputs": []
    },
    {
      "cell_type": "code",
      "source": [
        "from glob import glob\n",
        "\n",
        "train_files = sorted(glob(\"./batches_1/train_batch_*.pt\"))\n",
        "val_files = sorted(glob(\"./batches_1/val_batch_*.pt\"))\n",
        "test_files = sorted(glob(\"./batches_1/test_batch_*.pt\"))\n",
        "\n",
        "train_dataset = BatchedDataset(train_files)\n",
        "val_dataset = BatchedDataset(val_files)\n",
        "test_dataset = BatchedDataset(test_files)"
      ],
      "metadata": {
        "id": "HePQhO2ECcbb"
      },
      "execution_count": null,
      "outputs": []
    },
    {
      "cell_type": "code",
      "source": [
        "from torch.nn.utils.rnn import pad_sequence\n",
        "\n",
        "def collate_fn(batch):\n",
        "    input_values = [item[\"input_values\"] for item in batch]\n",
        "    attention_mask = [item[\"attention_mask\"] for item in batch]\n",
        "    labels = torch.tensor([item[\"emotion_label\"] for item in batch])\n",
        "\n",
        "    input_values_padded = pad_sequence(input_values, batch_first=True)\n",
        "    attention_mask_padded = pad_sequence(attention_mask, batch_first=True)\n",
        "\n",
        "    return {\n",
        "        \"input_values\": input_values_padded,\n",
        "        \"attention_mask\": attention_mask_padded,\n",
        "        \"emotion_label\": labels\n",
        "    }"
      ],
      "metadata": {
        "id": "SoVzf9B0Ccbb"
      },
      "execution_count": null,
      "outputs": []
    },
    {
      "cell_type": "code",
      "source": [
        "# train_loader = DataLoader(train_dataset, batch_size=4, shuffle=True, num_workers=2)\n",
        "# val_loader = DataLoader(val_dataset, batch_size=4, shuffle=False, num_workers=2)\n",
        "# test_loader = DataLoader(test_dataset, batch_size=4, shuffle=False, num_workers=2)\n",
        "\n",
        "train_loader = DataLoader(train_dataset, batch_size=4, shuffle=True, num_workers=2, collate_fn=collate_fn)\n",
        "val_loader = DataLoader(val_dataset, batch_size=4, shuffle=False, num_workers=2, collate_fn=collate_fn)\n",
        "test_loader = DataLoader(test_dataset, batch_size=4, shuffle=False, num_workers=2, collate_fn=collate_fn)"
      ],
      "metadata": {
        "id": "ZXsrbMmOCcbc"
      },
      "execution_count": null,
      "outputs": []
    },
    {
      "cell_type": "code",
      "source": [
        "from torch.optim import AdamW\n",
        "from transformers import HubertForSequenceClassification"
      ],
      "metadata": {
        "id": "UcHAtSAQCcbc"
      },
      "execution_count": null,
      "outputs": []
    },
    {
      "cell_type": "code",
      "source": [
        "num_labels=7\n",
        "# model = HubertForSequenceClassification.from_pretrained(\"superb/hubert-large-superb-er\")\n",
        "model = HubertForSequenceClassification.from_pretrained(\"superb/hubert-large-superb-er\", num_labels=num_labels, ignore_mismatched_sizes=True)\n",
        "device = torch.device(\"cuda:0\" if torch.cuda.is_available() else \"cpu\")\n",
        "model.gradient_checkpointing_enable()\n",
        "model.to(device)\n",
        "\n",
        "optim = AdamW(model.parameters(), lr=1e-5)"
      ],
      "metadata": {
        "colab": {
          "base_uri": "https://localhost:8080/"
        },
        "outputId": "502d1e84-86bb-4b39-f9b0-e5d81575e883",
        "id": "dRN_uCw6Ccbc"
      },
      "execution_count": null,
      "outputs": [
        {
          "output_type": "stream",
          "name": "stderr",
          "text": [
            "Some weights of HubertForSequenceClassification were not initialized from the model checkpoint at superb/hubert-large-superb-er and are newly initialized because the shapes did not match:\n",
            "- classifier.weight: found shape torch.Size([4, 256]) in the checkpoint and torch.Size([7, 256]) in the model instantiated\n",
            "- classifier.bias: found shape torch.Size([4]) in the checkpoint and torch.Size([7]) in the model instantiated\n",
            "You should probably TRAIN this model on a down-stream task to be able to use it for predictions and inference.\n"
          ]
        }
      ]
    },
    {
      "cell_type": "code",
      "source": [
        "print(\"Clearing GPU cache...\")\n",
        "torch.cuda.empty_cache()"
      ],
      "metadata": {
        "colab": {
          "base_uri": "https://localhost:8080/"
        },
        "outputId": "d47dfb5b-ae60-4f69-e3b9-22b7b27c6f12",
        "id": "iJm2FInoCcbc"
      },
      "execution_count": null,
      "outputs": [
        {
          "output_type": "stream",
          "name": "stdout",
          "text": [
            "Clearing GPU cache...\n"
          ]
        }
      ]
    },
    {
      "cell_type": "code",
      "source": [
        "def predict(outputs):\n",
        "  probabilities = torch.softmax(outputs[\"logits\"], dim=1)\n",
        "  predictions = torch.argmax(probabilities, dim=1)\n",
        "  return predictions"
      ],
      "metadata": {
        "id": "dZ3ukyvnCcbc"
      },
      "execution_count": null,
      "outputs": []
    },
    {
      "cell_type": "code",
      "source": [
        "def evaluate(model, val_loader):\n",
        "  model.eval()\n",
        "  correct = 0\n",
        "  count = 0\n",
        "  val_loss = 0.0\n",
        "  with torch.no_grad():\n",
        "    for batch in val_loader:\n",
        "      input_ids = batch[\"input_values\"].to(device)\n",
        "      attention_mask = batch[\"attention_mask\"].to(device)\n",
        "      labels = batch[\"emotion_label\"].to(device)\n",
        "\n",
        "      outputs = model(input_ids, attention_mask=attention_mask, labels=labels)\n",
        "      loss = outputs['loss']\n",
        "      val_loss += loss.item()\n",
        "\n",
        "      predictions = predict(outputs)\n",
        "      correct += predictions.eq(labels).sum().item()\n",
        "      count += len(labels)\n",
        "\n",
        "  val_accuracy = correct / count\n",
        "  val_loss = val_loss / len(val_loader)\n",
        "\n",
        "  return val_loss, val_accuracy"
      ],
      "metadata": {
        "id": "jheva7BrCcbc"
      },
      "execution_count": null,
      "outputs": []
    },
    {
      "cell_type": "code",
      "source": [
        "len(train_dataset)"
      ],
      "metadata": {
        "colab": {
          "base_uri": "https://localhost:8080/"
        },
        "outputId": "b1e4998d-a627-4161-ddd5-34405c480a7f",
        "id": "H4afhvL7Ccbd"
      },
      "execution_count": null,
      "outputs": [
        {
          "output_type": "execute_result",
          "data": {
            "text/plain": [
              "3944"
            ]
          },
          "metadata": {},
          "execution_count": 94
        }
      ]
    },
    {
      "cell_type": "code",
      "source": [
        "print(\"Clearing GPU cache...\")\n",
        "torch.cuda.empty_cache()"
      ],
      "metadata": {
        "colab": {
          "base_uri": "https://localhost:8080/"
        },
        "outputId": "f13fa642-14cc-43f6-e0b2-5ae27087ba80",
        "collapsed": true,
        "id": "SHgp0L22Ccbd"
      },
      "execution_count": null,
      "outputs": [
        {
          "output_type": "stream",
          "name": "stdout",
          "text": [
            "Clearing GPU cache...\n"
          ]
        }
      ]
    },
    {
      "cell_type": "code",
      "source": [
        "print(set(train_data[\"emotion_label\"]))"
      ],
      "metadata": {
        "colab": {
          "base_uri": "https://localhost:8080/"
        },
        "outputId": "fcc3dbd1-6f7d-483a-b805-5381545e89f1",
        "id": "ds69-6-nCcbd"
      },
      "execution_count": null,
      "outputs": [
        {
          "output_type": "stream",
          "name": "stdout",
          "text": [
            "{0, 1, 2, 3, 4, 5, 6}\n"
          ]
        }
      ]
    },
    {
      "cell_type": "code",
      "source": [
        "import torch\n",
        "import time\n",
        "from tqdm import tqdm\n",
        "from google.colab import files\n",
        "\n",
        "epochs = 10\n",
        "train_loss, train_accuracies = [], []\n",
        "val_losses, val_accuracies = [], []\n",
        "\n",
        "model.train()\n",
        "\n",
        "for epoch_i in range(epochs):\n",
        "    print(f'\\nEpoch {epoch_i + 1}/{epochs}')\n",
        "    time.sleep(0.3)\n",
        "\n",
        "    total_correct = 0\n",
        "    total_samples = 0\n",
        "    epoch_losses = []\n",
        "\n",
        "    model.train()\n",
        "    pbar = tqdm(train_loader, desc=\"Training\")\n",
        "\n",
        "    for batch in pbar:\n",
        "        optim.zero_grad()\n",
        "\n",
        "        input_ids = batch[\"input_values\"].to(device)\n",
        "        attention_mask = batch[\"attention_mask\"].to(device)\n",
        "        labels = batch[\"emotion_label\"].to(device)\n",
        "\n",
        "        # print(\"Labels:\", labels)\n",
        "        # print(\"Labels dtype:\", labels.dtype)\n",
        "        # print(\"Labels min/max:\", labels.min().item(), labels.max().item())\n",
        "\n",
        "        outputs = model(input_ids, attention_mask=attention_mask, labels=labels)\n",
        "        loss = outputs[\"loss\"]\n",
        "        loss.backward()\n",
        "        optim.step()\n",
        "\n",
        "        # Accuracy\n",
        "        predictions = predict(outputs)\n",
        "        correct = predictions.eq(labels).sum().item()\n",
        "        total_correct += correct\n",
        "        total_samples += len(labels)\n",
        "        accuracy = total_correct / total_samples\n",
        "\n",
        "        epoch_losses.append(loss.item())\n",
        "\n",
        "        pbar.set_postfix({\n",
        "            \"Loss\": f\"{loss.item():.4f}\",\n",
        "            \"Accuracy\": f\"{accuracy:.4f}\"\n",
        "        })\n",
        "\n",
        "    # Save model\n",
        "    if epoch_i % 5 == 0:\n",
        "      model_path = f\"ravdess-tess-hubert-model-{epoch_i}.pth\"\n",
        "      torch.save(model.state_dict(), model_path)\n",
        "      files.download(model_path)\n",
        "\n",
        "    train_loss.extend(epoch_losses)\n",
        "    train_accuracies.append(accuracy)\n",
        "\n",
        "    # Validation\n",
        "    val_loss, val_accuracy = evaluate(model, val_loader)\n",
        "    val_losses.append(val_loss)\n",
        "    val_accuracies.append(val_accuracy)\n",
        "\n",
        "    print(f\"Validation Loss: {val_loss:.4f}, Accuracy: {val_accuracy:.4f}\")"
      ],
      "metadata": {
        "colab": {
          "base_uri": "https://localhost:8080/",
          "height": 295
        },
        "outputId": "11f79898-a54e-427e-c950-8cc201a239ea",
        "id": "z_EB9g18Ccbd"
      },
      "execution_count": null,
      "outputs": [
        {
          "output_type": "stream",
          "name": "stdout",
          "text": [
            "\n",
            "Epoch 1/10\n"
          ]
        },
        {
          "output_type": "stream",
          "name": "stderr",
          "text": [
            "Training: 100%|██████████| 986/986 [17:03<00:00,  1.04s/it, Loss=0.0521, Accuracy=0.5923]\n"
          ]
        },
        {
          "output_type": "display_data",
          "data": {
            "text/plain": [
              "<IPython.core.display.Javascript object>"
            ],
            "application/javascript": [
              "\n",
              "    async function download(id, filename, size) {\n",
              "      if (!google.colab.kernel.accessAllowed) {\n",
              "        return;\n",
              "      }\n",
              "      const div = document.createElement('div');\n",
              "      const label = document.createElement('label');\n",
              "      label.textContent = `Downloading \"${filename}\": `;\n",
              "      div.appendChild(label);\n",
              "      const progress = document.createElement('progress');\n",
              "      progress.max = size;\n",
              "      div.appendChild(progress);\n",
              "      document.body.appendChild(div);\n",
              "\n",
              "      const buffers = [];\n",
              "      let downloaded = 0;\n",
              "\n",
              "      const channel = await google.colab.kernel.comms.open(id);\n",
              "      // Send a message to notify the kernel that we're ready.\n",
              "      channel.send({})\n",
              "\n",
              "      for await (const message of channel.messages) {\n",
              "        // Send a message to notify the kernel that we're ready.\n",
              "        channel.send({})\n",
              "        if (message.buffers) {\n",
              "          for (const buffer of message.buffers) {\n",
              "            buffers.push(buffer);\n",
              "            downloaded += buffer.byteLength;\n",
              "            progress.value = downloaded;\n",
              "          }\n",
              "        }\n",
              "      }\n",
              "      const blob = new Blob(buffers, {type: 'application/binary'});\n",
              "      const a = document.createElement('a');\n",
              "      a.href = window.URL.createObjectURL(blob);\n",
              "      a.download = filename;\n",
              "      div.appendChild(a);\n",
              "      a.click();\n",
              "      div.remove();\n",
              "    }\n",
              "  "
            ]
          },
          "metadata": {}
        },
        {
          "output_type": "display_data",
          "data": {
            "text/plain": [
              "<IPython.core.display.Javascript object>"
            ],
            "application/javascript": [
              "download(\"download_b728d288-b181-4c22-a568-699d61e2d878\", \"ravdess-tess-hubert-model-0.pth\", 1262992392)"
            ]
          },
          "metadata": {}
        },
        {
          "output_type": "stream",
          "name": "stdout",
          "text": [
            "Validation Loss: 1.0503, Accuracy: 0.6622\n",
            "\n",
            "Epoch 2/10\n"
          ]
        },
        {
          "output_type": "stream",
          "name": "stderr",
          "text": [
            "Training: 100%|██████████| 986/986 [16:58<00:00,  1.03s/it, Loss=0.6830, Accuracy=0.8760]\n"
          ]
        },
        {
          "output_type": "stream",
          "name": "stdout",
          "text": [
            "Validation Loss: 0.9364, Accuracy: 0.7365\n",
            "\n",
            "Epoch 3/10\n"
          ]
        },
        {
          "output_type": "stream",
          "name": "stderr",
          "text": [
            "Training: 100%|██████████| 986/986 [16:57<00:00,  1.03s/it, Loss=0.4821, Accuracy=0.9173]\n"
          ]
        },
        {
          "output_type": "stream",
          "name": "stdout",
          "text": [
            "Validation Loss: 0.8490, Accuracy: 0.7432\n",
            "\n",
            "Epoch 4/10\n"
          ]
        },
        {
          "output_type": "stream",
          "name": "stderr",
          "text": [
            "Training:  84%|████████▍ | 826/986 [14:12<02:47,  1.05s/it, Loss=0.0253, Accuracy=0.9243]"
          ]
        }
      ]
    },
    {
      "cell_type": "code",
      "source": [
        "model_path = f\"ravdess-tess-hubert-model-{epoch_i}.pth\"\n",
        "torch.save(model.state_dict(), model_path)\n",
        "files.download(model_path)"
      ],
      "metadata": {
        "id": "f6Y9BiMZGOLh"
      },
      "execution_count": null,
      "outputs": []
    },
    {
      "cell_type": "markdown",
      "source": [
        "##### Results analysis:"
      ],
      "metadata": {
        "id": "v9fRXzh9Ccbd"
      }
    },
    {
      "cell_type": "code",
      "source": [
        "import seaborn as sns\n",
        "from sklearn.metrics import confusion_matrix, classification_report"
      ],
      "metadata": {
        "id": "l2KdO5efCcbe"
      },
      "execution_count": null,
      "outputs": []
    },
    {
      "cell_type": "code",
      "source": [
        "model.eval()\n",
        "test_correct = 0\n",
        "test_count = 0\n",
        "\n",
        "all_labels = []\n",
        "all_predictions = []\n",
        "\n",
        "with torch.no_grad():\n",
        "  for batch in test_loader:\n",
        "    input_ids = batch[\"input_values\"].to(device)\n",
        "    attention_mask = batch[\"attention_mask\"].to(device)\n",
        "    labels = batch[\"emotion_label\"].to(device)\n",
        "\n",
        "    outputs = model(input_ids, attention_mask=attention_mask, labels=labels)\n",
        "    predictions = predict(outputs)\n",
        "\n",
        "    test_correct += predictions.eq(labels).sum().item()\n",
        "    test_count += len(labels)\n",
        "\n",
        "    # Store for later metrics\n",
        "    all_labels.extend(labels.cpu().numpy())\n",
        "    all_predictions.extend(predictions.cpu().numpy())\n",
        "\n",
        "test_accuracy = test_correct / test_count\n",
        "print(f\"Test Accuracy: {test_accuracy:.3f}\")"
      ],
      "metadata": {
        "id": "XG51oHtDCcbe"
      },
      "execution_count": null,
      "outputs": []
    },
    {
      "cell_type": "code",
      "source": [
        "# Plot Iteration vs Training Loss\n",
        "plt.figure(figsize=(8, 5))\n",
        "plt.plot(train_loss, label=\"Training Loss\")\n",
        "plt.xlabel(\"Iteration\")\n",
        "plt.ylabel(\"Loss\")\n",
        "plt.title(\"Iteration vs Training Loss\")\n",
        "plt.legend()\n",
        "plt.grid()\n",
        "plt.show()\n",
        "\n",
        "# Plot Epoch vs Training Accuracy\n",
        "acc_X_1 = np.arange(len(train_accuracies)) + 1\n",
        "plt.figure(figsize=(8, 5))\n",
        "plt.plot(acc_X_1, train_accuracies, label=\"Training Accuracy\")\n",
        "plt.plot(acc_X_1, val_accuracies, label=\"Validation Accuracy\", linestyle=\"--\")\n",
        "plt.xticks(acc_X_1)\n",
        "plt.xlabel(\"Epoch\")\n",
        "plt.ylabel(\"Accuracy\")\n",
        "plt.title(\"Epoch vs Accuracy\")\n",
        "plt.legend()\n",
        "plt.grid()\n",
        "plt.show()\n",
        "\n",
        "# Plot Epoch vs Validation Loss\n",
        "plt.figure(figsize=(8, 5))\n",
        "plt.plot(np.arange(len(val_losses)) + 1, val_losses, label=\"Validation Loss\", color=\"red\")\n",
        "plt.xlabel(\"Epoch\")\n",
        "plt.ylabel(\"Loss\")\n",
        "plt.title(\"Epoch vs Validation Loss\")\n",
        "plt.legend()\n",
        "plt.grid()\n",
        "plt.show()"
      ],
      "metadata": {
        "collapsed": true,
        "id": "Htp3mDpGCcbe"
      },
      "execution_count": null,
      "outputs": []
    },
    {
      "cell_type": "code",
      "source": [
        "# Compute confusion matrix\n",
        "cm = confusion_matrix(all_labels, all_predictions)\n",
        "labels_names = [\"neutral\", \"happy\", \"sad\", \"angry\", \"fear\", \"disgust\", \"surprised\"]\n",
        "\n",
        "plt.figure(figsize=(6, 6))\n",
        "sns.heatmap(cm, annot=True, fmt=\"d\", cmap=\"Blues\", xticklabels=labels_names, yticklabels=labels_names)\n",
        "plt.xlabel(\"Predicted\")\n",
        "plt.ylabel(\"True\")\n",
        "plt.title(f\"Confusion Matrix (Test Accuracy: {test_accuracy*100:.2f}%)\")\n",
        "plt.show()\n",
        "\n",
        "# Compute Precision, Recall, F1-Score\n",
        "print(\"\\nClassification Report:\\n\")\n",
        "print(classification_report(all_labels, all_predictions, target_names=labels_names))"
      ],
      "metadata": {
        "id": "74fdW9NSCcbe"
      },
      "execution_count": null,
      "outputs": []
    },
    {
      "cell_type": "code",
      "source": [
        "# Create a pandas DataFrame for analysis\n",
        "df_results = pd.DataFrame({\n",
        "    \"Real\": all_labels,\n",
        "    \"Predicted\": all_predictions\n",
        "})\n",
        "\n",
        "# Example if you need to map class numbers to names:\n",
        "# label_map = {0: \"Happy\", 1: \"Sad\"}\n",
        "# df_results[\"Real\"] = df_results[\"Real\"].map(label_map)\n",
        "# df_results[\"Predicted\"] = df_results[\"Predicted\"].map(label_map)\n",
        "\n",
        "df_results.head()"
      ],
      "metadata": {
        "id": "KQz1TrWyCcbe"
      },
      "execution_count": null,
      "outputs": []
    }
  ]
}