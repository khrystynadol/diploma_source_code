{
 "nbformat": 4,
 "nbformat_minor": 0,
 "metadata": {
  "colab": {
   "provenance": [],
   "gpuType": "T4"
  },
  "kernelspec": {
   "name": "python3",
   "display_name": "Python 3"
  },
  "language_info": {
   "name": "python"
  },
  "widgets": {
   "application/vnd.jupyter.widget-state+json": {
    "3fe4671c985245d9959ff8edee583e5b": {
     "model_module": "@jupyter-widgets/controls",
     "model_name": "HBoxModel",
     "model_module_version": "1.5.0",
     "state": {
      "_dom_classes": [],
      "_model_module": "@jupyter-widgets/controls",
      "_model_module_version": "1.5.0",
      "_model_name": "HBoxModel",
      "_view_count": null,
      "_view_module": "@jupyter-widgets/controls",
      "_view_module_version": "1.5.0",
      "_view_name": "HBoxView",
      "box_style": "",
      "children": [
       "IPY_MODEL_c8d1aa00389d450d8c7175534d74f7f2",
       "IPY_MODEL_84f05d24a22442d9a6d0a45b9cc19eca",
       "IPY_MODEL_082cffb73518482984acf690cdf9b4ca"
      ],
      "layout": "IPY_MODEL_937610ce7e684ed4a8c2171434887420"
     }
    },
    "c8d1aa00389d450d8c7175534d74f7f2": {
     "model_module": "@jupyter-widgets/controls",
     "model_name": "HTMLModel",
     "model_module_version": "1.5.0",
     "state": {
      "_dom_classes": [],
      "_model_module": "@jupyter-widgets/controls",
      "_model_module_version": "1.5.0",
      "_model_name": "HTMLModel",
      "_view_count": null,
      "_view_module": "@jupyter-widgets/controls",
      "_view_module_version": "1.5.0",
      "_view_name": "HTMLView",
      "description": "",
      "description_tooltip": null,
      "layout": "IPY_MODEL_0d93250220294b17af60e137686017ef",
      "placeholder": "​",
      "style": "IPY_MODEL_a02b2e532e1f4d7bb9a3d366f2d7f321",
      "value": "Map: 100%"
     }
    },
    "84f05d24a22442d9a6d0a45b9cc19eca": {
     "model_module": "@jupyter-widgets/controls",
     "model_name": "FloatProgressModel",
     "model_module_version": "1.5.0",
     "state": {
      "_dom_classes": [],
      "_model_module": "@jupyter-widgets/controls",
      "_model_module_version": "1.5.0",
      "_model_name": "FloatProgressModel",
      "_view_count": null,
      "_view_module": "@jupyter-widgets/controls",
      "_view_module_version": "1.5.0",
      "_view_name": "ProgressView",
      "bar_style": "success",
      "description": "",
      "description_tooltip": null,
      "layout": "IPY_MODEL_91496f569ab34b38ac1696731a9321aa",
      "max": 1320,
      "min": 0,
      "orientation": "horizontal",
      "style": "IPY_MODEL_5f80310830824e65bcaf4df278a8f851",
      "value": 1320
     }
    },
    "082cffb73518482984acf690cdf9b4ca": {
     "model_module": "@jupyter-widgets/controls",
     "model_name": "HTMLModel",
     "model_module_version": "1.5.0",
     "state": {
      "_dom_classes": [],
      "_model_module": "@jupyter-widgets/controls",
      "_model_module_version": "1.5.0",
      "_model_name": "HTMLModel",
      "_view_count": null,
      "_view_module": "@jupyter-widgets/controls",
      "_view_module_version": "1.5.0",
      "_view_name": "HTMLView",
      "description": "",
      "description_tooltip": null,
      "layout": "IPY_MODEL_d099da310fa84eadbf06271b2e6d4e6e",
      "placeholder": "​",
      "style": "IPY_MODEL_d2d1be3b00ac4888b91d1382020c86e4",
      "value": " 1320/1320 [00:17&lt;00:00, 307.91 examples/s]"
     }
    },
    "937610ce7e684ed4a8c2171434887420": {
     "model_module": "@jupyter-widgets/base",
     "model_name": "LayoutModel",
     "model_module_version": "1.2.0",
     "state": {
      "_model_module": "@jupyter-widgets/base",
      "_model_module_version": "1.2.0",
      "_model_name": "LayoutModel",
      "_view_count": null,
      "_view_module": "@jupyter-widgets/base",
      "_view_module_version": "1.2.0",
      "_view_name": "LayoutView",
      "align_content": null,
      "align_items": null,
      "align_self": null,
      "border": null,
      "bottom": null,
      "display": null,
      "flex": null,
      "flex_flow": null,
      "grid_area": null,
      "grid_auto_columns": null,
      "grid_auto_flow": null,
      "grid_auto_rows": null,
      "grid_column": null,
      "grid_gap": null,
      "grid_row": null,
      "grid_template_areas": null,
      "grid_template_columns": null,
      "grid_template_rows": null,
      "height": null,
      "justify_content": null,
      "justify_items": null,
      "left": null,
      "margin": null,
      "max_height": null,
      "max_width": null,
      "min_height": null,
      "min_width": null,
      "object_fit": null,
      "object_position": null,
      "order": null,
      "overflow": null,
      "overflow_x": null,
      "overflow_y": null,
      "padding": null,
      "right": null,
      "top": null,
      "visibility": null,
      "width": null
     }
    },
    "0d93250220294b17af60e137686017ef": {
     "model_module": "@jupyter-widgets/base",
     "model_name": "LayoutModel",
     "model_module_version": "1.2.0",
     "state": {
      "_model_module": "@jupyter-widgets/base",
      "_model_module_version": "1.2.0",
      "_model_name": "LayoutModel",
      "_view_count": null,
      "_view_module": "@jupyter-widgets/base",
      "_view_module_version": "1.2.0",
      "_view_name": "LayoutView",
      "align_content": null,
      "align_items": null,
      "align_self": null,
      "border": null,
      "bottom": null,
      "display": null,
      "flex": null,
      "flex_flow": null,
      "grid_area": null,
      "grid_auto_columns": null,
      "grid_auto_flow": null,
      "grid_auto_rows": null,
      "grid_column": null,
      "grid_gap": null,
      "grid_row": null,
      "grid_template_areas": null,
      "grid_template_columns": null,
      "grid_template_rows": null,
      "height": null,
      "justify_content": null,
      "justify_items": null,
      "left": null,
      "margin": null,
      "max_height": null,
      "max_width": null,
      "min_height": null,
      "min_width": null,
      "object_fit": null,
      "object_position": null,
      "order": null,
      "overflow": null,
      "overflow_x": null,
      "overflow_y": null,
      "padding": null,
      "right": null,
      "top": null,
      "visibility": null,
      "width": null
     }
    },
    "a02b2e532e1f4d7bb9a3d366f2d7f321": {
     "model_module": "@jupyter-widgets/controls",
     "model_name": "DescriptionStyleModel",
     "model_module_version": "1.5.0",
     "state": {
      "_model_module": "@jupyter-widgets/controls",
      "_model_module_version": "1.5.0",
      "_model_name": "DescriptionStyleModel",
      "_view_count": null,
      "_view_module": "@jupyter-widgets/base",
      "_view_module_version": "1.2.0",
      "_view_name": "StyleView",
      "description_width": ""
     }
    },
    "91496f569ab34b38ac1696731a9321aa": {
     "model_module": "@jupyter-widgets/base",
     "model_name": "LayoutModel",
     "model_module_version": "1.2.0",
     "state": {
      "_model_module": "@jupyter-widgets/base",
      "_model_module_version": "1.2.0",
      "_model_name": "LayoutModel",
      "_view_count": null,
      "_view_module": "@jupyter-widgets/base",
      "_view_module_version": "1.2.0",
      "_view_name": "LayoutView",
      "align_content": null,
      "align_items": null,
      "align_self": null,
      "border": null,
      "bottom": null,
      "display": null,
      "flex": null,
      "flex_flow": null,
      "grid_area": null,
      "grid_auto_columns": null,
      "grid_auto_flow": null,
      "grid_auto_rows": null,
      "grid_column": null,
      "grid_gap": null,
      "grid_row": null,
      "grid_template_areas": null,
      "grid_template_columns": null,
      "grid_template_rows": null,
      "height": null,
      "justify_content": null,
      "justify_items": null,
      "left": null,
      "margin": null,
      "max_height": null,
      "max_width": null,
      "min_height": null,
      "min_width": null,
      "object_fit": null,
      "object_position": null,
      "order": null,
      "overflow": null,
      "overflow_x": null,
      "overflow_y": null,
      "padding": null,
      "right": null,
      "top": null,
      "visibility": null,
      "width": null
     }
    },
    "5f80310830824e65bcaf4df278a8f851": {
     "model_module": "@jupyter-widgets/controls",
     "model_name": "ProgressStyleModel",
     "model_module_version": "1.5.0",
     "state": {
      "_model_module": "@jupyter-widgets/controls",
      "_model_module_version": "1.5.0",
      "_model_name": "ProgressStyleModel",
      "_view_count": null,
      "_view_module": "@jupyter-widgets/base",
      "_view_module_version": "1.2.0",
      "_view_name": "StyleView",
      "bar_color": null,
      "description_width": ""
     }
    },
    "d099da310fa84eadbf06271b2e6d4e6e": {
     "model_module": "@jupyter-widgets/base",
     "model_name": "LayoutModel",
     "model_module_version": "1.2.0",
     "state": {
      "_model_module": "@jupyter-widgets/base",
      "_model_module_version": "1.2.0",
      "_model_name": "LayoutModel",
      "_view_count": null,
      "_view_module": "@jupyter-widgets/base",
      "_view_module_version": "1.2.0",
      "_view_name": "LayoutView",
      "align_content": null,
      "align_items": null,
      "align_self": null,
      "border": null,
      "bottom": null,
      "display": null,
      "flex": null,
      "flex_flow": null,
      "grid_area": null,
      "grid_auto_columns": null,
      "grid_auto_flow": null,
      "grid_auto_rows": null,
      "grid_column": null,
      "grid_gap": null,
      "grid_row": null,
      "grid_template_areas": null,
      "grid_template_columns": null,
      "grid_template_rows": null,
      "height": null,
      "justify_content": null,
      "justify_items": null,
      "left": null,
      "margin": null,
      "max_height": null,
      "max_width": null,
      "min_height": null,
      "min_width": null,
      "object_fit": null,
      "object_position": null,
      "order": null,
      "overflow": null,
      "overflow_x": null,
      "overflow_y": null,
      "padding": null,
      "right": null,
      "top": null,
      "visibility": null,
      "width": null
     }
    },
    "d2d1be3b00ac4888b91d1382020c86e4": {
     "model_module": "@jupyter-widgets/controls",
     "model_name": "DescriptionStyleModel",
     "model_module_version": "1.5.0",
     "state": {
      "_model_module": "@jupyter-widgets/controls",
      "_model_module_version": "1.5.0",
      "_model_name": "DescriptionStyleModel",
      "_view_count": null,
      "_view_module": "@jupyter-widgets/base",
      "_view_module_version": "1.2.0",
      "_view_name": "StyleView",
      "description_width": ""
     }
    },
    "c7a98726778b43a69d4edc085baa5a85": {
     "model_module": "@jupyter-widgets/controls",
     "model_name": "HBoxModel",
     "model_module_version": "1.5.0",
     "state": {
      "_dom_classes": [],
      "_model_module": "@jupyter-widgets/controls",
      "_model_module_version": "1.5.0",
      "_model_name": "HBoxModel",
      "_view_count": null,
      "_view_module": "@jupyter-widgets/controls",
      "_view_module_version": "1.5.0",
      "_view_name": "HBoxView",
      "box_style": "",
      "children": [
       "IPY_MODEL_88fafedf056649f0aa886f32469481e6",
       "IPY_MODEL_fbf9e58265f54f619fa8bfaf46ddf8b0",
       "IPY_MODEL_71a1e9496992441f9a5719fdf9be78ff"
      ],
      "layout": "IPY_MODEL_aa9a48ef4a9c4b5c9c839e584e626714"
     }
    },
    "88fafedf056649f0aa886f32469481e6": {
     "model_module": "@jupyter-widgets/controls",
     "model_name": "HTMLModel",
     "model_module_version": "1.5.0",
     "state": {
      "_dom_classes": [],
      "_model_module": "@jupyter-widgets/controls",
      "_model_module_version": "1.5.0",
      "_model_name": "HTMLModel",
      "_view_count": null,
      "_view_module": "@jupyter-widgets/controls",
      "_view_module_version": "1.5.0",
      "_view_name": "HTMLView",
      "description": "",
      "description_tooltip": null,
      "layout": "IPY_MODEL_906994b34cc94ba99308e50504d1001c",
      "placeholder": "​",
      "style": "IPY_MODEL_ea200b654ea14e74859e428c65fa0633",
      "value": "Map: 100%"
     }
    },
    "fbf9e58265f54f619fa8bfaf46ddf8b0": {
     "model_module": "@jupyter-widgets/controls",
     "model_name": "FloatProgressModel",
     "model_module_version": "1.5.0",
     "state": {
      "_dom_classes": [],
      "_model_module": "@jupyter-widgets/controls",
      "_model_module_version": "1.5.0",
      "_model_name": "FloatProgressModel",
      "_view_count": null,
      "_view_module": "@jupyter-widgets/controls",
      "_view_module_version": "1.5.0",
      "_view_name": "ProgressView",
      "bar_style": "success",
      "description": "",
      "description_tooltip": null,
      "layout": "IPY_MODEL_ae537f95cb0f433fa3dbbd7dc3e7e26a",
      "max": 120,
      "min": 0,
      "orientation": "horizontal",
      "style": "IPY_MODEL_33b67ce1192a487abed5b415bffbf662",
      "value": 120
     }
    },
    "71a1e9496992441f9a5719fdf9be78ff": {
     "model_module": "@jupyter-widgets/controls",
     "model_name": "HTMLModel",
     "model_module_version": "1.5.0",
     "state": {
      "_dom_classes": [],
      "_model_module": "@jupyter-widgets/controls",
      "_model_module_version": "1.5.0",
      "_model_name": "HTMLModel",
      "_view_count": null,
      "_view_module": "@jupyter-widgets/controls",
      "_view_module_version": "1.5.0",
      "_view_name": "HTMLView",
      "description": "",
      "description_tooltip": null,
      "layout": "IPY_MODEL_c9a52b2a49bc4ec39a2ca5384715d696",
      "placeholder": "​",
      "style": "IPY_MODEL_42a028da9d7f4e9f9dd99880e8405c33",
      "value": " 120/120 [00:00&lt;00:00, 281.61 examples/s]"
     }
    },
    "aa9a48ef4a9c4b5c9c839e584e626714": {
     "model_module": "@jupyter-widgets/base",
     "model_name": "LayoutModel",
     "model_module_version": "1.2.0",
     "state": {
      "_model_module": "@jupyter-widgets/base",
      "_model_module_version": "1.2.0",
      "_model_name": "LayoutModel",
      "_view_count": null,
      "_view_module": "@jupyter-widgets/base",
      "_view_module_version": "1.2.0",
      "_view_name": "LayoutView",
      "align_content": null,
      "align_items": null,
      "align_self": null,
      "border": null,
      "bottom": null,
      "display": null,
      "flex": null,
      "flex_flow": null,
      "grid_area": null,
      "grid_auto_columns": null,
      "grid_auto_flow": null,
      "grid_auto_rows": null,
      "grid_column": null,
      "grid_gap": null,
      "grid_row": null,
      "grid_template_areas": null,
      "grid_template_columns": null,
      "grid_template_rows": null,
      "height": null,
      "justify_content": null,
      "justify_items": null,
      "left": null,
      "margin": null,
      "max_height": null,
      "max_width": null,
      "min_height": null,
      "min_width": null,
      "object_fit": null,
      "object_position": null,
      "order": null,
      "overflow": null,
      "overflow_x": null,
      "overflow_y": null,
      "padding": null,
      "right": null,
      "top": null,
      "visibility": null,
      "width": null
     }
    },
    "906994b34cc94ba99308e50504d1001c": {
     "model_module": "@jupyter-widgets/base",
     "model_name": "LayoutModel",
     "model_module_version": "1.2.0",
     "state": {
      "_model_module": "@jupyter-widgets/base",
      "_model_module_version": "1.2.0",
      "_model_name": "LayoutModel",
      "_view_count": null,
      "_view_module": "@jupyter-widgets/base",
      "_view_module_version": "1.2.0",
      "_view_name": "LayoutView",
      "align_content": null,
      "align_items": null,
      "align_self": null,
      "border": null,
      "bottom": null,
      "display": null,
      "flex": null,
      "flex_flow": null,
      "grid_area": null,
      "grid_auto_columns": null,
      "grid_auto_flow": null,
      "grid_auto_rows": null,
      "grid_column": null,
      "grid_gap": null,
      "grid_row": null,
      "grid_template_areas": null,
      "grid_template_columns": null,
      "grid_template_rows": null,
      "height": null,
      "justify_content": null,
      "justify_items": null,
      "left": null,
      "margin": null,
      "max_height": null,
      "max_width": null,
      "min_height": null,
      "min_width": null,
      "object_fit": null,
      "object_position": null,
      "order": null,
      "overflow": null,
      "overflow_x": null,
      "overflow_y": null,
      "padding": null,
      "right": null,
      "top": null,
      "visibility": null,
      "width": null
     }
    },
    "ea200b654ea14e74859e428c65fa0633": {
     "model_module": "@jupyter-widgets/controls",
     "model_name": "DescriptionStyleModel",
     "model_module_version": "1.5.0",
     "state": {
      "_model_module": "@jupyter-widgets/controls",
      "_model_module_version": "1.5.0",
      "_model_name": "DescriptionStyleModel",
      "_view_count": null,
      "_view_module": "@jupyter-widgets/base",
      "_view_module_version": "1.2.0",
      "_view_name": "StyleView",
      "description_width": ""
     }
    },
    "ae537f95cb0f433fa3dbbd7dc3e7e26a": {
     "model_module": "@jupyter-widgets/base",
     "model_name": "LayoutModel",
     "model_module_version": "1.2.0",
     "state": {
      "_model_module": "@jupyter-widgets/base",
      "_model_module_version": "1.2.0",
      "_model_name": "LayoutModel",
      "_view_count": null,
      "_view_module": "@jupyter-widgets/base",
      "_view_module_version": "1.2.0",
      "_view_name": "LayoutView",
      "align_content": null,
      "align_items": null,
      "align_self": null,
      "border": null,
      "bottom": null,
      "display": null,
      "flex": null,
      "flex_flow": null,
      "grid_area": null,
      "grid_auto_columns": null,
      "grid_auto_flow": null,
      "grid_auto_rows": null,
      "grid_column": null,
      "grid_gap": null,
      "grid_row": null,
      "grid_template_areas": null,
      "grid_template_columns": null,
      "grid_template_rows": null,
      "height": null,
      "justify_content": null,
      "justify_items": null,
      "left": null,
      "margin": null,
      "max_height": null,
      "max_width": null,
      "min_height": null,
      "min_width": null,
      "object_fit": null,
      "object_position": null,
      "order": null,
      "overflow": null,
      "overflow_x": null,
      "overflow_y": null,
      "padding": null,
      "right": null,
      "top": null,
      "visibility": null,
      "width": null
     }
    },
    "33b67ce1192a487abed5b415bffbf662": {
     "model_module": "@jupyter-widgets/controls",
     "model_name": "ProgressStyleModel",
     "model_module_version": "1.5.0",
     "state": {
      "_model_module": "@jupyter-widgets/controls",
      "_model_module_version": "1.5.0",
      "_model_name": "ProgressStyleModel",
      "_view_count": null,
      "_view_module": "@jupyter-widgets/base",
      "_view_module_version": "1.2.0",
      "_view_name": "StyleView",
      "bar_color": null,
      "description_width": ""
     }
    },
    "c9a52b2a49bc4ec39a2ca5384715d696": {
     "model_module": "@jupyter-widgets/base",
     "model_name": "LayoutModel",
     "model_module_version": "1.2.0",
     "state": {
      "_model_module": "@jupyter-widgets/base",
      "_model_module_version": "1.2.0",
      "_model_name": "LayoutModel",
      "_view_count": null,
      "_view_module": "@jupyter-widgets/base",
      "_view_module_version": "1.2.0",
      "_view_name": "LayoutView",
      "align_content": null,
      "align_items": null,
      "align_self": null,
      "border": null,
      "bottom": null,
      "display": null,
      "flex": null,
      "flex_flow": null,
      "grid_area": null,
      "grid_auto_columns": null,
      "grid_auto_flow": null,
      "grid_auto_rows": null,
      "grid_column": null,
      "grid_gap": null,
      "grid_row": null,
      "grid_template_areas": null,
      "grid_template_columns": null,
      "grid_template_rows": null,
      "height": null,
      "justify_content": null,
      "justify_items": null,
      "left": null,
      "margin": null,
      "max_height": null,
      "max_width": null,
      "min_height": null,
      "min_width": null,
      "object_fit": null,
      "object_position": null,
      "order": null,
      "overflow": null,
      "overflow_x": null,
      "overflow_y": null,
      "padding": null,
      "right": null,
      "top": null,
      "visibility": null,
      "width": null
     }
    },
    "42a028da9d7f4e9f9dd99880e8405c33": {
     "model_module": "@jupyter-widgets/controls",
     "model_name": "DescriptionStyleModel",
     "model_module_version": "1.5.0",
     "state": {
      "_model_module": "@jupyter-widgets/controls",
      "_model_module_version": "1.5.0",
      "_model_name": "DescriptionStyleModel",
      "_view_count": null,
      "_view_module": "@jupyter-widgets/base",
      "_view_module_version": "1.2.0",
      "_view_name": "StyleView",
      "description_width": ""
     }
    },
    "e114063433d048bbb3c54fd238ffea40": {
     "model_module": "@jupyter-widgets/controls",
     "model_name": "HBoxModel",
     "model_module_version": "1.5.0",
     "state": {
      "_dom_classes": [],
      "_model_module": "@jupyter-widgets/controls",
      "_model_module_version": "1.5.0",
      "_model_name": "HBoxModel",
      "_view_count": null,
      "_view_module": "@jupyter-widgets/controls",
      "_view_module_version": "1.5.0",
      "_view_name": "HBoxView",
      "box_style": "",
      "children": [
       "IPY_MODEL_31648d7a2e0740739e1d6687a5dea914",
       "IPY_MODEL_04040ffd92194bcaa294828484c37820",
       "IPY_MODEL_6e9db2ce99614575a7736500350e7741"
      ],
      "layout": "IPY_MODEL_35ef0184412b4fa5a475989838ba8d77"
     }
    },
    "31648d7a2e0740739e1d6687a5dea914": {
     "model_module": "@jupyter-widgets/controls",
     "model_name": "HTMLModel",
     "model_module_version": "1.5.0",
     "state": {
      "_dom_classes": [],
      "_model_module": "@jupyter-widgets/controls",
      "_model_module_version": "1.5.0",
      "_model_name": "HTMLModel",
      "_view_count": null,
      "_view_module": "@jupyter-widgets/controls",
      "_view_module_version": "1.5.0",
      "_view_name": "HTMLView",
      "description": "",
      "description_tooltip": null,
      "layout": "IPY_MODEL_d7c9078a5c3c4a43b6331db2b55c4572",
      "placeholder": "​",
      "style": "IPY_MODEL_5658718393594ec69190c9c86418db99",
      "value": "preprocessor_config.json: 100%"
     }
    },
    "04040ffd92194bcaa294828484c37820": {
     "model_module": "@jupyter-widgets/controls",
     "model_name": "FloatProgressModel",
     "model_module_version": "1.5.0",
     "state": {
      "_dom_classes": [],
      "_model_module": "@jupyter-widgets/controls",
      "_model_module_version": "1.5.0",
      "_model_name": "FloatProgressModel",
      "_view_count": null,
      "_view_module": "@jupyter-widgets/controls",
      "_view_module_version": "1.5.0",
      "_view_name": "ProgressView",
      "bar_style": "success",
      "description": "",
      "description_tooltip": null,
      "layout": "IPY_MODEL_6541e5a96d174a19b261d238416b8701",
      "max": 212,
      "min": 0,
      "orientation": "horizontal",
      "style": "IPY_MODEL_46d5205d7dff42d3bf692db253ecb861",
      "value": 212
     }
    },
    "6e9db2ce99614575a7736500350e7741": {
     "model_module": "@jupyter-widgets/controls",
     "model_name": "HTMLModel",
     "model_module_version": "1.5.0",
     "state": {
      "_dom_classes": [],
      "_model_module": "@jupyter-widgets/controls",
      "_model_module_version": "1.5.0",
      "_model_name": "HTMLModel",
      "_view_count": null,
      "_view_module": "@jupyter-widgets/controls",
      "_view_module_version": "1.5.0",
      "_view_name": "HTMLView",
      "description": "",
      "description_tooltip": null,
      "layout": "IPY_MODEL_2353fe242d5f4eabb88c039fcd124a38",
      "placeholder": "​",
      "style": "IPY_MODEL_10ea1a5a0c9d462a8a8a57e458592324",
      "value": " 212/212 [00:00&lt;00:00, 15.0kB/s]"
     }
    },
    "35ef0184412b4fa5a475989838ba8d77": {
     "model_module": "@jupyter-widgets/base",
     "model_name": "LayoutModel",
     "model_module_version": "1.2.0",
     "state": {
      "_model_module": "@jupyter-widgets/base",
      "_model_module_version": "1.2.0",
      "_model_name": "LayoutModel",
      "_view_count": null,
      "_view_module": "@jupyter-widgets/base",
      "_view_module_version": "1.2.0",
      "_view_name": "LayoutView",
      "align_content": null,
      "align_items": null,
      "align_self": null,
      "border": null,
      "bottom": null,
      "display": null,
      "flex": null,
      "flex_flow": null,
      "grid_area": null,
      "grid_auto_columns": null,
      "grid_auto_flow": null,
      "grid_auto_rows": null,
      "grid_column": null,
      "grid_gap": null,
      "grid_row": null,
      "grid_template_areas": null,
      "grid_template_columns": null,
      "grid_template_rows": null,
      "height": null,
      "justify_content": null,
      "justify_items": null,
      "left": null,
      "margin": null,
      "max_height": null,
      "max_width": null,
      "min_height": null,
      "min_width": null,
      "object_fit": null,
      "object_position": null,
      "order": null,
      "overflow": null,
      "overflow_x": null,
      "overflow_y": null,
      "padding": null,
      "right": null,
      "top": null,
      "visibility": null,
      "width": null
     }
    },
    "d7c9078a5c3c4a43b6331db2b55c4572": {
     "model_module": "@jupyter-widgets/base",
     "model_name": "LayoutModel",
     "model_module_version": "1.2.0",
     "state": {
      "_model_module": "@jupyter-widgets/base",
      "_model_module_version": "1.2.0",
      "_model_name": "LayoutModel",
      "_view_count": null,
      "_view_module": "@jupyter-widgets/base",
      "_view_module_version": "1.2.0",
      "_view_name": "LayoutView",
      "align_content": null,
      "align_items": null,
      "align_self": null,
      "border": null,
      "bottom": null,
      "display": null,
      "flex": null,
      "flex_flow": null,
      "grid_area": null,
      "grid_auto_columns": null,
      "grid_auto_flow": null,
      "grid_auto_rows": null,
      "grid_column": null,
      "grid_gap": null,
      "grid_row": null,
      "grid_template_areas": null,
      "grid_template_columns": null,
      "grid_template_rows": null,
      "height": null,
      "justify_content": null,
      "justify_items": null,
      "left": null,
      "margin": null,
      "max_height": null,
      "max_width": null,
      "min_height": null,
      "min_width": null,
      "object_fit": null,
      "object_position": null,
      "order": null,
      "overflow": null,
      "overflow_x": null,
      "overflow_y": null,
      "padding": null,
      "right": null,
      "top": null,
      "visibility": null,
      "width": null
     }
    },
    "5658718393594ec69190c9c86418db99": {
     "model_module": "@jupyter-widgets/controls",
     "model_name": "DescriptionStyleModel",
     "model_module_version": "1.5.0",
     "state": {
      "_model_module": "@jupyter-widgets/controls",
      "_model_module_version": "1.5.0",
      "_model_name": "DescriptionStyleModel",
      "_view_count": null,
      "_view_module": "@jupyter-widgets/base",
      "_view_module_version": "1.2.0",
      "_view_name": "StyleView",
      "description_width": ""
     }
    },
    "6541e5a96d174a19b261d238416b8701": {
     "model_module": "@jupyter-widgets/base",
     "model_name": "LayoutModel",
     "model_module_version": "1.2.0",
     "state": {
      "_model_module": "@jupyter-widgets/base",
      "_model_module_version": "1.2.0",
      "_model_name": "LayoutModel",
      "_view_count": null,
      "_view_module": "@jupyter-widgets/base",
      "_view_module_version": "1.2.0",
      "_view_name": "LayoutView",
      "align_content": null,
      "align_items": null,
      "align_self": null,
      "border": null,
      "bottom": null,
      "display": null,
      "flex": null,
      "flex_flow": null,
      "grid_area": null,
      "grid_auto_columns": null,
      "grid_auto_flow": null,
      "grid_auto_rows": null,
      "grid_column": null,
      "grid_gap": null,
      "grid_row": null,
      "grid_template_areas": null,
      "grid_template_columns": null,
      "grid_template_rows": null,
      "height": null,
      "justify_content": null,
      "justify_items": null,
      "left": null,
      "margin": null,
      "max_height": null,
      "max_width": null,
      "min_height": null,
      "min_width": null,
      "object_fit": null,
      "object_position": null,
      "order": null,
      "overflow": null,
      "overflow_x": null,
      "overflow_y": null,
      "padding": null,
      "right": null,
      "top": null,
      "visibility": null,
      "width": null
     }
    },
    "46d5205d7dff42d3bf692db253ecb861": {
     "model_module": "@jupyter-widgets/controls",
     "model_name": "ProgressStyleModel",
     "model_module_version": "1.5.0",
     "state": {
      "_model_module": "@jupyter-widgets/controls",
      "_model_module_version": "1.5.0",
      "_model_name": "ProgressStyleModel",
      "_view_count": null,
      "_view_module": "@jupyter-widgets/base",
      "_view_module_version": "1.2.0",
      "_view_name": "StyleView",
      "bar_color": null,
      "description_width": ""
     }
    },
    "2353fe242d5f4eabb88c039fcd124a38": {
     "model_module": "@jupyter-widgets/base",
     "model_name": "LayoutModel",
     "model_module_version": "1.2.0",
     "state": {
      "_model_module": "@jupyter-widgets/base",
      "_model_module_version": "1.2.0",
      "_model_name": "LayoutModel",
      "_view_count": null,
      "_view_module": "@jupyter-widgets/base",
      "_view_module_version": "1.2.0",
      "_view_name": "LayoutView",
      "align_content": null,
      "align_items": null,
      "align_self": null,
      "border": null,
      "bottom": null,
      "display": null,
      "flex": null,
      "flex_flow": null,
      "grid_area": null,
      "grid_auto_columns": null,
      "grid_auto_flow": null,
      "grid_auto_rows": null,
      "grid_column": null,
      "grid_gap": null,
      "grid_row": null,
      "grid_template_areas": null,
      "grid_template_columns": null,
      "grid_template_rows": null,
      "height": null,
      "justify_content": null,
      "justify_items": null,
      "left": null,
      "margin": null,
      "max_height": null,
      "max_width": null,
      "min_height": null,
      "min_width": null,
      "object_fit": null,
      "object_position": null,
      "order": null,
      "overflow": null,
      "overflow_x": null,
      "overflow_y": null,
      "padding": null,
      "right": null,
      "top": null,
      "visibility": null,
      "width": null
     }
    },
    "10ea1a5a0c9d462a8a8a57e458592324": {
     "model_module": "@jupyter-widgets/controls",
     "model_name": "DescriptionStyleModel",
     "model_module_version": "1.5.0",
     "state": {
      "_model_module": "@jupyter-widgets/controls",
      "_model_module_version": "1.5.0",
      "_model_name": "DescriptionStyleModel",
      "_view_count": null,
      "_view_module": "@jupyter-widgets/base",
      "_view_module_version": "1.2.0",
      "_view_name": "StyleView",
      "description_width": ""
     }
    },
    "fca1b66d3d2344e8903681328ceb869f": {
     "model_module": "@jupyter-widgets/controls",
     "model_name": "HBoxModel",
     "model_module_version": "1.5.0",
     "state": {
      "_dom_classes": [],
      "_model_module": "@jupyter-widgets/controls",
      "_model_module_version": "1.5.0",
      "_model_name": "HBoxModel",
      "_view_count": null,
      "_view_module": "@jupyter-widgets/controls",
      "_view_module_version": "1.5.0",
      "_view_name": "HBoxView",
      "box_style": "",
      "children": [
       "IPY_MODEL_1256bd94ffc049158558e577c25f6229",
       "IPY_MODEL_578e1d8f68524eaea70904c265e5772b",
       "IPY_MODEL_6d9a77d412094595a073d3e0a78c7826"
      ],
      "layout": "IPY_MODEL_ffc253cd573f427b8af8bcc229e71c40"
     }
    },
    "1256bd94ffc049158558e577c25f6229": {
     "model_module": "@jupyter-widgets/controls",
     "model_name": "HTMLModel",
     "model_module_version": "1.5.0",
     "state": {
      "_dom_classes": [],
      "_model_module": "@jupyter-widgets/controls",
      "_model_module_version": "1.5.0",
      "_model_name": "HTMLModel",
      "_view_count": null,
      "_view_module": "@jupyter-widgets/controls",
      "_view_module_version": "1.5.0",
      "_view_name": "HTMLView",
      "description": "",
      "description_tooltip": null,
      "layout": "IPY_MODEL_48bab9da97744f689906466fd8a2dcb9",
      "placeholder": "​",
      "style": "IPY_MODEL_5ad2643191a9477192184ca66616ea86",
      "value": "config.json: 100%"
     }
    },
    "578e1d8f68524eaea70904c265e5772b": {
     "model_module": "@jupyter-widgets/controls",
     "model_name": "FloatProgressModel",
     "model_module_version": "1.5.0",
     "state": {
      "_dom_classes": [],
      "_model_module": "@jupyter-widgets/controls",
      "_model_module_version": "1.5.0",
      "_model_name": "FloatProgressModel",
      "_view_count": null,
      "_view_module": "@jupyter-widgets/controls",
      "_view_module_version": "1.5.0",
      "_view_name": "ProgressView",
      "bar_style": "success",
      "description": "",
      "description_tooltip": null,
      "layout": "IPY_MODEL_3b4d97dbdb7745d8986438a1ad1a3c72",
      "max": 1828,
      "min": 0,
      "orientation": "horizontal",
      "style": "IPY_MODEL_ac37a03ff3ec4f33b9319f5c9da0128e",
      "value": 1828
     }
    },
    "6d9a77d412094595a073d3e0a78c7826": {
     "model_module": "@jupyter-widgets/controls",
     "model_name": "HTMLModel",
     "model_module_version": "1.5.0",
     "state": {
      "_dom_classes": [],
      "_model_module": "@jupyter-widgets/controls",
      "_model_module_version": "1.5.0",
      "_model_name": "HTMLModel",
      "_view_count": null,
      "_view_module": "@jupyter-widgets/controls",
      "_view_module_version": "1.5.0",
      "_view_name": "HTMLView",
      "description": "",
      "description_tooltip": null,
      "layout": "IPY_MODEL_6e1fc19a0ae74057b0a937af12b29e34",
      "placeholder": "​",
      "style": "IPY_MODEL_fd4c571ef7ef439a8ebcb11e5fcd3121",
      "value": " 1.83k/1.83k [00:00&lt;00:00, 85.4kB/s]"
     }
    },
    "ffc253cd573f427b8af8bcc229e71c40": {
     "model_module": "@jupyter-widgets/base",
     "model_name": "LayoutModel",
     "model_module_version": "1.2.0",
     "state": {
      "_model_module": "@jupyter-widgets/base",
      "_model_module_version": "1.2.0",
      "_model_name": "LayoutModel",
      "_view_count": null,
      "_view_module": "@jupyter-widgets/base",
      "_view_module_version": "1.2.0",
      "_view_name": "LayoutView",
      "align_content": null,
      "align_items": null,
      "align_self": null,
      "border": null,
      "bottom": null,
      "display": null,
      "flex": null,
      "flex_flow": null,
      "grid_area": null,
      "grid_auto_columns": null,
      "grid_auto_flow": null,
      "grid_auto_rows": null,
      "grid_column": null,
      "grid_gap": null,
      "grid_row": null,
      "grid_template_areas": null,
      "grid_template_columns": null,
      "grid_template_rows": null,
      "height": null,
      "justify_content": null,
      "justify_items": null,
      "left": null,
      "margin": null,
      "max_height": null,
      "max_width": null,
      "min_height": null,
      "min_width": null,
      "object_fit": null,
      "object_position": null,
      "order": null,
      "overflow": null,
      "overflow_x": null,
      "overflow_y": null,
      "padding": null,
      "right": null,
      "top": null,
      "visibility": null,
      "width": null
     }
    },
    "48bab9da97744f689906466fd8a2dcb9": {
     "model_module": "@jupyter-widgets/base",
     "model_name": "LayoutModel",
     "model_module_version": "1.2.0",
     "state": {
      "_model_module": "@jupyter-widgets/base",
      "_model_module_version": "1.2.0",
      "_model_name": "LayoutModel",
      "_view_count": null,
      "_view_module": "@jupyter-widgets/base",
      "_view_module_version": "1.2.0",
      "_view_name": "LayoutView",
      "align_content": null,
      "align_items": null,
      "align_self": null,
      "border": null,
      "bottom": null,
      "display": null,
      "flex": null,
      "flex_flow": null,
      "grid_area": null,
      "grid_auto_columns": null,
      "grid_auto_flow": null,
      "grid_auto_rows": null,
      "grid_column": null,
      "grid_gap": null,
      "grid_row": null,
      "grid_template_areas": null,
      "grid_template_columns": null,
      "grid_template_rows": null,
      "height": null,
      "justify_content": null,
      "justify_items": null,
      "left": null,
      "margin": null,
      "max_height": null,
      "max_width": null,
      "min_height": null,
      "min_width": null,
      "object_fit": null,
      "object_position": null,
      "order": null,
      "overflow": null,
      "overflow_x": null,
      "overflow_y": null,
      "padding": null,
      "right": null,
      "top": null,
      "visibility": null,
      "width": null
     }
    },
    "5ad2643191a9477192184ca66616ea86": {
     "model_module": "@jupyter-widgets/controls",
     "model_name": "DescriptionStyleModel",
     "model_module_version": "1.5.0",
     "state": {
      "_model_module": "@jupyter-widgets/controls",
      "_model_module_version": "1.5.0",
      "_model_name": "DescriptionStyleModel",
      "_view_count": null,
      "_view_module": "@jupyter-widgets/base",
      "_view_module_version": "1.2.0",
      "_view_name": "StyleView",
      "description_width": ""
     }
    },
    "3b4d97dbdb7745d8986438a1ad1a3c72": {
     "model_module": "@jupyter-widgets/base",
     "model_name": "LayoutModel",
     "model_module_version": "1.2.0",
     "state": {
      "_model_module": "@jupyter-widgets/base",
      "_model_module_version": "1.2.0",
      "_model_name": "LayoutModel",
      "_view_count": null,
      "_view_module": "@jupyter-widgets/base",
      "_view_module_version": "1.2.0",
      "_view_name": "LayoutView",
      "align_content": null,
      "align_items": null,
      "align_self": null,
      "border": null,
      "bottom": null,
      "display": null,
      "flex": null,
      "flex_flow": null,
      "grid_area": null,
      "grid_auto_columns": null,
      "grid_auto_flow": null,
      "grid_auto_rows": null,
      "grid_column": null,
      "grid_gap": null,
      "grid_row": null,
      "grid_template_areas": null,
      "grid_template_columns": null,
      "grid_template_rows": null,
      "height": null,
      "justify_content": null,
      "justify_items": null,
      "left": null,
      "margin": null,
      "max_height": null,
      "max_width": null,
      "min_height": null,
      "min_width": null,
      "object_fit": null,
      "object_position": null,
      "order": null,
      "overflow": null,
      "overflow_x": null,
      "overflow_y": null,
      "padding": null,
      "right": null,
      "top": null,
      "visibility": null,
      "width": null
     }
    },
    "ac37a03ff3ec4f33b9319f5c9da0128e": {
     "model_module": "@jupyter-widgets/controls",
     "model_name": "ProgressStyleModel",
     "model_module_version": "1.5.0",
     "state": {
      "_model_module": "@jupyter-widgets/controls",
      "_model_module_version": "1.5.0",
      "_model_name": "ProgressStyleModel",
      "_view_count": null,
      "_view_module": "@jupyter-widgets/base",
      "_view_module_version": "1.2.0",
      "_view_name": "StyleView",
      "bar_color": null,
      "description_width": ""
     }
    },
    "6e1fc19a0ae74057b0a937af12b29e34": {
     "model_module": "@jupyter-widgets/base",
     "model_name": "LayoutModel",
     "model_module_version": "1.2.0",
     "state": {
      "_model_module": "@jupyter-widgets/base",
      "_model_module_version": "1.2.0",
      "_model_name": "LayoutModel",
      "_view_count": null,
      "_view_module": "@jupyter-widgets/base",
      "_view_module_version": "1.2.0",
      "_view_name": "LayoutView",
      "align_content": null,
      "align_items": null,
      "align_self": null,
      "border": null,
      "bottom": null,
      "display": null,
      "flex": null,
      "flex_flow": null,
      "grid_area": null,
      "grid_auto_columns": null,
      "grid_auto_flow": null,
      "grid_auto_rows": null,
      "grid_column": null,
      "grid_gap": null,
      "grid_row": null,
      "grid_template_areas": null,
      "grid_template_columns": null,
      "grid_template_rows": null,
      "height": null,
      "justify_content": null,
      "justify_items": null,
      "left": null,
      "margin": null,
      "max_height": null,
      "max_width": null,
      "min_height": null,
      "min_width": null,
      "object_fit": null,
      "object_position": null,
      "order": null,
      "overflow": null,
      "overflow_x": null,
      "overflow_y": null,
      "padding": null,
      "right": null,
      "top": null,
      "visibility": null,
      "width": null
     }
    },
    "fd4c571ef7ef439a8ebcb11e5fcd3121": {
     "model_module": "@jupyter-widgets/controls",
     "model_name": "DescriptionStyleModel",
     "model_module_version": "1.5.0",
     "state": {
      "_model_module": "@jupyter-widgets/controls",
      "_model_module_version": "1.5.0",
      "_model_name": "DescriptionStyleModel",
      "_view_count": null,
      "_view_module": "@jupyter-widgets/base",
      "_view_module_version": "1.2.0",
      "_view_name": "StyleView",
      "description_width": ""
     }
    },
    "308dcb48c42a41aebe76f19bb1aaf9e0": {
     "model_module": "@jupyter-widgets/controls",
     "model_name": "HBoxModel",
     "model_module_version": "1.5.0",
     "state": {
      "_dom_classes": [],
      "_model_module": "@jupyter-widgets/controls",
      "_model_module_version": "1.5.0",
      "_model_name": "HBoxModel",
      "_view_count": null,
      "_view_module": "@jupyter-widgets/controls",
      "_view_module_version": "1.5.0",
      "_view_name": "HBoxView",
      "box_style": "",
      "children": [
       "IPY_MODEL_2bb4e4fe70064f3cbfa224ad377f04fa",
       "IPY_MODEL_f8d77bb50738433e85ec1c7aa0a336c9",
       "IPY_MODEL_d4a858bdfbc148ac8b07a50a0694134a"
      ],
      "layout": "IPY_MODEL_c721fba0d5b34029951d3e1c44d67067"
     }
    },
    "2bb4e4fe70064f3cbfa224ad377f04fa": {
     "model_module": "@jupyter-widgets/controls",
     "model_name": "HTMLModel",
     "model_module_version": "1.5.0",
     "state": {
      "_dom_classes": [],
      "_model_module": "@jupyter-widgets/controls",
      "_model_module_version": "1.5.0",
      "_model_name": "HTMLModel",
      "_view_count": null,
      "_view_module": "@jupyter-widgets/controls",
      "_view_module_version": "1.5.0",
      "_view_name": "HTMLView",
      "description": "",
      "description_tooltip": null,
      "layout": "IPY_MODEL_a9f4d3b1daf148d79be9371b3dd22612",
      "placeholder": "​",
      "style": "IPY_MODEL_f0e012be55a74575bfc2bda5667ba361",
      "value": "pytorch_model.bin: 100%"
     }
    },
    "f8d77bb50738433e85ec1c7aa0a336c9": {
     "model_module": "@jupyter-widgets/controls",
     "model_name": "FloatProgressModel",
     "model_module_version": "1.5.0",
     "state": {
      "_dom_classes": [],
      "_model_module": "@jupyter-widgets/controls",
      "_model_module_version": "1.5.0",
      "_model_name": "FloatProgressModel",
      "_view_count": null,
      "_view_module": "@jupyter-widgets/controls",
      "_view_module_version": "1.5.0",
      "_view_name": "ProgressView",
      "bar_style": "success",
      "description": "",
      "description_tooltip": null,
      "layout": "IPY_MODEL_ac2207ab861046b8bc9d42452aab3502",
      "max": 1262970923,
      "min": 0,
      "orientation": "horizontal",
      "style": "IPY_MODEL_628cb8d6f0404515abaf524d7ddf0e7d",
      "value": 1262970923
     }
    },
    "d4a858bdfbc148ac8b07a50a0694134a": {
     "model_module": "@jupyter-widgets/controls",
     "model_name": "HTMLModel",
     "model_module_version": "1.5.0",
     "state": {
      "_dom_classes": [],
      "_model_module": "@jupyter-widgets/controls",
      "_model_module_version": "1.5.0",
      "_model_name": "HTMLModel",
      "_view_count": null,
      "_view_module": "@jupyter-widgets/controls",
      "_view_module_version": "1.5.0",
      "_view_name": "HTMLView",
      "description": "",
      "description_tooltip": null,
      "layout": "IPY_MODEL_8e7e218ee0e24a8594cd8b8e9fbd5fd2",
      "placeholder": "​",
      "style": "IPY_MODEL_34e9d751495f46cab5e0e8b2b87dc5eb",
      "value": " 1.26G/1.26G [00:04&lt;00:00, 257MB/s]"
     }
    },
    "c721fba0d5b34029951d3e1c44d67067": {
     "model_module": "@jupyter-widgets/base",
     "model_name": "LayoutModel",
     "model_module_version": "1.2.0",
     "state": {
      "_model_module": "@jupyter-widgets/base",
      "_model_module_version": "1.2.0",
      "_model_name": "LayoutModel",
      "_view_count": null,
      "_view_module": "@jupyter-widgets/base",
      "_view_module_version": "1.2.0",
      "_view_name": "LayoutView",
      "align_content": null,
      "align_items": null,
      "align_self": null,
      "border": null,
      "bottom": null,
      "display": null,
      "flex": null,
      "flex_flow": null,
      "grid_area": null,
      "grid_auto_columns": null,
      "grid_auto_flow": null,
      "grid_auto_rows": null,
      "grid_column": null,
      "grid_gap": null,
      "grid_row": null,
      "grid_template_areas": null,
      "grid_template_columns": null,
      "grid_template_rows": null,
      "height": null,
      "justify_content": null,
      "justify_items": null,
      "left": null,
      "margin": null,
      "max_height": null,
      "max_width": null,
      "min_height": null,
      "min_width": null,
      "object_fit": null,
      "object_position": null,
      "order": null,
      "overflow": null,
      "overflow_x": null,
      "overflow_y": null,
      "padding": null,
      "right": null,
      "top": null,
      "visibility": null,
      "width": null
     }
    },
    "a9f4d3b1daf148d79be9371b3dd22612": {
     "model_module": "@jupyter-widgets/base",
     "model_name": "LayoutModel",
     "model_module_version": "1.2.0",
     "state": {
      "_model_module": "@jupyter-widgets/base",
      "_model_module_version": "1.2.0",
      "_model_name": "LayoutModel",
      "_view_count": null,
      "_view_module": "@jupyter-widgets/base",
      "_view_module_version": "1.2.0",
      "_view_name": "LayoutView",
      "align_content": null,
      "align_items": null,
      "align_self": null,
      "border": null,
      "bottom": null,
      "display": null,
      "flex": null,
      "flex_flow": null,
      "grid_area": null,
      "grid_auto_columns": null,
      "grid_auto_flow": null,
      "grid_auto_rows": null,
      "grid_column": null,
      "grid_gap": null,
      "grid_row": null,
      "grid_template_areas": null,
      "grid_template_columns": null,
      "grid_template_rows": null,
      "height": null,
      "justify_content": null,
      "justify_items": null,
      "left": null,
      "margin": null,
      "max_height": null,
      "max_width": null,
      "min_height": null,
      "min_width": null,
      "object_fit": null,
      "object_position": null,
      "order": null,
      "overflow": null,
      "overflow_x": null,
      "overflow_y": null,
      "padding": null,
      "right": null,
      "top": null,
      "visibility": null,
      "width": null
     }
    },
    "f0e012be55a74575bfc2bda5667ba361": {
     "model_module": "@jupyter-widgets/controls",
     "model_name": "DescriptionStyleModel",
     "model_module_version": "1.5.0",
     "state": {
      "_model_module": "@jupyter-widgets/controls",
      "_model_module_version": "1.5.0",
      "_model_name": "DescriptionStyleModel",
      "_view_count": null,
      "_view_module": "@jupyter-widgets/base",
      "_view_module_version": "1.2.0",
      "_view_name": "StyleView",
      "description_width": ""
     }
    },
    "ac2207ab861046b8bc9d42452aab3502": {
     "model_module": "@jupyter-widgets/base",
     "model_name": "LayoutModel",
     "model_module_version": "1.2.0",
     "state": {
      "_model_module": "@jupyter-widgets/base",
      "_model_module_version": "1.2.0",
      "_model_name": "LayoutModel",
      "_view_count": null,
      "_view_module": "@jupyter-widgets/base",
      "_view_module_version": "1.2.0",
      "_view_name": "LayoutView",
      "align_content": null,
      "align_items": null,
      "align_self": null,
      "border": null,
      "bottom": null,
      "display": null,
      "flex": null,
      "flex_flow": null,
      "grid_area": null,
      "grid_auto_columns": null,
      "grid_auto_flow": null,
      "grid_auto_rows": null,
      "grid_column": null,
      "grid_gap": null,
      "grid_row": null,
      "grid_template_areas": null,
      "grid_template_columns": null,
      "grid_template_rows": null,
      "height": null,
      "justify_content": null,
      "justify_items": null,
      "left": null,
      "margin": null,
      "max_height": null,
      "max_width": null,
      "min_height": null,
      "min_width": null,
      "object_fit": null,
      "object_position": null,
      "order": null,
      "overflow": null,
      "overflow_x": null,
      "overflow_y": null,
      "padding": null,
      "right": null,
      "top": null,
      "visibility": null,
      "width": null
     }
    },
    "628cb8d6f0404515abaf524d7ddf0e7d": {
     "model_module": "@jupyter-widgets/controls",
     "model_name": "ProgressStyleModel",
     "model_module_version": "1.5.0",
     "state": {
      "_model_module": "@jupyter-widgets/controls",
      "_model_module_version": "1.5.0",
      "_model_name": "ProgressStyleModel",
      "_view_count": null,
      "_view_module": "@jupyter-widgets/base",
      "_view_module_version": "1.2.0",
      "_view_name": "StyleView",
      "bar_color": null,
      "description_width": ""
     }
    },
    "8e7e218ee0e24a8594cd8b8e9fbd5fd2": {
     "model_module": "@jupyter-widgets/base",
     "model_name": "LayoutModel",
     "model_module_version": "1.2.0",
     "state": {
      "_model_module": "@jupyter-widgets/base",
      "_model_module_version": "1.2.0",
      "_model_name": "LayoutModel",
      "_view_count": null,
      "_view_module": "@jupyter-widgets/base",
      "_view_module_version": "1.2.0",
      "_view_name": "LayoutView",
      "align_content": null,
      "align_items": null,
      "align_self": null,
      "border": null,
      "bottom": null,
      "display": null,
      "flex": null,
      "flex_flow": null,
      "grid_area": null,
      "grid_auto_columns": null,
      "grid_auto_flow": null,
      "grid_auto_rows": null,
      "grid_column": null,
      "grid_gap": null,
      "grid_row": null,
      "grid_template_areas": null,
      "grid_template_columns": null,
      "grid_template_rows": null,
      "height": null,
      "justify_content": null,
      "justify_items": null,
      "left": null,
      "margin": null,
      "max_height": null,
      "max_width": null,
      "min_height": null,
      "min_width": null,
      "object_fit": null,
      "object_position": null,
      "order": null,
      "overflow": null,
      "overflow_x": null,
      "overflow_y": null,
      "padding": null,
      "right": null,
      "top": null,
      "visibility": null,
      "width": null
     }
    },
    "34e9d751495f46cab5e0e8b2b87dc5eb": {
     "model_module": "@jupyter-widgets/controls",
     "model_name": "DescriptionStyleModel",
     "model_module_version": "1.5.0",
     "state": {
      "_model_module": "@jupyter-widgets/controls",
      "_model_module_version": "1.5.0",
      "_model_name": "DescriptionStyleModel",
      "_view_count": null,
      "_view_module": "@jupyter-widgets/base",
      "_view_module_version": "1.2.0",
      "_view_name": "StyleView",
      "description_width": ""
     }
    },
    "8ffcaa4dbe2a4570bb666b12e8a0cd26": {
     "model_module": "@jupyter-widgets/controls",
     "model_name": "HBoxModel",
     "model_module_version": "1.5.0",
     "state": {
      "_dom_classes": [],
      "_model_module": "@jupyter-widgets/controls",
      "_model_module_version": "1.5.0",
      "_model_name": "HBoxModel",
      "_view_count": null,
      "_view_module": "@jupyter-widgets/controls",
      "_view_module_version": "1.5.0",
      "_view_name": "HBoxView",
      "box_style": "",
      "children": [
       "IPY_MODEL_a77b064a644d4cf981f789863ea4a0be",
       "IPY_MODEL_88a6db5397264740ad6bdbc6d8298196",
       "IPY_MODEL_573f043165ac44e8bfd8a56deede40f7"
      ],
      "layout": "IPY_MODEL_e1d99df6237042caa06f0ebc6ae7fb84"
     }
    },
    "a77b064a644d4cf981f789863ea4a0be": {
     "model_module": "@jupyter-widgets/controls",
     "model_name": "HTMLModel",
     "model_module_version": "1.5.0",
     "state": {
      "_dom_classes": [],
      "_model_module": "@jupyter-widgets/controls",
      "_model_module_version": "1.5.0",
      "_model_name": "HTMLModel",
      "_view_count": null,
      "_view_module": "@jupyter-widgets/controls",
      "_view_module_version": "1.5.0",
      "_view_name": "HTMLView",
      "description": "",
      "description_tooltip": null,
      "layout": "IPY_MODEL_2efc8970b9e54cf8b1fa8c4af861ac41",
      "placeholder": "​",
      "style": "IPY_MODEL_a695b87ee21c4c8bb1c57ad1403e1301",
      "value": "Map: 100%"
     }
    },
    "88a6db5397264740ad6bdbc6d8298196": {
     "model_module": "@jupyter-widgets/controls",
     "model_name": "FloatProgressModel",
     "model_module_version": "1.5.0",
     "state": {
      "_dom_classes": [],
      "_model_module": "@jupyter-widgets/controls",
      "_model_module_version": "1.5.0",
      "_model_name": "FloatProgressModel",
      "_view_count": null,
      "_view_module": "@jupyter-widgets/controls",
      "_view_module_version": "1.5.0",
      "_view_name": "ProgressView",
      "bar_style": "success",
      "description": "",
      "description_tooltip": null,
      "layout": "IPY_MODEL_7aab084d1f794705a6efd38f855d60db",
      "max": 1080,
      "min": 0,
      "orientation": "horizontal",
      "style": "IPY_MODEL_e90fbd3d434a40889f1d400b37931f99",
      "value": 1080
     }
    },
    "573f043165ac44e8bfd8a56deede40f7": {
     "model_module": "@jupyter-widgets/controls",
     "model_name": "HTMLModel",
     "model_module_version": "1.5.0",
     "state": {
      "_dom_classes": [],
      "_model_module": "@jupyter-widgets/controls",
      "_model_module_version": "1.5.0",
      "_model_name": "HTMLModel",
      "_view_count": null,
      "_view_module": "@jupyter-widgets/controls",
      "_view_module_version": "1.5.0",
      "_view_name": "HTMLView",
      "description": "",
      "description_tooltip": null,
      "layout": "IPY_MODEL_268c5609e8d84099afc7a66996c29f3a",
      "placeholder": "​",
      "style": "IPY_MODEL_417266aaa8e1441ba73c3634d3286118",
      "value": " 1080/1080 [00:06&lt;00:00, 163.17 examples/s]"
     }
    },
    "e1d99df6237042caa06f0ebc6ae7fb84": {
     "model_module": "@jupyter-widgets/base",
     "model_name": "LayoutModel",
     "model_module_version": "1.2.0",
     "state": {
      "_model_module": "@jupyter-widgets/base",
      "_model_module_version": "1.2.0",
      "_model_name": "LayoutModel",
      "_view_count": null,
      "_view_module": "@jupyter-widgets/base",
      "_view_module_version": "1.2.0",
      "_view_name": "LayoutView",
      "align_content": null,
      "align_items": null,
      "align_self": null,
      "border": null,
      "bottom": null,
      "display": null,
      "flex": null,
      "flex_flow": null,
      "grid_area": null,
      "grid_auto_columns": null,
      "grid_auto_flow": null,
      "grid_auto_rows": null,
      "grid_column": null,
      "grid_gap": null,
      "grid_row": null,
      "grid_template_areas": null,
      "grid_template_columns": null,
      "grid_template_rows": null,
      "height": null,
      "justify_content": null,
      "justify_items": null,
      "left": null,
      "margin": null,
      "max_height": null,
      "max_width": null,
      "min_height": null,
      "min_width": null,
      "object_fit": null,
      "object_position": null,
      "order": null,
      "overflow": null,
      "overflow_x": null,
      "overflow_y": null,
      "padding": null,
      "right": null,
      "top": null,
      "visibility": null,
      "width": null
     }
    },
    "2efc8970b9e54cf8b1fa8c4af861ac41": {
     "model_module": "@jupyter-widgets/base",
     "model_name": "LayoutModel",
     "model_module_version": "1.2.0",
     "state": {
      "_model_module": "@jupyter-widgets/base",
      "_model_module_version": "1.2.0",
      "_model_name": "LayoutModel",
      "_view_count": null,
      "_view_module": "@jupyter-widgets/base",
      "_view_module_version": "1.2.0",
      "_view_name": "LayoutView",
      "align_content": null,
      "align_items": null,
      "align_self": null,
      "border": null,
      "bottom": null,
      "display": null,
      "flex": null,
      "flex_flow": null,
      "grid_area": null,
      "grid_auto_columns": null,
      "grid_auto_flow": null,
      "grid_auto_rows": null,
      "grid_column": null,
      "grid_gap": null,
      "grid_row": null,
      "grid_template_areas": null,
      "grid_template_columns": null,
      "grid_template_rows": null,
      "height": null,
      "justify_content": null,
      "justify_items": null,
      "left": null,
      "margin": null,
      "max_height": null,
      "max_width": null,
      "min_height": null,
      "min_width": null,
      "object_fit": null,
      "object_position": null,
      "order": null,
      "overflow": null,
      "overflow_x": null,
      "overflow_y": null,
      "padding": null,
      "right": null,
      "top": null,
      "visibility": null,
      "width": null
     }
    },
    "a695b87ee21c4c8bb1c57ad1403e1301": {
     "model_module": "@jupyter-widgets/controls",
     "model_name": "DescriptionStyleModel",
     "model_module_version": "1.5.0",
     "state": {
      "_model_module": "@jupyter-widgets/controls",
      "_model_module_version": "1.5.0",
      "_model_name": "DescriptionStyleModel",
      "_view_count": null,
      "_view_module": "@jupyter-widgets/base",
      "_view_module_version": "1.2.0",
      "_view_name": "StyleView",
      "description_width": ""
     }
    },
    "7aab084d1f794705a6efd38f855d60db": {
     "model_module": "@jupyter-widgets/base",
     "model_name": "LayoutModel",
     "model_module_version": "1.2.0",
     "state": {
      "_model_module": "@jupyter-widgets/base",
      "_model_module_version": "1.2.0",
      "_model_name": "LayoutModel",
      "_view_count": null,
      "_view_module": "@jupyter-widgets/base",
      "_view_module_version": "1.2.0",
      "_view_name": "LayoutView",
      "align_content": null,
      "align_items": null,
      "align_self": null,
      "border": null,
      "bottom": null,
      "display": null,
      "flex": null,
      "flex_flow": null,
      "grid_area": null,
      "grid_auto_columns": null,
      "grid_auto_flow": null,
      "grid_auto_rows": null,
      "grid_column": null,
      "grid_gap": null,
      "grid_row": null,
      "grid_template_areas": null,
      "grid_template_columns": null,
      "grid_template_rows": null,
      "height": null,
      "justify_content": null,
      "justify_items": null,
      "left": null,
      "margin": null,
      "max_height": null,
      "max_width": null,
      "min_height": null,
      "min_width": null,
      "object_fit": null,
      "object_position": null,
      "order": null,
      "overflow": null,
      "overflow_x": null,
      "overflow_y": null,
      "padding": null,
      "right": null,
      "top": null,
      "visibility": null,
      "width": null
     }
    },
    "e90fbd3d434a40889f1d400b37931f99": {
     "model_module": "@jupyter-widgets/controls",
     "model_name": "ProgressStyleModel",
     "model_module_version": "1.5.0",
     "state": {
      "_model_module": "@jupyter-widgets/controls",
      "_model_module_version": "1.5.0",
      "_model_name": "ProgressStyleModel",
      "_view_count": null,
      "_view_module": "@jupyter-widgets/base",
      "_view_module_version": "1.2.0",
      "_view_name": "StyleView",
      "bar_color": null,
      "description_width": ""
     }
    },
    "268c5609e8d84099afc7a66996c29f3a": {
     "model_module": "@jupyter-widgets/base",
     "model_name": "LayoutModel",
     "model_module_version": "1.2.0",
     "state": {
      "_model_module": "@jupyter-widgets/base",
      "_model_module_version": "1.2.0",
      "_model_name": "LayoutModel",
      "_view_count": null,
      "_view_module": "@jupyter-widgets/base",
      "_view_module_version": "1.2.0",
      "_view_name": "LayoutView",
      "align_content": null,
      "align_items": null,
      "align_self": null,
      "border": null,
      "bottom": null,
      "display": null,
      "flex": null,
      "flex_flow": null,
      "grid_area": null,
      "grid_auto_columns": null,
      "grid_auto_flow": null,
      "grid_auto_rows": null,
      "grid_column": null,
      "grid_gap": null,
      "grid_row": null,
      "grid_template_areas": null,
      "grid_template_columns": null,
      "grid_template_rows": null,
      "height": null,
      "justify_content": null,
      "justify_items": null,
      "left": null,
      "margin": null,
      "max_height": null,
      "max_width": null,
      "min_height": null,
      "min_width": null,
      "object_fit": null,
      "object_position": null,
      "order": null,
      "overflow": null,
      "overflow_x": null,
      "overflow_y": null,
      "padding": null,
      "right": null,
      "top": null,
      "visibility": null,
      "width": null
     }
    },
    "417266aaa8e1441ba73c3634d3286118": {
     "model_module": "@jupyter-widgets/controls",
     "model_name": "DescriptionStyleModel",
     "model_module_version": "1.5.0",
     "state": {
      "_model_module": "@jupyter-widgets/controls",
      "_model_module_version": "1.5.0",
      "_model_name": "DescriptionStyleModel",
      "_view_count": null,
      "_view_module": "@jupyter-widgets/base",
      "_view_module_version": "1.2.0",
      "_view_name": "StyleView",
      "description_width": ""
     }
    },
    "9d7f22c615974a019d62ebef667d9856": {
     "model_module": "@jupyter-widgets/controls",
     "model_name": "HBoxModel",
     "model_module_version": "1.5.0",
     "state": {
      "_dom_classes": [],
      "_model_module": "@jupyter-widgets/controls",
      "_model_module_version": "1.5.0",
      "_model_name": "HBoxModel",
      "_view_count": null,
      "_view_module": "@jupyter-widgets/controls",
      "_view_module_version": "1.5.0",
      "_view_name": "HBoxView",
      "box_style": "",
      "children": [
       "IPY_MODEL_07690d89bd7e446c86f18607f809c053",
       "IPY_MODEL_f42d9d65f37642a9a438659d8db71683",
       "IPY_MODEL_f5dc729b37af45e193b8dcd345054381"
      ],
      "layout": "IPY_MODEL_e18c5f975bca4e2f851d069c265e9984"
     }
    },
    "07690d89bd7e446c86f18607f809c053": {
     "model_module": "@jupyter-widgets/controls",
     "model_name": "HTMLModel",
     "model_module_version": "1.5.0",
     "state": {
      "_dom_classes": [],
      "_model_module": "@jupyter-widgets/controls",
      "_model_module_version": "1.5.0",
      "_model_name": "HTMLModel",
      "_view_count": null,
      "_view_module": "@jupyter-widgets/controls",
      "_view_module_version": "1.5.0",
      "_view_name": "HTMLView",
      "description": "",
      "description_tooltip": null,
      "layout": "IPY_MODEL_86ce0258f07c4dd58ff0d01aac011d5e",
      "placeholder": "​",
      "style": "IPY_MODEL_3eb30442d0a14318b28d979f987976ba",
      "value": "Map: 100%"
     }
    },
    "f42d9d65f37642a9a438659d8db71683": {
     "model_module": "@jupyter-widgets/controls",
     "model_name": "FloatProgressModel",
     "model_module_version": "1.5.0",
     "state": {
      "_dom_classes": [],
      "_model_module": "@jupyter-widgets/controls",
      "_model_module_version": "1.5.0",
      "_model_name": "FloatProgressModel",
      "_view_count": null,
      "_view_module": "@jupyter-widgets/controls",
      "_view_module_version": "1.5.0",
      "_view_name": "ProgressView",
      "bar_style": "success",
      "description": "",
      "description_tooltip": null,
      "layout": "IPY_MODEL_24443bd6997a4af390aa881e3f864feb",
      "max": 120,
      "min": 0,
      "orientation": "horizontal",
      "style": "IPY_MODEL_3ea25ac1c40841c89f4fcb1a1db21446",
      "value": 120
     }
    },
    "f5dc729b37af45e193b8dcd345054381": {
     "model_module": "@jupyter-widgets/controls",
     "model_name": "HTMLModel",
     "model_module_version": "1.5.0",
     "state": {
      "_dom_classes": [],
      "_model_module": "@jupyter-widgets/controls",
      "_model_module_version": "1.5.0",
      "_model_name": "HTMLModel",
      "_view_count": null,
      "_view_module": "@jupyter-widgets/controls",
      "_view_module_version": "1.5.0",
      "_view_name": "HTMLView",
      "description": "",
      "description_tooltip": null,
      "layout": "IPY_MODEL_d5bd657604934c139d5d0f0eb98c062b",
      "placeholder": "​",
      "style": "IPY_MODEL_82ffbd03b1274729b4c583a73a09f380",
      "value": " 120/120 [00:00&lt;00:00, 344.57 examples/s]"
     }
    },
    "e18c5f975bca4e2f851d069c265e9984": {
     "model_module": "@jupyter-widgets/base",
     "model_name": "LayoutModel",
     "model_module_version": "1.2.0",
     "state": {
      "_model_module": "@jupyter-widgets/base",
      "_model_module_version": "1.2.0",
      "_model_name": "LayoutModel",
      "_view_count": null,
      "_view_module": "@jupyter-widgets/base",
      "_view_module_version": "1.2.0",
      "_view_name": "LayoutView",
      "align_content": null,
      "align_items": null,
      "align_self": null,
      "border": null,
      "bottom": null,
      "display": null,
      "flex": null,
      "flex_flow": null,
      "grid_area": null,
      "grid_auto_columns": null,
      "grid_auto_flow": null,
      "grid_auto_rows": null,
      "grid_column": null,
      "grid_gap": null,
      "grid_row": null,
      "grid_template_areas": null,
      "grid_template_columns": null,
      "grid_template_rows": null,
      "height": null,
      "justify_content": null,
      "justify_items": null,
      "left": null,
      "margin": null,
      "max_height": null,
      "max_width": null,
      "min_height": null,
      "min_width": null,
      "object_fit": null,
      "object_position": null,
      "order": null,
      "overflow": null,
      "overflow_x": null,
      "overflow_y": null,
      "padding": null,
      "right": null,
      "top": null,
      "visibility": null,
      "width": null
     }
    },
    "86ce0258f07c4dd58ff0d01aac011d5e": {
     "model_module": "@jupyter-widgets/base",
     "model_name": "LayoutModel",
     "model_module_version": "1.2.0",
     "state": {
      "_model_module": "@jupyter-widgets/base",
      "_model_module_version": "1.2.0",
      "_model_name": "LayoutModel",
      "_view_count": null,
      "_view_module": "@jupyter-widgets/base",
      "_view_module_version": "1.2.0",
      "_view_name": "LayoutView",
      "align_content": null,
      "align_items": null,
      "align_self": null,
      "border": null,
      "bottom": null,
      "display": null,
      "flex": null,
      "flex_flow": null,
      "grid_area": null,
      "grid_auto_columns": null,
      "grid_auto_flow": null,
      "grid_auto_rows": null,
      "grid_column": null,
      "grid_gap": null,
      "grid_row": null,
      "grid_template_areas": null,
      "grid_template_columns": null,
      "grid_template_rows": null,
      "height": null,
      "justify_content": null,
      "justify_items": null,
      "left": null,
      "margin": null,
      "max_height": null,
      "max_width": null,
      "min_height": null,
      "min_width": null,
      "object_fit": null,
      "object_position": null,
      "order": null,
      "overflow": null,
      "overflow_x": null,
      "overflow_y": null,
      "padding": null,
      "right": null,
      "top": null,
      "visibility": null,
      "width": null
     }
    },
    "3eb30442d0a14318b28d979f987976ba": {
     "model_module": "@jupyter-widgets/controls",
     "model_name": "DescriptionStyleModel",
     "model_module_version": "1.5.0",
     "state": {
      "_model_module": "@jupyter-widgets/controls",
      "_model_module_version": "1.5.0",
      "_model_name": "DescriptionStyleModel",
      "_view_count": null,
      "_view_module": "@jupyter-widgets/base",
      "_view_module_version": "1.2.0",
      "_view_name": "StyleView",
      "description_width": ""
     }
    },
    "24443bd6997a4af390aa881e3f864feb": {
     "model_module": "@jupyter-widgets/base",
     "model_name": "LayoutModel",
     "model_module_version": "1.2.0",
     "state": {
      "_model_module": "@jupyter-widgets/base",
      "_model_module_version": "1.2.0",
      "_model_name": "LayoutModel",
      "_view_count": null,
      "_view_module": "@jupyter-widgets/base",
      "_view_module_version": "1.2.0",
      "_view_name": "LayoutView",
      "align_content": null,
      "align_items": null,
      "align_self": null,
      "border": null,
      "bottom": null,
      "display": null,
      "flex": null,
      "flex_flow": null,
      "grid_area": null,
      "grid_auto_columns": null,
      "grid_auto_flow": null,
      "grid_auto_rows": null,
      "grid_column": null,
      "grid_gap": null,
      "grid_row": null,
      "grid_template_areas": null,
      "grid_template_columns": null,
      "grid_template_rows": null,
      "height": null,
      "justify_content": null,
      "justify_items": null,
      "left": null,
      "margin": null,
      "max_height": null,
      "max_width": null,
      "min_height": null,
      "min_width": null,
      "object_fit": null,
      "object_position": null,
      "order": null,
      "overflow": null,
      "overflow_x": null,
      "overflow_y": null,
      "padding": null,
      "right": null,
      "top": null,
      "visibility": null,
      "width": null
     }
    },
    "3ea25ac1c40841c89f4fcb1a1db21446": {
     "model_module": "@jupyter-widgets/controls",
     "model_name": "ProgressStyleModel",
     "model_module_version": "1.5.0",
     "state": {
      "_model_module": "@jupyter-widgets/controls",
      "_model_module_version": "1.5.0",
      "_model_name": "ProgressStyleModel",
      "_view_count": null,
      "_view_module": "@jupyter-widgets/base",
      "_view_module_version": "1.2.0",
      "_view_name": "StyleView",
      "bar_color": null,
      "description_width": ""
     }
    },
    "d5bd657604934c139d5d0f0eb98c062b": {
     "model_module": "@jupyter-widgets/base",
     "model_name": "LayoutModel",
     "model_module_version": "1.2.0",
     "state": {
      "_model_module": "@jupyter-widgets/base",
      "_model_module_version": "1.2.0",
      "_model_name": "LayoutModel",
      "_view_count": null,
      "_view_module": "@jupyter-widgets/base",
      "_view_module_version": "1.2.0",
      "_view_name": "LayoutView",
      "align_content": null,
      "align_items": null,
      "align_self": null,
      "border": null,
      "bottom": null,
      "display": null,
      "flex": null,
      "flex_flow": null,
      "grid_area": null,
      "grid_auto_columns": null,
      "grid_auto_flow": null,
      "grid_auto_rows": null,
      "grid_column": null,
      "grid_gap": null,
      "grid_row": null,
      "grid_template_areas": null,
      "grid_template_columns": null,
      "grid_template_rows": null,
      "height": null,
      "justify_content": null,
      "justify_items": null,
      "left": null,
      "margin": null,
      "max_height": null,
      "max_width": null,
      "min_height": null,
      "min_width": null,
      "object_fit": null,
      "object_position": null,
      "order": null,
      "overflow": null,
      "overflow_x": null,
      "overflow_y": null,
      "padding": null,
      "right": null,
      "top": null,
      "visibility": null,
      "width": null
     }
    },
    "82ffbd03b1274729b4c583a73a09f380": {
     "model_module": "@jupyter-widgets/controls",
     "model_name": "DescriptionStyleModel",
     "model_module_version": "1.5.0",
     "state": {
      "_model_module": "@jupyter-widgets/controls",
      "_model_module_version": "1.5.0",
      "_model_name": "DescriptionStyleModel",
      "_view_count": null,
      "_view_module": "@jupyter-widgets/base",
      "_view_module_version": "1.2.0",
      "_view_name": "StyleView",
      "description_width": ""
     }
    },
    "e0c702ce2daf47348489571debc44555": {
     "model_module": "@jupyter-widgets/controls",
     "model_name": "HBoxModel",
     "model_module_version": "1.5.0",
     "state": {
      "_dom_classes": [],
      "_model_module": "@jupyter-widgets/controls",
      "_model_module_version": "1.5.0",
      "_model_name": "HBoxModel",
      "_view_count": null,
      "_view_module": "@jupyter-widgets/controls",
      "_view_module_version": "1.5.0",
      "_view_name": "HBoxView",
      "box_style": "",
      "children": [
       "IPY_MODEL_e86c2bcfa8a2487582a3fcd26e028c75",
       "IPY_MODEL_2c0fc950197a418ab969e57058320f56",
       "IPY_MODEL_ee862ad8f3c748c293655549068362fe"
      ],
      "layout": "IPY_MODEL_8dcc6a57cda84c7da688f7b805673c3a"
     }
    },
    "e86c2bcfa8a2487582a3fcd26e028c75": {
     "model_module": "@jupyter-widgets/controls",
     "model_name": "HTMLModel",
     "model_module_version": "1.5.0",
     "state": {
      "_dom_classes": [],
      "_model_module": "@jupyter-widgets/controls",
      "_model_module_version": "1.5.0",
      "_model_name": "HTMLModel",
      "_view_count": null,
      "_view_module": "@jupyter-widgets/controls",
      "_view_module_version": "1.5.0",
      "_view_name": "HTMLView",
      "description": "",
      "description_tooltip": null,
      "layout": "IPY_MODEL_7431e54ff3974110b9919c8378909f9c",
      "placeholder": "​",
      "style": "IPY_MODEL_f6f8d1b163234d3883957d01c38c5188",
      "value": "Map: 100%"
     }
    },
    "2c0fc950197a418ab969e57058320f56": {
     "model_module": "@jupyter-widgets/controls",
     "model_name": "FloatProgressModel",
     "model_module_version": "1.5.0",
     "state": {
      "_dom_classes": [],
      "_model_module": "@jupyter-widgets/controls",
      "_model_module_version": "1.5.0",
      "_model_name": "FloatProgressModel",
      "_view_count": null,
      "_view_module": "@jupyter-widgets/controls",
      "_view_module_version": "1.5.0",
      "_view_name": "ProgressView",
      "bar_style": "success",
      "description": "",
      "description_tooltip": null,
      "layout": "IPY_MODEL_affbc345651c4e628ca27866e1ab5219",
      "max": 720,
      "min": 0,
      "orientation": "horizontal",
      "style": "IPY_MODEL_8720a9abbd5d4d9d8037fd736e2ee355",
      "value": 720
     }
    },
    "ee862ad8f3c748c293655549068362fe": {
     "model_module": "@jupyter-widgets/controls",
     "model_name": "HTMLModel",
     "model_module_version": "1.5.0",
     "state": {
      "_dom_classes": [],
      "_model_module": "@jupyter-widgets/controls",
      "_model_module_version": "1.5.0",
      "_model_name": "HTMLModel",
      "_view_count": null,
      "_view_module": "@jupyter-widgets/controls",
      "_view_module_version": "1.5.0",
      "_view_name": "HTMLView",
      "description": "",
      "description_tooltip": null,
      "layout": "IPY_MODEL_9789bda652e146ab803cae05df9c5907",
      "placeholder": "​",
      "style": "IPY_MODEL_90c4632f69324949bedb349ebba42402",
      "value": " 720/720 [00:02&lt;00:00, 341.51 examples/s]"
     }
    },
    "8dcc6a57cda84c7da688f7b805673c3a": {
     "model_module": "@jupyter-widgets/base",
     "model_name": "LayoutModel",
     "model_module_version": "1.2.0",
     "state": {
      "_model_module": "@jupyter-widgets/base",
      "_model_module_version": "1.2.0",
      "_model_name": "LayoutModel",
      "_view_count": null,
      "_view_module": "@jupyter-widgets/base",
      "_view_module_version": "1.2.0",
      "_view_name": "LayoutView",
      "align_content": null,
      "align_items": null,
      "align_self": null,
      "border": null,
      "bottom": null,
      "display": null,
      "flex": null,
      "flex_flow": null,
      "grid_area": null,
      "grid_auto_columns": null,
      "grid_auto_flow": null,
      "grid_auto_rows": null,
      "grid_column": null,
      "grid_gap": null,
      "grid_row": null,
      "grid_template_areas": null,
      "grid_template_columns": null,
      "grid_template_rows": null,
      "height": null,
      "justify_content": null,
      "justify_items": null,
      "left": null,
      "margin": null,
      "max_height": null,
      "max_width": null,
      "min_height": null,
      "min_width": null,
      "object_fit": null,
      "object_position": null,
      "order": null,
      "overflow": null,
      "overflow_x": null,
      "overflow_y": null,
      "padding": null,
      "right": null,
      "top": null,
      "visibility": null,
      "width": null
     }
    },
    "7431e54ff3974110b9919c8378909f9c": {
     "model_module": "@jupyter-widgets/base",
     "model_name": "LayoutModel",
     "model_module_version": "1.2.0",
     "state": {
      "_model_module": "@jupyter-widgets/base",
      "_model_module_version": "1.2.0",
      "_model_name": "LayoutModel",
      "_view_count": null,
      "_view_module": "@jupyter-widgets/base",
      "_view_module_version": "1.2.0",
      "_view_name": "LayoutView",
      "align_content": null,
      "align_items": null,
      "align_self": null,
      "border": null,
      "bottom": null,
      "display": null,
      "flex": null,
      "flex_flow": null,
      "grid_area": null,
      "grid_auto_columns": null,
      "grid_auto_flow": null,
      "grid_auto_rows": null,
      "grid_column": null,
      "grid_gap": null,
      "grid_row": null,
      "grid_template_areas": null,
      "grid_template_columns": null,
      "grid_template_rows": null,
      "height": null,
      "justify_content": null,
      "justify_items": null,
      "left": null,
      "margin": null,
      "max_height": null,
      "max_width": null,
      "min_height": null,
      "min_width": null,
      "object_fit": null,
      "object_position": null,
      "order": null,
      "overflow": null,
      "overflow_x": null,
      "overflow_y": null,
      "padding": null,
      "right": null,
      "top": null,
      "visibility": null,
      "width": null
     }
    },
    "f6f8d1b163234d3883957d01c38c5188": {
     "model_module": "@jupyter-widgets/controls",
     "model_name": "DescriptionStyleModel",
     "model_module_version": "1.5.0",
     "state": {
      "_model_module": "@jupyter-widgets/controls",
      "_model_module_version": "1.5.0",
      "_model_name": "DescriptionStyleModel",
      "_view_count": null,
      "_view_module": "@jupyter-widgets/base",
      "_view_module_version": "1.2.0",
      "_view_name": "StyleView",
      "description_width": ""
     }
    },
    "affbc345651c4e628ca27866e1ab5219": {
     "model_module": "@jupyter-widgets/base",
     "model_name": "LayoutModel",
     "model_module_version": "1.2.0",
     "state": {
      "_model_module": "@jupyter-widgets/base",
      "_model_module_version": "1.2.0",
      "_model_name": "LayoutModel",
      "_view_count": null,
      "_view_module": "@jupyter-widgets/base",
      "_view_module_version": "1.2.0",
      "_view_name": "LayoutView",
      "align_content": null,
      "align_items": null,
      "align_self": null,
      "border": null,
      "bottom": null,
      "display": null,
      "flex": null,
      "flex_flow": null,
      "grid_area": null,
      "grid_auto_columns": null,
      "grid_auto_flow": null,
      "grid_auto_rows": null,
      "grid_column": null,
      "grid_gap": null,
      "grid_row": null,
      "grid_template_areas": null,
      "grid_template_columns": null,
      "grid_template_rows": null,
      "height": null,
      "justify_content": null,
      "justify_items": null,
      "left": null,
      "margin": null,
      "max_height": null,
      "max_width": null,
      "min_height": null,
      "min_width": null,
      "object_fit": null,
      "object_position": null,
      "order": null,
      "overflow": null,
      "overflow_x": null,
      "overflow_y": null,
      "padding": null,
      "right": null,
      "top": null,
      "visibility": null,
      "width": null
     }
    },
    "8720a9abbd5d4d9d8037fd736e2ee355": {
     "model_module": "@jupyter-widgets/controls",
     "model_name": "ProgressStyleModel",
     "model_module_version": "1.5.0",
     "state": {
      "_model_module": "@jupyter-widgets/controls",
      "_model_module_version": "1.5.0",
      "_model_name": "ProgressStyleModel",
      "_view_count": null,
      "_view_module": "@jupyter-widgets/base",
      "_view_module_version": "1.2.0",
      "_view_name": "StyleView",
      "bar_color": null,
      "description_width": ""
     }
    },
    "9789bda652e146ab803cae05df9c5907": {
     "model_module": "@jupyter-widgets/base",
     "model_name": "LayoutModel",
     "model_module_version": "1.2.0",
     "state": {
      "_model_module": "@jupyter-widgets/base",
      "_model_module_version": "1.2.0",
      "_model_name": "LayoutModel",
      "_view_count": null,
      "_view_module": "@jupyter-widgets/base",
      "_view_module_version": "1.2.0",
      "_view_name": "LayoutView",
      "align_content": null,
      "align_items": null,
      "align_self": null,
      "border": null,
      "bottom": null,
      "display": null,
      "flex": null,
      "flex_flow": null,
      "grid_area": null,
      "grid_auto_columns": null,
      "grid_auto_flow": null,
      "grid_auto_rows": null,
      "grid_column": null,
      "grid_gap": null,
      "grid_row": null,
      "grid_template_areas": null,
      "grid_template_columns": null,
      "grid_template_rows": null,
      "height": null,
      "justify_content": null,
      "justify_items": null,
      "left": null,
      "margin": null,
      "max_height": null,
      "max_width": null,
      "min_height": null,
      "min_width": null,
      "object_fit": null,
      "object_position": null,
      "order": null,
      "overflow": null,
      "overflow_x": null,
      "overflow_y": null,
      "padding": null,
      "right": null,
      "top": null,
      "visibility": null,
      "width": null
     }
    },
    "90c4632f69324949bedb349ebba42402": {
     "model_module": "@jupyter-widgets/controls",
     "model_name": "DescriptionStyleModel",
     "model_module_version": "1.5.0",
     "state": {
      "_model_module": "@jupyter-widgets/controls",
      "_model_module_version": "1.5.0",
      "_model_name": "DescriptionStyleModel",
      "_view_count": null,
      "_view_module": "@jupyter-widgets/base",
      "_view_module_version": "1.2.0",
      "_view_name": "StyleView",
      "description_width": ""
     }
    },
    "c61f90a2086240efbb263873cbd7a7e4": {
     "model_module": "@jupyter-widgets/controls",
     "model_name": "HBoxModel",
     "model_module_version": "1.5.0",
     "state": {
      "_dom_classes": [],
      "_model_module": "@jupyter-widgets/controls",
      "_model_module_version": "1.5.0",
      "_model_name": "HBoxModel",
      "_view_count": null,
      "_view_module": "@jupyter-widgets/controls",
      "_view_module_version": "1.5.0",
      "_view_name": "HBoxView",
      "box_style": "",
      "children": [
       "IPY_MODEL_1d5e4f6fc66f4dc39e2a0a4355d3220a",
       "IPY_MODEL_e00ce5d3df774f899c33f286721f333e",
       "IPY_MODEL_6c8c94e169a84e3488059780403bf55f"
      ],
      "layout": "IPY_MODEL_7a3b624f47eb4b11b02d4e4601eedff6"
     }
    },
    "1d5e4f6fc66f4dc39e2a0a4355d3220a": {
     "model_module": "@jupyter-widgets/controls",
     "model_name": "HTMLModel",
     "model_module_version": "1.5.0",
     "state": {
      "_dom_classes": [],
      "_model_module": "@jupyter-widgets/controls",
      "_model_module_version": "1.5.0",
      "_model_name": "HTMLModel",
      "_view_count": null,
      "_view_module": "@jupyter-widgets/controls",
      "_view_module_version": "1.5.0",
      "_view_name": "HTMLView",
      "description": "",
      "description_tooltip": null,
      "layout": "IPY_MODEL_256ac33d251849d0a0d4aefb7a0ece6b",
      "placeholder": "​",
      "style": "IPY_MODEL_5c04408bc782453faf44385fbdb13b71",
      "value": "Map: 100%"
     }
    },
    "e00ce5d3df774f899c33f286721f333e": {
     "model_module": "@jupyter-widgets/controls",
     "model_name": "FloatProgressModel",
     "model_module_version": "1.5.0",
     "state": {
      "_dom_classes": [],
      "_model_module": "@jupyter-widgets/controls",
      "_model_module_version": "1.5.0",
      "_model_name": "FloatProgressModel",
      "_view_count": null,
      "_view_module": "@jupyter-widgets/controls",
      "_view_module_version": "1.5.0",
      "_view_name": "ProgressView",
      "bar_style": "success",
      "description": "",
      "description_tooltip": null,
      "layout": "IPY_MODEL_53831cc3c53543b9a9ec64dbdbd81113",
      "max": 120,
      "min": 0,
      "orientation": "horizontal",
      "style": "IPY_MODEL_94f088eca30b4114ae8d8a718412f840",
      "value": 120
     }
    },
    "6c8c94e169a84e3488059780403bf55f": {
     "model_module": "@jupyter-widgets/controls",
     "model_name": "HTMLModel",
     "model_module_version": "1.5.0",
     "state": {
      "_dom_classes": [],
      "_model_module": "@jupyter-widgets/controls",
      "_model_module_version": "1.5.0",
      "_model_name": "HTMLModel",
      "_view_count": null,
      "_view_module": "@jupyter-widgets/controls",
      "_view_module_version": "1.5.0",
      "_view_name": "HTMLView",
      "description": "",
      "description_tooltip": null,
      "layout": "IPY_MODEL_da7e7b59d77b41e0b1e0a82f3e602c4b",
      "placeholder": "​",
      "style": "IPY_MODEL_9e3d607a819446b484c2dd8d50568a2d",
      "value": " 120/120 [00:00&lt;00:00, 204.72 examples/s]"
     }
    },
    "7a3b624f47eb4b11b02d4e4601eedff6": {
     "model_module": "@jupyter-widgets/base",
     "model_name": "LayoutModel",
     "model_module_version": "1.2.0",
     "state": {
      "_model_module": "@jupyter-widgets/base",
      "_model_module_version": "1.2.0",
      "_model_name": "LayoutModel",
      "_view_count": null,
      "_view_module": "@jupyter-widgets/base",
      "_view_module_version": "1.2.0",
      "_view_name": "LayoutView",
      "align_content": null,
      "align_items": null,
      "align_self": null,
      "border": null,
      "bottom": null,
      "display": null,
      "flex": null,
      "flex_flow": null,
      "grid_area": null,
      "grid_auto_columns": null,
      "grid_auto_flow": null,
      "grid_auto_rows": null,
      "grid_column": null,
      "grid_gap": null,
      "grid_row": null,
      "grid_template_areas": null,
      "grid_template_columns": null,
      "grid_template_rows": null,
      "height": null,
      "justify_content": null,
      "justify_items": null,
      "left": null,
      "margin": null,
      "max_height": null,
      "max_width": null,
      "min_height": null,
      "min_width": null,
      "object_fit": null,
      "object_position": null,
      "order": null,
      "overflow": null,
      "overflow_x": null,
      "overflow_y": null,
      "padding": null,
      "right": null,
      "top": null,
      "visibility": null,
      "width": null
     }
    },
    "256ac33d251849d0a0d4aefb7a0ece6b": {
     "model_module": "@jupyter-widgets/base",
     "model_name": "LayoutModel",
     "model_module_version": "1.2.0",
     "state": {
      "_model_module": "@jupyter-widgets/base",
      "_model_module_version": "1.2.0",
      "_model_name": "LayoutModel",
      "_view_count": null,
      "_view_module": "@jupyter-widgets/base",
      "_view_module_version": "1.2.0",
      "_view_name": "LayoutView",
      "align_content": null,
      "align_items": null,
      "align_self": null,
      "border": null,
      "bottom": null,
      "display": null,
      "flex": null,
      "flex_flow": null,
      "grid_area": null,
      "grid_auto_columns": null,
      "grid_auto_flow": null,
      "grid_auto_rows": null,
      "grid_column": null,
      "grid_gap": null,
      "grid_row": null,
      "grid_template_areas": null,
      "grid_template_columns": null,
      "grid_template_rows": null,
      "height": null,
      "justify_content": null,
      "justify_items": null,
      "left": null,
      "margin": null,
      "max_height": null,
      "max_width": null,
      "min_height": null,
      "min_width": null,
      "object_fit": null,
      "object_position": null,
      "order": null,
      "overflow": null,
      "overflow_x": null,
      "overflow_y": null,
      "padding": null,
      "right": null,
      "top": null,
      "visibility": null,
      "width": null
     }
    },
    "5c04408bc782453faf44385fbdb13b71": {
     "model_module": "@jupyter-widgets/controls",
     "model_name": "DescriptionStyleModel",
     "model_module_version": "1.5.0",
     "state": {
      "_model_module": "@jupyter-widgets/controls",
      "_model_module_version": "1.5.0",
      "_model_name": "DescriptionStyleModel",
      "_view_count": null,
      "_view_module": "@jupyter-widgets/base",
      "_view_module_version": "1.2.0",
      "_view_name": "StyleView",
      "description_width": ""
     }
    },
    "53831cc3c53543b9a9ec64dbdbd81113": {
     "model_module": "@jupyter-widgets/base",
     "model_name": "LayoutModel",
     "model_module_version": "1.2.0",
     "state": {
      "_model_module": "@jupyter-widgets/base",
      "_model_module_version": "1.2.0",
      "_model_name": "LayoutModel",
      "_view_count": null,
      "_view_module": "@jupyter-widgets/base",
      "_view_module_version": "1.2.0",
      "_view_name": "LayoutView",
      "align_content": null,
      "align_items": null,
      "align_self": null,
      "border": null,
      "bottom": null,
      "display": null,
      "flex": null,
      "flex_flow": null,
      "grid_area": null,
      "grid_auto_columns": null,
      "grid_auto_flow": null,
      "grid_auto_rows": null,
      "grid_column": null,
      "grid_gap": null,
      "grid_row": null,
      "grid_template_areas": null,
      "grid_template_columns": null,
      "grid_template_rows": null,
      "height": null,
      "justify_content": null,
      "justify_items": null,
      "left": null,
      "margin": null,
      "max_height": null,
      "max_width": null,
      "min_height": null,
      "min_width": null,
      "object_fit": null,
      "object_position": null,
      "order": null,
      "overflow": null,
      "overflow_x": null,
      "overflow_y": null,
      "padding": null,
      "right": null,
      "top": null,
      "visibility": null,
      "width": null
     }
    },
    "94f088eca30b4114ae8d8a718412f840": {
     "model_module": "@jupyter-widgets/controls",
     "model_name": "ProgressStyleModel",
     "model_module_version": "1.5.0",
     "state": {
      "_model_module": "@jupyter-widgets/controls",
      "_model_module_version": "1.5.0",
      "_model_name": "ProgressStyleModel",
      "_view_count": null,
      "_view_module": "@jupyter-widgets/base",
      "_view_module_version": "1.2.0",
      "_view_name": "StyleView",
      "bar_color": null,
      "description_width": ""
     }
    },
    "da7e7b59d77b41e0b1e0a82f3e602c4b": {
     "model_module": "@jupyter-widgets/base",
     "model_name": "LayoutModel",
     "model_module_version": "1.2.0",
     "state": {
      "_model_module": "@jupyter-widgets/base",
      "_model_module_version": "1.2.0",
      "_model_name": "LayoutModel",
      "_view_count": null,
      "_view_module": "@jupyter-widgets/base",
      "_view_module_version": "1.2.0",
      "_view_name": "LayoutView",
      "align_content": null,
      "align_items": null,
      "align_self": null,
      "border": null,
      "bottom": null,
      "display": null,
      "flex": null,
      "flex_flow": null,
      "grid_area": null,
      "grid_auto_columns": null,
      "grid_auto_flow": null,
      "grid_auto_rows": null,
      "grid_column": null,
      "grid_gap": null,
      "grid_row": null,
      "grid_template_areas": null,
      "grid_template_columns": null,
      "grid_template_rows": null,
      "height": null,
      "justify_content": null,
      "justify_items": null,
      "left": null,
      "margin": null,
      "max_height": null,
      "max_width": null,
      "min_height": null,
      "min_width": null,
      "object_fit": null,
      "object_position": null,
      "order": null,
      "overflow": null,
      "overflow_x": null,
      "overflow_y": null,
      "padding": null,
      "right": null,
      "top": null,
      "visibility": null,
      "width": null
     }
    },
    "9e3d607a819446b484c2dd8d50568a2d": {
     "model_module": "@jupyter-widgets/controls",
     "model_name": "DescriptionStyleModel",
     "model_module_version": "1.5.0",
     "state": {
      "_model_module": "@jupyter-widgets/controls",
      "_model_module_version": "1.5.0",
      "_model_name": "DescriptionStyleModel",
      "_view_count": null,
      "_view_module": "@jupyter-widgets/base",
      "_view_module_version": "1.2.0",
      "_view_name": "StyleView",
      "description_width": ""
     }
    },
    "223106ef27124f2d97763c192356ddce": {
     "model_module": "@jupyter-widgets/controls",
     "model_name": "HBoxModel",
     "model_module_version": "1.5.0",
     "state": {
      "_dom_classes": [],
      "_model_module": "@jupyter-widgets/controls",
      "_model_module_version": "1.5.0",
      "_model_name": "HBoxModel",
      "_view_count": null,
      "_view_module": "@jupyter-widgets/controls",
      "_view_module_version": "1.5.0",
      "_view_name": "HBoxView",
      "box_style": "",
      "children": [
       "IPY_MODEL_839157564bae4380ab24742cc853a3f2",
       "IPY_MODEL_1e305a9613b649a886e1f9ee8b377f22",
       "IPY_MODEL_afbdaaabf00d4d9abc0802c339fb10d2"
      ],
      "layout": "IPY_MODEL_2d98e0ef24f84ff7aadb423f3f685634"
     }
    },
    "839157564bae4380ab24742cc853a3f2": {
     "model_module": "@jupyter-widgets/controls",
     "model_name": "HTMLModel",
     "model_module_version": "1.5.0",
     "state": {
      "_dom_classes": [],
      "_model_module": "@jupyter-widgets/controls",
      "_model_module_version": "1.5.0",
      "_model_name": "HTMLModel",
      "_view_count": null,
      "_view_module": "@jupyter-widgets/controls",
      "_view_module_version": "1.5.0",
      "_view_name": "HTMLView",
      "description": "",
      "description_tooltip": null,
      "layout": "IPY_MODEL_67d5d2e1570d4f22a842d7dea4115f7f",
      "placeholder": "​",
      "style": "IPY_MODEL_7d1e5f18a30944b7bf7b003adbca32ba",
      "value": "Map: 100%"
     }
    },
    "1e305a9613b649a886e1f9ee8b377f22": {
     "model_module": "@jupyter-widgets/controls",
     "model_name": "FloatProgressModel",
     "model_module_version": "1.5.0",
     "state": {
      "_dom_classes": [],
      "_model_module": "@jupyter-widgets/controls",
      "_model_module_version": "1.5.0",
      "_model_name": "FloatProgressModel",
      "_view_count": null,
      "_view_module": "@jupyter-widgets/controls",
      "_view_module_version": "1.5.0",
      "_view_name": "ProgressView",
      "bar_style": "success",
      "description": "",
      "description_tooltip": null,
      "layout": "IPY_MODEL_c467bda86bcf48898570c8b3bdfd26c8",
      "max": 360,
      "min": 0,
      "orientation": "horizontal",
      "style": "IPY_MODEL_8911e3e7fb48479e90a978c926333598",
      "value": 360
     }
    },
    "afbdaaabf00d4d9abc0802c339fb10d2": {
     "model_module": "@jupyter-widgets/controls",
     "model_name": "HTMLModel",
     "model_module_version": "1.5.0",
     "state": {
      "_dom_classes": [],
      "_model_module": "@jupyter-widgets/controls",
      "_model_module_version": "1.5.0",
      "_model_name": "HTMLModel",
      "_view_count": null,
      "_view_module": "@jupyter-widgets/controls",
      "_view_module_version": "1.5.0",
      "_view_name": "HTMLView",
      "description": "",
      "description_tooltip": null,
      "layout": "IPY_MODEL_c1594f4d2d224f108b6460be98c3d720",
      "placeholder": "​",
      "style": "IPY_MODEL_ffcd89892cac4af4930fb9b323cf55f3",
      "value": " 360/360 [00:01&lt;00:00, 235.70 examples/s]"
     }
    },
    "2d98e0ef24f84ff7aadb423f3f685634": {
     "model_module": "@jupyter-widgets/base",
     "model_name": "LayoutModel",
     "model_module_version": "1.2.0",
     "state": {
      "_model_module": "@jupyter-widgets/base",
      "_model_module_version": "1.2.0",
      "_model_name": "LayoutModel",
      "_view_count": null,
      "_view_module": "@jupyter-widgets/base",
      "_view_module_version": "1.2.0",
      "_view_name": "LayoutView",
      "align_content": null,
      "align_items": null,
      "align_self": null,
      "border": null,
      "bottom": null,
      "display": null,
      "flex": null,
      "flex_flow": null,
      "grid_area": null,
      "grid_auto_columns": null,
      "grid_auto_flow": null,
      "grid_auto_rows": null,
      "grid_column": null,
      "grid_gap": null,
      "grid_row": null,
      "grid_template_areas": null,
      "grid_template_columns": null,
      "grid_template_rows": null,
      "height": null,
      "justify_content": null,
      "justify_items": null,
      "left": null,
      "margin": null,
      "max_height": null,
      "max_width": null,
      "min_height": null,
      "min_width": null,
      "object_fit": null,
      "object_position": null,
      "order": null,
      "overflow": null,
      "overflow_x": null,
      "overflow_y": null,
      "padding": null,
      "right": null,
      "top": null,
      "visibility": null,
      "width": null
     }
    },
    "67d5d2e1570d4f22a842d7dea4115f7f": {
     "model_module": "@jupyter-widgets/base",
     "model_name": "LayoutModel",
     "model_module_version": "1.2.0",
     "state": {
      "_model_module": "@jupyter-widgets/base",
      "_model_module_version": "1.2.0",
      "_model_name": "LayoutModel",
      "_view_count": null,
      "_view_module": "@jupyter-widgets/base",
      "_view_module_version": "1.2.0",
      "_view_name": "LayoutView",
      "align_content": null,
      "align_items": null,
      "align_self": null,
      "border": null,
      "bottom": null,
      "display": null,
      "flex": null,
      "flex_flow": null,
      "grid_area": null,
      "grid_auto_columns": null,
      "grid_auto_flow": null,
      "grid_auto_rows": null,
      "grid_column": null,
      "grid_gap": null,
      "grid_row": null,
      "grid_template_areas": null,
      "grid_template_columns": null,
      "grid_template_rows": null,
      "height": null,
      "justify_content": null,
      "justify_items": null,
      "left": null,
      "margin": null,
      "max_height": null,
      "max_width": null,
      "min_height": null,
      "min_width": null,
      "object_fit": null,
      "object_position": null,
      "order": null,
      "overflow": null,
      "overflow_x": null,
      "overflow_y": null,
      "padding": null,
      "right": null,
      "top": null,
      "visibility": null,
      "width": null
     }
    },
    "7d1e5f18a30944b7bf7b003adbca32ba": {
     "model_module": "@jupyter-widgets/controls",
     "model_name": "DescriptionStyleModel",
     "model_module_version": "1.5.0",
     "state": {
      "_model_module": "@jupyter-widgets/controls",
      "_model_module_version": "1.5.0",
      "_model_name": "DescriptionStyleModel",
      "_view_count": null,
      "_view_module": "@jupyter-widgets/base",
      "_view_module_version": "1.2.0",
      "_view_name": "StyleView",
      "description_width": ""
     }
    },
    "c467bda86bcf48898570c8b3bdfd26c8": {
     "model_module": "@jupyter-widgets/base",
     "model_name": "LayoutModel",
     "model_module_version": "1.2.0",
     "state": {
      "_model_module": "@jupyter-widgets/base",
      "_model_module_version": "1.2.0",
      "_model_name": "LayoutModel",
      "_view_count": null,
      "_view_module": "@jupyter-widgets/base",
      "_view_module_version": "1.2.0",
      "_view_name": "LayoutView",
      "align_content": null,
      "align_items": null,
      "align_self": null,
      "border": null,
      "bottom": null,
      "display": null,
      "flex": null,
      "flex_flow": null,
      "grid_area": null,
      "grid_auto_columns": null,
      "grid_auto_flow": null,
      "grid_auto_rows": null,
      "grid_column": null,
      "grid_gap": null,
      "grid_row": null,
      "grid_template_areas": null,
      "grid_template_columns": null,
      "grid_template_rows": null,
      "height": null,
      "justify_content": null,
      "justify_items": null,
      "left": null,
      "margin": null,
      "max_height": null,
      "max_width": null,
      "min_height": null,
      "min_width": null,
      "object_fit": null,
      "object_position": null,
      "order": null,
      "overflow": null,
      "overflow_x": null,
      "overflow_y": null,
      "padding": null,
      "right": null,
      "top": null,
      "visibility": null,
      "width": null
     }
    },
    "8911e3e7fb48479e90a978c926333598": {
     "model_module": "@jupyter-widgets/controls",
     "model_name": "ProgressStyleModel",
     "model_module_version": "1.5.0",
     "state": {
      "_model_module": "@jupyter-widgets/controls",
      "_model_module_version": "1.5.0",
      "_model_name": "ProgressStyleModel",
      "_view_count": null,
      "_view_module": "@jupyter-widgets/base",
      "_view_module_version": "1.2.0",
      "_view_name": "StyleView",
      "bar_color": null,
      "description_width": ""
     }
    },
    "c1594f4d2d224f108b6460be98c3d720": {
     "model_module": "@jupyter-widgets/base",
     "model_name": "LayoutModel",
     "model_module_version": "1.2.0",
     "state": {
      "_model_module": "@jupyter-widgets/base",
      "_model_module_version": "1.2.0",
      "_model_name": "LayoutModel",
      "_view_count": null,
      "_view_module": "@jupyter-widgets/base",
      "_view_module_version": "1.2.0",
      "_view_name": "LayoutView",
      "align_content": null,
      "align_items": null,
      "align_self": null,
      "border": null,
      "bottom": null,
      "display": null,
      "flex": null,
      "flex_flow": null,
      "grid_area": null,
      "grid_auto_columns": null,
      "grid_auto_flow": null,
      "grid_auto_rows": null,
      "grid_column": null,
      "grid_gap": null,
      "grid_row": null,
      "grid_template_areas": null,
      "grid_template_columns": null,
      "grid_template_rows": null,
      "height": null,
      "justify_content": null,
      "justify_items": null,
      "left": null,
      "margin": null,
      "max_height": null,
      "max_width": null,
      "min_height": null,
      "min_width": null,
      "object_fit": null,
      "object_position": null,
      "order": null,
      "overflow": null,
      "overflow_x": null,
      "overflow_y": null,
      "padding": null,
      "right": null,
      "top": null,
      "visibility": null,
      "width": null
     }
    },
    "ffcd89892cac4af4930fb9b323cf55f3": {
     "model_module": "@jupyter-widgets/controls",
     "model_name": "DescriptionStyleModel",
     "model_module_version": "1.5.0",
     "state": {
      "_model_module": "@jupyter-widgets/controls",
      "_model_module_version": "1.5.0",
      "_model_name": "DescriptionStyleModel",
      "_view_count": null,
      "_view_module": "@jupyter-widgets/base",
      "_view_module_version": "1.2.0",
      "_view_name": "StyleView",
      "description_width": ""
     }
    },
    "558bc2be17d348558102c14a531fdaa4": {
     "model_module": "@jupyter-widgets/controls",
     "model_name": "HBoxModel",
     "model_module_version": "1.5.0",
     "state": {
      "_dom_classes": [],
      "_model_module": "@jupyter-widgets/controls",
      "_model_module_version": "1.5.0",
      "_model_name": "HBoxModel",
      "_view_count": null,
      "_view_module": "@jupyter-widgets/controls",
      "_view_module_version": "1.5.0",
      "_view_name": "HBoxView",
      "box_style": "",
      "children": [
       "IPY_MODEL_677ccc425cc648f4b6ff330d31f1bd35",
       "IPY_MODEL_c0827078e4f9444c9bf45083a9e441cd",
       "IPY_MODEL_825f655279994bb3b7fe41ccd2bbcc79"
      ],
      "layout": "IPY_MODEL_d07981f487144f2fa83461c43f72c7b9"
     }
    },
    "677ccc425cc648f4b6ff330d31f1bd35": {
     "model_module": "@jupyter-widgets/controls",
     "model_name": "HTMLModel",
     "model_module_version": "1.5.0",
     "state": {
      "_dom_classes": [],
      "_model_module": "@jupyter-widgets/controls",
      "_model_module_version": "1.5.0",
      "_model_name": "HTMLModel",
      "_view_count": null,
      "_view_module": "@jupyter-widgets/controls",
      "_view_module_version": "1.5.0",
      "_view_name": "HTMLView",
      "description": "",
      "description_tooltip": null,
      "layout": "IPY_MODEL_df90f471873041eda22570843d2fe79c",
      "placeholder": "​",
      "style": "IPY_MODEL_5e91895c6fff4343b2ad23ae4c0e7147",
      "value": "Map: 100%"
     }
    },
    "c0827078e4f9444c9bf45083a9e441cd": {
     "model_module": "@jupyter-widgets/controls",
     "model_name": "FloatProgressModel",
     "model_module_version": "1.5.0",
     "state": {
      "_dom_classes": [],
      "_model_module": "@jupyter-widgets/controls",
      "_model_module_version": "1.5.0",
      "_model_name": "FloatProgressModel",
      "_view_count": null,
      "_view_module": "@jupyter-widgets/controls",
      "_view_module_version": "1.5.0",
      "_view_name": "ProgressView",
      "bar_style": "success",
      "description": "",
      "description_tooltip": null,
      "layout": "IPY_MODEL_9e320e047c86444e8d1e8c5a2fef9c86",
      "max": 120,
      "min": 0,
      "orientation": "horizontal",
      "style": "IPY_MODEL_8da3768e940a4cb6acef0c5615cae0df",
      "value": 120
     }
    },
    "825f655279994bb3b7fe41ccd2bbcc79": {
     "model_module": "@jupyter-widgets/controls",
     "model_name": "HTMLModel",
     "model_module_version": "1.5.0",
     "state": {
      "_dom_classes": [],
      "_model_module": "@jupyter-widgets/controls",
      "_model_module_version": "1.5.0",
      "_model_name": "HTMLModel",
      "_view_count": null,
      "_view_module": "@jupyter-widgets/controls",
      "_view_module_version": "1.5.0",
      "_view_name": "HTMLView",
      "description": "",
      "description_tooltip": null,
      "layout": "IPY_MODEL_1a0317080f384572ba392457fd072e02",
      "placeholder": "​",
      "style": "IPY_MODEL_dd9b88f1f96745f4b72cd61c77fb8a38",
      "value": " 120/120 [00:00&lt;00:00, 230.69 examples/s]"
     }
    },
    "d07981f487144f2fa83461c43f72c7b9": {
     "model_module": "@jupyter-widgets/base",
     "model_name": "LayoutModel",
     "model_module_version": "1.2.0",
     "state": {
      "_model_module": "@jupyter-widgets/base",
      "_model_module_version": "1.2.0",
      "_model_name": "LayoutModel",
      "_view_count": null,
      "_view_module": "@jupyter-widgets/base",
      "_view_module_version": "1.2.0",
      "_view_name": "LayoutView",
      "align_content": null,
      "align_items": null,
      "align_self": null,
      "border": null,
      "bottom": null,
      "display": null,
      "flex": null,
      "flex_flow": null,
      "grid_area": null,
      "grid_auto_columns": null,
      "grid_auto_flow": null,
      "grid_auto_rows": null,
      "grid_column": null,
      "grid_gap": null,
      "grid_row": null,
      "grid_template_areas": null,
      "grid_template_columns": null,
      "grid_template_rows": null,
      "height": null,
      "justify_content": null,
      "justify_items": null,
      "left": null,
      "margin": null,
      "max_height": null,
      "max_width": null,
      "min_height": null,
      "min_width": null,
      "object_fit": null,
      "object_position": null,
      "order": null,
      "overflow": null,
      "overflow_x": null,
      "overflow_y": null,
      "padding": null,
      "right": null,
      "top": null,
      "visibility": null,
      "width": null
     }
    },
    "df90f471873041eda22570843d2fe79c": {
     "model_module": "@jupyter-widgets/base",
     "model_name": "LayoutModel",
     "model_module_version": "1.2.0",
     "state": {
      "_model_module": "@jupyter-widgets/base",
      "_model_module_version": "1.2.0",
      "_model_name": "LayoutModel",
      "_view_count": null,
      "_view_module": "@jupyter-widgets/base",
      "_view_module_version": "1.2.0",
      "_view_name": "LayoutView",
      "align_content": null,
      "align_items": null,
      "align_self": null,
      "border": null,
      "bottom": null,
      "display": null,
      "flex": null,
      "flex_flow": null,
      "grid_area": null,
      "grid_auto_columns": null,
      "grid_auto_flow": null,
      "grid_auto_rows": null,
      "grid_column": null,
      "grid_gap": null,
      "grid_row": null,
      "grid_template_areas": null,
      "grid_template_columns": null,
      "grid_template_rows": null,
      "height": null,
      "justify_content": null,
      "justify_items": null,
      "left": null,
      "margin": null,
      "max_height": null,
      "max_width": null,
      "min_height": null,
      "min_width": null,
      "object_fit": null,
      "object_position": null,
      "order": null,
      "overflow": null,
      "overflow_x": null,
      "overflow_y": null,
      "padding": null,
      "right": null,
      "top": null,
      "visibility": null,
      "width": null
     }
    },
    "5e91895c6fff4343b2ad23ae4c0e7147": {
     "model_module": "@jupyter-widgets/controls",
     "model_name": "DescriptionStyleModel",
     "model_module_version": "1.5.0",
     "state": {
      "_model_module": "@jupyter-widgets/controls",
      "_model_module_version": "1.5.0",
      "_model_name": "DescriptionStyleModel",
      "_view_count": null,
      "_view_module": "@jupyter-widgets/base",
      "_view_module_version": "1.2.0",
      "_view_name": "StyleView",
      "description_width": ""
     }
    },
    "9e320e047c86444e8d1e8c5a2fef9c86": {
     "model_module": "@jupyter-widgets/base",
     "model_name": "LayoutModel",
     "model_module_version": "1.2.0",
     "state": {
      "_model_module": "@jupyter-widgets/base",
      "_model_module_version": "1.2.0",
      "_model_name": "LayoutModel",
      "_view_count": null,
      "_view_module": "@jupyter-widgets/base",
      "_view_module_version": "1.2.0",
      "_view_name": "LayoutView",
      "align_content": null,
      "align_items": null,
      "align_self": null,
      "border": null,
      "bottom": null,
      "display": null,
      "flex": null,
      "flex_flow": null,
      "grid_area": null,
      "grid_auto_columns": null,
      "grid_auto_flow": null,
      "grid_auto_rows": null,
      "grid_column": null,
      "grid_gap": null,
      "grid_row": null,
      "grid_template_areas": null,
      "grid_template_columns": null,
      "grid_template_rows": null,
      "height": null,
      "justify_content": null,
      "justify_items": null,
      "left": null,
      "margin": null,
      "max_height": null,
      "max_width": null,
      "min_height": null,
      "min_width": null,
      "object_fit": null,
      "object_position": null,
      "order": null,
      "overflow": null,
      "overflow_x": null,
      "overflow_y": null,
      "padding": null,
      "right": null,
      "top": null,
      "visibility": null,
      "width": null
     }
    },
    "8da3768e940a4cb6acef0c5615cae0df": {
     "model_module": "@jupyter-widgets/controls",
     "model_name": "ProgressStyleModel",
     "model_module_version": "1.5.0",
     "state": {
      "_model_module": "@jupyter-widgets/controls",
      "_model_module_version": "1.5.0",
      "_model_name": "ProgressStyleModel",
      "_view_count": null,
      "_view_module": "@jupyter-widgets/base",
      "_view_module_version": "1.2.0",
      "_view_name": "StyleView",
      "bar_color": null,
      "description_width": ""
     }
    },
    "1a0317080f384572ba392457fd072e02": {
     "model_module": "@jupyter-widgets/base",
     "model_name": "LayoutModel",
     "model_module_version": "1.2.0",
     "state": {
      "_model_module": "@jupyter-widgets/base",
      "_model_module_version": "1.2.0",
      "_model_name": "LayoutModel",
      "_view_count": null,
      "_view_module": "@jupyter-widgets/base",
      "_view_module_version": "1.2.0",
      "_view_name": "LayoutView",
      "align_content": null,
      "align_items": null,
      "align_self": null,
      "border": null,
      "bottom": null,
      "display": null,
      "flex": null,
      "flex_flow": null,
      "grid_area": null,
      "grid_auto_columns": null,
      "grid_auto_flow": null,
      "grid_auto_rows": null,
      "grid_column": null,
      "grid_gap": null,
      "grid_row": null,
      "grid_template_areas": null,
      "grid_template_columns": null,
      "grid_template_rows": null,
      "height": null,
      "justify_content": null,
      "justify_items": null,
      "left": null,
      "margin": null,
      "max_height": null,
      "max_width": null,
      "min_height": null,
      "min_width": null,
      "object_fit": null,
      "object_position": null,
      "order": null,
      "overflow": null,
      "overflow_x": null,
      "overflow_y": null,
      "padding": null,
      "right": null,
      "top": null,
      "visibility": null,
      "width": null
     }
    },
    "dd9b88f1f96745f4b72cd61c77fb8a38": {
     "model_module": "@jupyter-widgets/controls",
     "model_name": "DescriptionStyleModel",
     "model_module_version": "1.5.0",
     "state": {
      "_model_module": "@jupyter-widgets/controls",
      "_model_module_version": "1.5.0",
      "_model_name": "DescriptionStyleModel",
      "_view_count": null,
      "_view_module": "@jupyter-widgets/base",
      "_view_module_version": "1.2.0",
      "_view_name": "StyleView",
      "description_width": ""
     }
    }
   }
  },
  "accelerator": "GPU"
 },
 "cells": [
  {
   "cell_type": "markdown",
   "source": [
    "## Dataset size experiment:"
   ],
   "metadata": {
    "id": "j003KKU_ATaA"
   }
  },
  {
   "cell_type": "code",
   "source": [
    "!pip install opendatasets --upgrade --quiet"
   ],
   "metadata": {
    "id": "X3qChIlHCG0A"
   },
   "execution_count": 2,
   "outputs": []
  },
  {
   "cell_type": "code",
   "source": [
    "!pip install datasets"
   ],
   "metadata": {
    "colab": {
     "base_uri": "https://localhost:8080/"
    },
    "collapsed": true,
    "id": "Q-47rW7CPmP4",
    "outputId": "0f8b56a2-abda-47e1-fa2e-268704c05ce0"
   },
   "execution_count": 3,
   "outputs": [
    {
     "output_type": "stream",
     "name": "stdout",
     "text": [
      "Collecting datasets\n",
      "  Downloading datasets-3.0.1-py3-none-any.whl.metadata (20 kB)\n",
      "Requirement already satisfied: filelock in /usr/local/lib/python3.10/dist-packages (from datasets) (3.16.1)\n",
      "Requirement already satisfied: numpy>=1.17 in /usr/local/lib/python3.10/dist-packages (from datasets) (1.26.4)\n",
      "Collecting pyarrow>=15.0.0 (from datasets)\n",
      "  Downloading pyarrow-17.0.0-cp310-cp310-manylinux_2_28_x86_64.whl.metadata (3.3 kB)\n",
      "Collecting dill<0.3.9,>=0.3.0 (from datasets)\n",
      "  Downloading dill-0.3.8-py3-none-any.whl.metadata (10 kB)\n",
      "Requirement already satisfied: pandas in /usr/local/lib/python3.10/dist-packages (from datasets) (2.1.4)\n",
      "Requirement already satisfied: requests>=2.32.2 in /usr/local/lib/python3.10/dist-packages (from datasets) (2.32.3)\n",
      "Requirement already satisfied: tqdm>=4.66.3 in /usr/local/lib/python3.10/dist-packages (from datasets) (4.66.5)\n",
      "Collecting xxhash (from datasets)\n",
      "  Downloading xxhash-3.5.0-cp310-cp310-manylinux_2_17_x86_64.manylinux2014_x86_64.whl.metadata (12 kB)\n",
      "Collecting multiprocess (from datasets)\n",
      "  Downloading multiprocess-0.70.16-py310-none-any.whl.metadata (7.2 kB)\n",
      "Requirement already satisfied: fsspec<=2024.6.1,>=2023.1.0 in /usr/local/lib/python3.10/dist-packages (from fsspec[http]<=2024.6.1,>=2023.1.0->datasets) (2024.6.1)\n",
      "Requirement already satisfied: aiohttp in /usr/local/lib/python3.10/dist-packages (from datasets) (3.10.5)\n",
      "Requirement already satisfied: huggingface-hub>=0.22.0 in /usr/local/lib/python3.10/dist-packages (from datasets) (0.24.7)\n",
      "Requirement already satisfied: packaging in /usr/local/lib/python3.10/dist-packages (from datasets) (24.1)\n",
      "Requirement already satisfied: pyyaml>=5.1 in /usr/local/lib/python3.10/dist-packages (from datasets) (6.0.2)\n",
      "Requirement already satisfied: aiohappyeyeballs>=2.3.0 in /usr/local/lib/python3.10/dist-packages (from aiohttp->datasets) (2.4.0)\n",
      "Requirement already satisfied: aiosignal>=1.1.2 in /usr/local/lib/python3.10/dist-packages (from aiohttp->datasets) (1.3.1)\n",
      "Requirement already satisfied: attrs>=17.3.0 in /usr/local/lib/python3.10/dist-packages (from aiohttp->datasets) (24.2.0)\n",
      "Requirement already satisfied: frozenlist>=1.1.1 in /usr/local/lib/python3.10/dist-packages (from aiohttp->datasets) (1.4.1)\n",
      "Requirement already satisfied: multidict<7.0,>=4.5 in /usr/local/lib/python3.10/dist-packages (from aiohttp->datasets) (6.1.0)\n",
      "Requirement already satisfied: yarl<2.0,>=1.0 in /usr/local/lib/python3.10/dist-packages (from aiohttp->datasets) (1.11.1)\n",
      "Requirement already satisfied: async-timeout<5.0,>=4.0 in /usr/local/lib/python3.10/dist-packages (from aiohttp->datasets) (4.0.3)\n",
      "Requirement already satisfied: typing-extensions>=3.7.4.3 in /usr/local/lib/python3.10/dist-packages (from huggingface-hub>=0.22.0->datasets) (4.12.2)\n",
      "Requirement already satisfied: charset-normalizer<4,>=2 in /usr/local/lib/python3.10/dist-packages (from requests>=2.32.2->datasets) (3.3.2)\n",
      "Requirement already satisfied: idna<4,>=2.5 in /usr/local/lib/python3.10/dist-packages (from requests>=2.32.2->datasets) (3.10)\n",
      "Requirement already satisfied: urllib3<3,>=1.21.1 in /usr/local/lib/python3.10/dist-packages (from requests>=2.32.2->datasets) (2.2.3)\n",
      "Requirement already satisfied: certifi>=2017.4.17 in /usr/local/lib/python3.10/dist-packages (from requests>=2.32.2->datasets) (2024.8.30)\n",
      "Requirement already satisfied: python-dateutil>=2.8.2 in /usr/local/lib/python3.10/dist-packages (from pandas->datasets) (2.8.2)\n",
      "Requirement already satisfied: pytz>=2020.1 in /usr/local/lib/python3.10/dist-packages (from pandas->datasets) (2024.2)\n",
      "Requirement already satisfied: tzdata>=2022.1 in /usr/local/lib/python3.10/dist-packages (from pandas->datasets) (2024.1)\n",
      "Requirement already satisfied: six>=1.5 in /usr/local/lib/python3.10/dist-packages (from python-dateutil>=2.8.2->pandas->datasets) (1.16.0)\n",
      "Downloading datasets-3.0.1-py3-none-any.whl (471 kB)\n",
      "\u001B[2K   \u001B[90m━━━━━━━━━━━━━━━━━━━━━━━━━━━━━━━━━━━━━━━━\u001B[0m \u001B[32m471.6/471.6 kB\u001B[0m \u001B[31m28.2 MB/s\u001B[0m eta \u001B[36m0:00:00\u001B[0m\n",
      "\u001B[?25hDownloading dill-0.3.8-py3-none-any.whl (116 kB)\n",
      "\u001B[2K   \u001B[90m━━━━━━━━━━━━━━━━━━━━━━━━━━━━━━━━━━━━━━━━\u001B[0m \u001B[32m116.3/116.3 kB\u001B[0m \u001B[31m10.5 MB/s\u001B[0m eta \u001B[36m0:00:00\u001B[0m\n",
      "\u001B[?25hDownloading pyarrow-17.0.0-cp310-cp310-manylinux_2_28_x86_64.whl (39.9 MB)\n",
      "\u001B[2K   \u001B[90m━━━━━━━━━━━━━━━━━━━━━━━━━━━━━━━━━━━━━━━━\u001B[0m \u001B[32m39.9/39.9 MB\u001B[0m \u001B[31m23.1 MB/s\u001B[0m eta \u001B[36m0:00:00\u001B[0m\n",
      "\u001B[?25hDownloading multiprocess-0.70.16-py310-none-any.whl (134 kB)\n",
      "\u001B[2K   \u001B[90m━━━━━━━━━━━━━━━━━━━━━━━━━━━━━━━━━━━━━━━━\u001B[0m \u001B[32m134.8/134.8 kB\u001B[0m \u001B[31m14.3 MB/s\u001B[0m eta \u001B[36m0:00:00\u001B[0m\n",
      "\u001B[?25hDownloading xxhash-3.5.0-cp310-cp310-manylinux_2_17_x86_64.manylinux2014_x86_64.whl (194 kB)\n",
      "\u001B[2K   \u001B[90m━━━━━━━━━━━━━━━━━━━━━━━━━━━━━━━━━━━━━━━━\u001B[0m \u001B[32m194.1/194.1 kB\u001B[0m \u001B[31m20.5 MB/s\u001B[0m eta \u001B[36m0:00:00\u001B[0m\n",
      "\u001B[?25hInstalling collected packages: xxhash, pyarrow, dill, multiprocess, datasets\n",
      "  Attempting uninstall: pyarrow\n",
      "    Found existing installation: pyarrow 14.0.2\n",
      "    Uninstalling pyarrow-14.0.2:\n",
      "      Successfully uninstalled pyarrow-14.0.2\n",
      "\u001B[31mERROR: pip's dependency resolver does not currently take into account all the packages that are installed. This behaviour is the source of the following dependency conflicts.\n",
      "cudf-cu12 24.4.1 requires pyarrow<15.0.0a0,>=14.0.1, but you have pyarrow 17.0.0 which is incompatible.\u001B[0m\u001B[31m\n",
      "\u001B[0mSuccessfully installed datasets-3.0.1 dill-0.3.8 multiprocess-0.70.16 pyarrow-17.0.0 xxhash-3.5.0\n"
     ]
    }
   ]
  },
  {
   "cell_type": "code",
   "execution_count": 4,
   "metadata": {
    "id": "uvCrd9BTA2k1"
   },
   "outputs": [],
   "source": [
    "# Base Libraries\n",
    "import os\n",
    "import time\n",
    "import shutil\n",
    "import random\n",
    "# import librosa\n",
    "import numpy as np\n",
    "import pandas as pd\n",
    "# import seaborn as sns\n",
    "# import tensorflow as tf\n",
    "import opendatasets as od\n",
    "# import matplotlib.pyplot as plt\n",
    "\n",
    "# Preprocessing and Image\n",
    "# import cv2\n",
    "import librosa.display\n",
    "\n",
    "from tqdm import tqdm\n",
    "# from sklearn.model_selection import train_test_split\n",
    "# from keras.utils import image_dataset_from_directory\n",
    "# from tensorflow.keras.models import load_model\n",
    "# from tensorflow.keras.preprocessing import image\n",
    "\n",
    "import warnings\n",
    "warnings.filterwarnings(\"ignore\")"
   ]
  },
  {
   "cell_type": "code",
   "source": [
    "# Assign the Kaggle data set URL into variable\n",
    "dataset = 'https://www.kaggle.com/datasets/uwrfkaggler/ravdess-emotional-speech-audio/data'\n",
    "# Using opendatasets let's download the data sets\n",
    "od.download(dataset, force=True)"
   ],
   "metadata": {
    "colab": {
     "base_uri": "https://localhost:8080/"
    },
    "id": "_vZYA9_IBqGa",
    "outputId": "b26b043e-8ee0-456c-bb57-c011dc77ddd6"
   },
   "execution_count": 5,
   "outputs": [
    {
     "output_type": "stream",
     "name": "stdout",
     "text": [
      "Please provide your Kaggle credentials to download this dataset. Learn more: http://bit.ly/kaggle-creds\n",
      "Your Kaggle username: khrystynadolynska\n",
      "Your Kaggle Key: ··········\n",
      "Dataset URL: https://www.kaggle.com/datasets/uwrfkaggler/ravdess-emotional-speech-audio\n",
      "Downloading ravdess-emotional-speech-audio.zip to ./ravdess-emotional-speech-audio\n"
     ]
    },
    {
     "output_type": "stream",
     "name": "stderr",
     "text": [
      "100%|██████████| 429M/429M [00:22<00:00, 19.8MB/s]\n"
     ]
    },
    {
     "output_type": "stream",
     "name": "stdout",
     "text": []
    }
   ]
  },
  {
   "cell_type": "code",
   "source": [
    "data_dir = './ravdess-emotional-speech-audio'\n",
    "content_list = os.listdir(data_dir)\n",
    "content_list"
   ],
   "metadata": {
    "colab": {
     "base_uri": "https://localhost:8080/"
    },
    "collapsed": true,
    "id": "Y040iGnCCLYb",
    "outputId": "aa6ae097-979b-4e67-fb9d-21b60fa1a8eb"
   },
   "execution_count": 6,
   "outputs": [
    {
     "output_type": "execute_result",
     "data": {
      "text/plain": [
       "['Actor_09',\n",
       " 'Actor_14',\n",
       " 'Actor_19',\n",
       " 'Actor_15',\n",
       " 'Actor_07',\n",
       " 'audio_speech_actors_01-24',\n",
       " 'Actor_05',\n",
       " 'Actor_23',\n",
       " 'Actor_01',\n",
       " 'Actor_13',\n",
       " 'Actor_17',\n",
       " 'Actor_06',\n",
       " 'Actor_02',\n",
       " 'Actor_18',\n",
       " 'Actor_10',\n",
       " 'Actor_20',\n",
       " 'Actor_16',\n",
       " 'Actor_08',\n",
       " 'Actor_21',\n",
       " 'Actor_12',\n",
       " 'Actor_11',\n",
       " 'Actor_03',\n",
       " 'Actor_24',\n",
       " 'Actor_04',\n",
       " 'Actor_22']"
      ]
     },
     "metadata": {},
     "execution_count": 6
    }
   ]
  },
  {
   "cell_type": "code",
   "source": [
    "content_list.remove('audio_speech_actors_01-24')\n",
    "# content_list"
   ],
   "metadata": {
    "id": "y3tpNksCCXgl"
   },
   "execution_count": 7,
   "outputs": []
  },
  {
   "cell_type": "code",
   "source": [
    "label_to_char = {\n",
    "    'Modality': {\n",
    "        1: \"full-AV\",\n",
    "        2: \"video-only\",\n",
    "        3: \"audio-only\"\n",
    "    },\n",
    "    'Vocal_channel': {\n",
    "        1: \"speech\",\n",
    "        2: \"song\"\n",
    "    },\n",
    "    'Emotion': {\n",
    "        1: \"neutral\",\n",
    "        2: \"calm\",\n",
    "        3: \"happy\",\n",
    "        4: \"sad\",\n",
    "        5: \"angry\",\n",
    "        6: \"fearful\",\n",
    "        7: \"disgust\",\n",
    "        8: \"surprised\"\n",
    "    },\n",
    "    'Emotional_intensity': {\n",
    "        1: \"normal\",\n",
    "        2: \"strong\"\n",
    "    },\n",
    "    'Statement': {\n",
    "        1: \"Kids are talking by the door\",\n",
    "        2: \"Dogs are sitting by the door\"\n",
    "    },\n",
    "    'Repetition': {\n",
    "        1: \"1st repetition\",\n",
    "        2: \"2nd repetition\"\n",
    "    },\n",
    "    # 'Actor': parts[6],\n",
    "    'Gender': {\n",
    "        1: \"Male\",\n",
    "        2: \"Female\"\n",
    "    }\n",
    "}\n",
    "\n",
    "char_to_label = {\n",
    "    'Modality': {\n",
    "        \"full-AV\": 1,\n",
    "        \"video-only\": 2,\n",
    "        \"audio-only\": 3\n",
    "    },\n",
    "    'Vocal_channel': {\n",
    "        \"speech\": 1,\n",
    "        \"song\": 2\n",
    "    },\n",
    "    'Emotion': {\n",
    "        \"neutral\": 1,\n",
    "        \"calm\": 2,\n",
    "        \"happy\": 3,\n",
    "        \"sad\": 4,\n",
    "        \"angry\": 5,\n",
    "        \"fearful\": 6,\n",
    "        \"disgust\": 7,\n",
    "        \"surprised\": 8\n",
    "    },\n",
    "    'Emotional_intensity': {\n",
    "        \"normal\": 1,\n",
    "        \"strong\": 2\n",
    "    },\n",
    "    'Statement': {\n",
    "        \"Kids are talking by the door\": 1,\n",
    "        \"Dogs are sitting by the door\": 2\n",
    "    },\n",
    "    'Repetition': {\n",
    "        \"1st repetition\": 1,\n",
    "        \"2nd repetition\": 2\n",
    "    },\n",
    "    # 'Actor': parts[6],\n",
    "    'Gender': {\n",
    "        \"Male\": 1,\n",
    "        \"Female\": 2\n",
    "    }\n",
    "}\n",
    "\n",
    "label_convert = {\n",
    "    'LABEL_0': \"neutral\",\n",
    "    'LABEL_1': \"calm\",\n",
    "    'LABEL_2': \"happy\",\n",
    "    'LABEL_3': \"sad\",\n",
    "    'LABEL_4': \"angry\",\n",
    "    'LABEL_5': \"fearful\",\n",
    "    'LABEL_6': \"disgust\",\n",
    "    'LABEL_7': \"surprised\"\n",
    "}"
   ],
   "metadata": {
    "id": "ZCXaxRPUCaMl"
   },
   "execution_count": 33,
   "outputs": []
  },
  {
   "cell_type": "code",
   "source": [
    "# !rm -r ./train_dataset\n",
    "# !rm -r ./test_dataset"
   ],
   "metadata": {
    "id": "AhpBrfpNSGAg"
   },
   "execution_count": 9,
   "outputs": []
  },
  {
   "cell_type": "markdown",
   "source": [
    "### 100% of data:"
   ],
   "metadata": {
    "id": "wTAzvXlkJL3u"
   }
  },
  {
   "cell_type": "code",
   "source": [
    "data_dir = './ravdess-emotional-speech-audio'\n",
    "train_dir = './train_dataset_1'\n",
    "test_dir = './test_dataset_1'\n",
    "\n",
    "os.makedirs(train_dir, exist_ok=True)\n",
    "os.makedirs(test_dir, exist_ok=True)"
   ],
   "metadata": {
    "id": "m3Z1c38PJL33"
   },
   "execution_count": 10,
   "outputs": []
  },
  {
   "cell_type": "code",
   "source": [
    "content_list = [folder for folder in os.listdir(data_dir) if os.path.isdir(os.path.join(data_dir, folder))]\n",
    "content_list.remove('audio_speech_actors_01-24')\n",
    "# content_list"
   ],
   "metadata": {
    "collapsed": true,
    "id": "i4iVef4nJL33"
   },
   "execution_count": 11,
   "outputs": []
  },
  {
   "cell_type": "code",
   "source": [
    "test_samples = 1\n",
    "train_samples = 11\n",
    "\n",
    "train_male, train_female = 0, 0\n",
    "test_male, test_female = 0, 0\n",
    "test_actors, train_actors = [], []\n",
    "random.shuffle(content_list)\n",
    "for item in content_list:\n",
    "  name_items = item.split('_')\n",
    "  actor_id = int(name_items[1])\n",
    "  if actor_id % 2 == 0:\n",
    "    if test_female < test_samples:\n",
    "      test_actors.append(item)\n",
    "      test_female += 1\n",
    "    elif train_female < train_samples:\n",
    "      train_actors.append(item)\n",
    "      train_female += 1\n",
    "  else:\n",
    "    if test_male < test_samples:\n",
    "      test_actors.append(item)\n",
    "      test_male += 1\n",
    "    elif train_male < train_samples:\n",
    "      train_actors.append(item)\n",
    "      train_male += 1\n",
    "print(\"Train_actors:\", train_actors)\n",
    "print(\"Test_actors:\", test_actors)"
   ],
   "metadata": {
    "colab": {
     "base_uri": "https://localhost:8080/"
    },
    "outputId": "3697bfbb-d3ff-4b92-8f55-a6c124e2a1dc",
    "collapsed": true,
    "id": "d_Ikp4vHJL33"
   },
   "execution_count": 38,
   "outputs": [
    {
     "output_type": "stream",
     "name": "stdout",
     "text": [
      "Train_actors: ['Actor_14', 'Actor_12', 'Actor_20', 'Actor_06', 'Actor_11', 'Actor_22', 'Actor_05', 'Actor_19', 'Actor_24', 'Actor_10', 'Actor_21', 'Actor_01', 'Actor_02', 'Actor_18', 'Actor_07', 'Actor_04', 'Actor_09', 'Actor_15', 'Actor_17', 'Actor_16', 'Actor_23', 'Actor_13']\n",
      "Test_actors: ['Actor_08', 'Actor_03']\n"
     ]
    }
   ]
  },
  {
   "cell_type": "code",
   "source": [
    "def copy_directory(src, dst):\n",
    "    if os.path.exists(dst):\n",
    "        shutil.rmtree(dst)\n",
    "    shutil.copytree(src, dst)\n",
    "\n",
    "for actor_folder in content_list:\n",
    "    source_path = os.path.join(data_dir, actor_folder)\n",
    "    if actor_folder in test_actors:\n",
    "        destination_path = os.path.join(test_dir, actor_folder)\n",
    "    else:\n",
    "        destination_path = os.path.join(train_dir, actor_folder)\n",
    "    copy_directory(source_path, destination_path)\n",
    "\n",
    "\n",
    "def extract_labels(filename):\n",
    "    filename_without_extension = os.path.splitext(filename)[0]\n",
    "    parts = filename_without_extension.split('-')\n",
    "    int_parts = [int(part) for part in parts]\n",
    "    return {\n",
    "        'Modality': char_to_label['Modality'][parts[0]],\n",
    "        'Vocal_channel': char_to_label['Vocal_channel'][parts[1]],\n",
    "        'Emotion': char_to_label['Emotion'][parts[2]],\n",
    "        'Emotional_intensity': char_to_label['Emotional_intensity'][parts[3]],\n",
    "        'Statement': char_to_label['Statement'][parts[4]],\n",
    "        'Repetition': char_to_label['Repetition'][parts[5]],\n",
    "        'Actor': parts[6],\n",
    "        'Gender': char_to_label['Gender'][2] if int(parts[6]) % 2 == 0 else char_to_label['Gender'][1]\n",
    "    }\n",
    "\n",
    "def extract_chars(filename):\n",
    "    filename_without_extension = os.path.splitext(filename)[0]\n",
    "    parts = filename_without_extension.split('-')\n",
    "    int_parts = [int(part) for part in parts]\n",
    "    return {\n",
    "        'Modality': label_to_char['Modality'][int_parts[0]],\n",
    "        'Vocal_channel': label_to_char['Vocal_channel'][int_parts[1]],\n",
    "        'Emotion': label_to_char['Emotion'][int_parts[2]],\n",
    "        'Emotional_intensity': label_to_char['Emotional_intensity'][int_parts[3]],\n",
    "        'Statement': label_to_char['Statement'][int_parts[4]],\n",
    "        'Repetition': label_to_char['Repetition'][int_parts[5]],\n",
    "        'Actor': int_parts[6],\n",
    "        'Gender': label_to_char['Gender'][2] if int(int_parts[6]) % 2 == 0 else label_to_char['Gender'][1]\n",
    "    }\n",
    "\n",
    "\n",
    "def load_dataset(data_dir):\n",
    "    audio_files = []\n",
    "    chars = []\n",
    "    for root, dirs, files in os.walk(data_dir):\n",
    "        for file in files:\n",
    "            if file.endswith(\".wav\"):\n",
    "                audio_files.append(os.path.join(root, file))\n",
    "                chars.append(extract_chars(file))\n",
    "    chars_df = pd.DataFrame(chars)\n",
    "    for col in ['Modality', 'Vocal_channel', 'Emotion', 'Emotional_intensity', 'Statement', 'Repetition', 'Gender']:\n",
    "        chars_df[col] = chars_df[col].astype(str)\n",
    "    chars_df['Actor'] = chars_df['Actor'].astype(int)\n",
    "    chars_df['Emotion_label'] = chars_df['Emotion'].map(char_to_label['Emotion'])\n",
    "    return pd.DataFrame({'audio_file': audio_files, **chars_df})\n",
    "\n",
    "train_dataset = load_dataset(train_dir)\n",
    "test_dataset = load_dataset(test_dir)"
   ],
   "metadata": {
    "id": "KvZqUkUDJL33"
   },
   "execution_count": 37,
   "outputs": []
  },
  {
   "cell_type": "code",
   "source": [
    "print(\"Train dataset:\")\n",
    "train_dataset.head()"
   ],
   "metadata": {
    "colab": {
     "base_uri": "https://localhost:8080/",
     "height": 223
    },
    "outputId": "c8c74323-ecdb-41e5-e741-91860d15c13d",
    "id": "vxOw8yGPJL34"
   },
   "execution_count": 14,
   "outputs": [
    {
     "output_type": "stream",
     "name": "stdout",
     "text": [
      "Train dataset:\n"
     ]
    },
    {
     "output_type": "execute_result",
     "data": {
      "text/plain": [
       "                                          audio_file    Modality  \\\n",
       "0  ./train_dataset_1/Actor_09/03-01-06-02-02-01-0...  audio-only   \n",
       "1  ./train_dataset_1/Actor_09/03-01-02-02-01-02-0...  audio-only   \n",
       "2  ./train_dataset_1/Actor_09/03-01-02-01-02-01-0...  audio-only   \n",
       "3  ./train_dataset_1/Actor_09/03-01-05-02-02-01-0...  audio-only   \n",
       "4  ./train_dataset_1/Actor_09/03-01-05-01-02-02-0...  audio-only   \n",
       "\n",
       "  Vocal_channel  Emotion Emotional_intensity                     Statement  \\\n",
       "0        speech  fearful              strong  Dogs are sitting by the door   \n",
       "1        speech     calm              strong  Kids are talking by the door   \n",
       "2        speech     calm              normal  Dogs are sitting by the door   \n",
       "3        speech    angry              strong  Dogs are sitting by the door   \n",
       "4        speech    angry              normal  Dogs are sitting by the door   \n",
       "\n",
       "       Repetition  Actor Gender  Emotion_label  \n",
       "0  1st repetition      9   Male              6  \n",
       "1  2nd repetition      9   Male              2  \n",
       "2  1st repetition      9   Male              2  \n",
       "3  1st repetition      9   Male              5  \n",
       "4  2nd repetition      9   Male              5  "
      ],
      "text/html": [
       "\n",
       "  <div id=\"df-973ed0ec-9db2-467b-a7c5-8a7d748375c8\" class=\"colab-df-container\">\n",
       "    <div>\n",
       "<style scoped>\n",
       "    .dataframe tbody tr th:only-of-type {\n",
       "        vertical-align: middle;\n",
       "    }\n",
       "\n",
       "    .dataframe tbody tr th {\n",
       "        vertical-align: top;\n",
       "    }\n",
       "\n",
       "    .dataframe thead th {\n",
       "        text-align: right;\n",
       "    }\n",
       "</style>\n",
       "<table border=\"1\" class=\"dataframe\">\n",
       "  <thead>\n",
       "    <tr style=\"text-align: right;\">\n",
       "      <th></th>\n",
       "      <th>audio_file</th>\n",
       "      <th>Modality</th>\n",
       "      <th>Vocal_channel</th>\n",
       "      <th>Emotion</th>\n",
       "      <th>Emotional_intensity</th>\n",
       "      <th>Statement</th>\n",
       "      <th>Repetition</th>\n",
       "      <th>Actor</th>\n",
       "      <th>Gender</th>\n",
       "      <th>Emotion_label</th>\n",
       "    </tr>\n",
       "  </thead>\n",
       "  <tbody>\n",
       "    <tr>\n",
       "      <th>0</th>\n",
       "      <td>./train_dataset_1/Actor_09/03-01-06-02-02-01-0...</td>\n",
       "      <td>audio-only</td>\n",
       "      <td>speech</td>\n",
       "      <td>fearful</td>\n",
       "      <td>strong</td>\n",
       "      <td>Dogs are sitting by the door</td>\n",
       "      <td>1st repetition</td>\n",
       "      <td>9</td>\n",
       "      <td>Male</td>\n",
       "      <td>6</td>\n",
       "    </tr>\n",
       "    <tr>\n",
       "      <th>1</th>\n",
       "      <td>./train_dataset_1/Actor_09/03-01-02-02-01-02-0...</td>\n",
       "      <td>audio-only</td>\n",
       "      <td>speech</td>\n",
       "      <td>calm</td>\n",
       "      <td>strong</td>\n",
       "      <td>Kids are talking by the door</td>\n",
       "      <td>2nd repetition</td>\n",
       "      <td>9</td>\n",
       "      <td>Male</td>\n",
       "      <td>2</td>\n",
       "    </tr>\n",
       "    <tr>\n",
       "      <th>2</th>\n",
       "      <td>./train_dataset_1/Actor_09/03-01-02-01-02-01-0...</td>\n",
       "      <td>audio-only</td>\n",
       "      <td>speech</td>\n",
       "      <td>calm</td>\n",
       "      <td>normal</td>\n",
       "      <td>Dogs are sitting by the door</td>\n",
       "      <td>1st repetition</td>\n",
       "      <td>9</td>\n",
       "      <td>Male</td>\n",
       "      <td>2</td>\n",
       "    </tr>\n",
       "    <tr>\n",
       "      <th>3</th>\n",
       "      <td>./train_dataset_1/Actor_09/03-01-05-02-02-01-0...</td>\n",
       "      <td>audio-only</td>\n",
       "      <td>speech</td>\n",
       "      <td>angry</td>\n",
       "      <td>strong</td>\n",
       "      <td>Dogs are sitting by the door</td>\n",
       "      <td>1st repetition</td>\n",
       "      <td>9</td>\n",
       "      <td>Male</td>\n",
       "      <td>5</td>\n",
       "    </tr>\n",
       "    <tr>\n",
       "      <th>4</th>\n",
       "      <td>./train_dataset_1/Actor_09/03-01-05-01-02-02-0...</td>\n",
       "      <td>audio-only</td>\n",
       "      <td>speech</td>\n",
       "      <td>angry</td>\n",
       "      <td>normal</td>\n",
       "      <td>Dogs are sitting by the door</td>\n",
       "      <td>2nd repetition</td>\n",
       "      <td>9</td>\n",
       "      <td>Male</td>\n",
       "      <td>5</td>\n",
       "    </tr>\n",
       "  </tbody>\n",
       "</table>\n",
       "</div>\n",
       "    <div class=\"colab-df-buttons\">\n",
       "\n",
       "  <div class=\"colab-df-container\">\n",
       "    <button class=\"colab-df-convert\" onclick=\"convertToInteractive('df-973ed0ec-9db2-467b-a7c5-8a7d748375c8')\"\n",
       "            title=\"Convert this dataframe to an interactive table.\"\n",
       "            style=\"display:none;\">\n",
       "\n",
       "  <svg xmlns=\"http://www.w3.org/2000/svg\" height=\"24px\" viewBox=\"0 -960 960 960\">\n",
       "    <path d=\"M120-120v-720h720v720H120Zm60-500h600v-160H180v160Zm220 220h160v-160H400v160Zm0 220h160v-160H400v160ZM180-400h160v-160H180v160Zm440 0h160v-160H620v160ZM180-180h160v-160H180v160Zm440 0h160v-160H620v160Z\"/>\n",
       "  </svg>\n",
       "    </button>\n",
       "\n",
       "  <style>\n",
       "    .colab-df-container {\n",
       "      display:flex;\n",
       "      gap: 12px;\n",
       "    }\n",
       "\n",
       "    .colab-df-convert {\n",
       "      background-color: #E8F0FE;\n",
       "      border: none;\n",
       "      border-radius: 50%;\n",
       "      cursor: pointer;\n",
       "      display: none;\n",
       "      fill: #1967D2;\n",
       "      height: 32px;\n",
       "      padding: 0 0 0 0;\n",
       "      width: 32px;\n",
       "    }\n",
       "\n",
       "    .colab-df-convert:hover {\n",
       "      background-color: #E2EBFA;\n",
       "      box-shadow: 0px 1px 2px rgba(60, 64, 67, 0.3), 0px 1px 3px 1px rgba(60, 64, 67, 0.15);\n",
       "      fill: #174EA6;\n",
       "    }\n",
       "\n",
       "    .colab-df-buttons div {\n",
       "      margin-bottom: 4px;\n",
       "    }\n",
       "\n",
       "    [theme=dark] .colab-df-convert {\n",
       "      background-color: #3B4455;\n",
       "      fill: #D2E3FC;\n",
       "    }\n",
       "\n",
       "    [theme=dark] .colab-df-convert:hover {\n",
       "      background-color: #434B5C;\n",
       "      box-shadow: 0px 1px 3px 1px rgba(0, 0, 0, 0.15);\n",
       "      filter: drop-shadow(0px 1px 2px rgba(0, 0, 0, 0.3));\n",
       "      fill: #FFFFFF;\n",
       "    }\n",
       "  </style>\n",
       "\n",
       "    <script>\n",
       "      const buttonEl =\n",
       "        document.querySelector('#df-973ed0ec-9db2-467b-a7c5-8a7d748375c8 button.colab-df-convert');\n",
       "      buttonEl.style.display =\n",
       "        google.colab.kernel.accessAllowed ? 'block' : 'none';\n",
       "\n",
       "      async function convertToInteractive(key) {\n",
       "        const element = document.querySelector('#df-973ed0ec-9db2-467b-a7c5-8a7d748375c8');\n",
       "        const dataTable =\n",
       "          await google.colab.kernel.invokeFunction('convertToInteractive',\n",
       "                                                    [key], {});\n",
       "        if (!dataTable) return;\n",
       "\n",
       "        const docLinkHtml = 'Like what you see? Visit the ' +\n",
       "          '<a target=\"_blank\" href=https://colab.research.google.com/notebooks/data_table.ipynb>data table notebook</a>'\n",
       "          + ' to learn more about interactive tables.';\n",
       "        element.innerHTML = '';\n",
       "        dataTable['output_type'] = 'display_data';\n",
       "        await google.colab.output.renderOutput(dataTable, element);\n",
       "        const docLink = document.createElement('div');\n",
       "        docLink.innerHTML = docLinkHtml;\n",
       "        element.appendChild(docLink);\n",
       "      }\n",
       "    </script>\n",
       "  </div>\n",
       "\n",
       "\n",
       "<div id=\"df-f533256d-49a8-4414-8154-4ffa69b50899\">\n",
       "  <button class=\"colab-df-quickchart\" onclick=\"quickchart('df-f533256d-49a8-4414-8154-4ffa69b50899')\"\n",
       "            title=\"Suggest charts\"\n",
       "            style=\"display:none;\">\n",
       "\n",
       "<svg xmlns=\"http://www.w3.org/2000/svg\" height=\"24px\"viewBox=\"0 0 24 24\"\n",
       "     width=\"24px\">\n",
       "    <g>\n",
       "        <path d=\"M19 3H5c-1.1 0-2 .9-2 2v14c0 1.1.9 2 2 2h14c1.1 0 2-.9 2-2V5c0-1.1-.9-2-2-2zM9 17H7v-7h2v7zm4 0h-2V7h2v10zm4 0h-2v-4h2v4z\"/>\n",
       "    </g>\n",
       "</svg>\n",
       "  </button>\n",
       "\n",
       "<style>\n",
       "  .colab-df-quickchart {\n",
       "      --bg-color: #E8F0FE;\n",
       "      --fill-color: #1967D2;\n",
       "      --hover-bg-color: #E2EBFA;\n",
       "      --hover-fill-color: #174EA6;\n",
       "      --disabled-fill-color: #AAA;\n",
       "      --disabled-bg-color: #DDD;\n",
       "  }\n",
       "\n",
       "  [theme=dark] .colab-df-quickchart {\n",
       "      --bg-color: #3B4455;\n",
       "      --fill-color: #D2E3FC;\n",
       "      --hover-bg-color: #434B5C;\n",
       "      --hover-fill-color: #FFFFFF;\n",
       "      --disabled-bg-color: #3B4455;\n",
       "      --disabled-fill-color: #666;\n",
       "  }\n",
       "\n",
       "  .colab-df-quickchart {\n",
       "    background-color: var(--bg-color);\n",
       "    border: none;\n",
       "    border-radius: 50%;\n",
       "    cursor: pointer;\n",
       "    display: none;\n",
       "    fill: var(--fill-color);\n",
       "    height: 32px;\n",
       "    padding: 0;\n",
       "    width: 32px;\n",
       "  }\n",
       "\n",
       "  .colab-df-quickchart:hover {\n",
       "    background-color: var(--hover-bg-color);\n",
       "    box-shadow: 0 1px 2px rgba(60, 64, 67, 0.3), 0 1px 3px 1px rgba(60, 64, 67, 0.15);\n",
       "    fill: var(--button-hover-fill-color);\n",
       "  }\n",
       "\n",
       "  .colab-df-quickchart-complete:disabled,\n",
       "  .colab-df-quickchart-complete:disabled:hover {\n",
       "    background-color: var(--disabled-bg-color);\n",
       "    fill: var(--disabled-fill-color);\n",
       "    box-shadow: none;\n",
       "  }\n",
       "\n",
       "  .colab-df-spinner {\n",
       "    border: 2px solid var(--fill-color);\n",
       "    border-color: transparent;\n",
       "    border-bottom-color: var(--fill-color);\n",
       "    animation:\n",
       "      spin 1s steps(1) infinite;\n",
       "  }\n",
       "\n",
       "  @keyframes spin {\n",
       "    0% {\n",
       "      border-color: transparent;\n",
       "      border-bottom-color: var(--fill-color);\n",
       "      border-left-color: var(--fill-color);\n",
       "    }\n",
       "    20% {\n",
       "      border-color: transparent;\n",
       "      border-left-color: var(--fill-color);\n",
       "      border-top-color: var(--fill-color);\n",
       "    }\n",
       "    30% {\n",
       "      border-color: transparent;\n",
       "      border-left-color: var(--fill-color);\n",
       "      border-top-color: var(--fill-color);\n",
       "      border-right-color: var(--fill-color);\n",
       "    }\n",
       "    40% {\n",
       "      border-color: transparent;\n",
       "      border-right-color: var(--fill-color);\n",
       "      border-top-color: var(--fill-color);\n",
       "    }\n",
       "    60% {\n",
       "      border-color: transparent;\n",
       "      border-right-color: var(--fill-color);\n",
       "    }\n",
       "    80% {\n",
       "      border-color: transparent;\n",
       "      border-right-color: var(--fill-color);\n",
       "      border-bottom-color: var(--fill-color);\n",
       "    }\n",
       "    90% {\n",
       "      border-color: transparent;\n",
       "      border-bottom-color: var(--fill-color);\n",
       "    }\n",
       "  }\n",
       "</style>\n",
       "\n",
       "  <script>\n",
       "    async function quickchart(key) {\n",
       "      const quickchartButtonEl =\n",
       "        document.querySelector('#' + key + ' button');\n",
       "      quickchartButtonEl.disabled = true;  // To prevent multiple clicks.\n",
       "      quickchartButtonEl.classList.add('colab-df-spinner');\n",
       "      try {\n",
       "        const charts = await google.colab.kernel.invokeFunction(\n",
       "            'suggestCharts', [key], {});\n",
       "      } catch (error) {\n",
       "        console.error('Error during call to suggestCharts:', error);\n",
       "      }\n",
       "      quickchartButtonEl.classList.remove('colab-df-spinner');\n",
       "      quickchartButtonEl.classList.add('colab-df-quickchart-complete');\n",
       "    }\n",
       "    (() => {\n",
       "      let quickchartButtonEl =\n",
       "        document.querySelector('#df-f533256d-49a8-4414-8154-4ffa69b50899 button');\n",
       "      quickchartButtonEl.style.display =\n",
       "        google.colab.kernel.accessAllowed ? 'block' : 'none';\n",
       "    })();\n",
       "  </script>\n",
       "</div>\n",
       "    </div>\n",
       "  </div>\n"
      ],
      "application/vnd.google.colaboratory.intrinsic+json": {
       "type": "dataframe",
       "variable_name": "train_dataset",
       "summary": "{\n  \"name\": \"train_dataset\",\n  \"rows\": 1320,\n  \"fields\": [\n    {\n      \"column\": \"audio_file\",\n      \"properties\": {\n        \"dtype\": \"string\",\n        \"num_unique_values\": 1320,\n        \"samples\": [\n          \"./train_dataset_1/Actor_18/03-01-03-01-01-02-18.wav\",\n          \"./train_dataset_1/Actor_18/03-01-04-02-01-01-18.wav\",\n          \"./train_dataset_1/Actor_06/03-01-02-01-01-02-06.wav\"\n        ],\n        \"semantic_type\": \"\",\n        \"description\": \"\"\n      }\n    },\n    {\n      \"column\": \"Modality\",\n      \"properties\": {\n        \"dtype\": \"category\",\n        \"num_unique_values\": 1,\n        \"samples\": [\n          \"audio-only\"\n        ],\n        \"semantic_type\": \"\",\n        \"description\": \"\"\n      }\n    },\n    {\n      \"column\": \"Vocal_channel\",\n      \"properties\": {\n        \"dtype\": \"category\",\n        \"num_unique_values\": 1,\n        \"samples\": [\n          \"speech\"\n        ],\n        \"semantic_type\": \"\",\n        \"description\": \"\"\n      }\n    },\n    {\n      \"column\": \"Emotion\",\n      \"properties\": {\n        \"dtype\": \"category\",\n        \"num_unique_values\": 8,\n        \"samples\": [\n          \"calm\"\n        ],\n        \"semantic_type\": \"\",\n        \"description\": \"\"\n      }\n    },\n    {\n      \"column\": \"Emotional_intensity\",\n      \"properties\": {\n        \"dtype\": \"category\",\n        \"num_unique_values\": 2,\n        \"samples\": [\n          \"normal\"\n        ],\n        \"semantic_type\": \"\",\n        \"description\": \"\"\n      }\n    },\n    {\n      \"column\": \"Statement\",\n      \"properties\": {\n        \"dtype\": \"category\",\n        \"num_unique_values\": 2,\n        \"samples\": [\n          \"Kids are talking by the door\"\n        ],\n        \"semantic_type\": \"\",\n        \"description\": \"\"\n      }\n    },\n    {\n      \"column\": \"Repetition\",\n      \"properties\": {\n        \"dtype\": \"category\",\n        \"num_unique_values\": 2,\n        \"samples\": [\n          \"2nd repetition\"\n        ],\n        \"semantic_type\": \"\",\n        \"description\": \"\"\n      }\n    },\n    {\n      \"column\": \"Actor\",\n      \"properties\": {\n        \"dtype\": \"number\",\n        \"std\": 6,\n        \"min\": 1,\n        \"max\": 24,\n        \"num_unique_values\": 22,\n        \"samples\": [\n          9\n        ],\n        \"semantic_type\": \"\",\n        \"description\": \"\"\n      }\n    },\n    {\n      \"column\": \"Gender\",\n      \"properties\": {\n        \"dtype\": \"category\",\n        \"num_unique_values\": 2,\n        \"samples\": [\n          \"Female\"\n        ],\n        \"semantic_type\": \"\",\n        \"description\": \"\"\n      }\n    },\n    {\n      \"column\": \"Emotion_label\",\n      \"properties\": {\n        \"dtype\": \"number\",\n        \"std\": 2,\n        \"min\": 1,\n        \"max\": 8,\n        \"num_unique_values\": 8,\n        \"samples\": [\n          2\n        ],\n        \"semantic_type\": \"\",\n        \"description\": \"\"\n      }\n    }\n  ]\n}"
      }
     },
     "metadata": {},
     "execution_count": 14
    }
   ]
  },
  {
   "cell_type": "code",
   "source": [
    "train_dataset[\"Emotion\"].value_counts()"
   ],
   "metadata": {
    "colab": {
     "base_uri": "https://localhost:8080/",
     "height": 366
    },
    "collapsed": true,
    "outputId": "ba89e8e5-b1ee-42cd-9d28-e390169dffea",
    "id": "xRHAMNEMJL34"
   },
   "execution_count": 15,
   "outputs": [
    {
     "output_type": "execute_result",
     "data": {
      "text/plain": [
       "Emotion\n",
       "fearful      176\n",
       "calm         176\n",
       "angry        176\n",
       "sad          176\n",
       "disgust      176\n",
       "happy        176\n",
       "surprised    176\n",
       "neutral       88\n",
       "Name: count, dtype: int64"
      ],
      "text/html": [
       "<div>\n",
       "<style scoped>\n",
       "    .dataframe tbody tr th:only-of-type {\n",
       "        vertical-align: middle;\n",
       "    }\n",
       "\n",
       "    .dataframe tbody tr th {\n",
       "        vertical-align: top;\n",
       "    }\n",
       "\n",
       "    .dataframe thead th {\n",
       "        text-align: right;\n",
       "    }\n",
       "</style>\n",
       "<table border=\"1\" class=\"dataframe\">\n",
       "  <thead>\n",
       "    <tr style=\"text-align: right;\">\n",
       "      <th></th>\n",
       "      <th>count</th>\n",
       "    </tr>\n",
       "    <tr>\n",
       "      <th>Emotion</th>\n",
       "      <th></th>\n",
       "    </tr>\n",
       "  </thead>\n",
       "  <tbody>\n",
       "    <tr>\n",
       "      <th>fearful</th>\n",
       "      <td>176</td>\n",
       "    </tr>\n",
       "    <tr>\n",
       "      <th>calm</th>\n",
       "      <td>176</td>\n",
       "    </tr>\n",
       "    <tr>\n",
       "      <th>angry</th>\n",
       "      <td>176</td>\n",
       "    </tr>\n",
       "    <tr>\n",
       "      <th>sad</th>\n",
       "      <td>176</td>\n",
       "    </tr>\n",
       "    <tr>\n",
       "      <th>disgust</th>\n",
       "      <td>176</td>\n",
       "    </tr>\n",
       "    <tr>\n",
       "      <th>happy</th>\n",
       "      <td>176</td>\n",
       "    </tr>\n",
       "    <tr>\n",
       "      <th>surprised</th>\n",
       "      <td>176</td>\n",
       "    </tr>\n",
       "    <tr>\n",
       "      <th>neutral</th>\n",
       "      <td>88</td>\n",
       "    </tr>\n",
       "  </tbody>\n",
       "</table>\n",
       "</div><br><label><b>dtype:</b> int64</label>"
      ]
     },
     "metadata": {},
     "execution_count": 15
    }
   ]
  },
  {
   "cell_type": "markdown",
   "source": [
    "#### Tokenization:"
   ],
   "metadata": {
    "id": "Bi5VHR3wJL34"
   }
  },
  {
   "cell_type": "code",
   "source": [
    "from transformers import Wav2Vec2FeatureExtractor\n",
    "from datasets import Dataset\n",
    "import librosa\n",
    "\n",
    "def map_to_array(example):\n",
    "    speech, _ = librosa.load(example[\"audio_file\"], sr=16000, mono=True)\n",
    "    example[\"speech\"] = speech\n",
    "    return example\n",
    "\n",
    "train_data = Dataset.from_pandas(train_dataset).map(map_to_array)\n",
    "test_data = Dataset.from_pandas(test_dataset).map(map_to_array)\n",
    "\n",
    "num_labels=8\n",
    "feature_extractor = Wav2Vec2FeatureExtractor.from_pretrained(\"superb/hubert-large-superb-er\")  # , num_labels=num_labels)\n",
    "\n",
    "train_encodings = feature_extractor(list(train_data[\"speech\"]), sampling_rate=16000, padding=True, return_tensors=\"pt\")\n",
    "test_encodings = feature_extractor(list(test_data[\"speech\"]), sampling_rate=16000, padding=True, return_tensors=\"pt\")"
   ],
   "metadata": {
    "colab": {
     "base_uri": "https://localhost:8080/",
     "height": 113,
     "referenced_widgets": [
      "3fe4671c985245d9959ff8edee583e5b",
      "c8d1aa00389d450d8c7175534d74f7f2",
      "84f05d24a22442d9a6d0a45b9cc19eca",
      "082cffb73518482984acf690cdf9b4ca",
      "937610ce7e684ed4a8c2171434887420",
      "0d93250220294b17af60e137686017ef",
      "a02b2e532e1f4d7bb9a3d366f2d7f321",
      "91496f569ab34b38ac1696731a9321aa",
      "5f80310830824e65bcaf4df278a8f851",
      "d099da310fa84eadbf06271b2e6d4e6e",
      "d2d1be3b00ac4888b91d1382020c86e4",
      "c7a98726778b43a69d4edc085baa5a85",
      "88fafedf056649f0aa886f32469481e6",
      "fbf9e58265f54f619fa8bfaf46ddf8b0",
      "71a1e9496992441f9a5719fdf9be78ff",
      "aa9a48ef4a9c4b5c9c839e584e626714",
      "906994b34cc94ba99308e50504d1001c",
      "ea200b654ea14e74859e428c65fa0633",
      "ae537f95cb0f433fa3dbbd7dc3e7e26a",
      "33b67ce1192a487abed5b415bffbf662",
      "c9a52b2a49bc4ec39a2ca5384715d696",
      "42a028da9d7f4e9f9dd99880e8405c33",
      "e114063433d048bbb3c54fd238ffea40",
      "31648d7a2e0740739e1d6687a5dea914",
      "04040ffd92194bcaa294828484c37820",
      "6e9db2ce99614575a7736500350e7741",
      "35ef0184412b4fa5a475989838ba8d77",
      "d7c9078a5c3c4a43b6331db2b55c4572",
      "5658718393594ec69190c9c86418db99",
      "6541e5a96d174a19b261d238416b8701",
      "46d5205d7dff42d3bf692db253ecb861",
      "2353fe242d5f4eabb88c039fcd124a38",
      "10ea1a5a0c9d462a8a8a57e458592324"
     ]
    },
    "outputId": "1e84c024-9237-4248-fe0d-7a9541bae5b5",
    "id": "goJwElJjJL34"
   },
   "execution_count": 16,
   "outputs": [
    {
     "output_type": "display_data",
     "data": {
      "text/plain": [
       "Map:   0%|          | 0/1320 [00:00<?, ? examples/s]"
      ],
      "application/vnd.jupyter.widget-view+json": {
       "version_major": 2,
       "version_minor": 0,
       "model_id": "3fe4671c985245d9959ff8edee583e5b"
      }
     },
     "metadata": {}
    },
    {
     "output_type": "display_data",
     "data": {
      "text/plain": [
       "Map:   0%|          | 0/120 [00:00<?, ? examples/s]"
      ],
      "application/vnd.jupyter.widget-view+json": {
       "version_major": 2,
       "version_minor": 0,
       "model_id": "c7a98726778b43a69d4edc085baa5a85"
      }
     },
     "metadata": {}
    },
    {
     "output_type": "display_data",
     "data": {
      "text/plain": [
       "preprocessor_config.json:   0%|          | 0.00/212 [00:00<?, ?B/s]"
      ],
      "application/vnd.jupyter.widget-view+json": {
       "version_major": 2,
       "version_minor": 0,
       "model_id": "e114063433d048bbb3c54fd238ffea40"
      }
     },
     "metadata": {}
    }
   ]
  },
  {
   "cell_type": "markdown",
   "source": [
    "#### Dataset as object"
   ],
   "metadata": {
    "id": "nv2fTa6IJL34"
   }
  },
  {
   "cell_type": "code",
   "source": [
    "import torch\n",
    "\n",
    "class CustomDataset(torch.utils.data.Dataset):\n",
    "    def __init__(self, encodings, labels):\n",
    "        self.encodings = encodings\n",
    "        self.pattern = {1: 0, 2: 1, 3: 2, 4: 3, 5: 4, 6: 5, 7: 6, 8: 7}\n",
    "        # pattern = {1: 1, 2: 2, 3: 3, 4: 4, 5: 5, 6: 6, 7: 7, 8: 8}\n",
    "        # self.labels = [pattern[x] for x in labels]\n",
    "        self.labels = [self.pattern.get(x) for x in labels]\n",
    "\n",
    "    def __getitem__(self, idx):\n",
    "        item = {key: val[idx] for key, val in self.encodings.items()}\n",
    "        item['Emotion_label'] = torch.tensor(self.labels[idx])\n",
    "        return item\n",
    "\n",
    "    def __len__(self):\n",
    "        return len(self.labels)\n",
    "\n",
    "\n",
    "train_dataset = CustomDataset(train_encodings, list(train_data[\"Emotion_label\"]))\n",
    "test_dataset = CustomDataset(test_encodings, list(test_data[\"Emotion_label\"]))"
   ],
   "metadata": {
    "id": "MKSht6gTJL34"
   },
   "execution_count": 17,
   "outputs": []
  },
  {
   "cell_type": "markdown",
   "source": [
    "#### Model"
   ],
   "metadata": {
    "id": "0MY43_dhJL35"
   }
  },
  {
   "cell_type": "code",
   "source": [
    "from transformers import HubertForSequenceClassification\n",
    "from torch.optim import AdamW\n",
    "\n",
    "num_labels=8\n",
    "model = HubertForSequenceClassification.from_pretrained(\"superb/hubert-large-superb-er\", num_labels=num_labels, ignore_mismatched_sizes=True)\n",
    "# model = HubertForSequenceClassification.from_pretrained(\"facebook/hubert-large-ls960-ft\", num_labels=8)\n",
    "device = torch.device(\"cuda:0\" if torch.cuda.is_available() else \"cpu\")\n",
    "model.to(device)\n",
    "\n",
    "optim = AdamW(model.parameters(), lr=1e-5)"
   ],
   "metadata": {
    "colab": {
     "base_uri": "https://localhost:8080/",
     "height": 257,
     "referenced_widgets": [
      "fca1b66d3d2344e8903681328ceb869f",
      "1256bd94ffc049158558e577c25f6229",
      "578e1d8f68524eaea70904c265e5772b",
      "6d9a77d412094595a073d3e0a78c7826",
      "ffc253cd573f427b8af8bcc229e71c40",
      "48bab9da97744f689906466fd8a2dcb9",
      "5ad2643191a9477192184ca66616ea86",
      "3b4d97dbdb7745d8986438a1ad1a3c72",
      "ac37a03ff3ec4f33b9319f5c9da0128e",
      "6e1fc19a0ae74057b0a937af12b29e34",
      "fd4c571ef7ef439a8ebcb11e5fcd3121",
      "308dcb48c42a41aebe76f19bb1aaf9e0",
      "2bb4e4fe70064f3cbfa224ad377f04fa",
      "f8d77bb50738433e85ec1c7aa0a336c9",
      "d4a858bdfbc148ac8b07a50a0694134a",
      "c721fba0d5b34029951d3e1c44d67067",
      "a9f4d3b1daf148d79be9371b3dd22612",
      "f0e012be55a74575bfc2bda5667ba361",
      "ac2207ab861046b8bc9d42452aab3502",
      "628cb8d6f0404515abaf524d7ddf0e7d",
      "8e7e218ee0e24a8594cd8b8e9fbd5fd2",
      "34e9d751495f46cab5e0e8b2b87dc5eb"
     ]
    },
    "outputId": "8f07ed45-1c34-4ca2-92bb-20c1a87165cd",
    "id": "EYZ8XOoPJL35"
   },
   "execution_count": 18,
   "outputs": [
    {
     "output_type": "display_data",
     "data": {
      "text/plain": [
       "config.json:   0%|          | 0.00/1.83k [00:00<?, ?B/s]"
      ],
      "application/vnd.jupyter.widget-view+json": {
       "version_major": 2,
       "version_minor": 0,
       "model_id": "fca1b66d3d2344e8903681328ceb869f"
      }
     },
     "metadata": {}
    },
    {
     "output_type": "display_data",
     "data": {
      "text/plain": [
       "pytorch_model.bin:   0%|          | 0.00/1.26G [00:00<?, ?B/s]"
      ],
      "application/vnd.jupyter.widget-view+json": {
       "version_major": 2,
       "version_minor": 0,
       "model_id": "308dcb48c42a41aebe76f19bb1aaf9e0"
      }
     },
     "metadata": {}
    },
    {
     "output_type": "stream",
     "name": "stderr",
     "text": [
      "Some weights of the model checkpoint at superb/hubert-large-superb-er were not used when initializing HubertForSequenceClassification: ['hubert.encoder.pos_conv_embed.conv.weight_g', 'hubert.encoder.pos_conv_embed.conv.weight_v']\n",
      "- This IS expected if you are initializing HubertForSequenceClassification from the checkpoint of a model trained on another task or with another architecture (e.g. initializing a BertForSequenceClassification model from a BertForPreTraining model).\n",
      "- This IS NOT expected if you are initializing HubertForSequenceClassification from the checkpoint of a model that you expect to be exactly identical (initializing a BertForSequenceClassification model from a BertForSequenceClassification model).\n",
      "Some weights of HubertForSequenceClassification were not initialized from the model checkpoint at superb/hubert-large-superb-er and are newly initialized: ['hubert.encoder.pos_conv_embed.conv.parametrizations.weight.original0', 'hubert.encoder.pos_conv_embed.conv.parametrizations.weight.original1']\n",
      "You should probably TRAIN this model on a down-stream task to be able to use it for predictions and inference.\n",
      "Some weights of HubertForSequenceClassification were not initialized from the model checkpoint at superb/hubert-large-superb-er and are newly initialized because the shapes did not match:\n",
      "- classifier.weight: found shape torch.Size([4, 256]) in the checkpoint and torch.Size([8, 256]) in the model instantiated\n",
      "- classifier.bias: found shape torch.Size([4]) in the checkpoint and torch.Size([8]) in the model instantiated\n",
      "You should probably TRAIN this model on a down-stream task to be able to use it for predictions and inference.\n"
     ]
    }
   ]
  },
  {
   "cell_type": "markdown",
   "source": [
    "#### Training"
   ],
   "metadata": {
    "id": "yfj0bf1eJL35"
   }
  },
  {
   "cell_type": "code",
   "source": [
    "def predict(outputs):\n",
    "    probabilities = torch.softmax(outputs[\"logits\"], dim=1)\n",
    "    predictions = torch.argmax(probabilities, dim=1)\n",
    "    return predictions"
   ],
   "metadata": {
    "id": "J3GdTvXhJL35"
   },
   "execution_count": 19,
   "outputs": []
  },
  {
   "cell_type": "code",
   "source": [
    "from torch.utils.data import DataLoader\n",
    "\n",
    "epoch = 5\n",
    "model.train()\n",
    "\n",
    "train_loss = list()\n",
    "train_accuracies = list()\n",
    "for epoch_i in range(epoch):\n",
    "    print('Epoch %s/%s' % (epoch_i + 1, epoch))\n",
    "    time.sleep(0.3)\n",
    "\n",
    "    train_loader = DataLoader(train_dataset, batch_size=2, shuffle=True)\n",
    "\n",
    "    correct = 0\n",
    "    count = 0\n",
    "    epoch_loss = list()\n",
    "\n",
    "    pbar = tqdm(train_loader)\n",
    "    for batch in pbar:\n",
    "        optim.zero_grad()\n",
    "        input_ids = batch['input_values'].to(device)\n",
    "        attention_mask = batch['attention_mask'].to(device)\n",
    "        labels = batch['Emotion_label'].to(device)\n",
    "        outputs = model(input_ids, attention_mask=attention_mask, labels=labels)\n",
    "        loss = outputs['loss']\n",
    "        loss.backward()\n",
    "        optim.step()\n",
    "\n",
    "        predictions = predict(outputs)\n",
    "\n",
    "        correct += predictions.eq(labels).sum().item()\n",
    "        count += len(labels)\n",
    "        accuracy = correct * 1.0 / count\n",
    "\n",
    "        pbar.set_postfix({\n",
    "            'Loss': '{:.3f}'.format(loss.item()),\n",
    "            'Accuracy': '{:.3f}'.format(accuracy)\n",
    "        })\n",
    "\n",
    "        epoch_loss.append(loss.item())\n",
    "    pbar.close()\n",
    "\n",
    "    train_loss += epoch_loss\n",
    "    train_accuracies.append(accuracy)"
   ],
   "metadata": {
    "colab": {
     "base_uri": "https://localhost:8080/"
    },
    "outputId": "79aa8936-a2a3-48f1-e45c-38ef5c59d366",
    "id": "PPkHOK57JL35"
   },
   "execution_count": 20,
   "outputs": [
    {
     "output_type": "stream",
     "name": "stdout",
     "text": [
      "Epoch 1/5\n"
     ]
    },
    {
     "output_type": "stream",
     "name": "stderr",
     "text": [
      "100%|██████████| 660/660 [04:59<00:00,  2.20it/s, Loss=0.903, Accuracy=0.336]\n"
     ]
    },
    {
     "output_type": "stream",
     "name": "stdout",
     "text": [
      "Epoch 2/5\n"
     ]
    },
    {
     "output_type": "stream",
     "name": "stderr",
     "text": [
      "100%|██████████| 660/660 [04:59<00:00,  2.20it/s, Loss=0.413, Accuracy=0.577]\n"
     ]
    },
    {
     "output_type": "stream",
     "name": "stdout",
     "text": [
      "Epoch 3/5\n"
     ]
    },
    {
     "output_type": "stream",
     "name": "stderr",
     "text": [
      "100%|██████████| 660/660 [04:59<00:00,  2.20it/s, Loss=0.382, Accuracy=0.715]\n"
     ]
    },
    {
     "output_type": "stream",
     "name": "stdout",
     "text": [
      "Epoch 4/5\n"
     ]
    },
    {
     "output_type": "stream",
     "name": "stderr",
     "text": [
      "100%|██████████| 660/660 [05:00<00:00,  2.20it/s, Loss=1.497, Accuracy=0.778]\n"
     ]
    },
    {
     "output_type": "stream",
     "name": "stdout",
     "text": [
      "Epoch 5/5\n"
     ]
    },
    {
     "output_type": "stream",
     "name": "stderr",
     "text": [
      "100%|██████████| 660/660 [04:58<00:00,  2.21it/s, Loss=0.774, Accuracy=0.805]\n"
     ]
    }
   ]
  },
  {
   "cell_type": "code",
   "source": [
    "import matplotlib.pyplot as plt\n",
    "import numpy as np\n",
    "\n",
    "# Plot Iteration vs Training Loss\n",
    "plt.plot(train_loss, label=\"Training Loss\")\n",
    "plt.xlabel(\"Iteration\")\n",
    "plt.ylabel(\"Loss\")\n",
    "plt.title(\"Iteration vs Training Loss\")\n",
    "plt.legend()\n",
    "plt.show()\n",
    "\n",
    "# Plot Epoch vs Training Accuracy\n",
    "acc_X_1 = np.arange(len(train_accuracies))+1\n",
    "plt.plot(acc_X_1, train_accuracies,\"-\", label=\"Training Accuracy\")\n",
    "plt.xticks(acc_X_1)\n",
    "plt.xlabel(\"Epoch\")\n",
    "plt.ylabel(\"Accuracy\")\n",
    "plt.title(\"Epoch vs Training Accuracy\")\n",
    "plt.legend()\n",
    "plt.show()\n",
    "\n",
    "print(acc_X_1)\n",
    "train_accuracies1=train_accuracies\n",
    "print(train_accuracies1)"
   ],
   "metadata": {
    "colab": {
     "base_uri": "https://localhost:8080/",
     "height": 962
    },
    "outputId": "163c40d4-d2d2-42c0-8a7d-0704b922c6a2",
    "id": "YyZizrtaJL36"
   },
   "execution_count": 22,
   "outputs": [
    {
     "output_type": "display_data",
     "data": {
      "text/plain": [
       "<Figure size 640x480 with 1 Axes>"
      ],
      "image/png": "[encoded data removed]"
     },
     "metadata": {}
    },
    {
     "output_type": "display_data",
     "data": {
      "text/plain": [
       "<Figure size 640x480 with 1 Axes>"
      ],
      "image/png": "[encoded data removed]"
     },
     "metadata": {}
    },
    {
     "output_type": "stream",
     "name": "stdout",
     "text": [
      "[1 2 3 4 5]\n",
      "[0.33636363636363636, 0.5765151515151515, 0.7151515151515152, 0.7780303030303031, 0.8053030303030303]\n"
     ]
    }
   ]
  },
  {
   "cell_type": "markdown",
   "source": [
    "#### Testing"
   ],
   "metadata": {
    "id": "eMqUQ2IVJL36"
   }
  },
  {
   "cell_type": "code",
   "source": [
    "from torch.utils.data import DataLoader\n",
    "\n",
    "test_loader = DataLoader(test_dataset, batch_size=1, shuffle=False)\n",
    "model.eval()\n",
    "\n",
    "with torch.no_grad():\n",
    "    correct = 0\n",
    "    count = 0\n",
    "    record = {\"Emotion_label\":list(), \"Predictions\":list()}\n",
    "\n",
    "    pbar = tqdm(test_loader)\n",
    "    for batch in pbar:\n",
    "        input_ids = batch['input_values'].to(device)\n",
    "        attention_mask = batch['attention_mask'].to(device)\n",
    "        labels = batch['Emotion_label'].to(device)\n",
    "        outputs = model(input_ids, attention_mask=attention_mask, labels=labels)\n",
    "        loss = outputs['loss']\n",
    "\n",
    "        predictions = predict(outputs)\n",
    "        correct += predictions.eq(labels).sum().item()\n",
    "        count += len(labels)\n",
    "        accuracy = correct * 1.0 / count\n",
    "\n",
    "        pbar.set_postfix({\n",
    "            'loss': '{:.3f}'.format(loss.item()),\n",
    "            'accuracy': '{:.3f}'.format(accuracy)\n",
    "        })\n",
    "\n",
    "        record[\"Emotion_label\"] += labels.cpu().numpy().tolist()\n",
    "        record[\"Predictions\"] += predictions.cpu().numpy().tolist()\n",
    "\n",
    "    pbar.close()\n",
    "\n",
    "time.sleep(0.3)\n",
    "print(\"The accuracy on the test dataset: %s%%\" % round(accuracy*100,4))"
   ],
   "metadata": {
    "colab": {
     "base_uri": "https://localhost:8080/"
    },
    "outputId": "52c44e7e-eb2f-4704-ee34-a2812ae43fff",
    "id": "hgu4VWhnJL36"
   },
   "execution_count": 23,
   "outputs": [
    {
     "output_type": "stream",
     "name": "stderr",
     "text": [
      "100%|██████████| 120/120 [00:08<00:00, 13.61it/s, loss=0.098, accuracy=0.800]\n"
     ]
    },
    {
     "output_type": "stream",
     "name": "stdout",
     "text": [
      "The accuracy on the test dataset: 80.0%\n"
     ]
    }
   ]
  },
  {
   "cell_type": "code",
   "source": [
    "from pandas.core.frame import DataFrame\n",
    "df_record = DataFrame(record)\n",
    "df_record.columns = [\"Real emotion\", \"Predicted emotion\"]\n",
    "\n",
    "def get_emotion(label_id):\n",
    "    return model.config.id2label[label_id]\n",
    "\n",
    "df_record[\"Real emotion\"] = df_record.apply(lambda x: get_emotion(x[\"Real emotion\"]), axis=1)\n",
    "df_record[\"Predicted emotion\"] = df_record.apply(lambda x: get_emotion(x[\"Predicted emotion\"]), axis=1)\n",
    "\n",
    "# df = pd.concat([train_data.reset_index(drop=True), df_record[\"Predicted emotion\"]], axis=1)\n",
    "# df[\"Emotion\"] = df.apply(lambda x: x[\"Emotion\"][:8], axis=1)"
   ],
   "metadata": {
    "collapsed": true,
    "id": "lziEWgVYJL36"
   },
   "execution_count": 101,
   "outputs": []
  },
  {
   "cell_type": "code",
   "source": [
    "import seaborn as sns\n",
    "crosstab = pd.crosstab(df_record[\"Real emotion\"].map(label_convert), df_record[\"Predicted emotion\"].map(label_convert))\n",
    "sns.heatmap(crosstab, cmap='viridis', annot=True, fmt='g', linewidths=5)\n",
    "# sns.heatmap(crosstab, cmap='Oranges', annot=True, fmt='g', linewidths=5)\n",
    "accuracy = df_record[\"Real emotion\"].eq(df_record[\"Predicted emotion\"]).sum() / len(df_record[\"Real emotion\"])\n",
    "plt.title(\"Confusion Matrix (Accuracy: %s%%)\" % round(accuracy*100,2))\n",
    "plt.show()"
   ],
   "metadata": {
    "colab": {
     "base_uri": "https://localhost:8080/",
     "height": 472
    },
    "outputId": "3ef8862a-8bc6-453a-af90-3362053ace00",
    "id": "HP37boBAJL37"
   },
   "execution_count": 32,
   "outputs": [
    {
     "output_type": "display_data",
     "data": {
      "text/plain": [
       "<Figure size 640x480 with 2 Axes>"
      ],
      "image/png": "[encoded data removed]"
     },
     "metadata": {}
    }
   ]
  },
  {
   "cell_type": "markdown",
   "source": [
    "### 75% of data:"
   ],
   "metadata": {
    "id": "bG0yLn94Ep2a"
   }
  },
  {
   "cell_type": "code",
   "source": [
    "# !rm -r ./train_dataset_2\n",
    "# !rm -r ./test_dataset_2"
   ],
   "metadata": {
    "id": "gobmPdXbYBey"
   },
   "execution_count": 53,
   "outputs": []
  },
  {
   "cell_type": "code",
   "source": [
    "data_dir = './ravdess-emotional-speech-audio'\n",
    "train_dir = './train_dataset_2'\n",
    "test_dir = './test_dataset_2'\n",
    "\n",
    "os.makedirs(train_dir, exist_ok=True)\n",
    "os.makedirs(test_dir, exist_ok=True)"
   ],
   "metadata": {
    "id": "iE3LemKSEp2a"
   },
   "execution_count": 54,
   "outputs": []
  },
  {
   "cell_type": "code",
   "source": [
    "content_list = [folder for folder in os.listdir(data_dir) if os.path.isdir(os.path.join(data_dir, folder))]\n",
    "content_list.remove('audio_speech_actors_01-24')\n",
    "# content_list"
   ],
   "metadata": {
    "collapsed": true,
    "id": "YLQkhuwdEp2b"
   },
   "execution_count": 55,
   "outputs": []
  },
  {
   "cell_type": "code",
   "source": [
    "test_samples = 1\n",
    "train_samples = 9\n",
    "\n",
    "train_male, train_female = 0, 0\n",
    "test_male, test_female = 0, 0\n",
    "test_actors, train_actors = [], []\n",
    "random.shuffle(content_list)\n",
    "for item in content_list:\n",
    "  name_items = item.split('_')\n",
    "  actor_id = int(name_items[1])\n",
    "  if actor_id % 2 == 0:\n",
    "    if test_female < test_samples:\n",
    "      test_actors.append(item)\n",
    "      test_female += 1\n",
    "    elif train_female < train_samples:\n",
    "      train_actors.append(item)\n",
    "      train_female += 1\n",
    "  else:\n",
    "    if test_male < test_samples:\n",
    "      test_actors.append(item)\n",
    "      test_male += 1\n",
    "    elif train_male < train_samples:\n",
    "      train_actors.append(item)\n",
    "      train_male += 1\n",
    "print(\"Train_actors:\", train_actors)\n",
    "print(\"Test_actors:\", test_actors)"
   ],
   "metadata": {
    "colab": {
     "base_uri": "https://localhost:8080/"
    },
    "outputId": "083d0b1d-d4bf-4c9f-97c3-8c0a0e2b6020",
    "collapsed": true,
    "id": "P0JRlXh5Ep2c"
   },
   "execution_count": 56,
   "outputs": [
    {
     "output_type": "stream",
     "name": "stdout",
     "text": [
      "Train_actors: ['Actor_19', 'Actor_23', 'Actor_03', 'Actor_13', 'Actor_11', 'Actor_17', 'Actor_16', 'Actor_06', 'Actor_08', 'Actor_12', 'Actor_01', 'Actor_04', 'Actor_14', 'Actor_05', 'Actor_09', 'Actor_02', 'Actor_24', 'Actor_22']\n",
      "Test_actors: ['Actor_21', 'Actor_18']\n"
     ]
    }
   ]
  },
  {
   "cell_type": "code",
   "source": [
    "def copy_directory(src, dst):\n",
    "    if os.path.exists(dst):\n",
    "        shutil.rmtree(dst)\n",
    "    shutil.copytree(src, dst)\n",
    "\n",
    "for actor_folder in content_list:\n",
    "    source_path = os.path.join(data_dir, actor_folder)\n",
    "    if actor_folder in test_actors:\n",
    "        destination_path = os.path.join(test_dir, actor_folder)\n",
    "    elif actor_folder in train_actors:\n",
    "        destination_path = os.path.join(train_dir, actor_folder)\n",
    "    copy_directory(source_path, destination_path)\n",
    "\n",
    "\n",
    "def extract_labels(filename):\n",
    "    filename_without_extension = os.path.splitext(filename)[0]\n",
    "    parts = filename_without_extension.split('-')\n",
    "    int_parts = [int(part) for part in parts]\n",
    "    return {\n",
    "        'Modality': char_to_label['Modality'][parts[0]],\n",
    "        'Vocal_channel': char_to_label['Vocal_channel'][parts[1]],\n",
    "        'Emotion': char_to_label['Emotion'][parts[2]],\n",
    "        'Emotional_intensity': char_to_label['Emotional_intensity'][parts[3]],\n",
    "        'Statement': char_to_label['Statement'][parts[4]],\n",
    "        'Repetition': char_to_label['Repetition'][parts[5]],\n",
    "        'Actor': parts[6],\n",
    "        'Gender': char_to_label['Gender'][2] if int(parts[6]) % 2 == 0 else char_to_label['Gender'][1]\n",
    "    }\n",
    "\n",
    "def extract_chars(filename):\n",
    "    filename_without_extension = os.path.splitext(filename)[0]\n",
    "    parts = filename_without_extension.split('-')\n",
    "    int_parts = [int(part) for part in parts]\n",
    "    return {\n",
    "        'Modality': label_to_char['Modality'][int_parts[0]],\n",
    "        'Vocal_channel': label_to_char['Vocal_channel'][int_parts[1]],\n",
    "        'Emotion': label_to_char['Emotion'][int_parts[2]],\n",
    "        'Emotional_intensity': label_to_char['Emotional_intensity'][int_parts[3]],\n",
    "        'Statement': label_to_char['Statement'][int_parts[4]],\n",
    "        'Repetition': label_to_char['Repetition'][int_parts[5]],\n",
    "        'Actor': int_parts[6],\n",
    "        'Gender': label_to_char['Gender'][2] if int(int_parts[6]) % 2 == 0 else label_to_char['Gender'][1]\n",
    "    }\n",
    "\n",
    "\n",
    "def load_dataset(data_dir):\n",
    "    audio_files = []\n",
    "    chars = []\n",
    "    for root, dirs, files in os.walk(data_dir):\n",
    "        for file in files:\n",
    "            if file.endswith(\".wav\"):\n",
    "                audio_files.append(os.path.join(root, file))\n",
    "                chars.append(extract_chars(file))\n",
    "    chars_df = pd.DataFrame(chars)\n",
    "    for col in ['Modality', 'Vocal_channel', 'Emotion', 'Emotional_intensity', 'Statement', 'Repetition', 'Gender']:\n",
    "        chars_df[col] = chars_df[col].astype(str)\n",
    "    chars_df['Actor'] = chars_df['Actor'].astype(int)\n",
    "    chars_df['Emotion_label'] = chars_df['Emotion'].map(char_to_label['Emotion'])\n",
    "    return pd.DataFrame({'audio_file': audio_files, **chars_df})\n",
    "\n",
    "train_dataset = load_dataset(train_dir)\n",
    "test_dataset = load_dataset(test_dir)"
   ],
   "metadata": {
    "id": "W4-e7BEjEp2c"
   },
   "execution_count": 57,
   "outputs": []
  },
  {
   "cell_type": "code",
   "source": [
    "print(\"Train dataset:\")\n",
    "train_dataset.head()"
   ],
   "metadata": {
    "colab": {
     "base_uri": "https://localhost:8080/",
     "height": 223
    },
    "outputId": "de157a91-e155-4216-f751-c6527a824d36",
    "id": "CZFdRxTBEp2d"
   },
   "execution_count": 58,
   "outputs": [
    {
     "output_type": "stream",
     "name": "stdout",
     "text": [
      "Train dataset:\n"
     ]
    },
    {
     "output_type": "execute_result",
     "data": {
      "text/plain": [
       "                                          audio_file    Modality  \\\n",
       "0  ./train_dataset_2/Actor_09/03-01-06-02-02-01-0...  audio-only   \n",
       "1  ./train_dataset_2/Actor_09/03-01-02-02-01-02-0...  audio-only   \n",
       "2  ./train_dataset_2/Actor_09/03-01-02-01-02-01-0...  audio-only   \n",
       "3  ./train_dataset_2/Actor_09/03-01-05-02-02-01-0...  audio-only   \n",
       "4  ./train_dataset_2/Actor_09/03-01-05-01-02-02-0...  audio-only   \n",
       "\n",
       "  Vocal_channel  Emotion Emotional_intensity                     Statement  \\\n",
       "0        speech  fearful              strong  Dogs are sitting by the door   \n",
       "1        speech     calm              strong  Kids are talking by the door   \n",
       "2        speech     calm              normal  Dogs are sitting by the door   \n",
       "3        speech    angry              strong  Dogs are sitting by the door   \n",
       "4        speech    angry              normal  Dogs are sitting by the door   \n",
       "\n",
       "       Repetition  Actor Gender  Emotion_label  \n",
       "0  1st repetition      9   Male              6  \n",
       "1  2nd repetition      9   Male              2  \n",
       "2  1st repetition      9   Male              2  \n",
       "3  1st repetition      9   Male              5  \n",
       "4  2nd repetition      9   Male              5  "
      ],
      "text/html": [
       "\n",
       "  <div id=\"df-6586945f-1080-4982-b399-1c809874aad3\" class=\"colab-df-container\">\n",
       "    <div>\n",
       "<style scoped>\n",
       "    .dataframe tbody tr th:only-of-type {\n",
       "        vertical-align: middle;\n",
       "    }\n",
       "\n",
       "    .dataframe tbody tr th {\n",
       "        vertical-align: top;\n",
       "    }\n",
       "\n",
       "    .dataframe thead th {\n",
       "        text-align: right;\n",
       "    }\n",
       "</style>\n",
       "<table border=\"1\" class=\"dataframe\">\n",
       "  <thead>\n",
       "    <tr style=\"text-align: right;\">\n",
       "      <th></th>\n",
       "      <th>audio_file</th>\n",
       "      <th>Modality</th>\n",
       "      <th>Vocal_channel</th>\n",
       "      <th>Emotion</th>\n",
       "      <th>Emotional_intensity</th>\n",
       "      <th>Statement</th>\n",
       "      <th>Repetition</th>\n",
       "      <th>Actor</th>\n",
       "      <th>Gender</th>\n",
       "      <th>Emotion_label</th>\n",
       "    </tr>\n",
       "  </thead>\n",
       "  <tbody>\n",
       "    <tr>\n",
       "      <th>0</th>\n",
       "      <td>./train_dataset_2/Actor_09/03-01-06-02-02-01-0...</td>\n",
       "      <td>audio-only</td>\n",
       "      <td>speech</td>\n",
       "      <td>fearful</td>\n",
       "      <td>strong</td>\n",
       "      <td>Dogs are sitting by the door</td>\n",
       "      <td>1st repetition</td>\n",
       "      <td>9</td>\n",
       "      <td>Male</td>\n",
       "      <td>6</td>\n",
       "    </tr>\n",
       "    <tr>\n",
       "      <th>1</th>\n",
       "      <td>./train_dataset_2/Actor_09/03-01-02-02-01-02-0...</td>\n",
       "      <td>audio-only</td>\n",
       "      <td>speech</td>\n",
       "      <td>calm</td>\n",
       "      <td>strong</td>\n",
       "      <td>Kids are talking by the door</td>\n",
       "      <td>2nd repetition</td>\n",
       "      <td>9</td>\n",
       "      <td>Male</td>\n",
       "      <td>2</td>\n",
       "    </tr>\n",
       "    <tr>\n",
       "      <th>2</th>\n",
       "      <td>./train_dataset_2/Actor_09/03-01-02-01-02-01-0...</td>\n",
       "      <td>audio-only</td>\n",
       "      <td>speech</td>\n",
       "      <td>calm</td>\n",
       "      <td>normal</td>\n",
       "      <td>Dogs are sitting by the door</td>\n",
       "      <td>1st repetition</td>\n",
       "      <td>9</td>\n",
       "      <td>Male</td>\n",
       "      <td>2</td>\n",
       "    </tr>\n",
       "    <tr>\n",
       "      <th>3</th>\n",
       "      <td>./train_dataset_2/Actor_09/03-01-05-02-02-01-0...</td>\n",
       "      <td>audio-only</td>\n",
       "      <td>speech</td>\n",
       "      <td>angry</td>\n",
       "      <td>strong</td>\n",
       "      <td>Dogs are sitting by the door</td>\n",
       "      <td>1st repetition</td>\n",
       "      <td>9</td>\n",
       "      <td>Male</td>\n",
       "      <td>5</td>\n",
       "    </tr>\n",
       "    <tr>\n",
       "      <th>4</th>\n",
       "      <td>./train_dataset_2/Actor_09/03-01-05-01-02-02-0...</td>\n",
       "      <td>audio-only</td>\n",
       "      <td>speech</td>\n",
       "      <td>angry</td>\n",
       "      <td>normal</td>\n",
       "      <td>Dogs are sitting by the door</td>\n",
       "      <td>2nd repetition</td>\n",
       "      <td>9</td>\n",
       "      <td>Male</td>\n",
       "      <td>5</td>\n",
       "    </tr>\n",
       "  </tbody>\n",
       "</table>\n",
       "</div>\n",
       "    <div class=\"colab-df-buttons\">\n",
       "\n",
       "  <div class=\"colab-df-container\">\n",
       "    <button class=\"colab-df-convert\" onclick=\"convertToInteractive('df-6586945f-1080-4982-b399-1c809874aad3')\"\n",
       "            title=\"Convert this dataframe to an interactive table.\"\n",
       "            style=\"display:none;\">\n",
       "\n",
       "  <svg xmlns=\"http://www.w3.org/2000/svg\" height=\"24px\" viewBox=\"0 -960 960 960\">\n",
       "    <path d=\"M120-120v-720h720v720H120Zm60-500h600v-160H180v160Zm220 220h160v-160H400v160Zm0 220h160v-160H400v160ZM180-400h160v-160H180v160Zm440 0h160v-160H620v160ZM180-180h160v-160H180v160Zm440 0h160v-160H620v160Z\"/>\n",
       "  </svg>\n",
       "    </button>\n",
       "\n",
       "  <style>\n",
       "    .colab-df-container {\n",
       "      display:flex;\n",
       "      gap: 12px;\n",
       "    }\n",
       "\n",
       "    .colab-df-convert {\n",
       "      background-color: #E8F0FE;\n",
       "      border: none;\n",
       "      border-radius: 50%;\n",
       "      cursor: pointer;\n",
       "      display: none;\n",
       "      fill: #1967D2;\n",
       "      height: 32px;\n",
       "      padding: 0 0 0 0;\n",
       "      width: 32px;\n",
       "    }\n",
       "\n",
       "    .colab-df-convert:hover {\n",
       "      background-color: #E2EBFA;\n",
       "      box-shadow: 0px 1px 2px rgba(60, 64, 67, 0.3), 0px 1px 3px 1px rgba(60, 64, 67, 0.15);\n",
       "      fill: #174EA6;\n",
       "    }\n",
       "\n",
       "    .colab-df-buttons div {\n",
       "      margin-bottom: 4px;\n",
       "    }\n",
       "\n",
       "    [theme=dark] .colab-df-convert {\n",
       "      background-color: #3B4455;\n",
       "      fill: #D2E3FC;\n",
       "    }\n",
       "\n",
       "    [theme=dark] .colab-df-convert:hover {\n",
       "      background-color: #434B5C;\n",
       "      box-shadow: 0px 1px 3px 1px rgba(0, 0, 0, 0.15);\n",
       "      filter: drop-shadow(0px 1px 2px rgba(0, 0, 0, 0.3));\n",
       "      fill: #FFFFFF;\n",
       "    }\n",
       "  </style>\n",
       "\n",
       "    <script>\n",
       "      const buttonEl =\n",
       "        document.querySelector('#df-6586945f-1080-4982-b399-1c809874aad3 button.colab-df-convert');\n",
       "      buttonEl.style.display =\n",
       "        google.colab.kernel.accessAllowed ? 'block' : 'none';\n",
       "\n",
       "      async function convertToInteractive(key) {\n",
       "        const element = document.querySelector('#df-6586945f-1080-4982-b399-1c809874aad3');\n",
       "        const dataTable =\n",
       "          await google.colab.kernel.invokeFunction('convertToInteractive',\n",
       "                                                    [key], {});\n",
       "        if (!dataTable) return;\n",
       "\n",
       "        const docLinkHtml = 'Like what you see? Visit the ' +\n",
       "          '<a target=\"_blank\" href=https://colab.research.google.com/notebooks/data_table.ipynb>data table notebook</a>'\n",
       "          + ' to learn more about interactive tables.';\n",
       "        element.innerHTML = '';\n",
       "        dataTable['output_type'] = 'display_data';\n",
       "        await google.colab.output.renderOutput(dataTable, element);\n",
       "        const docLink = document.createElement('div');\n",
       "        docLink.innerHTML = docLinkHtml;\n",
       "        element.appendChild(docLink);\n",
       "      }\n",
       "    </script>\n",
       "  </div>\n",
       "\n",
       "\n",
       "<div id=\"df-ce3c676c-1e22-4681-8264-059acc30aca2\">\n",
       "  <button class=\"colab-df-quickchart\" onclick=\"quickchart('df-ce3c676c-1e22-4681-8264-059acc30aca2')\"\n",
       "            title=\"Suggest charts\"\n",
       "            style=\"display:none;\">\n",
       "\n",
       "<svg xmlns=\"http://www.w3.org/2000/svg\" height=\"24px\"viewBox=\"0 0 24 24\"\n",
       "     width=\"24px\">\n",
       "    <g>\n",
       "        <path d=\"M19 3H5c-1.1 0-2 .9-2 2v14c0 1.1.9 2 2 2h14c1.1 0 2-.9 2-2V5c0-1.1-.9-2-2-2zM9 17H7v-7h2v7zm4 0h-2V7h2v10zm4 0h-2v-4h2v4z\"/>\n",
       "    </g>\n",
       "</svg>\n",
       "  </button>\n",
       "\n",
       "<style>\n",
       "  .colab-df-quickchart {\n",
       "      --bg-color: #E8F0FE;\n",
       "      --fill-color: #1967D2;\n",
       "      --hover-bg-color: #E2EBFA;\n",
       "      --hover-fill-color: #174EA6;\n",
       "      --disabled-fill-color: #AAA;\n",
       "      --disabled-bg-color: #DDD;\n",
       "  }\n",
       "\n",
       "  [theme=dark] .colab-df-quickchart {\n",
       "      --bg-color: #3B4455;\n",
       "      --fill-color: #D2E3FC;\n",
       "      --hover-bg-color: #434B5C;\n",
       "      --hover-fill-color: #FFFFFF;\n",
       "      --disabled-bg-color: #3B4455;\n",
       "      --disabled-fill-color: #666;\n",
       "  }\n",
       "\n",
       "  .colab-df-quickchart {\n",
       "    background-color: var(--bg-color);\n",
       "    border: none;\n",
       "    border-radius: 50%;\n",
       "    cursor: pointer;\n",
       "    display: none;\n",
       "    fill: var(--fill-color);\n",
       "    height: 32px;\n",
       "    padding: 0;\n",
       "    width: 32px;\n",
       "  }\n",
       "\n",
       "  .colab-df-quickchart:hover {\n",
       "    background-color: var(--hover-bg-color);\n",
       "    box-shadow: 0 1px 2px rgba(60, 64, 67, 0.3), 0 1px 3px 1px rgba(60, 64, 67, 0.15);\n",
       "    fill: var(--button-hover-fill-color);\n",
       "  }\n",
       "\n",
       "  .colab-df-quickchart-complete:disabled,\n",
       "  .colab-df-quickchart-complete:disabled:hover {\n",
       "    background-color: var(--disabled-bg-color);\n",
       "    fill: var(--disabled-fill-color);\n",
       "    box-shadow: none;\n",
       "  }\n",
       "\n",
       "  .colab-df-spinner {\n",
       "    border: 2px solid var(--fill-color);\n",
       "    border-color: transparent;\n",
       "    border-bottom-color: var(--fill-color);\n",
       "    animation:\n",
       "      spin 1s steps(1) infinite;\n",
       "  }\n",
       "\n",
       "  @keyframes spin {\n",
       "    0% {\n",
       "      border-color: transparent;\n",
       "      border-bottom-color: var(--fill-color);\n",
       "      border-left-color: var(--fill-color);\n",
       "    }\n",
       "    20% {\n",
       "      border-color: transparent;\n",
       "      border-left-color: var(--fill-color);\n",
       "      border-top-color: var(--fill-color);\n",
       "    }\n",
       "    30% {\n",
       "      border-color: transparent;\n",
       "      border-left-color: var(--fill-color);\n",
       "      border-top-color: var(--fill-color);\n",
       "      border-right-color: var(--fill-color);\n",
       "    }\n",
       "    40% {\n",
       "      border-color: transparent;\n",
       "      border-right-color: var(--fill-color);\n",
       "      border-top-color: var(--fill-color);\n",
       "    }\n",
       "    60% {\n",
       "      border-color: transparent;\n",
       "      border-right-color: var(--fill-color);\n",
       "    }\n",
       "    80% {\n",
       "      border-color: transparent;\n",
       "      border-right-color: var(--fill-color);\n",
       "      border-bottom-color: var(--fill-color);\n",
       "    }\n",
       "    90% {\n",
       "      border-color: transparent;\n",
       "      border-bottom-color: var(--fill-color);\n",
       "    }\n",
       "  }\n",
       "</style>\n",
       "\n",
       "  <script>\n",
       "    async function quickchart(key) {\n",
       "      const quickchartButtonEl =\n",
       "        document.querySelector('#' + key + ' button');\n",
       "      quickchartButtonEl.disabled = true;  // To prevent multiple clicks.\n",
       "      quickchartButtonEl.classList.add('colab-df-spinner');\n",
       "      try {\n",
       "        const charts = await google.colab.kernel.invokeFunction(\n",
       "            'suggestCharts', [key], {});\n",
       "      } catch (error) {\n",
       "        console.error('Error during call to suggestCharts:', error);\n",
       "      }\n",
       "      quickchartButtonEl.classList.remove('colab-df-spinner');\n",
       "      quickchartButtonEl.classList.add('colab-df-quickchart-complete');\n",
       "    }\n",
       "    (() => {\n",
       "      let quickchartButtonEl =\n",
       "        document.querySelector('#df-ce3c676c-1e22-4681-8264-059acc30aca2 button');\n",
       "      quickchartButtonEl.style.display =\n",
       "        google.colab.kernel.accessAllowed ? 'block' : 'none';\n",
       "    })();\n",
       "  </script>\n",
       "</div>\n",
       "    </div>\n",
       "  </div>\n"
      ],
      "application/vnd.google.colaboratory.intrinsic+json": {
       "type": "dataframe",
       "variable_name": "train_dataset",
       "summary": "{\n  \"name\": \"train_dataset\",\n  \"rows\": 1080,\n  \"fields\": [\n    {\n      \"column\": \"audio_file\",\n      \"properties\": {\n        \"dtype\": \"string\",\n        \"num_unique_values\": 1080,\n        \"samples\": [\n          \"./train_dataset_2/Actor_17/03-01-04-01-02-02-17.wav\",\n          \"./train_dataset_2/Actor_02/03-01-02-01-02-01-02.wav\",\n          \"./train_dataset_2/Actor_12/03-01-01-01-01-02-12.wav\"\n        ],\n        \"semantic_type\": \"\",\n        \"description\": \"\"\n      }\n    },\n    {\n      \"column\": \"Modality\",\n      \"properties\": {\n        \"dtype\": \"category\",\n        \"num_unique_values\": 1,\n        \"samples\": [\n          \"audio-only\"\n        ],\n        \"semantic_type\": \"\",\n        \"description\": \"\"\n      }\n    },\n    {\n      \"column\": \"Vocal_channel\",\n      \"properties\": {\n        \"dtype\": \"category\",\n        \"num_unique_values\": 1,\n        \"samples\": [\n          \"speech\"\n        ],\n        \"semantic_type\": \"\",\n        \"description\": \"\"\n      }\n    },\n    {\n      \"column\": \"Emotion\",\n      \"properties\": {\n        \"dtype\": \"category\",\n        \"num_unique_values\": 8,\n        \"samples\": [\n          \"calm\"\n        ],\n        \"semantic_type\": \"\",\n        \"description\": \"\"\n      }\n    },\n    {\n      \"column\": \"Emotional_intensity\",\n      \"properties\": {\n        \"dtype\": \"category\",\n        \"num_unique_values\": 2,\n        \"samples\": [\n          \"normal\"\n        ],\n        \"semantic_type\": \"\",\n        \"description\": \"\"\n      }\n    },\n    {\n      \"column\": \"Statement\",\n      \"properties\": {\n        \"dtype\": \"category\",\n        \"num_unique_values\": 2,\n        \"samples\": [\n          \"Kids are talking by the door\"\n        ],\n        \"semantic_type\": \"\",\n        \"description\": \"\"\n      }\n    },\n    {\n      \"column\": \"Repetition\",\n      \"properties\": {\n        \"dtype\": \"category\",\n        \"num_unique_values\": 2,\n        \"samples\": [\n          \"2nd repetition\"\n        ],\n        \"semantic_type\": \"\",\n        \"description\": \"\"\n      }\n    },\n    {\n      \"column\": \"Actor\",\n      \"properties\": {\n        \"dtype\": \"number\",\n        \"std\": 6,\n        \"min\": 1,\n        \"max\": 23,\n        \"num_unique_values\": 18,\n        \"samples\": [\n          9\n        ],\n        \"semantic_type\": \"\",\n        \"description\": \"\"\n      }\n    },\n    {\n      \"column\": \"Gender\",\n      \"properties\": {\n        \"dtype\": \"category\",\n        \"num_unique_values\": 2,\n        \"samples\": [\n          \"Female\"\n        ],\n        \"semantic_type\": \"\",\n        \"description\": \"\"\n      }\n    },\n    {\n      \"column\": \"Emotion_label\",\n      \"properties\": {\n        \"dtype\": \"number\",\n        \"std\": 2,\n        \"min\": 1,\n        \"max\": 8,\n        \"num_unique_values\": 8,\n        \"samples\": [\n          2\n        ],\n        \"semantic_type\": \"\",\n        \"description\": \"\"\n      }\n    }\n  ]\n}"
      }
     },
     "metadata": {},
     "execution_count": 58
    }
   ]
  },
  {
   "cell_type": "code",
   "source": [
    "train_dataset[\"Emotion\"].value_counts()"
   ],
   "metadata": {
    "colab": {
     "base_uri": "https://localhost:8080/",
     "height": 366
    },
    "collapsed": true,
    "outputId": "265b3f91-d730-4d54-82c7-a2842e93c66d",
    "id": "JXDBbB_0Ep2d"
   },
   "execution_count": 59,
   "outputs": [
    {
     "output_type": "execute_result",
     "data": {
      "text/plain": [
       "Emotion\n",
       "fearful      144\n",
       "calm         144\n",
       "angry        144\n",
       "sad          144\n",
       "disgust      144\n",
       "happy        144\n",
       "surprised    144\n",
       "neutral       72\n",
       "Name: count, dtype: int64"
      ],
      "text/html": [
       "<div>\n",
       "<style scoped>\n",
       "    .dataframe tbody tr th:only-of-type {\n",
       "        vertical-align: middle;\n",
       "    }\n",
       "\n",
       "    .dataframe tbody tr th {\n",
       "        vertical-align: top;\n",
       "    }\n",
       "\n",
       "    .dataframe thead th {\n",
       "        text-align: right;\n",
       "    }\n",
       "</style>\n",
       "<table border=\"1\" class=\"dataframe\">\n",
       "  <thead>\n",
       "    <tr style=\"text-align: right;\">\n",
       "      <th></th>\n",
       "      <th>count</th>\n",
       "    </tr>\n",
       "    <tr>\n",
       "      <th>Emotion</th>\n",
       "      <th></th>\n",
       "    </tr>\n",
       "  </thead>\n",
       "  <tbody>\n",
       "    <tr>\n",
       "      <th>fearful</th>\n",
       "      <td>144</td>\n",
       "    </tr>\n",
       "    <tr>\n",
       "      <th>calm</th>\n",
       "      <td>144</td>\n",
       "    </tr>\n",
       "    <tr>\n",
       "      <th>angry</th>\n",
       "      <td>144</td>\n",
       "    </tr>\n",
       "    <tr>\n",
       "      <th>sad</th>\n",
       "      <td>144</td>\n",
       "    </tr>\n",
       "    <tr>\n",
       "      <th>disgust</th>\n",
       "      <td>144</td>\n",
       "    </tr>\n",
       "    <tr>\n",
       "      <th>happy</th>\n",
       "      <td>144</td>\n",
       "    </tr>\n",
       "    <tr>\n",
       "      <th>surprised</th>\n",
       "      <td>144</td>\n",
       "    </tr>\n",
       "    <tr>\n",
       "      <th>neutral</th>\n",
       "      <td>72</td>\n",
       "    </tr>\n",
       "  </tbody>\n",
       "</table>\n",
       "</div><br><label><b>dtype:</b> int64</label>"
      ]
     },
     "metadata": {},
     "execution_count": 59
    }
   ]
  },
  {
   "cell_type": "markdown",
   "source": [
    "#### Tokenization:"
   ],
   "metadata": {
    "id": "0kHt0tVXEp2d"
   }
  },
  {
   "cell_type": "code",
   "source": [
    "from transformers import Wav2Vec2FeatureExtractor\n",
    "from datasets import Dataset\n",
    "import librosa\n",
    "\n",
    "def map_to_array(example):\n",
    "    speech, _ = librosa.load(example[\"audio_file\"], sr=16000, mono=True)\n",
    "    example[\"speech\"] = speech\n",
    "    return example\n",
    "\n",
    "train_data = Dataset.from_pandas(train_dataset).map(map_to_array)\n",
    "test_data = Dataset.from_pandas(test_dataset).map(map_to_array)\n",
    "\n",
    "num_labels=8\n",
    "feature_extractor = Wav2Vec2FeatureExtractor.from_pretrained(\"superb/hubert-large-superb-er\")  # , num_labels=num_labels)\n",
    "\n",
    "train_encodings = feature_extractor(list(train_data[\"speech\"]), sampling_rate=16000, padding=True, return_tensors=\"pt\")\n",
    "test_encodings = feature_extractor(list(test_data[\"speech\"]), sampling_rate=16000, padding=True, return_tensors=\"pt\")"
   ],
   "metadata": {
    "colab": {
     "base_uri": "https://localhost:8080/",
     "height": 81,
     "referenced_widgets": [
      "8ffcaa4dbe2a4570bb666b12e8a0cd26",
      "a77b064a644d4cf981f789863ea4a0be",
      "88a6db5397264740ad6bdbc6d8298196",
      "573f043165ac44e8bfd8a56deede40f7",
      "e1d99df6237042caa06f0ebc6ae7fb84",
      "2efc8970b9e54cf8b1fa8c4af861ac41",
      "a695b87ee21c4c8bb1c57ad1403e1301",
      "7aab084d1f794705a6efd38f855d60db",
      "e90fbd3d434a40889f1d400b37931f99",
      "268c5609e8d84099afc7a66996c29f3a",
      "417266aaa8e1441ba73c3634d3286118",
      "9d7f22c615974a019d62ebef667d9856",
      "07690d89bd7e446c86f18607f809c053",
      "f42d9d65f37642a9a438659d8db71683",
      "f5dc729b37af45e193b8dcd345054381",
      "e18c5f975bca4e2f851d069c265e9984",
      "86ce0258f07c4dd58ff0d01aac011d5e",
      "3eb30442d0a14318b28d979f987976ba",
      "24443bd6997a4af390aa881e3f864feb",
      "3ea25ac1c40841c89f4fcb1a1db21446",
      "d5bd657604934c139d5d0f0eb98c062b",
      "82ffbd03b1274729b4c583a73a09f380"
     ]
    },
    "outputId": "ab694d37-0d28-4a5e-eed3-59d090055e33",
    "id": "266CIRu5Ep2d"
   },
   "execution_count": 60,
   "outputs": [
    {
     "output_type": "display_data",
     "data": {
      "text/plain": [
       "Map:   0%|          | 0/1080 [00:00<?, ? examples/s]"
      ],
      "application/vnd.jupyter.widget-view+json": {
       "version_major": 2,
       "version_minor": 0,
       "model_id": "8ffcaa4dbe2a4570bb666b12e8a0cd26"
      }
     },
     "metadata": {}
    },
    {
     "output_type": "display_data",
     "data": {
      "text/plain": [
       "Map:   0%|          | 0/120 [00:00<?, ? examples/s]"
      ],
      "application/vnd.jupyter.widget-view+json": {
       "version_major": 2,
       "version_minor": 0,
       "model_id": "9d7f22c615974a019d62ebef667d9856"
      }
     },
     "metadata": {}
    }
   ]
  },
  {
   "cell_type": "markdown",
   "source": [
    "#### Dataset as object"
   ],
   "metadata": {
    "id": "W4C4HDP-Ep2d"
   }
  },
  {
   "cell_type": "code",
   "source": [
    "import torch\n",
    "\n",
    "class CustomDataset(torch.utils.data.Dataset):\n",
    "    def __init__(self, encodings, labels):\n",
    "        self.encodings = encodings\n",
    "        self.pattern = {1: 0, 2: 1, 3: 2, 4: 3, 5: 4, 6: 5, 7: 6, 8: 7}\n",
    "        # pattern = {1: 1, 2: 2, 3: 3, 4: 4, 5: 5, 6: 6, 7: 7, 8: 8}\n",
    "        # self.labels = [pattern[x] for x in labels]\n",
    "        self.labels = [self.pattern.get(x) for x in labels]\n",
    "\n",
    "    def __getitem__(self, idx):\n",
    "        item = {key: val[idx] for key, val in self.encodings.items()}\n",
    "        item['Emotion_label'] = torch.tensor(self.labels[idx])\n",
    "        return item\n",
    "\n",
    "    def __len__(self):\n",
    "        return len(self.labels)\n",
    "\n",
    "\n",
    "train_dataset = CustomDataset(train_encodings, list(train_data[\"Emotion_label\"]))\n",
    "test_dataset = CustomDataset(test_encodings, list(test_data[\"Emotion_label\"]))"
   ],
   "metadata": {
    "id": "-XKMXY03Ep2e"
   },
   "execution_count": 61,
   "outputs": []
  },
  {
   "cell_type": "markdown",
   "source": [
    "#### Model"
   ],
   "metadata": {
    "id": "6557PW2kEp2e"
   }
  },
  {
   "cell_type": "code",
   "source": [
    "from transformers import HubertForSequenceClassification\n",
    "from torch.optim import AdamW\n",
    "\n",
    "num_labels=8\n",
    "model = HubertForSequenceClassification.from_pretrained(\"superb/hubert-large-superb-er\", num_labels=num_labels, ignore_mismatched_sizes=True)\n",
    "# model = HubertForSequenceClassification.from_pretrained(\"facebook/hubert-large-ls960-ft\", num_labels=8)\n",
    "device = torch.device(\"cuda:0\" if torch.cuda.is_available() else \"cpu\")\n",
    "model.to(device)\n",
    "\n",
    "optim = AdamW(model.parameters(), lr=1e-5)"
   ],
   "metadata": {
    "colab": {
     "base_uri": "https://localhost:8080/"
    },
    "outputId": "30ea8977-1336-41b9-aca6-2def54382795",
    "id": "TdyRPqUyEp2e"
   },
   "execution_count": 62,
   "outputs": [
    {
     "output_type": "stream",
     "name": "stderr",
     "text": [
      "Some weights of the model checkpoint at superb/hubert-large-superb-er were not used when initializing HubertForSequenceClassification: ['hubert.encoder.pos_conv_embed.conv.weight_g', 'hubert.encoder.pos_conv_embed.conv.weight_v']\n",
      "- This IS expected if you are initializing HubertForSequenceClassification from the checkpoint of a model trained on another task or with another architecture (e.g. initializing a BertForSequenceClassification model from a BertForPreTraining model).\n",
      "- This IS NOT expected if you are initializing HubertForSequenceClassification from the checkpoint of a model that you expect to be exactly identical (initializing a BertForSequenceClassification model from a BertForSequenceClassification model).\n",
      "Some weights of HubertForSequenceClassification were not initialized from the model checkpoint at superb/hubert-large-superb-er and are newly initialized: ['hubert.encoder.pos_conv_embed.conv.parametrizations.weight.original0', 'hubert.encoder.pos_conv_embed.conv.parametrizations.weight.original1']\n",
      "You should probably TRAIN this model on a down-stream task to be able to use it for predictions and inference.\n",
      "Some weights of HubertForSequenceClassification were not initialized from the model checkpoint at superb/hubert-large-superb-er and are newly initialized because the shapes did not match:\n",
      "- classifier.weight: found shape torch.Size([4, 256]) in the checkpoint and torch.Size([8, 256]) in the model instantiated\n",
      "- classifier.bias: found shape torch.Size([4]) in the checkpoint and torch.Size([8]) in the model instantiated\n",
      "You should probably TRAIN this model on a down-stream task to be able to use it for predictions and inference.\n"
     ]
    }
   ]
  },
  {
   "cell_type": "markdown",
   "source": [
    "#### Training"
   ],
   "metadata": {
    "id": "wkcU3zGOEp2e"
   }
  },
  {
   "cell_type": "code",
   "source": [
    "def predict(outputs):\n",
    "    probabilities = torch.softmax(outputs[\"logits\"], dim=1)\n",
    "    predictions = torch.argmax(probabilities, dim=1)\n",
    "    return predictions"
   ],
   "metadata": {
    "id": "8OMjLSQ3Ep2e"
   },
   "execution_count": 63,
   "outputs": []
  },
  {
   "cell_type": "code",
   "source": [
    "from torch.utils.data import DataLoader\n",
    "\n",
    "epoch = 5\n",
    "model.train()\n",
    "\n",
    "train_loss = list()\n",
    "train_accuracies = list()\n",
    "for epoch_i in range(epoch):\n",
    "    print('Epoch %s/%s' % (epoch_i + 1, epoch))\n",
    "    time.sleep(0.3)\n",
    "\n",
    "    train_loader = DataLoader(train_dataset, batch_size=2, shuffle=True)\n",
    "\n",
    "    correct = 0\n",
    "    count = 0\n",
    "    epoch_loss = list()\n",
    "\n",
    "    pbar = tqdm(train_loader)\n",
    "    for batch in pbar:\n",
    "        optim.zero_grad()\n",
    "        input_ids = batch['input_values'].to(device)\n",
    "        attention_mask = batch['attention_mask'].to(device)\n",
    "        labels = batch['Emotion_label'].to(device)\n",
    "        outputs = model(input_ids, attention_mask=attention_mask, labels=labels)\n",
    "        loss = outputs['loss']\n",
    "        loss.backward()\n",
    "        optim.step()\n",
    "\n",
    "        predictions = predict(outputs)\n",
    "\n",
    "        correct += predictions.eq(labels).sum().item()\n",
    "        count += len(labels)\n",
    "        accuracy = correct * 1.0 / count\n",
    "\n",
    "        pbar.set_postfix({\n",
    "            'Loss': '{:.3f}'.format(loss.item()),\n",
    "            'Accuracy': '{:.3f}'.format(accuracy)\n",
    "        })\n",
    "        epoch_loss.append(loss.item())\n",
    "    pbar.close()\n",
    "\n",
    "    train_loss += epoch_loss\n",
    "    train_accuracies.append(accuracy)"
   ],
   "metadata": {
    "colab": {
     "base_uri": "https://localhost:8080/"
    },
    "outputId": "9a4d08e5-f2b4-459b-97a1-f6df13570c98",
    "id": "-Airfts0Ep2f"
   },
   "execution_count": 64,
   "outputs": [
    {
     "output_type": "stream",
     "name": "stdout",
     "text": [
      "Epoch 1/5\n"
     ]
    },
    {
     "output_type": "stream",
     "name": "stderr",
     "text": [
      "100%|██████████| 540/540 [04:05<00:00,  2.20it/s, Loss=1.726, Accuracy=0.281]\n"
     ]
    },
    {
     "output_type": "stream",
     "name": "stdout",
     "text": [
      "Epoch 2/5\n"
     ]
    },
    {
     "output_type": "stream",
     "name": "stderr",
     "text": [
      "100%|██████████| 540/540 [04:05<00:00,  2.20it/s, Loss=0.767, Accuracy=0.543]\n"
     ]
    },
    {
     "output_type": "stream",
     "name": "stdout",
     "text": [
      "Epoch 3/5\n"
     ]
    },
    {
     "output_type": "stream",
     "name": "stderr",
     "text": [
      "100%|██████████| 540/540 [04:05<00:00,  2.20it/s, Loss=0.382, Accuracy=0.691]\n"
     ]
    },
    {
     "output_type": "stream",
     "name": "stdout",
     "text": [
      "Epoch 4/5\n"
     ]
    },
    {
     "output_type": "stream",
     "name": "stderr",
     "text": [
      "100%|██████████| 540/540 [04:04<00:00,  2.21it/s, Loss=1.235, Accuracy=0.774]\n"
     ]
    },
    {
     "output_type": "stream",
     "name": "stdout",
     "text": [
      "Epoch 5/5\n"
     ]
    },
    {
     "output_type": "stream",
     "name": "stderr",
     "text": [
      "100%|██████████| 540/540 [04:04<00:00,  2.21it/s, Loss=0.124, Accuracy=0.803]\n"
     ]
    }
   ]
  },
  {
   "cell_type": "code",
   "source": [
    "import matplotlib.pyplot as plt\n",
    "import numpy as np\n",
    "\n",
    "# Plot Iteration vs Training Loss\n",
    "plt.plot(train_loss, label=\"Training Loss\")\n",
    "plt.xlabel(\"Iteration\")\n",
    "plt.ylabel(\"Loss\")\n",
    "plt.title(\"Iteration vs Training Loss\")\n",
    "plt.legend()\n",
    "plt.show()\n",
    "\n",
    "# Plot Epoch vs Training Accuracy\n",
    "acc_X_2 = np.arange(len(train_accuracies))+1\n",
    "plt.plot(acc_X_2, train_accuracies,\"-\", label=\"Training Accuracy\")\n",
    "plt.xticks(acc_X_2)\n",
    "plt.xlabel(\"Epoch\")\n",
    "plt.ylabel(\"Accuracy\")\n",
    "plt.title(\"Epoch vs Training Accuracy\")\n",
    "plt.legend()\n",
    "plt.show()\n",
    "\n",
    "print(acc_X_2)\n",
    "train_accuracies_2 = train_accuracies\n",
    "print(train_accuracies_2)"
   ],
   "metadata": {
    "colab": {
     "base_uri": "https://localhost:8080/",
     "height": 962
    },
    "outputId": "c0665a3b-0173-4c01-9472-3bcc3f7cc4d1",
    "id": "8l5Dm-FsEp2f"
   },
   "execution_count": 65,
   "outputs": [
    {
     "output_type": "display_data",
     "data": {
      "text/plain": [
       "<Figure size 640x480 with 1 Axes>"
      ],
      "image/png": "[encoded data removed]"
     },
     "metadata": {}
    },
    {
     "output_type": "display_data",
     "data": {
      "text/plain": [
       "<Figure size 640x480 with 1 Axes>"
      ],
      "image/png": "[encoded data removed]"
     },
     "metadata": {}
    },
    {
     "output_type": "stream",
     "name": "stdout",
     "text": [
      "[1 2 3 4 5]\n",
      "[0.28055555555555556, 0.5425925925925926, 0.6907407407407408, 0.774074074074074, 0.8027777777777778]\n"
     ]
    }
   ]
  },
  {
   "cell_type": "markdown",
   "source": [
    "#### Testing"
   ],
   "metadata": {
    "id": "jNCHyhdDEp2f"
   }
  },
  {
   "cell_type": "code",
   "source": [
    "from torch.utils.data import DataLoader\n",
    "\n",
    "test_loader = DataLoader(test_dataset, batch_size=1, shuffle=False)\n",
    "model.eval()\n",
    "\n",
    "with torch.no_grad():\n",
    "    correct = 0\n",
    "    count = 0\n",
    "    record = {\"Emotion_label\":list(), \"Predictions\":list()}\n",
    "\n",
    "    pbar = tqdm(test_loader)\n",
    "    for batch in pbar:\n",
    "        input_ids = batch['input_values'].to(device)\n",
    "        attention_mask = batch['attention_mask'].to(device)\n",
    "        labels = batch['Emotion_label'].to(device)\n",
    "        outputs = model(input_ids, attention_mask=attention_mask, labels=labels)\n",
    "        loss = outputs['loss']\n",
    "\n",
    "        predictions = predict(outputs)\n",
    "        correct += predictions.eq(labels).sum().item()\n",
    "        count += len(labels)\n",
    "        accuracy = correct * 1.0 / count\n",
    "\n",
    "        pbar.set_postfix({\n",
    "            'loss': '{:.3f}'.format(loss.item()),\n",
    "            'accuracy': '{:.3f}'.format(accuracy)\n",
    "        })\n",
    "\n",
    "        record[\"Emotion_label\"] += labels.cpu().numpy().tolist()\n",
    "        record[\"Predictions\"] += predictions.cpu().numpy().tolist()\n",
    "\n",
    "    pbar.close()\n",
    "\n",
    "time.sleep(0.3)\n",
    "print(\"The accuracy on the test dataset: %s%%\" % round(accuracy*100,4))"
   ],
   "metadata": {
    "colab": {
     "base_uri": "https://localhost:8080/"
    },
    "outputId": "ef41acf4-8948-435a-b862-ac7dc544ad5f",
    "id": "3lU1njUtEp2g"
   },
   "execution_count": 66,
   "outputs": [
    {
     "output_type": "stream",
     "name": "stderr",
     "text": [
      "100%|██████████| 120/120 [00:09<00:00, 13.25it/s, loss=0.459, accuracy=0.792]\n"
     ]
    },
    {
     "output_type": "stream",
     "name": "stdout",
     "text": [
      "The accuracy on the test dataset: 79.1667%\n"
     ]
    }
   ]
  },
  {
   "cell_type": "code",
   "source": [
    "from pandas.core.frame import DataFrame\n",
    "df_record = DataFrame(record)\n",
    "df_record.columns = [\"Real emotion\", \"Predicted emotion\"]\n",
    "\n",
    "def get_emotion(label_id):\n",
    "    return model.config.id2label[label_id]\n",
    "\n",
    "df_record[\"Real emotion\"] = df_record.apply(lambda x: get_emotion(x[\"Real emotion\"]), axis=1)\n",
    "df_record[\"Predicted emotion\"] = df_record.apply(lambda x: get_emotion(x[\"Predicted emotion\"]), axis=1)\n",
    "\n",
    "# df = pd.concat([train_data.reset_index(drop=True), df_record[\"Predicted emotion\"]], axis=1)\n",
    "# df[\"Emotion\"] = df.apply(lambda x: x[\"Emotion\"][:8], axis=1)"
   ],
   "metadata": {
    "id": "4Gt3_Nb5Ep2g"
   },
   "execution_count": 67,
   "outputs": []
  },
  {
   "cell_type": "code",
   "source": [
    "import seaborn as sns\n",
    "crosstab = pd.crosstab(df_record[\"Real emotion\"].map(label_convert), df_record[\"Predicted emotion\"].map(label_convert))\n",
    "sns.heatmap(crosstab, cmap='viridis', annot=True, fmt='g', linewidths=5)\n",
    "# sns.heatmap(crosstab, cmap='Oranges', annot=True, fmt='g', linewidths=5)\n",
    "accuracy = df_record[\"Real emotion\"].eq(df_record[\"Predicted emotion\"]).sum() / len(df_record[\"Real emotion\"])\n",
    "plt.title(\"Confusion Matrix (Accuracy: %s%%)\" % round(accuracy*100,2))\n",
    "plt.show()"
   ],
   "metadata": {
    "colab": {
     "base_uri": "https://localhost:8080/",
     "height": 472
    },
    "outputId": "a8b06d06-10ac-4111-f3d6-b889e8df65cb",
    "id": "oUQJCNzgEp2g"
   },
   "execution_count": 68,
   "outputs": [
    {
     "output_type": "display_data",
     "data": {
      "text/plain": [
       "<Figure size 640x480 with 2 Axes>"
      ],
      "image/png": "[encoded data removed]"
     },
     "metadata": {}
    }
   ]
  },
  {
   "cell_type": "markdown",
   "source": [
    "### 50% of data:"
   ],
   "metadata": {
    "id": "YFHXxKfefEqp"
   }
  },
  {
   "cell_type": "code",
   "source": [
    "# !rm -r ./train_dataset_3\n",
    "# !rm -r ./test_dataset_3"
   ],
   "metadata": {
    "id": "Zwp6AcvKfEqq"
   },
   "execution_count": 69,
   "outputs": []
  },
  {
   "cell_type": "code",
   "source": [
    "data_dir = './ravdess-emotional-speech-audio'\n",
    "train_dir = './train_dataset_3'\n",
    "test_dir = './test_dataset_3'\n",
    "\n",
    "os.makedirs(train_dir, exist_ok=True)\n",
    "os.makedirs(test_dir, exist_ok=True)"
   ],
   "metadata": {
    "id": "Pif3GlGjfEqq"
   },
   "execution_count": 70,
   "outputs": []
  },
  {
   "cell_type": "code",
   "source": [
    "content_list = [folder for folder in os.listdir(data_dir) if os.path.isdir(os.path.join(data_dir, folder))]\n",
    "content_list.remove('audio_speech_actors_01-24')\n",
    "# content_list"
   ],
   "metadata": {
    "collapsed": true,
    "id": "Tm0WTTQrfEqq"
   },
   "execution_count": 71,
   "outputs": []
  },
  {
   "cell_type": "code",
   "source": [
    "test_samples = 1\n",
    "train_samples = 6\n",
    "\n",
    "train_male, train_female = 0, 0\n",
    "test_male, test_female = 0, 0\n",
    "test_actors, train_actors = [], []\n",
    "random.shuffle(content_list)\n",
    "for item in content_list:\n",
    "  name_items = item.split('_')\n",
    "  actor_id = int(name_items[1])\n",
    "  if actor_id % 2 == 0:\n",
    "    if test_female < test_samples:\n",
    "      test_actors.append(item)\n",
    "      test_female += 1\n",
    "    elif train_female < train_samples:\n",
    "      train_actors.append(item)\n",
    "      train_female += 1\n",
    "  else:\n",
    "    if test_male < test_samples:\n",
    "      test_actors.append(item)\n",
    "      test_male += 1\n",
    "    elif train_male < train_samples:\n",
    "      train_actors.append(item)\n",
    "      train_male += 1\n",
    "print(\"Train_actors:\", train_actors)\n",
    "print(\"Test_actors:\", test_actors)"
   ],
   "metadata": {
    "colab": {
     "base_uri": "https://localhost:8080/"
    },
    "outputId": "934db54c-931c-4b9b-8b0a-87de009a9d64",
    "collapsed": true,
    "id": "Az6Gr2ICfEqq"
   },
   "execution_count": 72,
   "outputs": [
    {
     "output_type": "stream",
     "name": "stdout",
     "text": [
      "Train_actors: ['Actor_03', 'Actor_05', 'Actor_13', 'Actor_11', 'Actor_09', 'Actor_19', 'Actor_02', 'Actor_14', 'Actor_18', 'Actor_10', 'Actor_24', 'Actor_16']\n",
      "Test_actors: ['Actor_01', 'Actor_06']\n"
     ]
    }
   ]
  },
  {
   "cell_type": "code",
   "source": [
    "def copy_directory(src, dst):\n",
    "    if os.path.exists(dst):\n",
    "        shutil.rmtree(dst)\n",
    "    shutil.copytree(src, dst)\n",
    "\n",
    "for actor_folder in content_list:\n",
    "    source_path = os.path.join(data_dir, actor_folder)\n",
    "    if actor_folder in test_actors:\n",
    "        destination_path = os.path.join(test_dir, actor_folder)\n",
    "    elif actor_folder in train_actors:\n",
    "        destination_path = os.path.join(train_dir, actor_folder)\n",
    "    copy_directory(source_path, destination_path)\n",
    "\n",
    "\n",
    "def extract_labels(filename):\n",
    "    filename_without_extension = os.path.splitext(filename)[0]\n",
    "    parts = filename_without_extension.split('-')\n",
    "    int_parts = [int(part) for part in parts]\n",
    "    return {\n",
    "        'Modality': char_to_label['Modality'][parts[0]],\n",
    "        'Vocal_channel': char_to_label['Vocal_channel'][parts[1]],\n",
    "        'Emotion': char_to_label['Emotion'][parts[2]],\n",
    "        'Emotional_intensity': char_to_label['Emotional_intensity'][parts[3]],\n",
    "        'Statement': char_to_label['Statement'][parts[4]],\n",
    "        'Repetition': char_to_label['Repetition'][parts[5]],\n",
    "        'Actor': parts[6],\n",
    "        'Gender': char_to_label['Gender'][2] if int(parts[6]) % 2 == 0 else char_to_label['Gender'][1]\n",
    "    }\n",
    "\n",
    "def extract_chars(filename):\n",
    "    filename_without_extension = os.path.splitext(filename)[0]\n",
    "    parts = filename_without_extension.split('-')\n",
    "    int_parts = [int(part) for part in parts]\n",
    "    return {\n",
    "        'Modality': label_to_char['Modality'][int_parts[0]],\n",
    "        'Vocal_channel': label_to_char['Vocal_channel'][int_parts[1]],\n",
    "        'Emotion': label_to_char['Emotion'][int_parts[2]],\n",
    "        'Emotional_intensity': label_to_char['Emotional_intensity'][int_parts[3]],\n",
    "        'Statement': label_to_char['Statement'][int_parts[4]],\n",
    "        'Repetition': label_to_char['Repetition'][int_parts[5]],\n",
    "        'Actor': int_parts[6],\n",
    "        'Gender': label_to_char['Gender'][2] if int(int_parts[6]) % 2 == 0 else label_to_char['Gender'][1]\n",
    "    }\n",
    "\n",
    "\n",
    "def load_dataset(data_dir):\n",
    "    audio_files = []\n",
    "    chars = []\n",
    "    for root, dirs, files in os.walk(data_dir):\n",
    "        for file in files:\n",
    "            if file.endswith(\".wav\"):\n",
    "                audio_files.append(os.path.join(root, file))\n",
    "                chars.append(extract_chars(file))\n",
    "    chars_df = pd.DataFrame(chars)\n",
    "    for col in ['Modality', 'Vocal_channel', 'Emotion', 'Emotional_intensity', 'Statement', 'Repetition', 'Gender']:\n",
    "        chars_df[col] = chars_df[col].astype(str)\n",
    "    chars_df['Actor'] = chars_df['Actor'].astype(int)\n",
    "    chars_df['Emotion_label'] = chars_df['Emotion'].map(char_to_label['Emotion'])\n",
    "    return pd.DataFrame({'audio_file': audio_files, **chars_df})\n",
    "\n",
    "train_dataset = load_dataset(train_dir)\n",
    "test_dataset = load_dataset(test_dir)"
   ],
   "metadata": {
    "id": "Fnom6wnDfEqr"
   },
   "execution_count": 73,
   "outputs": []
  },
  {
   "cell_type": "code",
   "source": [
    "print(\"Train dataset:\")\n",
    "train_dataset.head()"
   ],
   "metadata": {
    "colab": {
     "base_uri": "https://localhost:8080/",
     "height": 223
    },
    "outputId": "ed384bea-5dea-4c49-dac9-a5d3c15b14b7",
    "id": "t5X02fJIfEqr"
   },
   "execution_count": 74,
   "outputs": [
    {
     "output_type": "stream",
     "name": "stdout",
     "text": [
      "Train dataset:\n"
     ]
    },
    {
     "output_type": "execute_result",
     "data": {
      "text/plain": [
       "                                          audio_file    Modality  \\\n",
       "0  ./train_dataset_3/Actor_09/03-01-06-02-02-01-0...  audio-only   \n",
       "1  ./train_dataset_3/Actor_09/03-01-02-02-01-02-0...  audio-only   \n",
       "2  ./train_dataset_3/Actor_09/03-01-02-01-02-01-0...  audio-only   \n",
       "3  ./train_dataset_3/Actor_09/03-01-05-02-02-01-0...  audio-only   \n",
       "4  ./train_dataset_3/Actor_09/03-01-05-01-02-02-0...  audio-only   \n",
       "\n",
       "  Vocal_channel  Emotion Emotional_intensity                     Statement  \\\n",
       "0        speech  fearful              strong  Dogs are sitting by the door   \n",
       "1        speech     calm              strong  Kids are talking by the door   \n",
       "2        speech     calm              normal  Dogs are sitting by the door   \n",
       "3        speech    angry              strong  Dogs are sitting by the door   \n",
       "4        speech    angry              normal  Dogs are sitting by the door   \n",
       "\n",
       "       Repetition  Actor Gender  Emotion_label  \n",
       "0  1st repetition      9   Male              6  \n",
       "1  2nd repetition      9   Male              2  \n",
       "2  1st repetition      9   Male              2  \n",
       "3  1st repetition      9   Male              5  \n",
       "4  2nd repetition      9   Male              5  "
      ],
      "text/html": [
       "\n",
       "  <div id=\"df-bff3480e-3176-49dc-9a25-ac805a7da4d4\" class=\"colab-df-container\">\n",
       "    <div>\n",
       "<style scoped>\n",
       "    .dataframe tbody tr th:only-of-type {\n",
       "        vertical-align: middle;\n",
       "    }\n",
       "\n",
       "    .dataframe tbody tr th {\n",
       "        vertical-align: top;\n",
       "    }\n",
       "\n",
       "    .dataframe thead th {\n",
       "        text-align: right;\n",
       "    }\n",
       "</style>\n",
       "<table border=\"1\" class=\"dataframe\">\n",
       "  <thead>\n",
       "    <tr style=\"text-align: right;\">\n",
       "      <th></th>\n",
       "      <th>audio_file</th>\n",
       "      <th>Modality</th>\n",
       "      <th>Vocal_channel</th>\n",
       "      <th>Emotion</th>\n",
       "      <th>Emotional_intensity</th>\n",
       "      <th>Statement</th>\n",
       "      <th>Repetition</th>\n",
       "      <th>Actor</th>\n",
       "      <th>Gender</th>\n",
       "      <th>Emotion_label</th>\n",
       "    </tr>\n",
       "  </thead>\n",
       "  <tbody>\n",
       "    <tr>\n",
       "      <th>0</th>\n",
       "      <td>./train_dataset_3/Actor_09/03-01-06-02-02-01-0...</td>\n",
       "      <td>audio-only</td>\n",
       "      <td>speech</td>\n",
       "      <td>fearful</td>\n",
       "      <td>strong</td>\n",
       "      <td>Dogs are sitting by the door</td>\n",
       "      <td>1st repetition</td>\n",
       "      <td>9</td>\n",
       "      <td>Male</td>\n",
       "      <td>6</td>\n",
       "    </tr>\n",
       "    <tr>\n",
       "      <th>1</th>\n",
       "      <td>./train_dataset_3/Actor_09/03-01-02-02-01-02-0...</td>\n",
       "      <td>audio-only</td>\n",
       "      <td>speech</td>\n",
       "      <td>calm</td>\n",
       "      <td>strong</td>\n",
       "      <td>Kids are talking by the door</td>\n",
       "      <td>2nd repetition</td>\n",
       "      <td>9</td>\n",
       "      <td>Male</td>\n",
       "      <td>2</td>\n",
       "    </tr>\n",
       "    <tr>\n",
       "      <th>2</th>\n",
       "      <td>./train_dataset_3/Actor_09/03-01-02-01-02-01-0...</td>\n",
       "      <td>audio-only</td>\n",
       "      <td>speech</td>\n",
       "      <td>calm</td>\n",
       "      <td>normal</td>\n",
       "      <td>Dogs are sitting by the door</td>\n",
       "      <td>1st repetition</td>\n",
       "      <td>9</td>\n",
       "      <td>Male</td>\n",
       "      <td>2</td>\n",
       "    </tr>\n",
       "    <tr>\n",
       "      <th>3</th>\n",
       "      <td>./train_dataset_3/Actor_09/03-01-05-02-02-01-0...</td>\n",
       "      <td>audio-only</td>\n",
       "      <td>speech</td>\n",
       "      <td>angry</td>\n",
       "      <td>strong</td>\n",
       "      <td>Dogs are sitting by the door</td>\n",
       "      <td>1st repetition</td>\n",
       "      <td>9</td>\n",
       "      <td>Male</td>\n",
       "      <td>5</td>\n",
       "    </tr>\n",
       "    <tr>\n",
       "      <th>4</th>\n",
       "      <td>./train_dataset_3/Actor_09/03-01-05-01-02-02-0...</td>\n",
       "      <td>audio-only</td>\n",
       "      <td>speech</td>\n",
       "      <td>angry</td>\n",
       "      <td>normal</td>\n",
       "      <td>Dogs are sitting by the door</td>\n",
       "      <td>2nd repetition</td>\n",
       "      <td>9</td>\n",
       "      <td>Male</td>\n",
       "      <td>5</td>\n",
       "    </tr>\n",
       "  </tbody>\n",
       "</table>\n",
       "</div>\n",
       "    <div class=\"colab-df-buttons\">\n",
       "\n",
       "  <div class=\"colab-df-container\">\n",
       "    <button class=\"colab-df-convert\" onclick=\"convertToInteractive('df-bff3480e-3176-49dc-9a25-ac805a7da4d4')\"\n",
       "            title=\"Convert this dataframe to an interactive table.\"\n",
       "            style=\"display:none;\">\n",
       "\n",
       "  <svg xmlns=\"http://www.w3.org/2000/svg\" height=\"24px\" viewBox=\"0 -960 960 960\">\n",
       "    <path d=\"M120-120v-720h720v720H120Zm60-500h600v-160H180v160Zm220 220h160v-160H400v160Zm0 220h160v-160H400v160ZM180-400h160v-160H180v160Zm440 0h160v-160H620v160ZM180-180h160v-160H180v160Zm440 0h160v-160H620v160Z\"/>\n",
       "  </svg>\n",
       "    </button>\n",
       "\n",
       "  <style>\n",
       "    .colab-df-container {\n",
       "      display:flex;\n",
       "      gap: 12px;\n",
       "    }\n",
       "\n",
       "    .colab-df-convert {\n",
       "      background-color: #E8F0FE;\n",
       "      border: none;\n",
       "      border-radius: 50%;\n",
       "      cursor: pointer;\n",
       "      display: none;\n",
       "      fill: #1967D2;\n",
       "      height: 32px;\n",
       "      padding: 0 0 0 0;\n",
       "      width: 32px;\n",
       "    }\n",
       "\n",
       "    .colab-df-convert:hover {\n",
       "      background-color: #E2EBFA;\n",
       "      box-shadow: 0px 1px 2px rgba(60, 64, 67, 0.3), 0px 1px 3px 1px rgba(60, 64, 67, 0.15);\n",
       "      fill: #174EA6;\n",
       "    }\n",
       "\n",
       "    .colab-df-buttons div {\n",
       "      margin-bottom: 4px;\n",
       "    }\n",
       "\n",
       "    [theme=dark] .colab-df-convert {\n",
       "      background-color: #3B4455;\n",
       "      fill: #D2E3FC;\n",
       "    }\n",
       "\n",
       "    [theme=dark] .colab-df-convert:hover {\n",
       "      background-color: #434B5C;\n",
       "      box-shadow: 0px 1px 3px 1px rgba(0, 0, 0, 0.15);\n",
       "      filter: drop-shadow(0px 1px 2px rgba(0, 0, 0, 0.3));\n",
       "      fill: #FFFFFF;\n",
       "    }\n",
       "  </style>\n",
       "\n",
       "    <script>\n",
       "      const buttonEl =\n",
       "        document.querySelector('#df-bff3480e-3176-49dc-9a25-ac805a7da4d4 button.colab-df-convert');\n",
       "      buttonEl.style.display =\n",
       "        google.colab.kernel.accessAllowed ? 'block' : 'none';\n",
       "\n",
       "      async function convertToInteractive(key) {\n",
       "        const element = document.querySelector('#df-bff3480e-3176-49dc-9a25-ac805a7da4d4');\n",
       "        const dataTable =\n",
       "          await google.colab.kernel.invokeFunction('convertToInteractive',\n",
       "                                                    [key], {});\n",
       "        if (!dataTable) return;\n",
       "\n",
       "        const docLinkHtml = 'Like what you see? Visit the ' +\n",
       "          '<a target=\"_blank\" href=https://colab.research.google.com/notebooks/data_table.ipynb>data table notebook</a>'\n",
       "          + ' to learn more about interactive tables.';\n",
       "        element.innerHTML = '';\n",
       "        dataTable['output_type'] = 'display_data';\n",
       "        await google.colab.output.renderOutput(dataTable, element);\n",
       "        const docLink = document.createElement('div');\n",
       "        docLink.innerHTML = docLinkHtml;\n",
       "        element.appendChild(docLink);\n",
       "      }\n",
       "    </script>\n",
       "  </div>\n",
       "\n",
       "\n",
       "<div id=\"df-7b535037-a911-4449-8e00-76d1a333c872\">\n",
       "  <button class=\"colab-df-quickchart\" onclick=\"quickchart('df-7b535037-a911-4449-8e00-76d1a333c872')\"\n",
       "            title=\"Suggest charts\"\n",
       "            style=\"display:none;\">\n",
       "\n",
       "<svg xmlns=\"http://www.w3.org/2000/svg\" height=\"24px\"viewBox=\"0 0 24 24\"\n",
       "     width=\"24px\">\n",
       "    <g>\n",
       "        <path d=\"M19 3H5c-1.1 0-2 .9-2 2v14c0 1.1.9 2 2 2h14c1.1 0 2-.9 2-2V5c0-1.1-.9-2-2-2zM9 17H7v-7h2v7zm4 0h-2V7h2v10zm4 0h-2v-4h2v4z\"/>\n",
       "    </g>\n",
       "</svg>\n",
       "  </button>\n",
       "\n",
       "<style>\n",
       "  .colab-df-quickchart {\n",
       "      --bg-color: #E8F0FE;\n",
       "      --fill-color: #1967D2;\n",
       "      --hover-bg-color: #E2EBFA;\n",
       "      --hover-fill-color: #174EA6;\n",
       "      --disabled-fill-color: #AAA;\n",
       "      --disabled-bg-color: #DDD;\n",
       "  }\n",
       "\n",
       "  [theme=dark] .colab-df-quickchart {\n",
       "      --bg-color: #3B4455;\n",
       "      --fill-color: #D2E3FC;\n",
       "      --hover-bg-color: #434B5C;\n",
       "      --hover-fill-color: #FFFFFF;\n",
       "      --disabled-bg-color: #3B4455;\n",
       "      --disabled-fill-color: #666;\n",
       "  }\n",
       "\n",
       "  .colab-df-quickchart {\n",
       "    background-color: var(--bg-color);\n",
       "    border: none;\n",
       "    border-radius: 50%;\n",
       "    cursor: pointer;\n",
       "    display: none;\n",
       "    fill: var(--fill-color);\n",
       "    height: 32px;\n",
       "    padding: 0;\n",
       "    width: 32px;\n",
       "  }\n",
       "\n",
       "  .colab-df-quickchart:hover {\n",
       "    background-color: var(--hover-bg-color);\n",
       "    box-shadow: 0 1px 2px rgba(60, 64, 67, 0.3), 0 1px 3px 1px rgba(60, 64, 67, 0.15);\n",
       "    fill: var(--button-hover-fill-color);\n",
       "  }\n",
       "\n",
       "  .colab-df-quickchart-complete:disabled,\n",
       "  .colab-df-quickchart-complete:disabled:hover {\n",
       "    background-color: var(--disabled-bg-color);\n",
       "    fill: var(--disabled-fill-color);\n",
       "    box-shadow: none;\n",
       "  }\n",
       "\n",
       "  .colab-df-spinner {\n",
       "    border: 2px solid var(--fill-color);\n",
       "    border-color: transparent;\n",
       "    border-bottom-color: var(--fill-color);\n",
       "    animation:\n",
       "      spin 1s steps(1) infinite;\n",
       "  }\n",
       "\n",
       "  @keyframes spin {\n",
       "    0% {\n",
       "      border-color: transparent;\n",
       "      border-bottom-color: var(--fill-color);\n",
       "      border-left-color: var(--fill-color);\n",
       "    }\n",
       "    20% {\n",
       "      border-color: transparent;\n",
       "      border-left-color: var(--fill-color);\n",
       "      border-top-color: var(--fill-color);\n",
       "    }\n",
       "    30% {\n",
       "      border-color: transparent;\n",
       "      border-left-color: var(--fill-color);\n",
       "      border-top-color: var(--fill-color);\n",
       "      border-right-color: var(--fill-color);\n",
       "    }\n",
       "    40% {\n",
       "      border-color: transparent;\n",
       "      border-right-color: var(--fill-color);\n",
       "      border-top-color: var(--fill-color);\n",
       "    }\n",
       "    60% {\n",
       "      border-color: transparent;\n",
       "      border-right-color: var(--fill-color);\n",
       "    }\n",
       "    80% {\n",
       "      border-color: transparent;\n",
       "      border-right-color: var(--fill-color);\n",
       "      border-bottom-color: var(--fill-color);\n",
       "    }\n",
       "    90% {\n",
       "      border-color: transparent;\n",
       "      border-bottom-color: var(--fill-color);\n",
       "    }\n",
       "  }\n",
       "</style>\n",
       "\n",
       "  <script>\n",
       "    async function quickchart(key) {\n",
       "      const quickchartButtonEl =\n",
       "        document.querySelector('#' + key + ' button');\n",
       "      quickchartButtonEl.disabled = true;  // To prevent multiple clicks.\n",
       "      quickchartButtonEl.classList.add('colab-df-spinner');\n",
       "      try {\n",
       "        const charts = await google.colab.kernel.invokeFunction(\n",
       "            'suggestCharts', [key], {});\n",
       "      } catch (error) {\n",
       "        console.error('Error during call to suggestCharts:', error);\n",
       "      }\n",
       "      quickchartButtonEl.classList.remove('colab-df-spinner');\n",
       "      quickchartButtonEl.classList.add('colab-df-quickchart-complete');\n",
       "    }\n",
       "    (() => {\n",
       "      let quickchartButtonEl =\n",
       "        document.querySelector('#df-7b535037-a911-4449-8e00-76d1a333c872 button');\n",
       "      quickchartButtonEl.style.display =\n",
       "        google.colab.kernel.accessAllowed ? 'block' : 'none';\n",
       "    })();\n",
       "  </script>\n",
       "</div>\n",
       "    </div>\n",
       "  </div>\n"
      ],
      "application/vnd.google.colaboratory.intrinsic+json": {
       "type": "dataframe",
       "variable_name": "train_dataset",
       "summary": "{\n  \"name\": \"train_dataset\",\n  \"rows\": 720,\n  \"fields\": [\n    {\n      \"column\": \"audio_file\",\n      \"properties\": {\n        \"dtype\": \"string\",\n        \"num_unique_values\": 720,\n        \"samples\": [\n          \"./train_dataset_3/Actor_02/03-01-08-01-01-01-02.wav\",\n          \"./train_dataset_3/Actor_13/03-01-05-02-02-01-13.wav\",\n          \"./train_dataset_3/Actor_09/03-01-08-01-02-02-09.wav\"\n        ],\n        \"semantic_type\": \"\",\n        \"description\": \"\"\n      }\n    },\n    {\n      \"column\": \"Modality\",\n      \"properties\": {\n        \"dtype\": \"category\",\n        \"num_unique_values\": 1,\n        \"samples\": [\n          \"audio-only\"\n        ],\n        \"semantic_type\": \"\",\n        \"description\": \"\"\n      }\n    },\n    {\n      \"column\": \"Vocal_channel\",\n      \"properties\": {\n        \"dtype\": \"category\",\n        \"num_unique_values\": 1,\n        \"samples\": [\n          \"speech\"\n        ],\n        \"semantic_type\": \"\",\n        \"description\": \"\"\n      }\n    },\n    {\n      \"column\": \"Emotion\",\n      \"properties\": {\n        \"dtype\": \"category\",\n        \"num_unique_values\": 8,\n        \"samples\": [\n          \"calm\"\n        ],\n        \"semantic_type\": \"\",\n        \"description\": \"\"\n      }\n    },\n    {\n      \"column\": \"Emotional_intensity\",\n      \"properties\": {\n        \"dtype\": \"category\",\n        \"num_unique_values\": 2,\n        \"samples\": [\n          \"normal\"\n        ],\n        \"semantic_type\": \"\",\n        \"description\": \"\"\n      }\n    },\n    {\n      \"column\": \"Statement\",\n      \"properties\": {\n        \"dtype\": \"category\",\n        \"num_unique_values\": 2,\n        \"samples\": [\n          \"Kids are talking by the door\"\n        ],\n        \"semantic_type\": \"\",\n        \"description\": \"\"\n      }\n    },\n    {\n      \"column\": \"Repetition\",\n      \"properties\": {\n        \"dtype\": \"category\",\n        \"num_unique_values\": 2,\n        \"samples\": [\n          \"2nd repetition\"\n        ],\n        \"semantic_type\": \"\",\n        \"description\": \"\"\n      }\n    },\n    {\n      \"column\": \"Actor\",\n      \"properties\": {\n        \"dtype\": \"number\",\n        \"std\": 7,\n        \"min\": 2,\n        \"max\": 24,\n        \"num_unique_values\": 12,\n        \"samples\": [\n          3\n        ],\n        \"semantic_type\": \"\",\n        \"description\": \"\"\n      }\n    },\n    {\n      \"column\": \"Gender\",\n      \"properties\": {\n        \"dtype\": \"category\",\n        \"num_unique_values\": 2,\n        \"samples\": [\n          \"Female\"\n        ],\n        \"semantic_type\": \"\",\n        \"description\": \"\"\n      }\n    },\n    {\n      \"column\": \"Emotion_label\",\n      \"properties\": {\n        \"dtype\": \"number\",\n        \"std\": 2,\n        \"min\": 1,\n        \"max\": 8,\n        \"num_unique_values\": 8,\n        \"samples\": [\n          2\n        ],\n        \"semantic_type\": \"\",\n        \"description\": \"\"\n      }\n    }\n  ]\n}"
      }
     },
     "metadata": {},
     "execution_count": 74
    }
   ]
  },
  {
   "cell_type": "code",
   "source": [
    "train_dataset[\"Emotion\"].value_counts()"
   ],
   "metadata": {
    "colab": {
     "base_uri": "https://localhost:8080/",
     "height": 366
    },
    "collapsed": true,
    "outputId": "5b4294c5-11ca-4a8d-84d0-bb5c5de94a9c",
    "id": "pDarSjHffEqr"
   },
   "execution_count": 75,
   "outputs": [
    {
     "output_type": "execute_result",
     "data": {
      "text/plain": [
       "Emotion\n",
       "fearful      96\n",
       "calm         96\n",
       "angry        96\n",
       "sad          96\n",
       "disgust      96\n",
       "happy        96\n",
       "surprised    96\n",
       "neutral      48\n",
       "Name: count, dtype: int64"
      ],
      "text/html": [
       "<div>\n",
       "<style scoped>\n",
       "    .dataframe tbody tr th:only-of-type {\n",
       "        vertical-align: middle;\n",
       "    }\n",
       "\n",
       "    .dataframe tbody tr th {\n",
       "        vertical-align: top;\n",
       "    }\n",
       "\n",
       "    .dataframe thead th {\n",
       "        text-align: right;\n",
       "    }\n",
       "</style>\n",
       "<table border=\"1\" class=\"dataframe\">\n",
       "  <thead>\n",
       "    <tr style=\"text-align: right;\">\n",
       "      <th></th>\n",
       "      <th>count</th>\n",
       "    </tr>\n",
       "    <tr>\n",
       "      <th>Emotion</th>\n",
       "      <th></th>\n",
       "    </tr>\n",
       "  </thead>\n",
       "  <tbody>\n",
       "    <tr>\n",
       "      <th>fearful</th>\n",
       "      <td>96</td>\n",
       "    </tr>\n",
       "    <tr>\n",
       "      <th>calm</th>\n",
       "      <td>96</td>\n",
       "    </tr>\n",
       "    <tr>\n",
       "      <th>angry</th>\n",
       "      <td>96</td>\n",
       "    </tr>\n",
       "    <tr>\n",
       "      <th>sad</th>\n",
       "      <td>96</td>\n",
       "    </tr>\n",
       "    <tr>\n",
       "      <th>disgust</th>\n",
       "      <td>96</td>\n",
       "    </tr>\n",
       "    <tr>\n",
       "      <th>happy</th>\n",
       "      <td>96</td>\n",
       "    </tr>\n",
       "    <tr>\n",
       "      <th>surprised</th>\n",
       "      <td>96</td>\n",
       "    </tr>\n",
       "    <tr>\n",
       "      <th>neutral</th>\n",
       "      <td>48</td>\n",
       "    </tr>\n",
       "  </tbody>\n",
       "</table>\n",
       "</div><br><label><b>dtype:</b> int64</label>"
      ]
     },
     "metadata": {},
     "execution_count": 75
    }
   ]
  },
  {
   "cell_type": "markdown",
   "source": [
    "#### Tokenization:"
   ],
   "metadata": {
    "id": "89Jseuh4fEqr"
   }
  },
  {
   "cell_type": "code",
   "source": [
    "from transformers import Wav2Vec2FeatureExtractor\n",
    "from datasets import Dataset\n",
    "import librosa\n",
    "\n",
    "def map_to_array(example):\n",
    "    speech, _ = librosa.load(example[\"audio_file\"], sr=16000, mono=True)\n",
    "    example[\"speech\"] = speech\n",
    "    return example\n",
    "\n",
    "train_data = Dataset.from_pandas(train_dataset).map(map_to_array)\n",
    "test_data = Dataset.from_pandas(test_dataset).map(map_to_array)\n",
    "\n",
    "num_labels=8\n",
    "feature_extractor = Wav2Vec2FeatureExtractor.from_pretrained(\"superb/hubert-large-superb-er\")  # , num_labels=num_labels)\n",
    "\n",
    "train_encodings = feature_extractor(list(train_data[\"speech\"]), sampling_rate=16000, padding=True, return_tensors=\"pt\")\n",
    "test_encodings = feature_extractor(list(test_data[\"speech\"]), sampling_rate=16000, padding=True, return_tensors=\"pt\")"
   ],
   "metadata": {
    "colab": {
     "base_uri": "https://localhost:8080/",
     "height": 81,
     "referenced_widgets": [
      "e0c702ce2daf47348489571debc44555",
      "e86c2bcfa8a2487582a3fcd26e028c75",
      "2c0fc950197a418ab969e57058320f56",
      "ee862ad8f3c748c293655549068362fe",
      "8dcc6a57cda84c7da688f7b805673c3a",
      "7431e54ff3974110b9919c8378909f9c",
      "f6f8d1b163234d3883957d01c38c5188",
      "affbc345651c4e628ca27866e1ab5219",
      "8720a9abbd5d4d9d8037fd736e2ee355",
      "9789bda652e146ab803cae05df9c5907",
      "90c4632f69324949bedb349ebba42402",
      "c61f90a2086240efbb263873cbd7a7e4",
      "1d5e4f6fc66f4dc39e2a0a4355d3220a",
      "e00ce5d3df774f899c33f286721f333e",
      "6c8c94e169a84e3488059780403bf55f",
      "7a3b624f47eb4b11b02d4e4601eedff6",
      "256ac33d251849d0a0d4aefb7a0ece6b",
      "5c04408bc782453faf44385fbdb13b71",
      "53831cc3c53543b9a9ec64dbdbd81113",
      "94f088eca30b4114ae8d8a718412f840",
      "da7e7b59d77b41e0b1e0a82f3e602c4b",
      "9e3d607a819446b484c2dd8d50568a2d"
     ]
    },
    "outputId": "08fc8a8c-5f8c-4e6c-ba47-803064e8f460",
    "id": "8PK-7GmmfEqr"
   },
   "execution_count": 76,
   "outputs": [
    {
     "output_type": "display_data",
     "data": {
      "text/plain": [
       "Map:   0%|          | 0/720 [00:00<?, ? examples/s]"
      ],
      "application/vnd.jupyter.widget-view+json": {
       "version_major": 2,
       "version_minor": 0,
       "model_id": "e0c702ce2daf47348489571debc44555"
      }
     },
     "metadata": {}
    },
    {
     "output_type": "display_data",
     "data": {
      "text/plain": [
       "Map:   0%|          | 0/120 [00:00<?, ? examples/s]"
      ],
      "application/vnd.jupyter.widget-view+json": {
       "version_major": 2,
       "version_minor": 0,
       "model_id": "c61f90a2086240efbb263873cbd7a7e4"
      }
     },
     "metadata": {}
    }
   ]
  },
  {
   "cell_type": "markdown",
   "source": [
    "#### Dataset as object"
   ],
   "metadata": {
    "id": "P50c7jR3fEqr"
   }
  },
  {
   "cell_type": "code",
   "source": [
    "import torch\n",
    "\n",
    "class CustomDataset(torch.utils.data.Dataset):\n",
    "    def __init__(self, encodings, labels):\n",
    "        self.encodings = encodings\n",
    "        self.pattern = {1: 0, 2: 1, 3: 2, 4: 3, 5: 4, 6: 5, 7: 6, 8: 7}\n",
    "        # pattern = {1: 1, 2: 2, 3: 3, 4: 4, 5: 5, 6: 6, 7: 7, 8: 8}\n",
    "        # self.labels = [pattern[x] for x in labels]\n",
    "        self.labels = [self.pattern.get(x) for x in labels]\n",
    "\n",
    "    def __getitem__(self, idx):\n",
    "        item = {key: val[idx] for key, val in self.encodings.items()}\n",
    "        item['Emotion_label'] = torch.tensor(self.labels[idx])\n",
    "        return item\n",
    "\n",
    "    def __len__(self):\n",
    "        return len(self.labels)\n",
    "\n",
    "\n",
    "train_dataset = CustomDataset(train_encodings, list(train_data[\"Emotion_label\"]))\n",
    "test_dataset = CustomDataset(test_encodings, list(test_data[\"Emotion_label\"]))"
   ],
   "metadata": {
    "id": "aYW7NlQOfEqr"
   },
   "execution_count": 77,
   "outputs": []
  },
  {
   "cell_type": "markdown",
   "source": [
    "#### Model"
   ],
   "metadata": {
    "id": "mV_3oXRMfEqr"
   }
  },
  {
   "cell_type": "code",
   "source": [
    "from transformers import HubertForSequenceClassification\n",
    "from torch.optim import AdamW\n",
    "\n",
    "num_labels=8\n",
    "model = HubertForSequenceClassification.from_pretrained(\"superb/hubert-large-superb-er\", num_labels=num_labels, ignore_mismatched_sizes=True)\n",
    "# model = HubertForSequenceClassification.from_pretrained(\"facebook/hubert-large-ls960-ft\", num_labels=8)\n",
    "device = torch.device(\"cuda:0\" if torch.cuda.is_available() else \"cpu\")\n",
    "model.to(device)\n",
    "\n",
    "optim = AdamW(model.parameters(), lr=1e-5)"
   ],
   "metadata": {
    "colab": {
     "base_uri": "https://localhost:8080/"
    },
    "outputId": "7b2f425e-ef68-409c-eb24-1f2984f99ab5",
    "id": "MhThBmCSfEqr"
   },
   "execution_count": 78,
   "outputs": [
    {
     "output_type": "stream",
     "name": "stderr",
     "text": [
      "Some weights of the model checkpoint at superb/hubert-large-superb-er were not used when initializing HubertForSequenceClassification: ['hubert.encoder.pos_conv_embed.conv.weight_g', 'hubert.encoder.pos_conv_embed.conv.weight_v']\n",
      "- This IS expected if you are initializing HubertForSequenceClassification from the checkpoint of a model trained on another task or with another architecture (e.g. initializing a BertForSequenceClassification model from a BertForPreTraining model).\n",
      "- This IS NOT expected if you are initializing HubertForSequenceClassification from the checkpoint of a model that you expect to be exactly identical (initializing a BertForSequenceClassification model from a BertForSequenceClassification model).\n",
      "Some weights of HubertForSequenceClassification were not initialized from the model checkpoint at superb/hubert-large-superb-er and are newly initialized: ['hubert.encoder.pos_conv_embed.conv.parametrizations.weight.original0', 'hubert.encoder.pos_conv_embed.conv.parametrizations.weight.original1']\n",
      "You should probably TRAIN this model on a down-stream task to be able to use it for predictions and inference.\n",
      "Some weights of HubertForSequenceClassification were not initialized from the model checkpoint at superb/hubert-large-superb-er and are newly initialized because the shapes did not match:\n",
      "- classifier.weight: found shape torch.Size([4, 256]) in the checkpoint and torch.Size([8, 256]) in the model instantiated\n",
      "- classifier.bias: found shape torch.Size([4]) in the checkpoint and torch.Size([8]) in the model instantiated\n",
      "You should probably TRAIN this model on a down-stream task to be able to use it for predictions and inference.\n"
     ]
    }
   ]
  },
  {
   "cell_type": "markdown",
   "source": [
    "#### Training"
   ],
   "metadata": {
    "id": "RQGVsvg9fEqs"
   }
  },
  {
   "cell_type": "code",
   "source": [
    "def predict(outputs):\n",
    "    probabilities = torch.softmax(outputs[\"logits\"], dim=1)\n",
    "    predictions = torch.argmax(probabilities, dim=1)\n",
    "    return predictions"
   ],
   "metadata": {
    "id": "hV7q94gMfEqs"
   },
   "execution_count": 79,
   "outputs": []
  },
  {
   "cell_type": "code",
   "source": [
    "from torch.utils.data import DataLoader\n",
    "\n",
    "epoch = 5\n",
    "model.train()\n",
    "\n",
    "train_loss = list()\n",
    "train_accuracies = list()\n",
    "for epoch_i in range(epoch):\n",
    "    print('Epoch %s/%s' % (epoch_i + 1, epoch))\n",
    "    time.sleep(0.3)\n",
    "\n",
    "    train_loader = DataLoader(train_dataset, batch_size=2, shuffle=True)\n",
    "\n",
    "    correct = 0\n",
    "    count = 0\n",
    "    epoch_loss = list()\n",
    "\n",
    "    pbar = tqdm(train_loader)\n",
    "    for batch in pbar:\n",
    "        optim.zero_grad()\n",
    "        input_ids = batch['input_values'].to(device)\n",
    "        attention_mask = batch['attention_mask'].to(device)\n",
    "        labels = batch['Emotion_label'].to(device)\n",
    "        outputs = model(input_ids, attention_mask=attention_mask, labels=labels)\n",
    "        loss = outputs['loss']\n",
    "        loss.backward()\n",
    "        optim.step()\n",
    "\n",
    "        predictions = predict(outputs)\n",
    "\n",
    "        correct += predictions.eq(labels).sum().item()\n",
    "        count += len(labels)\n",
    "        accuracy = correct * 1.0 / count\n",
    "\n",
    "        pbar.set_postfix({\n",
    "            'Loss': '{:.3f}'.format(loss.item()),\n",
    "            'Accuracy': '{:.3f}'.format(accuracy)\n",
    "        })\n",
    "        epoch_loss.append(loss.item())\n",
    "    pbar.close()\n",
    "\n",
    "    train_loss += epoch_loss\n",
    "    train_accuracies.append(accuracy)"
   ],
   "metadata": {
    "colab": {
     "base_uri": "https://localhost:8080/"
    },
    "outputId": "b348de34-9f39-4fcb-9f2d-65648365d75a",
    "id": "LYRJxiFdfEqs"
   },
   "execution_count": 80,
   "outputs": [
    {
     "output_type": "stream",
     "name": "stdout",
     "text": [
      "Epoch 1/5\n"
     ]
    },
    {
     "output_type": "stream",
     "name": "stderr",
     "text": [
      "100%|██████████| 360/360 [02:44<00:00,  2.19it/s, Loss=1.122, Accuracy=0.243]\n"
     ]
    },
    {
     "output_type": "stream",
     "name": "stdout",
     "text": [
      "Epoch 2/5\n"
     ]
    },
    {
     "output_type": "stream",
     "name": "stderr",
     "text": [
      "100%|██████████| 360/360 [02:43<00:00,  2.21it/s, Loss=2.158, Accuracy=0.450]\n"
     ]
    },
    {
     "output_type": "stream",
     "name": "stdout",
     "text": [
      "Epoch 3/5\n"
     ]
    },
    {
     "output_type": "stream",
     "name": "stderr",
     "text": [
      "100%|██████████| 360/360 [02:44<00:00,  2.19it/s, Loss=1.765, Accuracy=0.631]\n"
     ]
    },
    {
     "output_type": "stream",
     "name": "stdout",
     "text": [
      "Epoch 4/5\n"
     ]
    },
    {
     "output_type": "stream",
     "name": "stderr",
     "text": [
      "100%|██████████| 360/360 [02:43<00:00,  2.20it/s, Loss=0.487, Accuracy=0.726]\n"
     ]
    },
    {
     "output_type": "stream",
     "name": "stdout",
     "text": [
      "Epoch 5/5\n"
     ]
    },
    {
     "output_type": "stream",
     "name": "stderr",
     "text": [
      "100%|██████████| 360/360 [02:43<00:00,  2.20it/s, Loss=0.114, Accuracy=0.787]\n"
     ]
    }
   ]
  },
  {
   "cell_type": "code",
   "source": [
    "import matplotlib.pyplot as plt\n",
    "import numpy as np\n",
    "\n",
    "# Plot Iteration vs Training Loss\n",
    "plt.plot(train_loss, label=\"Training Loss\")\n",
    "plt.xlabel(\"Iteration\")\n",
    "plt.ylabel(\"Loss\")\n",
    "plt.title(\"Iteration vs Training Loss\")\n",
    "plt.legend()\n",
    "plt.show()\n",
    "\n",
    "# Plot Epoch vs Training Accuracy\n",
    "acc_X_3 = np.arange(len(train_accuracies))+1\n",
    "plt.plot(acc_X_3, train_accuracies,\"-\", label=\"Training Accuracy\")\n",
    "plt.xticks(acc_X_3)\n",
    "plt.xlabel(\"Epoch\")\n",
    "plt.ylabel(\"Accuracy\")\n",
    "plt.title(\"Epoch vs Training Accuracy\")\n",
    "plt.legend()\n",
    "plt.show()\n",
    "\n",
    "print(acc_X_3)\n",
    "train_accuracies_3 = train_accuracies\n",
    "print(train_accuracies_3)"
   ],
   "metadata": {
    "colab": {
     "base_uri": "https://localhost:8080/",
     "height": 962
    },
    "outputId": "228f421f-7bd6-45ba-a69a-e44f14cab746",
    "id": "qHCNQp_DfEqs"
   },
   "execution_count": 81,
   "outputs": [
    {
     "output_type": "display_data",
     "data": {
      "text/plain": [
       "<Figure size 640x480 with 1 Axes>"
      ],
      "image/png": "[encoded data removed]"
     },
     "metadata": {}
    },
    {
     "output_type": "display_data",
     "data": {
      "text/plain": [
       "<Figure size 640x480 with 1 Axes>"
      ],
      "image/png": "[encoded data removed]"
     },
     "metadata": {}
    },
    {
     "output_type": "stream",
     "name": "stdout",
     "text": [
      "[1 2 3 4 5]\n",
      "[0.24305555555555555, 0.45, 0.6305555555555555, 0.7263888888888889, 0.7875]\n"
     ]
    }
   ]
  },
  {
   "cell_type": "markdown",
   "source": [
    "#### Testing"
   ],
   "metadata": {
    "id": "6wyNsSFDfEqs"
   }
  },
  {
   "cell_type": "code",
   "source": [
    "from torch.utils.data import DataLoader\n",
    "\n",
    "test_loader = DataLoader(test_dataset, batch_size=1, shuffle=False)\n",
    "model.eval()\n",
    "\n",
    "with torch.no_grad():\n",
    "    correct = 0\n",
    "    count = 0\n",
    "    record = {\"Emotion_label\":list(), \"Predictions\":list()}\n",
    "\n",
    "    pbar = tqdm(test_loader)\n",
    "    for batch in pbar:\n",
    "        input_ids = batch['input_values'].to(device)\n",
    "        attention_mask = batch['attention_mask'].to(device)\n",
    "        labels = batch['Emotion_label'].to(device)\n",
    "        outputs = model(input_ids, attention_mask=attention_mask, labels=labels)\n",
    "        loss = outputs['loss']\n",
    "\n",
    "        predictions = predict(outputs)\n",
    "        correct += predictions.eq(labels).sum().item()\n",
    "        count += len(labels)\n",
    "        accuracy = correct * 1.0 / count\n",
    "\n",
    "        pbar.set_postfix({\n",
    "            'loss': '{:.3f}'.format(loss.item()),\n",
    "            'accuracy': '{:.3f}'.format(accuracy)\n",
    "        })\n",
    "\n",
    "        record[\"Emotion_label\"] += labels.cpu().numpy().tolist()\n",
    "        record[\"Predictions\"] += predictions.cpu().numpy().tolist()\n",
    "\n",
    "    pbar.close()\n",
    "\n",
    "time.sleep(0.3)\n",
    "print(\"The accuracy on the test dataset: %s%%\" % round(accuracy*100,4))"
   ],
   "metadata": {
    "colab": {
     "base_uri": "https://localhost:8080/"
    },
    "outputId": "59da7768-765b-4925-bada-68600c8ff27f",
    "id": "J8I2ISYAfEqs"
   },
   "execution_count": 82,
   "outputs": [
    {
     "output_type": "stream",
     "name": "stderr",
     "text": [
      "100%|██████████| 120/120 [00:09<00:00, 13.12it/s, loss=1.827, accuracy=0.733]\n"
     ]
    },
    {
     "output_type": "stream",
     "name": "stdout",
     "text": [
      "The accuracy on the test dataset: 73.3333%\n"
     ]
    }
   ]
  },
  {
   "cell_type": "code",
   "source": [
    "from pandas.core.frame import DataFrame\n",
    "df_record = DataFrame(record)\n",
    "df_record.columns = [\"Real emotion\", \"Predicted emotion\"]\n",
    "\n",
    "def get_emotion(label_id):\n",
    "    return model.config.id2label[label_id]\n",
    "\n",
    "df_record[\"Real emotion\"] = df_record.apply(lambda x: get_emotion(x[\"Real emotion\"]), axis=1)\n",
    "df_record[\"Predicted emotion\"] = df_record.apply(lambda x: get_emotion(x[\"Predicted emotion\"]), axis=1)\n",
    "\n",
    "# df = pd.concat([train_data.reset_index(drop=True), df_record[\"Predicted emotion\"]], axis=1)\n",
    "# df[\"Emotion\"] = df.apply(lambda x: x[\"Emotion\"][:8], axis=1)"
   ],
   "metadata": {
    "id": "tTiZbhMcfEqs"
   },
   "execution_count": 83,
   "outputs": []
  },
  {
   "cell_type": "code",
   "source": [
    "import seaborn as sns\n",
    "crosstab = pd.crosstab(df_record[\"Real emotion\"].map(label_convert), df_record[\"Predicted emotion\"].map(label_convert))\n",
    "sns.heatmap(crosstab, cmap='viridis', annot=True, fmt='g', linewidths=5)\n",
    "# sns.heatmap(crosstab, cmap='Oranges', annot=True, fmt='g', linewidths=5)\n",
    "accuracy = df_record[\"Real emotion\"].eq(df_record[\"Predicted emotion\"]).sum() / len(df_record[\"Real emotion\"])\n",
    "plt.title(\"Confusion Matrix (Accuracy: %s%%)\" % round(accuracy*100,2))\n",
    "plt.show()"
   ],
   "metadata": {
    "colab": {
     "base_uri": "https://localhost:8080/",
     "height": 472
    },
    "outputId": "2207e309-7473-4f4b-b088-1cb5026d07ee",
    "id": "ZetX7HsPfEqs"
   },
   "execution_count": 84,
   "outputs": [
    {
     "output_type": "display_data",
     "data": {
      "text/plain": [
       "<Figure size 640x480 with 2 Axes>"
      ],
      "image/png": "[encoded data removed]"
     },
     "metadata": {}
    }
   ]
  },
  {
   "cell_type": "markdown",
   "source": [
    "### 25% of data:"
   ],
   "metadata": {
    "id": "z4aftrWLj4wI"
   }
  },
  {
   "cell_type": "code",
   "source": [
    "# !rm -r ./train_dataset_4\n",
    "# !rm -r ./test_dataset_4"
   ],
   "metadata": {
    "id": "jIx9mDjVj4wO"
   },
   "execution_count": 85,
   "outputs": []
  },
  {
   "cell_type": "code",
   "source": [
    "data_dir = './ravdess-emotional-speech-audio'\n",
    "train_dir = './train_dataset_4'\n",
    "test_dir = './test_dataset_4'\n",
    "\n",
    "os.makedirs(train_dir, exist_ok=True)\n",
    "os.makedirs(test_dir, exist_ok=True)"
   ],
   "metadata": {
    "id": "_eT0ijALj4wO"
   },
   "execution_count": 86,
   "outputs": []
  },
  {
   "cell_type": "code",
   "source": [
    "content_list = [folder for folder in os.listdir(data_dir) if os.path.isdir(os.path.join(data_dir, folder))]\n",
    "content_list.remove('audio_speech_actors_01-24')\n",
    "# content_list"
   ],
   "metadata": {
    "collapsed": true,
    "id": "fbaceDCHj4wO"
   },
   "execution_count": 87,
   "outputs": []
  },
  {
   "cell_type": "code",
   "source": [
    "test_samples = 1\n",
    "train_samples = 3\n",
    "\n",
    "train_male, train_female = 0, 0\n",
    "test_male, test_female = 0, 0\n",
    "test_actors, train_actors = [], []\n",
    "random.shuffle(content_list)\n",
    "for item in content_list:\n",
    "  name_items = item.split('_')\n",
    "  actor_id = int(name_items[1])\n",
    "  if actor_id % 2 == 0:\n",
    "    if test_female < test_samples:\n",
    "      test_actors.append(item)\n",
    "      test_female += 1\n",
    "    elif train_female < train_samples:\n",
    "      train_actors.append(item)\n",
    "      train_female += 1\n",
    "  else:\n",
    "    if test_male < test_samples:\n",
    "      test_actors.append(item)\n",
    "      test_male += 1\n",
    "    elif train_male < train_samples:\n",
    "      train_actors.append(item)\n",
    "      train_male += 1\n",
    "print(\"Train_actors:\", train_actors)\n",
    "print(\"Test_actors:\", test_actors)"
   ],
   "metadata": {
    "colab": {
     "base_uri": "https://localhost:8080/"
    },
    "outputId": "f7dd68a8-8b3c-4c74-a654-94d2f3e23f57",
    "collapsed": true,
    "id": "eSSqG2iAj4wP"
   },
   "execution_count": 88,
   "outputs": [
    {
     "output_type": "stream",
     "name": "stdout",
     "text": [
      "Train_actors: ['Actor_22', 'Actor_06', 'Actor_09', 'Actor_20', 'Actor_01', 'Actor_19']\n",
      "Test_actors: ['Actor_12', 'Actor_23']\n"
     ]
    }
   ]
  },
  {
   "cell_type": "code",
   "source": [
    "def copy_directory(src, dst):\n",
    "    if os.path.exists(dst):\n",
    "        shutil.rmtree(dst)\n",
    "    shutil.copytree(src, dst)\n",
    "\n",
    "for actor_folder in content_list:\n",
    "    source_path = os.path.join(data_dir, actor_folder)\n",
    "    if actor_folder in test_actors:\n",
    "        destination_path = os.path.join(test_dir, actor_folder)\n",
    "    elif actor_folder in train_actors:\n",
    "        destination_path = os.path.join(train_dir, actor_folder)\n",
    "    copy_directory(source_path, destination_path)\n",
    "\n",
    "\n",
    "def extract_labels(filename):\n",
    "    filename_without_extension = os.path.splitext(filename)[0]\n",
    "    parts = filename_without_extension.split('-')\n",
    "    int_parts = [int(part) for part in parts]\n",
    "    return {\n",
    "        'Modality': char_to_label['Modality'][parts[0]],\n",
    "        'Vocal_channel': char_to_label['Vocal_channel'][parts[1]],\n",
    "        'Emotion': char_to_label['Emotion'][parts[2]],\n",
    "        'Emotional_intensity': char_to_label['Emotional_intensity'][parts[3]],\n",
    "        'Statement': char_to_label['Statement'][parts[4]],\n",
    "        'Repetition': char_to_label['Repetition'][parts[5]],\n",
    "        'Actor': parts[6],\n",
    "        'Gender': char_to_label['Gender'][2] if int(parts[6]) % 2 == 0 else char_to_label['Gender'][1]\n",
    "    }\n",
    "\n",
    "def extract_chars(filename):\n",
    "    filename_without_extension = os.path.splitext(filename)[0]\n",
    "    parts = filename_without_extension.split('-')\n",
    "    int_parts = [int(part) for part in parts]\n",
    "    return {\n",
    "        'Modality': label_to_char['Modality'][int_parts[0]],\n",
    "        'Vocal_channel': label_to_char['Vocal_channel'][int_parts[1]],\n",
    "        'Emotion': label_to_char['Emotion'][int_parts[2]],\n",
    "        'Emotional_intensity': label_to_char['Emotional_intensity'][int_parts[3]],\n",
    "        'Statement': label_to_char['Statement'][int_parts[4]],\n",
    "        'Repetition': label_to_char['Repetition'][int_parts[5]],\n",
    "        'Actor': int_parts[6],\n",
    "        'Gender': label_to_char['Gender'][2] if int(int_parts[6]) % 2 == 0 else label_to_char['Gender'][1]\n",
    "    }\n",
    "\n",
    "\n",
    "def load_dataset(data_dir):\n",
    "    audio_files = []\n",
    "    chars = []\n",
    "    for root, dirs, files in os.walk(data_dir):\n",
    "        for file in files:\n",
    "            if file.endswith(\".wav\"):\n",
    "                audio_files.append(os.path.join(root, file))\n",
    "                chars.append(extract_chars(file))\n",
    "    chars_df = pd.DataFrame(chars)\n",
    "    for col in ['Modality', 'Vocal_channel', 'Emotion', 'Emotional_intensity', 'Statement', 'Repetition', 'Gender']:\n",
    "        chars_df[col] = chars_df[col].astype(str)\n",
    "    chars_df['Actor'] = chars_df['Actor'].astype(int)\n",
    "    chars_df['Emotion_label'] = chars_df['Emotion'].map(char_to_label['Emotion'])\n",
    "    return pd.DataFrame({'audio_file': audio_files, **chars_df})\n",
    "\n",
    "train_dataset = load_dataset(train_dir)\n",
    "test_dataset = load_dataset(test_dir)"
   ],
   "metadata": {
    "id": "A_aoH8Cej4wP"
   },
   "execution_count": 89,
   "outputs": []
  },
  {
   "cell_type": "code",
   "source": [
    "print(\"Train dataset:\")\n",
    "train_dataset.head()"
   ],
   "metadata": {
    "colab": {
     "base_uri": "https://localhost:8080/",
     "height": 223
    },
    "outputId": "0069f646-09db-499a-f064-e6390d84754c",
    "id": "7Boz6xhSj4wP"
   },
   "execution_count": 90,
   "outputs": [
    {
     "output_type": "stream",
     "name": "stdout",
     "text": [
      "Train dataset:\n"
     ]
    },
    {
     "output_type": "execute_result",
     "data": {
      "text/plain": [
       "                                          audio_file    Modality  \\\n",
       "0  ./train_dataset_4/Actor_09/03-01-06-02-02-01-0...  audio-only   \n",
       "1  ./train_dataset_4/Actor_09/03-01-02-02-01-02-0...  audio-only   \n",
       "2  ./train_dataset_4/Actor_09/03-01-02-01-02-01-0...  audio-only   \n",
       "3  ./train_dataset_4/Actor_09/03-01-05-02-02-01-0...  audio-only   \n",
       "4  ./train_dataset_4/Actor_09/03-01-05-01-02-02-0...  audio-only   \n",
       "\n",
       "  Vocal_channel  Emotion Emotional_intensity                     Statement  \\\n",
       "0        speech  fearful              strong  Dogs are sitting by the door   \n",
       "1        speech     calm              strong  Kids are talking by the door   \n",
       "2        speech     calm              normal  Dogs are sitting by the door   \n",
       "3        speech    angry              strong  Dogs are sitting by the door   \n",
       "4        speech    angry              normal  Dogs are sitting by the door   \n",
       "\n",
       "       Repetition  Actor Gender  Emotion_label  \n",
       "0  1st repetition      9   Male              6  \n",
       "1  2nd repetition      9   Male              2  \n",
       "2  1st repetition      9   Male              2  \n",
       "3  1st repetition      9   Male              5  \n",
       "4  2nd repetition      9   Male              5  "
      ],
      "text/html": [
       "\n",
       "  <div id=\"df-e80d039c-8831-48e5-b8bf-a92b7b25f68c\" class=\"colab-df-container\">\n",
       "    <div>\n",
       "<style scoped>\n",
       "    .dataframe tbody tr th:only-of-type {\n",
       "        vertical-align: middle;\n",
       "    }\n",
       "\n",
       "    .dataframe tbody tr th {\n",
       "        vertical-align: top;\n",
       "    }\n",
       "\n",
       "    .dataframe thead th {\n",
       "        text-align: right;\n",
       "    }\n",
       "</style>\n",
       "<table border=\"1\" class=\"dataframe\">\n",
       "  <thead>\n",
       "    <tr style=\"text-align: right;\">\n",
       "      <th></th>\n",
       "      <th>audio_file</th>\n",
       "      <th>Modality</th>\n",
       "      <th>Vocal_channel</th>\n",
       "      <th>Emotion</th>\n",
       "      <th>Emotional_intensity</th>\n",
       "      <th>Statement</th>\n",
       "      <th>Repetition</th>\n",
       "      <th>Actor</th>\n",
       "      <th>Gender</th>\n",
       "      <th>Emotion_label</th>\n",
       "    </tr>\n",
       "  </thead>\n",
       "  <tbody>\n",
       "    <tr>\n",
       "      <th>0</th>\n",
       "      <td>./train_dataset_4/Actor_09/03-01-06-02-02-01-0...</td>\n",
       "      <td>audio-only</td>\n",
       "      <td>speech</td>\n",
       "      <td>fearful</td>\n",
       "      <td>strong</td>\n",
       "      <td>Dogs are sitting by the door</td>\n",
       "      <td>1st repetition</td>\n",
       "      <td>9</td>\n",
       "      <td>Male</td>\n",
       "      <td>6</td>\n",
       "    </tr>\n",
       "    <tr>\n",
       "      <th>1</th>\n",
       "      <td>./train_dataset_4/Actor_09/03-01-02-02-01-02-0...</td>\n",
       "      <td>audio-only</td>\n",
       "      <td>speech</td>\n",
       "      <td>calm</td>\n",
       "      <td>strong</td>\n",
       "      <td>Kids are talking by the door</td>\n",
       "      <td>2nd repetition</td>\n",
       "      <td>9</td>\n",
       "      <td>Male</td>\n",
       "      <td>2</td>\n",
       "    </tr>\n",
       "    <tr>\n",
       "      <th>2</th>\n",
       "      <td>./train_dataset_4/Actor_09/03-01-02-01-02-01-0...</td>\n",
       "      <td>audio-only</td>\n",
       "      <td>speech</td>\n",
       "      <td>calm</td>\n",
       "      <td>normal</td>\n",
       "      <td>Dogs are sitting by the door</td>\n",
       "      <td>1st repetition</td>\n",
       "      <td>9</td>\n",
       "      <td>Male</td>\n",
       "      <td>2</td>\n",
       "    </tr>\n",
       "    <tr>\n",
       "      <th>3</th>\n",
       "      <td>./train_dataset_4/Actor_09/03-01-05-02-02-01-0...</td>\n",
       "      <td>audio-only</td>\n",
       "      <td>speech</td>\n",
       "      <td>angry</td>\n",
       "      <td>strong</td>\n",
       "      <td>Dogs are sitting by the door</td>\n",
       "      <td>1st repetition</td>\n",
       "      <td>9</td>\n",
       "      <td>Male</td>\n",
       "      <td>5</td>\n",
       "    </tr>\n",
       "    <tr>\n",
       "      <th>4</th>\n",
       "      <td>./train_dataset_4/Actor_09/03-01-05-01-02-02-0...</td>\n",
       "      <td>audio-only</td>\n",
       "      <td>speech</td>\n",
       "      <td>angry</td>\n",
       "      <td>normal</td>\n",
       "      <td>Dogs are sitting by the door</td>\n",
       "      <td>2nd repetition</td>\n",
       "      <td>9</td>\n",
       "      <td>Male</td>\n",
       "      <td>5</td>\n",
       "    </tr>\n",
       "  </tbody>\n",
       "</table>\n",
       "</div>\n",
       "    <div class=\"colab-df-buttons\">\n",
       "\n",
       "  <div class=\"colab-df-container\">\n",
       "    <button class=\"colab-df-convert\" onclick=\"convertToInteractive('df-e80d039c-8831-48e5-b8bf-a92b7b25f68c')\"\n",
       "            title=\"Convert this dataframe to an interactive table.\"\n",
       "            style=\"display:none;\">\n",
       "\n",
       "  <svg xmlns=\"http://www.w3.org/2000/svg\" height=\"24px\" viewBox=\"0 -960 960 960\">\n",
       "    <path d=\"M120-120v-720h720v720H120Zm60-500h600v-160H180v160Zm220 220h160v-160H400v160Zm0 220h160v-160H400v160ZM180-400h160v-160H180v160Zm440 0h160v-160H620v160ZM180-180h160v-160H180v160Zm440 0h160v-160H620v160Z\"/>\n",
       "  </svg>\n",
       "    </button>\n",
       "\n",
       "  <style>\n",
       "    .colab-df-container {\n",
       "      display:flex;\n",
       "      gap: 12px;\n",
       "    }\n",
       "\n",
       "    .colab-df-convert {\n",
       "      background-color: #E8F0FE;\n",
       "      border: none;\n",
       "      border-radius: 50%;\n",
       "      cursor: pointer;\n",
       "      display: none;\n",
       "      fill: #1967D2;\n",
       "      height: 32px;\n",
       "      padding: 0 0 0 0;\n",
       "      width: 32px;\n",
       "    }\n",
       "\n",
       "    .colab-df-convert:hover {\n",
       "      background-color: #E2EBFA;\n",
       "      box-shadow: 0px 1px 2px rgba(60, 64, 67, 0.3), 0px 1px 3px 1px rgba(60, 64, 67, 0.15);\n",
       "      fill: #174EA6;\n",
       "    }\n",
       "\n",
       "    .colab-df-buttons div {\n",
       "      margin-bottom: 4px;\n",
       "    }\n",
       "\n",
       "    [theme=dark] .colab-df-convert {\n",
       "      background-color: #3B4455;\n",
       "      fill: #D2E3FC;\n",
       "    }\n",
       "\n",
       "    [theme=dark] .colab-df-convert:hover {\n",
       "      background-color: #434B5C;\n",
       "      box-shadow: 0px 1px 3px 1px rgba(0, 0, 0, 0.15);\n",
       "      filter: drop-shadow(0px 1px 2px rgba(0, 0, 0, 0.3));\n",
       "      fill: #FFFFFF;\n",
       "    }\n",
       "  </style>\n",
       "\n",
       "    <script>\n",
       "      const buttonEl =\n",
       "        document.querySelector('#df-e80d039c-8831-48e5-b8bf-a92b7b25f68c button.colab-df-convert');\n",
       "      buttonEl.style.display =\n",
       "        google.colab.kernel.accessAllowed ? 'block' : 'none';\n",
       "\n",
       "      async function convertToInteractive(key) {\n",
       "        const element = document.querySelector('#df-e80d039c-8831-48e5-b8bf-a92b7b25f68c');\n",
       "        const dataTable =\n",
       "          await google.colab.kernel.invokeFunction('convertToInteractive',\n",
       "                                                    [key], {});\n",
       "        if (!dataTable) return;\n",
       "\n",
       "        const docLinkHtml = 'Like what you see? Visit the ' +\n",
       "          '<a target=\"_blank\" href=https://colab.research.google.com/notebooks/data_table.ipynb>data table notebook</a>'\n",
       "          + ' to learn more about interactive tables.';\n",
       "        element.innerHTML = '';\n",
       "        dataTable['output_type'] = 'display_data';\n",
       "        await google.colab.output.renderOutput(dataTable, element);\n",
       "        const docLink = document.createElement('div');\n",
       "        docLink.innerHTML = docLinkHtml;\n",
       "        element.appendChild(docLink);\n",
       "      }\n",
       "    </script>\n",
       "  </div>\n",
       "\n",
       "\n",
       "<div id=\"df-defe3a6e-ad56-4248-9674-6c7585a0b3dc\">\n",
       "  <button class=\"colab-df-quickchart\" onclick=\"quickchart('df-defe3a6e-ad56-4248-9674-6c7585a0b3dc')\"\n",
       "            title=\"Suggest charts\"\n",
       "            style=\"display:none;\">\n",
       "\n",
       "<svg xmlns=\"http://www.w3.org/2000/svg\" height=\"24px\"viewBox=\"0 0 24 24\"\n",
       "     width=\"24px\">\n",
       "    <g>\n",
       "        <path d=\"M19 3H5c-1.1 0-2 .9-2 2v14c0 1.1.9 2 2 2h14c1.1 0 2-.9 2-2V5c0-1.1-.9-2-2-2zM9 17H7v-7h2v7zm4 0h-2V7h2v10zm4 0h-2v-4h2v4z\"/>\n",
       "    </g>\n",
       "</svg>\n",
       "  </button>\n",
       "\n",
       "<style>\n",
       "  .colab-df-quickchart {\n",
       "      --bg-color: #E8F0FE;\n",
       "      --fill-color: #1967D2;\n",
       "      --hover-bg-color: #E2EBFA;\n",
       "      --hover-fill-color: #174EA6;\n",
       "      --disabled-fill-color: #AAA;\n",
       "      --disabled-bg-color: #DDD;\n",
       "  }\n",
       "\n",
       "  [theme=dark] .colab-df-quickchart {\n",
       "      --bg-color: #3B4455;\n",
       "      --fill-color: #D2E3FC;\n",
       "      --hover-bg-color: #434B5C;\n",
       "      --hover-fill-color: #FFFFFF;\n",
       "      --disabled-bg-color: #3B4455;\n",
       "      --disabled-fill-color: #666;\n",
       "  }\n",
       "\n",
       "  .colab-df-quickchart {\n",
       "    background-color: var(--bg-color);\n",
       "    border: none;\n",
       "    border-radius: 50%;\n",
       "    cursor: pointer;\n",
       "    display: none;\n",
       "    fill: var(--fill-color);\n",
       "    height: 32px;\n",
       "    padding: 0;\n",
       "    width: 32px;\n",
       "  }\n",
       "\n",
       "  .colab-df-quickchart:hover {\n",
       "    background-color: var(--hover-bg-color);\n",
       "    box-shadow: 0 1px 2px rgba(60, 64, 67, 0.3), 0 1px 3px 1px rgba(60, 64, 67, 0.15);\n",
       "    fill: var(--button-hover-fill-color);\n",
       "  }\n",
       "\n",
       "  .colab-df-quickchart-complete:disabled,\n",
       "  .colab-df-quickchart-complete:disabled:hover {\n",
       "    background-color: var(--disabled-bg-color);\n",
       "    fill: var(--disabled-fill-color);\n",
       "    box-shadow: none;\n",
       "  }\n",
       "\n",
       "  .colab-df-spinner {\n",
       "    border: 2px solid var(--fill-color);\n",
       "    border-color: transparent;\n",
       "    border-bottom-color: var(--fill-color);\n",
       "    animation:\n",
       "      spin 1s steps(1) infinite;\n",
       "  }\n",
       "\n",
       "  @keyframes spin {\n",
       "    0% {\n",
       "      border-color: transparent;\n",
       "      border-bottom-color: var(--fill-color);\n",
       "      border-left-color: var(--fill-color);\n",
       "    }\n",
       "    20% {\n",
       "      border-color: transparent;\n",
       "      border-left-color: var(--fill-color);\n",
       "      border-top-color: var(--fill-color);\n",
       "    }\n",
       "    30% {\n",
       "      border-color: transparent;\n",
       "      border-left-color: var(--fill-color);\n",
       "      border-top-color: var(--fill-color);\n",
       "      border-right-color: var(--fill-color);\n",
       "    }\n",
       "    40% {\n",
       "      border-color: transparent;\n",
       "      border-right-color: var(--fill-color);\n",
       "      border-top-color: var(--fill-color);\n",
       "    }\n",
       "    60% {\n",
       "      border-color: transparent;\n",
       "      border-right-color: var(--fill-color);\n",
       "    }\n",
       "    80% {\n",
       "      border-color: transparent;\n",
       "      border-right-color: var(--fill-color);\n",
       "      border-bottom-color: var(--fill-color);\n",
       "    }\n",
       "    90% {\n",
       "      border-color: transparent;\n",
       "      border-bottom-color: var(--fill-color);\n",
       "    }\n",
       "  }\n",
       "</style>\n",
       "\n",
       "  <script>\n",
       "    async function quickchart(key) {\n",
       "      const quickchartButtonEl =\n",
       "        document.querySelector('#' + key + ' button');\n",
       "      quickchartButtonEl.disabled = true;  // To prevent multiple clicks.\n",
       "      quickchartButtonEl.classList.add('colab-df-spinner');\n",
       "      try {\n",
       "        const charts = await google.colab.kernel.invokeFunction(\n",
       "            'suggestCharts', [key], {});\n",
       "      } catch (error) {\n",
       "        console.error('Error during call to suggestCharts:', error);\n",
       "      }\n",
       "      quickchartButtonEl.classList.remove('colab-df-spinner');\n",
       "      quickchartButtonEl.classList.add('colab-df-quickchart-complete');\n",
       "    }\n",
       "    (() => {\n",
       "      let quickchartButtonEl =\n",
       "        document.querySelector('#df-defe3a6e-ad56-4248-9674-6c7585a0b3dc button');\n",
       "      quickchartButtonEl.style.display =\n",
       "        google.colab.kernel.accessAllowed ? 'block' : 'none';\n",
       "    })();\n",
       "  </script>\n",
       "</div>\n",
       "    </div>\n",
       "  </div>\n"
      ],
      "application/vnd.google.colaboratory.intrinsic+json": {
       "type": "dataframe",
       "variable_name": "train_dataset",
       "summary": "{\n  \"name\": \"train_dataset\",\n  \"rows\": 360,\n  \"fields\": [\n    {\n      \"column\": \"audio_file\",\n      \"properties\": {\n        \"dtype\": \"string\",\n        \"num_unique_values\": 360,\n        \"samples\": [\n          \"./train_dataset_4/Actor_06/03-01-02-02-01-01-06.wav\",\n          \"./train_dataset_4/Actor_09/03-01-05-02-01-02-09.wav\",\n          \"./train_dataset_4/Actor_20/03-01-07-02-01-01-20.wav\"\n        ],\n        \"semantic_type\": \"\",\n        \"description\": \"\"\n      }\n    },\n    {\n      \"column\": \"Modality\",\n      \"properties\": {\n        \"dtype\": \"category\",\n        \"num_unique_values\": 1,\n        \"samples\": [\n          \"audio-only\"\n        ],\n        \"semantic_type\": \"\",\n        \"description\": \"\"\n      }\n    },\n    {\n      \"column\": \"Vocal_channel\",\n      \"properties\": {\n        \"dtype\": \"category\",\n        \"num_unique_values\": 1,\n        \"samples\": [\n          \"speech\"\n        ],\n        \"semantic_type\": \"\",\n        \"description\": \"\"\n      }\n    },\n    {\n      \"column\": \"Emotion\",\n      \"properties\": {\n        \"dtype\": \"category\",\n        \"num_unique_values\": 8,\n        \"samples\": [\n          \"calm\"\n        ],\n        \"semantic_type\": \"\",\n        \"description\": \"\"\n      }\n    },\n    {\n      \"column\": \"Emotional_intensity\",\n      \"properties\": {\n        \"dtype\": \"category\",\n        \"num_unique_values\": 2,\n        \"samples\": [\n          \"normal\"\n        ],\n        \"semantic_type\": \"\",\n        \"description\": \"\"\n      }\n    },\n    {\n      \"column\": \"Statement\",\n      \"properties\": {\n        \"dtype\": \"category\",\n        \"num_unique_values\": 2,\n        \"samples\": [\n          \"Kids are talking by the door\"\n        ],\n        \"semantic_type\": \"\",\n        \"description\": \"\"\n      }\n    },\n    {\n      \"column\": \"Repetition\",\n      \"properties\": {\n        \"dtype\": \"category\",\n        \"num_unique_values\": 2,\n        \"samples\": [\n          \"2nd repetition\"\n        ],\n        \"semantic_type\": \"\",\n        \"description\": \"\"\n      }\n    },\n    {\n      \"column\": \"Actor\",\n      \"properties\": {\n        \"dtype\": \"number\",\n        \"std\": 7,\n        \"min\": 4,\n        \"max\": 22,\n        \"num_unique_values\": 6,\n        \"samples\": [\n          9\n        ],\n        \"semantic_type\": \"\",\n        \"description\": \"\"\n      }\n    },\n    {\n      \"column\": \"Gender\",\n      \"properties\": {\n        \"dtype\": \"category\",\n        \"num_unique_values\": 2,\n        \"samples\": [\n          \"Female\"\n        ],\n        \"semantic_type\": \"\",\n        \"description\": \"\"\n      }\n    },\n    {\n      \"column\": \"Emotion_label\",\n      \"properties\": {\n        \"dtype\": \"number\",\n        \"std\": 2,\n        \"min\": 1,\n        \"max\": 8,\n        \"num_unique_values\": 8,\n        \"samples\": [\n          2\n        ],\n        \"semantic_type\": \"\",\n        \"description\": \"\"\n      }\n    }\n  ]\n}"
      }
     },
     "metadata": {},
     "execution_count": 90
    }
   ]
  },
  {
   "cell_type": "code",
   "source": [
    "train_dataset[\"Emotion\"].value_counts()"
   ],
   "metadata": {
    "colab": {
     "base_uri": "https://localhost:8080/",
     "height": 366
    },
    "collapsed": true,
    "outputId": "2e1f52c1-99f7-4b01-9c8e-284860239d41",
    "id": "g1AClcumj4wP"
   },
   "execution_count": 91,
   "outputs": [
    {
     "output_type": "execute_result",
     "data": {
      "text/plain": [
       "Emotion\n",
       "fearful      48\n",
       "calm         48\n",
       "angry        48\n",
       "sad          48\n",
       "disgust      48\n",
       "happy        48\n",
       "surprised    48\n",
       "neutral      24\n",
       "Name: count, dtype: int64"
      ],
      "text/html": [
       "<div>\n",
       "<style scoped>\n",
       "    .dataframe tbody tr th:only-of-type {\n",
       "        vertical-align: middle;\n",
       "    }\n",
       "\n",
       "    .dataframe tbody tr th {\n",
       "        vertical-align: top;\n",
       "    }\n",
       "\n",
       "    .dataframe thead th {\n",
       "        text-align: right;\n",
       "    }\n",
       "</style>\n",
       "<table border=\"1\" class=\"dataframe\">\n",
       "  <thead>\n",
       "    <tr style=\"text-align: right;\">\n",
       "      <th></th>\n",
       "      <th>count</th>\n",
       "    </tr>\n",
       "    <tr>\n",
       "      <th>Emotion</th>\n",
       "      <th></th>\n",
       "    </tr>\n",
       "  </thead>\n",
       "  <tbody>\n",
       "    <tr>\n",
       "      <th>fearful</th>\n",
       "      <td>48</td>\n",
       "    </tr>\n",
       "    <tr>\n",
       "      <th>calm</th>\n",
       "      <td>48</td>\n",
       "    </tr>\n",
       "    <tr>\n",
       "      <th>angry</th>\n",
       "      <td>48</td>\n",
       "    </tr>\n",
       "    <tr>\n",
       "      <th>sad</th>\n",
       "      <td>48</td>\n",
       "    </tr>\n",
       "    <tr>\n",
       "      <th>disgust</th>\n",
       "      <td>48</td>\n",
       "    </tr>\n",
       "    <tr>\n",
       "      <th>happy</th>\n",
       "      <td>48</td>\n",
       "    </tr>\n",
       "    <tr>\n",
       "      <th>surprised</th>\n",
       "      <td>48</td>\n",
       "    </tr>\n",
       "    <tr>\n",
       "      <th>neutral</th>\n",
       "      <td>24</td>\n",
       "    </tr>\n",
       "  </tbody>\n",
       "</table>\n",
       "</div><br><label><b>dtype:</b> int64</label>"
      ]
     },
     "metadata": {},
     "execution_count": 91
    }
   ]
  },
  {
   "cell_type": "markdown",
   "source": [
    "#### Tokenization:"
   ],
   "metadata": {
    "id": "PbA4wvElj4wP"
   }
  },
  {
   "cell_type": "code",
   "source": [
    "from transformers import Wav2Vec2FeatureExtractor\n",
    "from datasets import Dataset\n",
    "import librosa\n",
    "\n",
    "def map_to_array(example):\n",
    "    speech, _ = librosa.load(example[\"audio_file\"], sr=16000, mono=True)\n",
    "    example[\"speech\"] = speech\n",
    "    return example\n",
    "\n",
    "train_data = Dataset.from_pandas(train_dataset).map(map_to_array)\n",
    "test_data = Dataset.from_pandas(test_dataset).map(map_to_array)\n",
    "\n",
    "num_labels=8\n",
    "feature_extractor = Wav2Vec2FeatureExtractor.from_pretrained(\"superb/hubert-large-superb-er\")  # , num_labels=num_labels)\n",
    "\n",
    "train_encodings = feature_extractor(list(train_data[\"speech\"]), sampling_rate=16000, padding=True, return_tensors=\"pt\")\n",
    "test_encodings = feature_extractor(list(test_data[\"speech\"]), sampling_rate=16000, padding=True, return_tensors=\"pt\")"
   ],
   "metadata": {
    "colab": {
     "base_uri": "https://localhost:8080/",
     "height": 81,
     "referenced_widgets": [
      "223106ef27124f2d97763c192356ddce",
      "839157564bae4380ab24742cc853a3f2",
      "1e305a9613b649a886e1f9ee8b377f22",
      "afbdaaabf00d4d9abc0802c339fb10d2",
      "2d98e0ef24f84ff7aadb423f3f685634",
      "67d5d2e1570d4f22a842d7dea4115f7f",
      "7d1e5f18a30944b7bf7b003adbca32ba",
      "c467bda86bcf48898570c8b3bdfd26c8",
      "8911e3e7fb48479e90a978c926333598",
      "c1594f4d2d224f108b6460be98c3d720",
      "ffcd89892cac4af4930fb9b323cf55f3",
      "558bc2be17d348558102c14a531fdaa4",
      "677ccc425cc648f4b6ff330d31f1bd35",
      "c0827078e4f9444c9bf45083a9e441cd",
      "825f655279994bb3b7fe41ccd2bbcc79",
      "d07981f487144f2fa83461c43f72c7b9",
      "df90f471873041eda22570843d2fe79c",
      "5e91895c6fff4343b2ad23ae4c0e7147",
      "9e320e047c86444e8d1e8c5a2fef9c86",
      "8da3768e940a4cb6acef0c5615cae0df",
      "1a0317080f384572ba392457fd072e02",
      "dd9b88f1f96745f4b72cd61c77fb8a38"
     ]
    },
    "outputId": "703437dd-96da-4660-e90e-019da9bd901b",
    "id": "vBcF_Wc0j4wP"
   },
   "execution_count": 92,
   "outputs": [
    {
     "output_type": "display_data",
     "data": {
      "text/plain": [
       "Map:   0%|          | 0/360 [00:00<?, ? examples/s]"
      ],
      "application/vnd.jupyter.widget-view+json": {
       "version_major": 2,
       "version_minor": 0,
       "model_id": "223106ef27124f2d97763c192356ddce"
      }
     },
     "metadata": {}
    },
    {
     "output_type": "display_data",
     "data": {
      "text/plain": [
       "Map:   0%|          | 0/120 [00:00<?, ? examples/s]"
      ],
      "application/vnd.jupyter.widget-view+json": {
       "version_major": 2,
       "version_minor": 0,
       "model_id": "558bc2be17d348558102c14a531fdaa4"
      }
     },
     "metadata": {}
    }
   ]
  },
  {
   "cell_type": "markdown",
   "source": [
    "#### Dataset as object"
   ],
   "metadata": {
    "id": "zOnHwdanj4wP"
   }
  },
  {
   "cell_type": "code",
   "source": [
    "import torch\n",
    "\n",
    "class CustomDataset(torch.utils.data.Dataset):\n",
    "    def __init__(self, encodings, labels):\n",
    "        self.encodings = encodings\n",
    "        self.pattern = {1: 0, 2: 1, 3: 2, 4: 3, 5: 4, 6: 5, 7: 6, 8: 7}\n",
    "        # pattern = {1: 1, 2: 2, 3: 3, 4: 4, 5: 5, 6: 6, 7: 7, 8: 8}\n",
    "        # self.labels = [pattern[x] for x in labels]\n",
    "        self.labels = [self.pattern.get(x) for x in labels]\n",
    "\n",
    "    def __getitem__(self, idx):\n",
    "        item = {key: val[idx] for key, val in self.encodings.items()}\n",
    "        item['Emotion_label'] = torch.tensor(self.labels[idx])\n",
    "        return item\n",
    "\n",
    "    def __len__(self):\n",
    "        return len(self.labels)\n",
    "\n",
    "\n",
    "train_dataset = CustomDataset(train_encodings, list(train_data[\"Emotion_label\"]))\n",
    "test_dataset = CustomDataset(test_encodings, list(test_data[\"Emotion_label\"]))"
   ],
   "metadata": {
    "id": "0FJuqSywj4wQ"
   },
   "execution_count": 93,
   "outputs": []
  },
  {
   "cell_type": "markdown",
   "source": [
    "#### Model"
   ],
   "metadata": {
    "id": "Av8ge1OGj4wQ"
   }
  },
  {
   "cell_type": "code",
   "source": [
    "from transformers import HubertForSequenceClassification\n",
    "from torch.optim import AdamW\n",
    "\n",
    "num_labels=8\n",
    "model = HubertForSequenceClassification.from_pretrained(\"superb/hubert-large-superb-er\", num_labels=num_labels, ignore_mismatched_sizes=True)\n",
    "# model = HubertForSequenceClassification.from_pretrained(\"facebook/hubert-large-ls960-ft\", num_labels=8)\n",
    "device = torch.device(\"cuda:0\" if torch.cuda.is_available() else \"cpu\")\n",
    "model.to(device)\n",
    "\n",
    "optim = AdamW(model.parameters(), lr=1e-5)"
   ],
   "metadata": {
    "colab": {
     "base_uri": "https://localhost:8080/"
    },
    "outputId": "c51a8f21-ccc2-4e91-a823-41a6eb9aaffb",
    "id": "JTafzAV8j4wQ"
   },
   "execution_count": 94,
   "outputs": [
    {
     "output_type": "stream",
     "name": "stderr",
     "text": [
      "Some weights of the model checkpoint at superb/hubert-large-superb-er were not used when initializing HubertForSequenceClassification: ['hubert.encoder.pos_conv_embed.conv.weight_g', 'hubert.encoder.pos_conv_embed.conv.weight_v']\n",
      "- This IS expected if you are initializing HubertForSequenceClassification from the checkpoint of a model trained on another task or with another architecture (e.g. initializing a BertForSequenceClassification model from a BertForPreTraining model).\n",
      "- This IS NOT expected if you are initializing HubertForSequenceClassification from the checkpoint of a model that you expect to be exactly identical (initializing a BertForSequenceClassification model from a BertForSequenceClassification model).\n",
      "Some weights of HubertForSequenceClassification were not initialized from the model checkpoint at superb/hubert-large-superb-er and are newly initialized: ['hubert.encoder.pos_conv_embed.conv.parametrizations.weight.original0', 'hubert.encoder.pos_conv_embed.conv.parametrizations.weight.original1']\n",
      "You should probably TRAIN this model on a down-stream task to be able to use it for predictions and inference.\n",
      "Some weights of HubertForSequenceClassification were not initialized from the model checkpoint at superb/hubert-large-superb-er and are newly initialized because the shapes did not match:\n",
      "- classifier.weight: found shape torch.Size([4, 256]) in the checkpoint and torch.Size([8, 256]) in the model instantiated\n",
      "- classifier.bias: found shape torch.Size([4]) in the checkpoint and torch.Size([8]) in the model instantiated\n",
      "You should probably TRAIN this model on a down-stream task to be able to use it for predictions and inference.\n"
     ]
    }
   ]
  },
  {
   "cell_type": "markdown",
   "source": [
    "#### Training"
   ],
   "metadata": {
    "id": "1Apd5ApBj4wQ"
   }
  },
  {
   "cell_type": "code",
   "source": [
    "def predict(outputs):\n",
    "    probabilities = torch.softmax(outputs[\"logits\"], dim=1)\n",
    "    predictions = torch.argmax(probabilities, dim=1)\n",
    "    return predictions"
   ],
   "metadata": {
    "id": "UTg_07KPj4wQ"
   },
   "execution_count": 95,
   "outputs": []
  },
  {
   "cell_type": "code",
   "source": [
    "from torch.utils.data import DataLoader\n",
    "\n",
    "epoch = 5\n",
    "model.train()\n",
    "\n",
    "train_loss = list()\n",
    "train_accuracies = list()\n",
    "for epoch_i in range(epoch):\n",
    "    print('Epoch %s/%s' % (epoch_i + 1, epoch))\n",
    "    time.sleep(0.3)\n",
    "\n",
    "    train_loader = DataLoader(train_dataset, batch_size=2, shuffle=True)\n",
    "\n",
    "    correct = 0\n",
    "    count = 0\n",
    "    epoch_loss = list()\n",
    "\n",
    "    pbar = tqdm(train_loader)\n",
    "    for batch in pbar:\n",
    "        optim.zero_grad()\n",
    "        input_ids = batch['input_values'].to(device)\n",
    "        attention_mask = batch['attention_mask'].to(device)\n",
    "        labels = batch['Emotion_label'].to(device)\n",
    "        outputs = model(input_ids, attention_mask=attention_mask, labels=labels)\n",
    "        loss = outputs['loss']\n",
    "        loss.backward()\n",
    "        optim.step()\n",
    "\n",
    "        predictions = predict(outputs)\n",
    "\n",
    "        correct += predictions.eq(labels).sum().item()\n",
    "        count += len(labels)\n",
    "        accuracy = correct * 1.0 / count\n",
    "\n",
    "        pbar.set_postfix({\n",
    "            'Loss': '{:.3f}'.format(loss.item()),\n",
    "            'Accuracy': '{:.3f}'.format(accuracy)\n",
    "        })\n",
    "        epoch_loss.append(loss.item())\n",
    "    pbar.close()\n",
    "\n",
    "    train_loss += epoch_loss\n",
    "    train_accuracies.append(accuracy)"
   ],
   "metadata": {
    "colab": {
     "base_uri": "https://localhost:8080/"
    },
    "outputId": "a38ae7f1-5829-4a9d-d395-af6d2ec59901",
    "id": "mbQZXUcjj4wQ"
   },
   "execution_count": 96,
   "outputs": [
    {
     "output_type": "stream",
     "name": "stdout",
     "text": [
      "Epoch 1/5\n"
     ]
    },
    {
     "output_type": "stream",
     "name": "stderr",
     "text": [
      "100%|██████████| 180/180 [01:18<00:00,  2.28it/s, Loss=2.051, Accuracy=0.194]\n"
     ]
    },
    {
     "output_type": "stream",
     "name": "stdout",
     "text": [
      "Epoch 2/5\n"
     ]
    },
    {
     "output_type": "stream",
     "name": "stderr",
     "text": [
      "100%|██████████| 180/180 [01:17<00:00,  2.32it/s, Loss=1.737, Accuracy=0.286]\n"
     ]
    },
    {
     "output_type": "stream",
     "name": "stdout",
     "text": [
      "Epoch 3/5\n"
     ]
    },
    {
     "output_type": "stream",
     "name": "stderr",
     "text": [
      "100%|██████████| 180/180 [01:17<00:00,  2.32it/s, Loss=1.850, Accuracy=0.433]\n"
     ]
    },
    {
     "output_type": "stream",
     "name": "stdout",
     "text": [
      "Epoch 4/5\n"
     ]
    },
    {
     "output_type": "stream",
     "name": "stderr",
     "text": [
      "100%|██████████| 180/180 [01:17<00:00,  2.33it/s, Loss=2.158, Accuracy=0.519]\n"
     ]
    },
    {
     "output_type": "stream",
     "name": "stdout",
     "text": [
      "Epoch 5/5\n"
     ]
    },
    {
     "output_type": "stream",
     "name": "stderr",
     "text": [
      "100%|██████████| 180/180 [01:16<00:00,  2.34it/s, Loss=1.264, Accuracy=0.606]\n"
     ]
    }
   ]
  },
  {
   "cell_type": "code",
   "source": [
    "import matplotlib.pyplot as plt\n",
    "import numpy as np\n",
    "\n",
    "# Plot Iteration vs Training Loss\n",
    "plt.plot(train_loss, label=\"Training Loss\")\n",
    "plt.xlabel(\"Iteration\")\n",
    "plt.ylabel(\"Loss\")\n",
    "plt.title(\"Iteration vs Training Loss\")\n",
    "plt.legend()\n",
    "plt.show()\n",
    "\n",
    "# Plot Epoch vs Training Accuracy\n",
    "acc_X_4 = np.arange(len(train_accuracies))+1\n",
    "plt.plot(acc_X_4, train_accuracies,\"-\", label=\"Training Accuracy\")\n",
    "plt.xticks(acc_X_4)\n",
    "plt.xlabel(\"Epoch\")\n",
    "plt.ylabel(\"Accuracy\")\n",
    "plt.title(\"Epoch vs Training Accuracy\")\n",
    "plt.legend()\n",
    "plt.show()\n",
    "\n",
    "print(acc_X_4)\n",
    "train_accuracies_4 = train_accuracies\n",
    "print(train_accuracies_4)"
   ],
   "metadata": {
    "colab": {
     "base_uri": "https://localhost:8080/",
     "height": 962
    },
    "outputId": "5bb386c3-4b34-42e2-9a13-854876ec7878",
    "id": "Qbao4kXdj4wQ"
   },
   "execution_count": 97,
   "outputs": [
    {
     "output_type": "display_data",
     "data": {
      "text/plain": [
       "<Figure size 640x480 with 1 Axes>"
      ],
      "image/png": "[encoded data removed]"
     },
     "metadata": {}
    },
    {
     "output_type": "display_data",
     "data": {
      "text/plain": [
       "<Figure size 640x480 with 1 Axes>"
      ],
      "image/png": "[encoded data removed]"
     },
     "metadata": {}
    },
    {
     "output_type": "stream",
     "name": "stdout",
     "text": [
      "[1 2 3 4 5]\n",
      "[0.19444444444444445, 0.2861111111111111, 0.43333333333333335, 0.5194444444444445, 0.6055555555555555]\n"
     ]
    }
   ]
  },
  {
   "cell_type": "markdown",
   "source": [
    "#### Testing"
   ],
   "metadata": {
    "id": "1BUBrysTj4wQ"
   }
  },
  {
   "cell_type": "code",
   "source": [
    "from torch.utils.data import DataLoader\n",
    "\n",
    "test_loader = DataLoader(test_dataset, batch_size=1, shuffle=False)\n",
    "model.eval()\n",
    "\n",
    "with torch.no_grad():\n",
    "    correct = 0\n",
    "    count = 0\n",
    "    record = {\"Emotion_label\":list(), \"Predictions\":list()}\n",
    "\n",
    "    pbar = tqdm(test_loader)\n",
    "    for batch in pbar:\n",
    "        input_ids = batch['input_values'].to(device)\n",
    "        attention_mask = batch['attention_mask'].to(device)\n",
    "        labels = batch['Emotion_label'].to(device)\n",
    "        outputs = model(input_ids, attention_mask=attention_mask, labels=labels)\n",
    "        loss = outputs['loss']\n",
    "\n",
    "        predictions = predict(outputs)\n",
    "        correct += predictions.eq(labels).sum().item()\n",
    "        count += len(labels)\n",
    "        accuracy = correct * 1.0 / count\n",
    "\n",
    "        pbar.set_postfix({\n",
    "            'loss': '{:.3f}'.format(loss.item()),\n",
    "            'accuracy': '{:.3f}'.format(accuracy)\n",
    "        })\n",
    "\n",
    "        record[\"Emotion_label\"] += labels.cpu().numpy().tolist()\n",
    "        record[\"Predictions\"] += predictions.cpu().numpy().tolist()\n",
    "\n",
    "    pbar.close()\n",
    "\n",
    "time.sleep(0.3)\n",
    "print(\"The accuracy on the test dataset: %s%%\" % round(accuracy*100,4))"
   ],
   "metadata": {
    "colab": {
     "base_uri": "https://localhost:8080/"
    },
    "outputId": "0ba75adc-cd79-40f5-d7a7-5c11fec96409",
    "id": "lVuUSCPEj4wQ"
   },
   "execution_count": 98,
   "outputs": [
    {
     "output_type": "stream",
     "name": "stderr",
     "text": [
      "100%|██████████| 120/120 [00:08<00:00, 13.54it/s, loss=2.109, accuracy=0.492]\n"
     ]
    },
    {
     "output_type": "stream",
     "name": "stdout",
     "text": [
      "The accuracy on the test dataset: 49.1667%\n"
     ]
    }
   ]
  },
  {
   "cell_type": "code",
   "source": [
    "from pandas.core.frame import DataFrame\n",
    "df_record = DataFrame(record)\n",
    "df_record.columns = [\"Real emotion\", \"Predicted emotion\"]\n",
    "\n",
    "def get_emotion(label_id):\n",
    "    return model.config.id2label[label_id]\n",
    "\n",
    "df_record[\"Real emotion\"] = df_record.apply(lambda x: get_emotion(x[\"Real emotion\"]), axis=1)\n",
    "df_record[\"Predicted emotion\"] = df_record.apply(lambda x: get_emotion(x[\"Predicted emotion\"]), axis=1)\n",
    "\n",
    "# df = pd.concat([train_data.reset_index(drop=True), df_record[\"Predicted emotion\"]], axis=1)\n",
    "# df[\"Emotion\"] = df.apply(lambda x: x[\"Emotion\"][:8], axis=1)"
   ],
   "metadata": {
    "id": "-HZYdI3Kj4wR"
   },
   "execution_count": 99,
   "outputs": []
  },
  {
   "cell_type": "code",
   "source": [
    "import seaborn as sns\n",
    "crosstab = pd.crosstab(df_record[\"Real emotion\"].map(label_convert), df_record[\"Predicted emotion\"].map(label_convert))\n",
    "sns.heatmap(crosstab, cmap='viridis', annot=True, fmt='g', linewidths=5)\n",
    "# sns.heatmap(crosstab, cmap='Oranges', annot=True, fmt='g', linewidths=5)\n",
    "accuracy = df_record[\"Real emotion\"].eq(df_record[\"Predicted emotion\"]).sum() / len(df_record[\"Real emotion\"])\n",
    "plt.title(\"Confusion Matrix (Accuracy: %s%%)\" % round(accuracy*100,2))\n",
    "plt.show()"
   ],
   "metadata": {
    "colab": {
     "base_uri": "https://localhost:8080/",
     "height": 472
    },
    "outputId": "e864ffa8-6026-4460-844c-7c9feb6efcac",
    "id": "rEjjPISSj4wR"
   },
   "execution_count": 100,
   "outputs": [
    {
     "output_type": "display_data",
     "data": {
      "text/plain": [
       "<Figure size 640x480 with 2 Axes>"
      ],
      "image/png": "[encoded data removed]"
     },
     "metadata": {}
    }
   ]
  },
  {
   "cell_type": "markdown",
   "source": [
    "### Comparing results:"
   ],
   "metadata": {
    "id": "RXZsBcYnmFru"
   }
  },
  {
   "cell_type": "code",
   "source": [
    "# acc_X_all = acc_X_1 + acc_X_2 + acc_X_3 + acc_X_4\n",
    "# epochs = list(range(6))\n",
    "\n",
    "plt.plot(acc_X_1, train_accuracies1,\"-\", label=\"100% of data\")\n",
    "plt.plot(acc_X_2, train_accuracies_2,\"-\", label=\"75% of data\")\n",
    "plt.plot(acc_X_3, train_accuracies_3,\"-\", label=\"50% of data\")\n",
    "plt.plot(acc_X_4, train_accuracies_4,\"-\", label=\"25% of data\")\n",
    "plt.xticks(acc_X_1)\n",
    "plt.xlabel(\"Epoch\")\n",
    "plt.ylabel(\"Accuracy\")\n",
    "plt.title(\"\")\n",
    "plt.legend()\n",
    "plt.show()"
   ],
   "metadata": {
    "colab": {
     "base_uri": "https://localhost:8080/",
     "height": 449
    },
    "id": "U35TNF9_mDU8",
    "outputId": "eba75225-9f52-41f3-dae5-74adf0b7b63a"
   },
   "execution_count": 103,
   "outputs": [
    {
     "output_type": "display_data",
     "data": {
      "text/plain": [
       "<Figure size 640x480 with 1 Axes>"
      ],
      "image/png": "[encoded data removed]"
     },
     "metadata": {}
    }
   ]
  },
  {
   "cell_type": "code",
   "source": [
    "import matplotlib.pyplot as plt\n",
    "import pandas as pd\n",
    "\n",
    "testing_results = {\n",
    "    \"25%\": 49.1667,\n",
    "    \"50%\": 73.3333,\n",
    "    \"75%\": 79.1667,\n",
    "    \"100%\": 80.0\n",
    "}\n",
    "\n",
    "df = pd.DataFrame(list(testing_results.items()), columns=[\"Data Percentage\", \"Accuracy\"])\n",
    "fig, ax = plt.subplots()\n",
    "\n",
    "ax.xaxis.set_visible(False)\n",
    "ax.yaxis.set_visible(False)\n",
    "ax.set_frame_on(False)\n",
    "\n",
    "table = ax.table(cellText=df.values, colLabels=df.columns, cellLoc=\"center\", loc=\"center\")\n",
    "\n",
    "table.auto_set_font_size(False)\n",
    "table.set_fontsize(12)\n",
    "table.scale(1.2, 1.2)\n",
    "plt.show()"
   ],
   "metadata": {
    "colab": {
     "base_uri": "https://localhost:8080/",
     "height": 406
    },
    "id": "v_FsnQ8SnSB_",
    "outputId": "73789857-bf54-40a0-c5d5-85787d752694"
   },
   "execution_count": 104,
   "outputs": [
    {
     "output_type": "display_data",
     "data": {
      "text/plain": [
       "<Figure size 640x480 with 1 Axes>"
      ],
      "image/png": "[encoded data removed]"
     },
     "metadata": {}
    }
   ]
  },
  {
   "cell_type": "code",
   "source": [
    "data_percentages = list(testing_results.keys())\n",
    "accuracies = list(testing_results.values())\n",
    "\n",
    "plt.figure(figsize=(6, 6))\n",
    "plt.bar(data_percentages, accuracies, color='skyblue')\n",
    "\n",
    "plt.xlabel('Data Percentage')\n",
    "plt.ylabel('Accuracy (%)')\n",
    "plt.title('Accuracy Comparison by Data Percentage')\n",
    "\n",
    "for i, v in enumerate(accuracies):\n",
    "    plt.text(i, v + 1, f\"{v:.2f}%\", ha='center', fontsize=12)\n",
    "\n",
    "plt.show()"
   ],
   "metadata": {
    "colab": {
     "base_uri": "https://localhost:8080/",
     "height": 564
    },
    "id": "cYbYfS08ps-U",
    "outputId": "2e643ab8-384b-4a25-9b62-9919fcbbbd89"
   },
   "execution_count": 107,
   "outputs": [
    {
     "output_type": "display_data",
     "data": {
      "text/plain": [
       "<Figure size 600x600 with 1 Axes>"
      ],
      "image/png": "[encoded data removed]"
     },
     "metadata": {}
    }
   ]
  }
 ]
}
